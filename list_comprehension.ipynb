{
 "cells": [
  {
   "cell_type": "code",
   "execution_count": null,
   "metadata": {},
   "outputs": [],
   "source": [
    "my_list = [1, 10, 4, 7, 8]\n",
    "# my_list2 = my_list.sort() # this doesn't work; sort() happens in place on the list.append\n",
    "\n",
    "my_list.sort()\n",
    "\n",
    "cars = ['Ford', 'BMW', 'Volvo']\n",
    "\n",
    "cars.sort()\n",
    "# works for both lists of int and strs\n",
    "\n",
    "print(my_list[0:2]) # return 1st and 2nd element - not the third\n",
    "\n",
    "print(my_list[:3]) # return first 3 elements\n",
    "\n",
    "print(my_list[1:]) # return everything BUT the first element, sorted\n",
    "\n",
    "print(my_list[2:]) # return everything BUT the first 2 elements, sorted\n",
    "\n",
    "print(my_list)     # return whole list\n",
    "\n",
    "print(my_list[1])   # return the value of the 2nd element)"
   ]
  }
 ],
 "metadata": {
  "language_info": {
   "name": "python"
  },
  "orig_nbformat": 4
 },
 "nbformat": 4,
 "nbformat_minor": 2
}

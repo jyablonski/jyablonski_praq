{
 "cells": [
  {
   "cell_type": "code",
   "execution_count": 3,
   "metadata": {},
   "outputs": [],
   "source": [
    "import csv\n",
    "import os\n"
   ]
  },
  {
   "cell_type": "code",
   "execution_count": 4,
   "metadata": {},
   "outputs": [],
   "source": [
    "\n",
    "\n",
    "def split_csv(source_filepath: str, dest_path: str, result_filename_prefix: str, row_limit: int):\n",
    "    \"\"\"\n",
    "    Split a source CSV into multiple CSVs of equal numbers of records,\n",
    "    except the last file.\n",
    "    The initial file's header row will be included as a header row in each split\n",
    "    file.\n",
    "    Split files follow a zero-index sequential naming convention like so:\n",
    "        `{result_filename_prefix}_0.csv`\n",
    "    :param source_filepath {str}:\n",
    "        File name (including full path) for the file to be split.\n",
    "    :param dest_path {str}:\n",
    "        Full path to the directory where the split files should be saved.\n",
    "    :param result_filename_prefix {str}:\n",
    "        File name to be used for the generated files.\n",
    "        Example: If `my_split_file` is provided as the prefix, then a resulting\n",
    "                 file might be named: `my_split_file_1.csv'\n",
    "    :param row_limit {int}:\n",
    "        Number of rows per file (header row is excluded from the row count).\n",
    "    :return {NoneType}:\n",
    "    \"\"\"\n",
    "    if row_limit <= 0:\n",
    "        raise Exception('row_limit must be > 0')\n",
    "\n",
    "    with open(source_filepath, 'r') as source:\n",
    "        reader = csv.reader(source)\n",
    "        headers = next(reader)\n",
    "\n",
    "        file_number = 1\n",
    "        records_exist = True\n",
    "\n",
    "        while records_exist:\n",
    "\n",
    "            i = 0\n",
    "            target_filename = f'{result_filename_prefix}_{file_number}.csv'\n",
    "            target_filepath = os.path.join(dest_path, target_filename)\n",
    "\n",
    "            with open(target_filepath, 'w') as target:\n",
    "                writer = csv.writer(target)\n",
    "\n",
    "                while i < row_limit:\n",
    "                    if i == 0:\n",
    "                        writer.writerow(headers)\n",
    "\n",
    "                    try:\n",
    "                        writer.writerow(next(reader))\n",
    "                        i += 1\n",
    "                    except:\n",
    "                        records_exist = False\n",
    "                        break\n",
    "\n",
    "            if i == 0:\n",
    "                # we only wrote the header, so delete that file\n",
    "                os.remove(target_filepath)\n",
    "\n",
    "            file_number += 1"
   ]
  },
  {
   "cell_type": "code",
   "execution_count": 5,
   "metadata": {},
   "outputs": [],
   "source": [
    "split_csv(source_filepath = 'nba_tweets.csv',\n",
    "          dest_path =  'csv_split/',\n",
    "          result_filename_prefix = 'my_new_split_file',\n",
    "          row_limit = 5000 )"
   ]
  },
  {
   "cell_type": "code",
   "execution_count": null,
   "metadata": {},
   "outputs": [],
   "source": [
    "import pandas as pd\n",
    "\n",
    "# http://acepor.github.io/2017/08/03/using-chunksize/\n",
    "split1 = pd.read_csv('csv_split/my_new_split_file_1.csv')\n",
    "split2 = pd.read_csv('csv_split/my_new_split_file_2.csv')\n",
    "split3 = pd.read_csv('csv_split/my_new_split_file_3.csv')\n",
    "split4 = pd.read_csv('csv_split/my_new_split_file_4.csv')\n",
    "split5 = pd.read_csv('csv_split/my_new_split_file_5.csv')"
   ]
  }
 ],
 "metadata": {
  "interpreter": {
   "hash": "51acfa6005ffec5e74e71d844e0daa05d24ac78244a0bb1b7874b497027552e7"
  },
  "kernelspec": {
   "display_name": "Python 3.8.8 64-bit ('base': conda)",
   "language": "python",
   "name": "python3"
  },
  "language_info": {
   "codemirror_mode": {
    "name": "ipython",
    "version": 3
   },
   "file_extension": ".py",
   "mimetype": "text/x-python",
   "name": "python",
   "nbconvert_exporter": "python",
   "pygments_lexer": "ipython3",
   "version": "3.8.8"
  },
  "orig_nbformat": 4
 },
 "nbformat": 4,
 "nbformat_minor": 2
}

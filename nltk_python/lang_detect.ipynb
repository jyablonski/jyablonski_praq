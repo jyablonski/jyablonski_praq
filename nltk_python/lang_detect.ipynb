{
 "cells": [
  {
   "cell_type": "code",
   "execution_count": 11,
   "metadata": {},
   "outputs": [],
   "source": [
    "import nltk\n",
    "import pycountry\n",
    "from langdetect import detect # use langdetect for this kind of work.\n",
    "import pandas as pd"
   ]
  },
  {
   "cell_type": "code",
   "execution_count": 2,
   "metadata": {},
   "outputs": [],
   "source": [
    "lang_list = [\n",
    "    \"is this written in english\", \n",
    "    \"est-ce écrit en anglais\", \n",
    "    \"esto esta escrito en ingles\",\n",
    "    \"è scritto in inglese?\"\n",
    "    ] \n",
    "# lang_list = lang_list[0]"
   ]
  },
  {
   "cell_type": "code",
   "execution_count": 4,
   "metadata": {},
   "outputs": [],
   "source": [
    "tc = nltk.classify.textcat.TextCat() \n",
    "guess_one = tc.guess_language(lang_list[0])\n",
    "guess_two = tc.guess_language(lang_list[1])\n",
    "\n",
    "guess_one_name = pycountry.languages.get(alpha_3=guess_one).name\n",
    "guess_two_name = pycountry.languages.get(alpha_3=guess_two).name"
   ]
  },
  {
   "cell_type": "code",
   "execution_count": 5,
   "metadata": {},
   "outputs": [
    {
     "data": {
      "text/plain": [
       "\"['is this written in english', 'est-ce écrit en anglais', 'esto esta escrito en ingles', 'è scritto in inglese?']\""
      ]
     },
     "execution_count": 5,
     "metadata": {},
     "output_type": "execute_result"
    }
   ],
   "source": [
    "str(lang_list)"
   ]
  },
  {
   "cell_type": "code",
   "execution_count": 10,
   "metadata": {},
   "outputs": [
    {
     "name": "stdout",
     "output_type": "stream",
     "text": [
      "is this written in english is labeled to be en\n",
      "est-ce écrit en anglais is labeled to be fr\n",
      "esto esta escrito en ingles is labeled to be es\n",
      "è scritto in inglese? is labeled to be it\n"
     ]
    }
   ],
   "source": [
    "for i in lang_list:\n",
    "    print(f\"{i} is labeled to be {detect(i)}\")\n"
   ]
  },
  {
   "cell_type": "code",
   "execution_count": 30,
   "metadata": {},
   "outputs": [
    {
     "name": "stdout",
     "output_type": "stream",
     "text": [
      "                         text detected_lang\n",
      "0  is this written in english            en\n"
     ]
    }
   ],
   "source": [
    "lang_list_df = pd.DataFrame(lang_list)\n",
    "lang_list_df = lang_list_df.rename(columns = {lang_list_df.columns[0]: \"text\"})\n",
    "lang_list_df['detected_lang'] = lang_list_df['text'].apply(lambda x: detect(x)) # apply the detect function on every row\n",
    "\n",
    "lang_list_df = lang_list_df \\\n",
    "    .query('detected_lang == \"en\"')\n",
    "    \n",
    "print(lang_list_df)"
   ]
  }
 ],
 "metadata": {
  "interpreter": {
   "hash": "81c6a89d9b91bda76c14e46d4b77530c453739b0f65fa8daf80e192463b63a97"
  },
  "kernelspec": {
   "display_name": "Python 3.8.10 ('python_aws-McJt4gWW')",
   "language": "python",
   "name": "python3"
  },
  "language_info": {
   "codemirror_mode": {
    "name": "ipython",
    "version": 3
   },
   "file_extension": ".py",
   "mimetype": "text/x-python",
   "name": "python",
   "nbconvert_exporter": "python",
   "pygments_lexer": "ipython3",
   "version": "3.8.10"
  },
  "orig_nbformat": 4
 },
 "nbformat": 4,
 "nbformat_minor": 2
}

{
 "cells": [
  {
   "cell_type": "code",
   "execution_count": 6,
   "source": [
    "from datetime import datetime, timezone, timedelta\r\n",
    "import os\r\n",
    "import sqlalchemy\r\n",
    "import pandas as pd\r\n",
    "import boto3\r\n",
    "import mysql.connector\r\n"
   ],
   "outputs": [
    {
     "output_type": "error",
     "ename": "ModuleNotFoundError",
     "evalue": "No module named 'awswrangler'",
     "traceback": [
      "\u001b[1;31m---------------------------------------------------------------------------\u001b[0m",
      "\u001b[1;31mModuleNotFoundError\u001b[0m                       Traceback (most recent call last)",
      "\u001b[1;32m<ipython-input-6-7983bc9cd9a1>\u001b[0m in \u001b[0;36m<module>\u001b[1;34m\u001b[0m\n\u001b[0;32m      5\u001b[0m \u001b[1;32mimport\u001b[0m \u001b[0mboto3\u001b[0m\u001b[1;33m\u001b[0m\u001b[1;33m\u001b[0m\u001b[0m\n\u001b[0;32m      6\u001b[0m \u001b[1;32mimport\u001b[0m \u001b[0mmysql\u001b[0m\u001b[1;33m.\u001b[0m\u001b[0mconnector\u001b[0m\u001b[1;33m\u001b[0m\u001b[1;33m\u001b[0m\u001b[0m\n\u001b[1;32m----> 7\u001b[1;33m \u001b[1;32mimport\u001b[0m \u001b[0mawswrangler\u001b[0m\u001b[1;33m\u001b[0m\u001b[1;33m\u001b[0m\u001b[0m\n\u001b[0m",
      "\u001b[1;31mModuleNotFoundError\u001b[0m: No module named 'awswrangler'"
     ]
    }
   ],
   "metadata": {}
  },
  {
   "cell_type": "code",
   "execution_count": 2,
   "source": [
    "connection = sqlalchemy.create_engine('mysql+mysqlconnector://' + os.environ.get('RDS_USER') + ':' + os.environ.get('RDS_PW') + '@' + os.environ.get('IP') + ':' + os.environ.get('PORT') + '/' + os.environ.get('RDS_DB'),\r\n",
    "                     echo = False)\r\n",
    "cnx = connection.raw_connection()"
   ],
   "outputs": [],
   "metadata": {}
  },
  {
   "cell_type": "code",
   "execution_count": 3,
   "source": [
    "url = \"https://www.basketball-reference.com/friv/injuries.fcgi\"\r\n",
    "injury_data = pd.read_html(url)[0]\r\n",
    "injury_data['Scrape_Date'] = datetime.now()"
   ],
   "outputs": [],
   "metadata": {}
  },
  {
   "cell_type": "code",
   "execution_count": null,
   "source": [
    "def lambda_handler(event, context):\r\n",
    "    # execute web scrape and save it to a df\r\n",
    "    # write df to s3\r\n",
    "    # write df to rds"
   ],
   "outputs": [],
   "metadata": {}
  },
  {
   "cell_type": "code",
   "execution_count": 4,
   "source": [
    "injury_data.to_sql(con = connection, name = \"my_python_injuries\", index = False, if_exists = \"replace\")"
   ],
   "outputs": [],
   "metadata": {}
  },
  {
   "cell_type": "code",
   "execution_count": 5,
   "source": [
    "all_tables = pd.read_sql_query('SHOW TABLES FROM jacob_db;', cnx)\r\n",
    "all_tables1 = pd.read_sql_query('SHOW TABLES FROM jacob_db;', connection)\r\n",
    "print(all_tables)\r\n",
    "print(all_tables1)"
   ],
   "outputs": [
    {
     "output_type": "stream",
     "name": "stdout",
     "text": [
      "   Tables_in_jacob_db\n",
      "0         aws_odds_df\n",
      "1  my_python_injuries\n",
      "2     my_python_table\n",
      "   Tables_in_jacob_db\n",
      "0         aws_odds_df\n",
      "1  my_python_injuries\n",
      "2     my_python_table\n"
     ]
    }
   ],
   "metadata": {}
  },
  {
   "cell_type": "code",
   "execution_count": null,
   "source": [
    "cnx.close()"
   ],
   "outputs": [],
   "metadata": {}
  }
 ],
 "metadata": {
  "orig_nbformat": 4,
  "language_info": {
   "name": "python",
   "version": "3.8.11",
   "mimetype": "text/x-python",
   "codemirror_mode": {
    "name": "ipython",
    "version": 3
   },
   "pygments_lexer": "ipython3",
   "nbconvert_exporter": "python",
   "file_extension": ".py"
  },
  "kernelspec": {
   "name": "python3",
   "display_name": "Python 3.8.11 64-bit ('jacobs_proj': conda)"
  },
  "interpreter": {
   "hash": "779d5f57be172eb7139bfab6f4de8acafa9c608f195125d15281b0a70e04c210"
  }
 },
 "nbformat": 4,
 "nbformat_minor": 2
}
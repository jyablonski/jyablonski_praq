{
 "cells": [
  {
   "cell_type": "code",
   "execution_count": null,
   "source": [
    "from datetime import datetime, timezone, timedelta\r\n",
    "import os\r\n",
    "import sqlalchemy\r\n",
    "from mysql.connector import Error\r\n",
    "import pandas as pd\r\n",
    "import boto3\r\n"
   ],
   "outputs": [],
   "metadata": {}
  },
  {
   "cell_type": "code",
   "execution_count": null,
   "source": [
    "def create_connection():\r\n",
    "    connection = None\r\n",
    "    try:\r\n",
    "        connection = sqlalchemy.create_engine('mysql+mysqlconnector://' + os.environ.get('USER') + ':' + os.environ.get('PW') + '@' + os.environ.get('IP') + ':' + os.environ.get('PORT') + '/' + os.environ.get('DB'),\r\n",
    "                     echo = False)\r\n",
    "        print(f\"Connection to Jacob's RDS MySQL {os.environ.get('DB')} DB successful\")\r\n",
    "    except Error as e:\r\n",
    "        print(f\"The error '{e}' occurred\")\r\n",
    "\r\n",
    "    return connection"
   ],
   "outputs": [],
   "metadata": {}
  },
  {
   "cell_type": "code",
   "execution_count": null,
   "source": [
    "url = \"https://www.basketball-reference.com/friv/injuries.fcgi\"\r\n",
    "injury_data = pd.read_html(url)[0]"
   ],
   "outputs": [],
   "metadata": {}
  },
  {
   "cell_type": "code",
   "execution_count": null,
   "source": [
    "def lambda_handler(event, context):\r\n",
    "    # execute web scrape and save it to a df\r\n",
    "    # write df to s3\r\n",
    "    # write df to rds"
   ],
   "outputs": [],
   "metadata": {}
  }
 ],
 "metadata": {
  "orig_nbformat": 4,
  "language_info": {
   "name": "python"
  }
 },
 "nbformat": 4,
 "nbformat_minor": 2
}
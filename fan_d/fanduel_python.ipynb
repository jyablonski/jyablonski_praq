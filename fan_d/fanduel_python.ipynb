{
 "cells": [
  {
   "cell_type": "code",
   "execution_count": 1,
   "metadata": {},
   "outputs": [],
   "source": [
    "from datetime import datetime\n",
    "import os\n",
    "\n",
    "import pandas as pd\n",
    "from sqlalchemy import exc, create_engine"
   ]
  },
  {
   "cell_type": "code",
   "execution_count": 2,
   "metadata": {},
   "outputs": [],
   "source": [
    "def sql_connection(rds_schema: str):\n",
    "    \"\"\"\n",
    "    SQL Connection function connecting to my postgres db with schema = nba_source where initial data in ELT lands.\n",
    "    Args:\n",
    "        rds_schema (str): The Schema in the DB to connect to.\n",
    "    Returns:\n",
    "        SQL Connection variable to a specified schema in my PostgreSQL DB\n",
    "    \"\"\"\n",
    "    RDS_USER = os.environ.get(\"RDS_USER\")\n",
    "    RDS_PW = os.environ.get(\"RDS_PW\")\n",
    "    RDS_IP = os.environ.get(\"IP\")\n",
    "    RDS_DB = os.environ.get(\"RDS_DB\")\n",
    "    try:\n",
    "        connection = create_engine(\n",
    "            f\"postgresql+psycopg2://{RDS_USER}:{RDS_PW}@{RDS_IP}:5432/{RDS_DB}\",\n",
    "            connect_args={\"options\": f\"-csearch_path={rds_schema}\"},\n",
    "            # defining schema to connect to\n",
    "            echo=False,\n",
    "        )\n",
    "        return connection\n",
    "    except exc.SQLAlchemyError as e:\n",
    "        return e\n",
    "\n",
    "def write_to_sql(con, table_name: str, df: pd.DataFrame, table_type: str):\n",
    "    \"\"\"\n",
    "    SQL Table function to write a pandas data frame to SQL\n",
    "    Args:\n",
    "        con (SQL Connection): The connection to the SQL DB.\n",
    "        table_name (str): The Table name to write to SQL as.\n",
    "        df (DataFrame): The Pandas DataFrame to store in SQL\n",
    "        table_type (str): Whether the table should replace or append to an existing SQL Table under that name\n",
    "    Returns:\n",
    "        Writes the Pandas DataFrame to a Table in SQL\n",
    "    \"\"\"\n",
    "    try:\n",
    "        if len(df) == 0:\n",
    "            print(f\"{table_name} is empty, not writing to SQL\")\n",
    "        else:\n",
    "            df.to_sql(\n",
    "                con=con,\n",
    "                name=f\"{table_name}\",\n",
    "                index=False,\n",
    "                if_exists=table_type,\n",
    "            )\n",
    "    except BaseException as error:\n",
    "        return error\n",
    "\n",
    "conn = sql_connection(rds_schema='fanduel')"
   ]
  },
  {
   "cell_type": "code",
   "execution_count": 3,
   "metadata": {},
   "outputs": [],
   "source": [
    "customers = pd.read_excel('fanduel_data.xlsx', sheet_name = 'customers')\n",
    "sportsbook_bets = pd.read_excel('fanduel_data.xlsx', sheet_name = 'sportsbook_bets')\n",
    "casino = pd.read_excel('fanduel_data.xlsx', sheet_name = 'casino')\n",
    "sportsbook_totals = pd.read_excel('fanduel_data.xlsx', sheet_name = 'sportsbook_totals')"
   ]
  },
  {
   "cell_type": "code",
   "execution_count": 6,
   "metadata": {},
   "outputs": [],
   "source": [
    "write_to_sql(conn, 'customers', customers, 'replace')\n",
    "write_to_sql(conn, 'sportsbook_bets', sportsbook_bets, 'replace')\n",
    "write_to_sql(conn, 'casino', casino, 'replace')\n",
    "write_to_sql(conn, 'sportsbook_totals', sportsbook_totals, 'replace')"
   ]
  }
 ],
 "metadata": {
  "interpreter": {
   "hash": "51acfa6005ffec5e74e71d844e0daa05d24ac78244a0bb1b7874b497027552e7"
  },
  "kernelspec": {
   "display_name": "Python 3.8.8 ('base')",
   "language": "python",
   "name": "python3"
  },
  "language_info": {
   "codemirror_mode": {
    "name": "ipython",
    "version": 3
   },
   "file_extension": ".py",
   "mimetype": "text/x-python",
   "name": "python",
   "nbconvert_exporter": "python",
   "pygments_lexer": "ipython3",
   "version": "3.8.8"
  },
  "orig_nbformat": 4
 },
 "nbformat": 4,
 "nbformat_minor": 2
}

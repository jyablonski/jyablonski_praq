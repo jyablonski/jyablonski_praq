{
 "cells": [
  {
   "cell_type": "code",
   "execution_count": 2,
   "metadata": {},
   "outputs": [],
   "source": [
    "# using python twitter\n",
    "import os \n",
    "from datetime import datetime, timedelta\n",
    "\n",
    "import pandas as pd\n",
    "from pytwitter import Api\n",
    "\n",
    "api = Api(bearer_token=os.environ.get(\"bearer_token\"))\n",
    "# https://sns-sdks.lkhardy.cn/python-twitter/usage/tweets/timelines/"
   ]
  },
  {
   "cell_type": "code",
   "execution_count": 3,
   "metadata": {},
   "outputs": [
    {
     "data": {
      "text/plain": [
       "Response(data=[User(id='783214', name='Twitter', username='Twitter'), User(id='2244994945', name='Twitter Dev', username='TwitterDev')])"
      ]
     },
     "execution_count": 3,
     "metadata": {},
     "output_type": "execute_result"
    }
   ],
   "source": [
    "api.get_users(ids=[\"783214\", \"2244994945\"])"
   ]
  },
  {
   "cell_type": "code",
   "execution_count": 4,
   "metadata": {},
   "outputs": [],
   "source": [
    "from pytwitter import StreamApi\n",
    "stream_api = StreamApi(bearer_token=os.environ.get(\"bearer_token\"))"
   ]
  },
  {
   "cell_type": "code",
   "execution_count": 6,
   "metadata": {},
   "outputs": [],
   "source": [
    "df = api.search_tweets(query=\"python\")"
   ]
  },
  {
   "cell_type": "code",
   "execution_count": 7,
   "metadata": {},
   "outputs": [
    {
     "data": {
      "text/plain": [
       "Response(data=[Tweet(id=1491115707421310977, text=RT @wangkrow: https://t.co/Uu3xOT2M9l...), Tweet(id=1491115706305368064, text=RT @rahulsire: Day 1 of #100DaysOfCode almost...), Tweet(id=1491115705944526849, text=@punsnparticles @Jacob_Hatguy Is that the...), Tweet(id=1491115705780998146, text=RT @Analytics_699: 📌 Carbon Dating Via Machine...), Tweet(id=1491115705692921857, text=RT @rahulsire: Day 1 of #100DaysOfCode almost...), Tweet(id=1491115705651056641, text=RT @rahulsire: Day 1 of #100DaysOfCode almost...), Tweet(id=1491115705327968257, text=RT @rahulsire: Day 1 of #100DaysOfCode almost...), Tweet(id=1491115703084404739, text=RT @Jamaticulus: I know say most of us dey try...), Tweet(id=1491115700320149509, text=RT @DigitalEdwyn: Infographic: Big Data...), Tweet(id=1491115692909019136, text=RT @Analytics_699: 📌 Multi Access Edge...)])"
      ]
     },
     "execution_count": 7,
     "metadata": {},
     "output_type": "execute_result"
    }
   ],
   "source": [
    "df"
   ]
  },
  {
   "cell_type": "code",
   "execution_count": 8,
   "metadata": {},
   "outputs": [
    {
     "data": {
      "text/plain": [
       "Response(data=[TweetCount(start='2022-02-01T18:24:47.000Z', end='2022-02-01T19:00:00.000Z', tweet_count=3166), TweetCount(start='2022-02-01T19:00:00.000Z', end='2022-02-01T20:00:00.000Z', tweet_count=4830), TweetCount(start='2022-02-01T20:00:00.000Z', end='2022-02-01T21:00:00.000Z', tweet_count=5095), TweetCount(start='2022-02-01T21:00:00.000Z', end='2022-02-01T22:00:00.000Z', tweet_count=7278), TweetCount(start='2022-02-01T22:00:00.000Z', end='2022-02-01T23:00:00.000Z', tweet_count=8814), TweetCount(start='2022-02-01T23:00:00.000Z', end='2022-02-02T00:00:00.000Z', tweet_count=7235), TweetCount(start='2022-02-02T00:00:00.000Z', end='2022-02-02T01:00:00.000Z', tweet_count=9974), TweetCount(start='2022-02-02T01:00:00.000Z', end='2022-02-02T02:00:00.000Z', tweet_count=7311), TweetCount(start='2022-02-02T02:00:00.000Z', end='2022-02-02T03:00:00.000Z', tweet_count=7229), TweetCount(start='2022-02-02T03:00:00.000Z', end='2022-02-02T04:00:00.000Z', tweet_count=8163), TweetCount(start='2022-02-02T04:00:00.000Z', end='2022-02-02T05:00:00.000Z', tweet_count=6622), TweetCount(start='2022-02-02T05:00:00.000Z', end='2022-02-02T06:00:00.000Z', tweet_count=5869), TweetCount(start='2022-02-02T06:00:00.000Z', end='2022-02-02T07:00:00.000Z', tweet_count=3966), TweetCount(start='2022-02-02T07:00:00.000Z', end='2022-02-02T08:00:00.000Z', tweet_count=3404), TweetCount(start='2022-02-02T08:00:00.000Z', end='2022-02-02T09:00:00.000Z', tweet_count=3128), TweetCount(start='2022-02-02T09:00:00.000Z', end='2022-02-02T10:00:00.000Z', tweet_count=2655), TweetCount(start='2022-02-02T10:00:00.000Z', end='2022-02-02T11:00:00.000Z', tweet_count=2258), TweetCount(start='2022-02-02T11:00:00.000Z', end='2022-02-02T12:00:00.000Z', tweet_count=2339), TweetCount(start='2022-02-02T12:00:00.000Z', end='2022-02-02T13:00:00.000Z', tweet_count=3103), TweetCount(start='2022-02-02T13:00:00.000Z', end='2022-02-02T14:00:00.000Z', tweet_count=4177), TweetCount(start='2022-02-02T14:00:00.000Z', end='2022-02-02T15:00:00.000Z', tweet_count=4340), TweetCount(start='2022-02-02T15:00:00.000Z', end='2022-02-02T16:00:00.000Z', tweet_count=4796), TweetCount(start='2022-02-02T16:00:00.000Z', end='2022-02-02T17:00:00.000Z', tweet_count=5324), TweetCount(start='2022-02-02T17:00:00.000Z', end='2022-02-02T18:00:00.000Z', tweet_count=5334), TweetCount(start='2022-02-02T18:00:00.000Z', end='2022-02-02T19:00:00.000Z', tweet_count=5392), TweetCount(start='2022-02-02T19:00:00.000Z', end='2022-02-02T20:00:00.000Z', tweet_count=6149), TweetCount(start='2022-02-02T20:00:00.000Z', end='2022-02-02T21:00:00.000Z', tweet_count=6346), TweetCount(start='2022-02-02T21:00:00.000Z', end='2022-02-02T22:00:00.000Z', tweet_count=6762), TweetCount(start='2022-02-02T22:00:00.000Z', end='2022-02-02T23:00:00.000Z', tweet_count=6024), TweetCount(start='2022-02-02T23:00:00.000Z', end='2022-02-03T00:00:00.000Z', tweet_count=5470), TweetCount(start='2022-02-03T00:00:00.000Z', end='2022-02-03T01:00:00.000Z', tweet_count=4852), TweetCount(start='2022-02-03T01:00:00.000Z', end='2022-02-03T02:00:00.000Z', tweet_count=5140), TweetCount(start='2022-02-03T02:00:00.000Z', end='2022-02-03T03:00:00.000Z', tweet_count=5355), TweetCount(start='2022-02-03T03:00:00.000Z', end='2022-02-03T04:00:00.000Z', tweet_count=5720), TweetCount(start='2022-02-03T04:00:00.000Z', end='2022-02-03T05:00:00.000Z', tweet_count=4709), TweetCount(start='2022-02-03T05:00:00.000Z', end='2022-02-03T06:00:00.000Z', tweet_count=4206), TweetCount(start='2022-02-03T06:00:00.000Z', end='2022-02-03T07:00:00.000Z', tweet_count=3746), TweetCount(start='2022-02-03T07:00:00.000Z', end='2022-02-03T08:00:00.000Z', tweet_count=2610), TweetCount(start='2022-02-03T08:00:00.000Z', end='2022-02-03T09:00:00.000Z', tweet_count=2482), TweetCount(start='2022-02-03T09:00:00.000Z', end='2022-02-03T10:00:00.000Z', tweet_count=2078), TweetCount(start='2022-02-03T10:00:00.000Z', end='2022-02-03T11:00:00.000Z', tweet_count=1857), TweetCount(start='2022-02-03T11:00:00.000Z', end='2022-02-03T12:00:00.000Z', tweet_count=2240), TweetCount(start='2022-02-03T12:00:00.000Z', end='2022-02-03T13:00:00.000Z', tweet_count=2927), TweetCount(start='2022-02-03T13:00:00.000Z', end='2022-02-03T14:00:00.000Z', tweet_count=3564), TweetCount(start='2022-02-03T14:00:00.000Z', end='2022-02-03T15:00:00.000Z', tweet_count=4190), TweetCount(start='2022-02-03T15:00:00.000Z', end='2022-02-03T16:00:00.000Z', tweet_count=9597), TweetCount(start='2022-02-03T16:00:00.000Z', end='2022-02-03T17:00:00.000Z', tweet_count=7137), TweetCount(start='2022-02-03T17:00:00.000Z', end='2022-02-03T18:00:00.000Z', tweet_count=6871), TweetCount(start='2022-02-03T18:00:00.000Z', end='2022-02-03T19:00:00.000Z', tweet_count=6370), TweetCount(start='2022-02-03T19:00:00.000Z', end='2022-02-03T20:00:00.000Z', tweet_count=5998), TweetCount(start='2022-02-03T20:00:00.000Z', end='2022-02-03T21:00:00.000Z', tweet_count=6534), TweetCount(start='2022-02-03T21:00:00.000Z', end='2022-02-03T22:00:00.000Z', tweet_count=6730), TweetCount(start='2022-02-03T22:00:00.000Z', end='2022-02-03T23:00:00.000Z', tweet_count=6779), TweetCount(start='2022-02-03T23:00:00.000Z', end='2022-02-04T00:00:00.000Z', tweet_count=6922), TweetCount(start='2022-02-04T00:00:00.000Z', end='2022-02-04T01:00:00.000Z', tweet_count=25011), TweetCount(start='2022-02-04T01:00:00.000Z', end='2022-02-04T02:00:00.000Z', tweet_count=12884), TweetCount(start='2022-02-04T02:00:00.000Z', end='2022-02-04T03:00:00.000Z', tweet_count=10150), TweetCount(start='2022-02-04T03:00:00.000Z', end='2022-02-04T04:00:00.000Z', tweet_count=10833), TweetCount(start='2022-02-04T04:00:00.000Z', end='2022-02-04T05:00:00.000Z', tweet_count=8916), TweetCount(start='2022-02-04T05:00:00.000Z', end='2022-02-04T06:00:00.000Z', tweet_count=9791), TweetCount(start='2022-02-04T06:00:00.000Z', end='2022-02-04T07:00:00.000Z', tweet_count=6118), TweetCount(start='2022-02-04T07:00:00.000Z', end='2022-02-04T08:00:00.000Z', tweet_count=5165), TweetCount(start='2022-02-04T08:00:00.000Z', end='2022-02-04T09:00:00.000Z', tweet_count=4319), TweetCount(start='2022-02-04T09:00:00.000Z', end='2022-02-04T10:00:00.000Z', tweet_count=3522), TweetCount(start='2022-02-04T10:00:00.000Z', end='2022-02-04T11:00:00.000Z', tweet_count=3136), TweetCount(start='2022-02-04T11:00:00.000Z', end='2022-02-04T12:00:00.000Z', tweet_count=3466), TweetCount(start='2022-02-04T12:00:00.000Z', end='2022-02-04T13:00:00.000Z', tweet_count=4146), TweetCount(start='2022-02-04T13:00:00.000Z', end='2022-02-04T14:00:00.000Z', tweet_count=4760), TweetCount(start='2022-02-04T14:00:00.000Z', end='2022-02-04T15:00:00.000Z', tweet_count=6233), TweetCount(start='2022-02-04T15:00:00.000Z', end='2022-02-04T16:00:00.000Z', tweet_count=7096), TweetCount(start='2022-02-04T16:00:00.000Z', end='2022-02-04T17:00:00.000Z', tweet_count=6831), TweetCount(start='2022-02-04T17:00:00.000Z', end='2022-02-04T18:00:00.000Z', tweet_count=7028), TweetCount(start='2022-02-04T18:00:00.000Z', end='2022-02-04T19:00:00.000Z', tweet_count=7320), TweetCount(start='2022-02-04T19:00:00.000Z', end='2022-02-04T20:00:00.000Z', tweet_count=8179), TweetCount(start='2022-02-04T20:00:00.000Z', end='2022-02-04T21:00:00.000Z', tweet_count=7367), TweetCount(start='2022-02-04T21:00:00.000Z', end='2022-02-04T22:00:00.000Z', tweet_count=9235), TweetCount(start='2022-02-04T22:00:00.000Z', end='2022-02-04T23:00:00.000Z', tweet_count=9920), TweetCount(start='2022-02-04T23:00:00.000Z', end='2022-02-05T00:00:00.000Z', tweet_count=8512), TweetCount(start='2022-02-05T00:00:00.000Z', end='2022-02-05T01:00:00.000Z', tweet_count=7888), TweetCount(start='2022-02-05T01:00:00.000Z', end='2022-02-05T02:00:00.000Z', tweet_count=6221), TweetCount(start='2022-02-05T02:00:00.000Z', end='2022-02-05T03:00:00.000Z', tweet_count=9237), TweetCount(start='2022-02-05T03:00:00.000Z', end='2022-02-05T04:00:00.000Z', tweet_count=7054), TweetCount(start='2022-02-05T04:00:00.000Z', end='2022-02-05T05:00:00.000Z', tweet_count=5980), TweetCount(start='2022-02-05T05:00:00.000Z', end='2022-02-05T06:00:00.000Z', tweet_count=6379), TweetCount(start='2022-02-05T06:00:00.000Z', end='2022-02-05T07:00:00.000Z', tweet_count=6321), TweetCount(start='2022-02-05T07:00:00.000Z', end='2022-02-05T08:00:00.000Z', tweet_count=3797), TweetCount(start='2022-02-05T08:00:00.000Z', end='2022-02-05T09:00:00.000Z', tweet_count=3176), TweetCount(start='2022-02-05T09:00:00.000Z', end='2022-02-05T10:00:00.000Z', tweet_count=2837), TweetCount(start='2022-02-05T10:00:00.000Z', end='2022-02-05T11:00:00.000Z', tweet_count=2536), TweetCount(start='2022-02-05T11:00:00.000Z', end='2022-02-05T12:00:00.000Z', tweet_count=2676), TweetCount(start='2022-02-05T12:00:00.000Z', end='2022-02-05T13:00:00.000Z', tweet_count=3021), TweetCount(start='2022-02-05T13:00:00.000Z', end='2022-02-05T14:00:00.000Z', tweet_count=3653), TweetCount(start='2022-02-05T14:00:00.000Z', end='2022-02-05T15:00:00.000Z', tweet_count=4343), TweetCount(start='2022-02-05T15:00:00.000Z', end='2022-02-05T16:00:00.000Z', tweet_count=4666), TweetCount(start='2022-02-05T16:00:00.000Z', end='2022-02-05T17:00:00.000Z', tweet_count=5038), TweetCount(start='2022-02-05T17:00:00.000Z', end='2022-02-05T18:00:00.000Z', tweet_count=5103), TweetCount(start='2022-02-05T18:00:00.000Z', end='2022-02-05T19:00:00.000Z', tweet_count=6573), TweetCount(start='2022-02-05T19:00:00.000Z', end='2022-02-05T20:00:00.000Z', tweet_count=6757), TweetCount(start='2022-02-05T20:00:00.000Z', end='2022-02-05T21:00:00.000Z', tweet_count=5930), TweetCount(start='2022-02-05T21:00:00.000Z', end='2022-02-05T22:00:00.000Z', tweet_count=5599), TweetCount(start='2022-02-05T22:00:00.000Z', end='2022-02-05T23:00:00.000Z', tweet_count=5909), TweetCount(start='2022-02-05T23:00:00.000Z', end='2022-02-06T00:00:00.000Z', tweet_count=6629), TweetCount(start='2022-02-06T00:00:00.000Z', end='2022-02-06T01:00:00.000Z', tweet_count=7644), TweetCount(start='2022-02-06T01:00:00.000Z', end='2022-02-06T02:00:00.000Z', tweet_count=7247), TweetCount(start='2022-02-06T02:00:00.000Z', end='2022-02-06T03:00:00.000Z', tweet_count=8142), TweetCount(start='2022-02-06T03:00:00.000Z', end='2022-02-06T04:00:00.000Z', tweet_count=7391), TweetCount(start='2022-02-06T04:00:00.000Z', end='2022-02-06T05:00:00.000Z', tweet_count=7977), TweetCount(start='2022-02-06T05:00:00.000Z', end='2022-02-06T06:00:00.000Z', tweet_count=4880), TweetCount(start='2022-02-06T06:00:00.000Z', end='2022-02-06T07:00:00.000Z', tweet_count=3831), TweetCount(start='2022-02-06T07:00:00.000Z', end='2022-02-06T08:00:00.000Z', tweet_count=3094), TweetCount(start='2022-02-06T08:00:00.000Z', end='2022-02-06T09:00:00.000Z', tweet_count=2965), TweetCount(start='2022-02-06T09:00:00.000Z', end='2022-02-06T10:00:00.000Z', tweet_count=2442), TweetCount(start='2022-02-06T10:00:00.000Z', end='2022-02-06T11:00:00.000Z', tweet_count=2434), TweetCount(start='2022-02-06T11:00:00.000Z', end='2022-02-06T12:00:00.000Z', tweet_count=2430), TweetCount(start='2022-02-06T12:00:00.000Z', end='2022-02-06T13:00:00.000Z', tweet_count=2830), TweetCount(start='2022-02-06T13:00:00.000Z', end='2022-02-06T14:00:00.000Z', tweet_count=3819), TweetCount(start='2022-02-06T14:00:00.000Z', end='2022-02-06T15:00:00.000Z', tweet_count=4282), TweetCount(start='2022-02-06T15:00:00.000Z', end='2022-02-06T16:00:00.000Z', tweet_count=4929), TweetCount(start='2022-02-06T16:00:00.000Z', end='2022-02-06T17:00:00.000Z', tweet_count=4965), TweetCount(start='2022-02-06T17:00:00.000Z', end='2022-02-06T18:00:00.000Z', tweet_count=5530), TweetCount(start='2022-02-06T18:00:00.000Z', end='2022-02-06T19:00:00.000Z', tweet_count=5221), TweetCount(start='2022-02-06T19:00:00.000Z', end='2022-02-06T20:00:00.000Z', tweet_count=5046), TweetCount(start='2022-02-06T20:00:00.000Z', end='2022-02-06T21:00:00.000Z', tweet_count=5799), TweetCount(start='2022-02-06T21:00:00.000Z', end='2022-02-06T22:00:00.000Z', tweet_count=6103), TweetCount(start='2022-02-06T22:00:00.000Z', end='2022-02-06T23:00:00.000Z', tweet_count=7004), TweetCount(start='2022-02-06T23:00:00.000Z', end='2022-02-07T00:00:00.000Z', tweet_count=6744), TweetCount(start='2022-02-07T00:00:00.000Z', end='2022-02-07T01:00:00.000Z', tweet_count=6083), TweetCount(start='2022-02-07T01:00:00.000Z', end='2022-02-07T02:00:00.000Z', tweet_count=6167), TweetCount(start='2022-02-07T02:00:00.000Z', end='2022-02-07T03:00:00.000Z', tweet_count=5249), TweetCount(start='2022-02-07T03:00:00.000Z', end='2022-02-07T04:00:00.000Z', tweet_count=4521), TweetCount(start='2022-02-07T04:00:00.000Z', end='2022-02-07T05:00:00.000Z', tweet_count=4115), TweetCount(start='2022-02-07T05:00:00.000Z', end='2022-02-07T06:00:00.000Z', tweet_count=4223), TweetCount(start='2022-02-07T06:00:00.000Z', end='2022-02-07T07:00:00.000Z', tweet_count=3406), TweetCount(start='2022-02-07T07:00:00.000Z', end='2022-02-07T08:00:00.000Z', tweet_count=2658), TweetCount(start='2022-02-07T08:00:00.000Z', end='2022-02-07T09:00:00.000Z', tweet_count=2302), TweetCount(start='2022-02-07T09:00:00.000Z', end='2022-02-07T10:00:00.000Z', tweet_count=2129), TweetCount(start='2022-02-07T10:00:00.000Z', end='2022-02-07T11:00:00.000Z', tweet_count=2043), TweetCount(start='2022-02-07T11:00:00.000Z', end='2022-02-07T12:00:00.000Z', tweet_count=2601), TweetCount(start='2022-02-07T12:00:00.000Z', end='2022-02-07T13:00:00.000Z', tweet_count=3180), TweetCount(start='2022-02-07T13:00:00.000Z', end='2022-02-07T14:00:00.000Z', tweet_count=3304), TweetCount(start='2022-02-07T14:00:00.000Z', end='2022-02-07T15:00:00.000Z', tweet_count=3873), TweetCount(start='2022-02-07T15:00:00.000Z', end='2022-02-07T16:00:00.000Z', tweet_count=4171), TweetCount(start='2022-02-07T16:00:00.000Z', end='2022-02-07T17:00:00.000Z', tweet_count=5708), TweetCount(start='2022-02-07T17:00:00.000Z', end='2022-02-07T18:00:00.000Z', tweet_count=5403), TweetCount(start='2022-02-07T18:00:00.000Z', end='2022-02-07T19:00:00.000Z', tweet_count=5035), TweetCount(start='2022-02-07T19:00:00.000Z', end='2022-02-07T20:00:00.000Z', tweet_count=4592), TweetCount(start='2022-02-07T20:00:00.000Z', end='2022-02-07T21:00:00.000Z', tweet_count=5573), TweetCount(start='2022-02-07T21:00:00.000Z', end='2022-02-07T22:00:00.000Z', tweet_count=15731), TweetCount(start='2022-02-07T22:00:00.000Z', end='2022-02-07T23:00:00.000Z', tweet_count=8754), TweetCount(start='2022-02-07T23:00:00.000Z', end='2022-02-08T00:00:00.000Z', tweet_count=7455), TweetCount(start='2022-02-08T00:00:00.000Z', end='2022-02-08T01:00:00.000Z', tweet_count=6117), TweetCount(start='2022-02-08T01:00:00.000Z', end='2022-02-08T02:00:00.000Z', tweet_count=5951), TweetCount(start='2022-02-08T02:00:00.000Z', end='2022-02-08T03:00:00.000Z', tweet_count=6550), TweetCount(start='2022-02-08T03:00:00.000Z', end='2022-02-08T04:00:00.000Z', tweet_count=6850), TweetCount(start='2022-02-08T04:00:00.000Z', end='2022-02-08T05:00:00.000Z', tweet_count=6082), TweetCount(start='2022-02-08T05:00:00.000Z', end='2022-02-08T06:00:00.000Z', tweet_count=4818), TweetCount(start='2022-02-08T06:00:00.000Z', end='2022-02-08T07:00:00.000Z', tweet_count=3748), TweetCount(start='2022-02-08T07:00:00.000Z', end='2022-02-08T08:00:00.000Z', tweet_count=3024), TweetCount(start='2022-02-08T08:00:00.000Z', end='2022-02-08T09:00:00.000Z', tweet_count=2588), TweetCount(start='2022-02-08T09:00:00.000Z', end='2022-02-08T10:00:00.000Z', tweet_count=2237), TweetCount(start='2022-02-08T10:00:00.000Z', end='2022-02-08T11:00:00.000Z', tweet_count=2249), TweetCount(start='2022-02-08T11:00:00.000Z', end='2022-02-08T12:00:00.000Z', tweet_count=2640), TweetCount(start='2022-02-08T12:00:00.000Z', end='2022-02-08T13:00:00.000Z', tweet_count=3444), TweetCount(start='2022-02-08T13:00:00.000Z', end='2022-02-08T14:00:00.000Z', tweet_count=5334), TweetCount(start='2022-02-08T14:00:00.000Z', end='2022-02-08T15:00:00.000Z', tweet_count=5458), TweetCount(start='2022-02-08T15:00:00.000Z', end='2022-02-08T16:00:00.000Z', tweet_count=7248), TweetCount(start='2022-02-08T16:00:00.000Z', end='2022-02-08T17:00:00.000Z', tweet_count=7660), TweetCount(start='2022-02-08T17:00:00.000Z', end='2022-02-08T18:00:00.000Z', tweet_count=7289), TweetCount(start='2022-02-08T18:00:00.000Z', end='2022-02-08T18:24:47.000Z', tweet_count=3025)])"
      ]
     },
     "execution_count": 8,
     "metadata": {},
     "output_type": "execute_result"
    }
   ],
   "source": [
    "api.get_tweets_counts(\"nba\")"
   ]
  }
 ],
 "metadata": {
  "interpreter": {
   "hash": "81c6a89d9b91bda76c14e46d4b77530c453739b0f65fa8daf80e192463b63a97"
  },
  "kernelspec": {
   "display_name": "Python 3.8.10 ('python_aws-McJt4gWW')",
   "language": "python",
   "name": "python3"
  },
  "language_info": {
   "codemirror_mode": {
    "name": "ipython",
    "version": 3
   },
   "file_extension": ".py",
   "mimetype": "text/x-python",
   "name": "python",
   "nbconvert_exporter": "python",
   "pygments_lexer": "ipython3",
   "version": "3.8.10"
  },
  "orig_nbformat": 4
 },
 "nbformat": 4,
 "nbformat_minor": 2
}

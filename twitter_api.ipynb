{
 "cells": [
  {
   "cell_type": "code",
   "execution_count": 1,
   "metadata": {},
   "outputs": [],
   "source": [
    "# using python twitter\n",
    "import os \n",
    "from datetime import datetime, timedelta\n",
    "\n",
    "import pandas as pd\n",
    "from pytwitter import Api\n",
    "\n",
    "api = Api(bearer_token=os.environ.get(\"bearer_token\"))\n",
    "# https://sns-sdks.lkhardy.cn/python-twitter/usage/tweets/timelines/"
   ]
  },
  {
   "cell_type": "code",
   "execution_count": 3,
   "metadata": {},
   "outputs": [
    {
     "data": {
      "text/plain": [
       "Response(data=[User(id='783214', name='Twitter', username='Twitter'), User(id='2244994945', name='Twitter Dev', username='TwitterDev')])"
      ]
     },
     "execution_count": 3,
     "metadata": {},
     "output_type": "execute_result"
    }
   ],
   "source": [
    "api.get_users(ids=[\"783214\", \"2244994945\"])"
   ]
  },
  {
   "cell_type": "code",
   "execution_count": 3,
   "metadata": {},
   "outputs": [],
   "source": [
    "from pytwitter import StreamApi\n",
    "stream_api = StreamApi(bearer_token=os.environ.get(\"bearer_token\"))"
   ]
  },
  {
   "cell_type": "code",
   "execution_count": 4,
   "metadata": {},
   "outputs": [],
   "source": [
    "df = api.search_tweets(query=\"python\")"
   ]
  },
  {
   "cell_type": "code",
   "execution_count": 5,
   "metadata": {},
   "outputs": [
    {
     "data": {
      "text/plain": [
       "Response(data=[Tweet(id=1497763427749613572, text=RT @pitimebot: #179 🤕 Describe this meme...🤩...), Tweet(id=1497763420610965506, text=50LGTM！ |...), Tweet(id=1497763418115395588, text=While a lot of memory safety media coverage...), Tweet(id=1497763415921762308, text=RT @Ariannaessays: Hit my dm now Biology Essays...), Tweet(id=1497763412222390272, text=RT @AngelitaWallan1: 100% USA Verified PayPal...), Tweet(id=1497763411370946560, text=RT @aarushinair_: Abductive inference: The...), Tweet(id=1497763401954734086, text=RT @AngelitaWallan1: 100% USA Verified PayPal...), Tweet(id=1497763399417094155, text=RT @PaperAcademia: Hit my dm now Biology Essays...), Tweet(id=1497763390223171586, text=RT @AngelitaWallan1: 100% USA Verified PayPal...), Tweet(id=1497763377241890821, text=RT @PaperAcademia: Hit my dm now Biology Essays...)])"
      ]
     },
     "execution_count": 5,
     "metadata": {},
     "output_type": "execute_result"
    }
   ],
   "source": [
    "df"
   ]
  },
  {
   "cell_type": "code",
   "execution_count": 6,
   "metadata": {},
   "outputs": [],
   "source": [
    "df = api.get_tweets_counts(\"nba\")"
   ]
  },
  {
   "cell_type": "code",
   "execution_count": 7,
   "metadata": {},
   "outputs": [
    {
     "data": {
      "text/plain": [
       "Response(data=[TweetCount(start='2022-02-20T02:45:08.000Z', end='2022-02-20T03:00:00.000Z', tweet_count=6107), TweetCount(start='2022-02-20T03:00:00.000Z', end='2022-02-20T04:00:00.000Z', tweet_count=27673), TweetCount(start='2022-02-20T04:00:00.000Z', end='2022-02-20T05:00:00.000Z', tweet_count=20377), TweetCount(start='2022-02-20T05:00:00.000Z', end='2022-02-20T06:00:00.000Z', tweet_count=8612), TweetCount(start='2022-02-20T06:00:00.000Z', end='2022-02-20T07:00:00.000Z', tweet_count=6018), TweetCount(start='2022-02-20T07:00:00.000Z', end='2022-02-20T08:00:00.000Z', tweet_count=5338), TweetCount(start='2022-02-20T08:00:00.000Z', end='2022-02-20T09:00:00.000Z', tweet_count=4347), TweetCount(start='2022-02-20T09:00:00.000Z', end='2022-02-20T10:00:00.000Z', tweet_count=3704), TweetCount(start='2022-02-20T10:00:00.000Z', end='2022-02-20T11:00:00.000Z', tweet_count=3995), TweetCount(start='2022-02-20T11:00:00.000Z', end='2022-02-20T12:00:00.000Z', tweet_count=4082), TweetCount(start='2022-02-20T12:00:00.000Z', end='2022-02-20T13:00:00.000Z', tweet_count=4618), TweetCount(start='2022-02-20T13:00:00.000Z', end='2022-02-20T14:00:00.000Z', tweet_count=7046), TweetCount(start='2022-02-20T14:00:00.000Z', end='2022-02-20T15:00:00.000Z', tweet_count=8456), TweetCount(start='2022-02-20T15:00:00.000Z', end='2022-02-20T16:00:00.000Z', tweet_count=9412), TweetCount(start='2022-02-20T16:00:00.000Z', end='2022-02-20T17:00:00.000Z', tweet_count=8697), TweetCount(start='2022-02-20T17:00:00.000Z', end='2022-02-20T18:00:00.000Z', tweet_count=9077), TweetCount(start='2022-02-20T18:00:00.000Z', end='2022-02-20T19:00:00.000Z', tweet_count=8141), TweetCount(start='2022-02-20T19:00:00.000Z', end='2022-02-20T20:00:00.000Z', tweet_count=8300), TweetCount(start='2022-02-20T20:00:00.000Z', end='2022-02-20T21:00:00.000Z', tweet_count=8109), TweetCount(start='2022-02-20T21:00:00.000Z', end='2022-02-20T22:00:00.000Z', tweet_count=10087), TweetCount(start='2022-02-20T22:00:00.000Z', end='2022-02-20T23:00:00.000Z', tweet_count=11475), TweetCount(start='2022-02-20T23:00:00.000Z', end='2022-02-21T00:00:00.000Z', tweet_count=12527), TweetCount(start='2022-02-21T00:00:00.000Z', end='2022-02-21T01:00:00.000Z', tweet_count=27499), TweetCount(start='2022-02-21T01:00:00.000Z', end='2022-02-21T02:00:00.000Z', tweet_count=31760), TweetCount(start='2022-02-21T02:00:00.000Z', end='2022-02-21T03:00:00.000Z', tweet_count=38384), TweetCount(start='2022-02-21T03:00:00.000Z', end='2022-02-21T04:00:00.000Z', tweet_count=63473), TweetCount(start='2022-02-21T04:00:00.000Z', end='2022-02-21T05:00:00.000Z', tweet_count=40765), TweetCount(start='2022-02-21T05:00:00.000Z', end='2022-02-21T06:00:00.000Z', tweet_count=18776), TweetCount(start='2022-02-21T06:00:00.000Z', end='2022-02-21T07:00:00.000Z', tweet_count=13379), TweetCount(start='2022-02-21T07:00:00.000Z', end='2022-02-21T08:00:00.000Z', tweet_count=10696), TweetCount(start='2022-02-21T08:00:00.000Z', end='2022-02-21T09:00:00.000Z', tweet_count=8730), TweetCount(start='2022-02-21T09:00:00.000Z', end='2022-02-21T10:00:00.000Z', tweet_count=7554), TweetCount(start='2022-02-21T10:00:00.000Z', end='2022-02-21T11:00:00.000Z', tweet_count=7039), TweetCount(start='2022-02-21T11:00:00.000Z', end='2022-02-21T12:00:00.000Z', tweet_count=8341), TweetCount(start='2022-02-21T12:00:00.000Z', end='2022-02-21T13:00:00.000Z', tweet_count=9168), TweetCount(start='2022-02-21T13:00:00.000Z', end='2022-02-21T14:00:00.000Z', tweet_count=11239), TweetCount(start='2022-02-21T14:00:00.000Z', end='2022-02-21T15:00:00.000Z', tweet_count=11940), TweetCount(start='2022-02-21T15:00:00.000Z', end='2022-02-21T16:00:00.000Z', tweet_count=11276), TweetCount(start='2022-02-21T16:00:00.000Z', end='2022-02-21T17:00:00.000Z', tweet_count=10995), TweetCount(start='2022-02-21T17:00:00.000Z', end='2022-02-21T18:00:00.000Z', tweet_count=10788), TweetCount(start='2022-02-21T18:00:00.000Z', end='2022-02-21T19:00:00.000Z', tweet_count=9992), TweetCount(start='2022-02-21T19:00:00.000Z', end='2022-02-21T20:00:00.000Z', tweet_count=9479), TweetCount(start='2022-02-21T20:00:00.000Z', end='2022-02-21T21:00:00.000Z', tweet_count=9538), TweetCount(start='2022-02-21T21:00:00.000Z', end='2022-02-21T22:00:00.000Z', tweet_count=8838), TweetCount(start='2022-02-21T22:00:00.000Z', end='2022-02-21T23:00:00.000Z', tweet_count=8579), TweetCount(start='2022-02-21T23:00:00.000Z', end='2022-02-22T00:00:00.000Z', tweet_count=7728), TweetCount(start='2022-02-22T00:00:00.000Z', end='2022-02-22T01:00:00.000Z', tweet_count=8050), TweetCount(start='2022-02-22T01:00:00.000Z', end='2022-02-22T02:00:00.000Z', tweet_count=9090), TweetCount(start='2022-02-22T02:00:00.000Z', end='2022-02-22T03:00:00.000Z', tweet_count=7991), TweetCount(start='2022-02-22T03:00:00.000Z', end='2022-02-22T04:00:00.000Z', tweet_count=6645), TweetCount(start='2022-02-22T04:00:00.000Z', end='2022-02-22T05:00:00.000Z', tweet_count=5631), TweetCount(start='2022-02-22T05:00:00.000Z', end='2022-02-22T06:00:00.000Z', tweet_count=5112), TweetCount(start='2022-02-22T06:00:00.000Z', end='2022-02-22T07:00:00.000Z', tweet_count=4522), TweetCount(start='2022-02-22T07:00:00.000Z', end='2022-02-22T08:00:00.000Z', tweet_count=3688), TweetCount(start='2022-02-22T08:00:00.000Z', end='2022-02-22T09:00:00.000Z', tweet_count=3266), TweetCount(start='2022-02-22T09:00:00.000Z', end='2022-02-22T10:00:00.000Z', tweet_count=2941), TweetCount(start='2022-02-22T10:00:00.000Z', end='2022-02-22T11:00:00.000Z', tweet_count=2975), TweetCount(start='2022-02-22T11:00:00.000Z', end='2022-02-22T12:00:00.000Z', tweet_count=3268), TweetCount(start='2022-02-22T12:00:00.000Z', end='2022-02-22T13:00:00.000Z', tweet_count=3877), TweetCount(start='2022-02-22T13:00:00.000Z', end='2022-02-22T14:00:00.000Z', tweet_count=4541), TweetCount(start='2022-02-22T14:00:00.000Z', end='2022-02-22T15:00:00.000Z', tweet_count=5324), TweetCount(start='2022-02-22T15:00:00.000Z', end='2022-02-22T16:00:00.000Z', tweet_count=5750), TweetCount(start='2022-02-22T16:00:00.000Z', end='2022-02-22T17:00:00.000Z', tweet_count=7500), TweetCount(start='2022-02-22T17:00:00.000Z', end='2022-02-22T18:00:00.000Z', tweet_count=8042), TweetCount(start='2022-02-22T18:00:00.000Z', end='2022-02-22T19:00:00.000Z', tweet_count=7676), TweetCount(start='2022-02-22T19:00:00.000Z', end='2022-02-22T20:00:00.000Z', tweet_count=6745), TweetCount(start='2022-02-22T20:00:00.000Z', end='2022-02-22T21:00:00.000Z', tweet_count=6807), TweetCount(start='2022-02-22T21:00:00.000Z', end='2022-02-22T22:00:00.000Z', tweet_count=7803), TweetCount(start='2022-02-22T22:00:00.000Z', end='2022-02-22T23:00:00.000Z', tweet_count=13302), TweetCount(start='2022-02-22T23:00:00.000Z', end='2022-02-23T00:00:00.000Z', tweet_count=12387), TweetCount(start='2022-02-23T00:00:00.000Z', end='2022-02-23T01:00:00.000Z', tweet_count=11018), TweetCount(start='2022-02-23T01:00:00.000Z', end='2022-02-23T02:00:00.000Z', tweet_count=9456), TweetCount(start='2022-02-23T02:00:00.000Z', end='2022-02-23T03:00:00.000Z', tweet_count=9072), TweetCount(start='2022-02-23T03:00:00.000Z', end='2022-02-23T04:00:00.000Z', tweet_count=8889), TweetCount(start='2022-02-23T04:00:00.000Z', end='2022-02-23T05:00:00.000Z', tweet_count=6873), TweetCount(start='2022-02-23T05:00:00.000Z', end='2022-02-23T06:00:00.000Z', tweet_count=5559), TweetCount(start='2022-02-23T06:00:00.000Z', end='2022-02-23T07:00:00.000Z', tweet_count=4423), TweetCount(start='2022-02-23T07:00:00.000Z', end='2022-02-23T08:00:00.000Z', tweet_count=3623), TweetCount(start='2022-02-23T08:00:00.000Z', end='2022-02-23T09:00:00.000Z', tweet_count=3474), TweetCount(start='2022-02-23T09:00:00.000Z', end='2022-02-23T10:00:00.000Z', tweet_count=3033), TweetCount(start='2022-02-23T10:00:00.000Z', end='2022-02-23T11:00:00.000Z', tweet_count=3188), TweetCount(start='2022-02-23T11:00:00.000Z', end='2022-02-23T12:00:00.000Z', tweet_count=3571), TweetCount(start='2022-02-23T12:00:00.000Z', end='2022-02-23T13:00:00.000Z', tweet_count=5051), TweetCount(start='2022-02-23T13:00:00.000Z', end='2022-02-23T14:00:00.000Z', tweet_count=6829), TweetCount(start='2022-02-23T14:00:00.000Z', end='2022-02-23T15:00:00.000Z', tweet_count=7804), TweetCount(start='2022-02-23T15:00:00.000Z', end='2022-02-23T16:00:00.000Z', tweet_count=9494), TweetCount(start='2022-02-23T16:00:00.000Z', end='2022-02-23T17:00:00.000Z', tweet_count=9914), TweetCount(start='2022-02-23T17:00:00.000Z', end='2022-02-23T18:00:00.000Z', tweet_count=9530), TweetCount(start='2022-02-23T18:00:00.000Z', end='2022-02-23T19:00:00.000Z', tweet_count=8367), TweetCount(start='2022-02-23T19:00:00.000Z', end='2022-02-23T20:00:00.000Z', tweet_count=7848), TweetCount(start='2022-02-23T20:00:00.000Z', end='2022-02-23T21:00:00.000Z', tweet_count=7121), TweetCount(start='2022-02-23T21:00:00.000Z', end='2022-02-23T22:00:00.000Z', tweet_count=8222), TweetCount(start='2022-02-23T22:00:00.000Z', end='2022-02-23T23:00:00.000Z', tweet_count=7487), TweetCount(start='2022-02-23T23:00:00.000Z', end='2022-02-24T00:00:00.000Z', tweet_count=7403), TweetCount(start='2022-02-24T00:00:00.000Z', end='2022-02-24T01:00:00.000Z', tweet_count=7473), TweetCount(start='2022-02-24T01:00:00.000Z', end='2022-02-24T02:00:00.000Z', tweet_count=7603), TweetCount(start='2022-02-24T02:00:00.000Z', end='2022-02-24T03:00:00.000Z', tweet_count=7361), TweetCount(start='2022-02-24T03:00:00.000Z', end='2022-02-24T04:00:00.000Z', tweet_count=7193), TweetCount(start='2022-02-24T04:00:00.000Z', end='2022-02-24T05:00:00.000Z', tweet_count=6352), TweetCount(start='2022-02-24T05:00:00.000Z', end='2022-02-24T06:00:00.000Z', tweet_count=4694), TweetCount(start='2022-02-24T06:00:00.000Z', end='2022-02-24T07:00:00.000Z', tweet_count=3499), TweetCount(start='2022-02-24T07:00:00.000Z', end='2022-02-24T08:00:00.000Z', tweet_count=1640), TweetCount(start='2022-02-24T08:00:00.000Z', end='2022-02-24T09:00:00.000Z', tweet_count=1667), TweetCount(start='2022-02-24T09:00:00.000Z', end='2022-02-24T10:00:00.000Z', tweet_count=1528), TweetCount(start='2022-02-24T10:00:00.000Z', end='2022-02-24T11:00:00.000Z', tweet_count=2149), TweetCount(start='2022-02-24T11:00:00.000Z', end='2022-02-24T12:00:00.000Z', tweet_count=4567), TweetCount(start='2022-02-24T12:00:00.000Z', end='2022-02-24T13:00:00.000Z', tweet_count=5200), TweetCount(start='2022-02-24T13:00:00.000Z', end='2022-02-24T14:00:00.000Z', tweet_count=5402), TweetCount(start='2022-02-24T14:00:00.000Z', end='2022-02-24T15:00:00.000Z', tweet_count=4821), TweetCount(start='2022-02-24T15:00:00.000Z', end='2022-02-24T16:00:00.000Z', tweet_count=5959), TweetCount(start='2022-02-24T16:00:00.000Z', end='2022-02-24T17:00:00.000Z', tweet_count=5992), TweetCount(start='2022-02-24T17:00:00.000Z', end='2022-02-24T18:00:00.000Z', tweet_count=5953), TweetCount(start='2022-02-24T18:00:00.000Z', end='2022-02-24T19:00:00.000Z', tweet_count=6224), TweetCount(start='2022-02-24T19:00:00.000Z', end='2022-02-24T20:00:00.000Z', tweet_count=6266), TweetCount(start='2022-02-24T20:00:00.000Z', end='2022-02-24T21:00:00.000Z', tweet_count=6654), TweetCount(start='2022-02-24T21:00:00.000Z', end='2022-02-24T22:00:00.000Z', tweet_count=6243), TweetCount(start='2022-02-24T22:00:00.000Z', end='2022-02-24T23:00:00.000Z', tweet_count=9384), TweetCount(start='2022-02-24T23:00:00.000Z', end='2022-02-25T00:00:00.000Z', tweet_count=7284), TweetCount(start='2022-02-25T00:00:00.000Z', end='2022-02-25T01:00:00.000Z', tweet_count=6488), TweetCount(start='2022-02-25T01:00:00.000Z', end='2022-02-25T02:00:00.000Z', tweet_count=7199), TweetCount(start='2022-02-25T02:00:00.000Z', end='2022-02-25T03:00:00.000Z', tweet_count=6940), TweetCount(start='2022-02-25T03:00:00.000Z', end='2022-02-25T04:00:00.000Z', tweet_count=9805), TweetCount(start='2022-02-25T04:00:00.000Z', end='2022-02-25T05:00:00.000Z', tweet_count=6520), TweetCount(start='2022-02-25T05:00:00.000Z', end='2022-02-25T06:00:00.000Z', tweet_count=4793), TweetCount(start='2022-02-25T06:00:00.000Z', end='2022-02-25T07:00:00.000Z', tweet_count=3679), TweetCount(start='2022-02-25T07:00:00.000Z', end='2022-02-25T08:00:00.000Z', tweet_count=2864), TweetCount(start='2022-02-25T08:00:00.000Z', end='2022-02-25T09:00:00.000Z', tweet_count=2649), TweetCount(start='2022-02-25T09:00:00.000Z', end='2022-02-25T10:00:00.000Z', tweet_count=2245), TweetCount(start='2022-02-25T10:00:00.000Z', end='2022-02-25T11:00:00.000Z', tweet_count=2142), TweetCount(start='2022-02-25T11:00:00.000Z', end='2022-02-25T12:00:00.000Z', tweet_count=2359), TweetCount(start='2022-02-25T12:00:00.000Z', end='2022-02-25T13:00:00.000Z', tweet_count=2917), TweetCount(start='2022-02-25T13:00:00.000Z', end='2022-02-25T14:00:00.000Z', tweet_count=3983), TweetCount(start='2022-02-25T14:00:00.000Z', end='2022-02-25T15:00:00.000Z', tweet_count=4395), TweetCount(start='2022-02-25T15:00:00.000Z', end='2022-02-25T16:00:00.000Z', tweet_count=5327), TweetCount(start='2022-02-25T16:00:00.000Z', end='2022-02-25T17:00:00.000Z', tweet_count=5312), TweetCount(start='2022-02-25T17:00:00.000Z', end='2022-02-25T18:00:00.000Z', tweet_count=6136), TweetCount(start='2022-02-25T18:00:00.000Z', end='2022-02-25T19:00:00.000Z', tweet_count=5292), TweetCount(start='2022-02-25T19:00:00.000Z', end='2022-02-25T20:00:00.000Z', tweet_count=5598), TweetCount(start='2022-02-25T20:00:00.000Z', end='2022-02-25T21:00:00.000Z', tweet_count=5683), TweetCount(start='2022-02-25T21:00:00.000Z', end='2022-02-25T22:00:00.000Z', tweet_count=5374), TweetCount(start='2022-02-25T22:00:00.000Z', end='2022-02-25T23:00:00.000Z', tweet_count=5654), TweetCount(start='2022-02-25T23:00:00.000Z', end='2022-02-26T00:00:00.000Z', tweet_count=6429), TweetCount(start='2022-02-26T00:00:00.000Z', end='2022-02-26T01:00:00.000Z', tweet_count=6761), TweetCount(start='2022-02-26T01:00:00.000Z', end='2022-02-26T02:00:00.000Z', tweet_count=6427), TweetCount(start='2022-02-26T02:00:00.000Z', end='2022-02-26T03:00:00.000Z', tweet_count=6794), TweetCount(start='2022-02-26T03:00:00.000Z', end='2022-02-26T04:00:00.000Z', tweet_count=6896), TweetCount(start='2022-02-26T04:00:00.000Z', end='2022-02-26T05:00:00.000Z', tweet_count=5615), TweetCount(start='2022-02-26T05:00:00.000Z', end='2022-02-26T06:00:00.000Z', tweet_count=7448), TweetCount(start='2022-02-26T06:00:00.000Z', end='2022-02-26T07:00:00.000Z', tweet_count=4384), TweetCount(start='2022-02-26T07:00:00.000Z', end='2022-02-26T08:00:00.000Z', tweet_count=3138), TweetCount(start='2022-02-26T08:00:00.000Z', end='2022-02-26T09:00:00.000Z', tweet_count=2670), TweetCount(start='2022-02-26T09:00:00.000Z', end='2022-02-26T10:00:00.000Z', tweet_count=1999), TweetCount(start='2022-02-26T10:00:00.000Z', end='2022-02-26T11:00:00.000Z', tweet_count=1688), TweetCount(start='2022-02-26T11:00:00.000Z', end='2022-02-26T12:00:00.000Z', tweet_count=2109), TweetCount(start='2022-02-26T12:00:00.000Z', end='2022-02-26T13:00:00.000Z', tweet_count=2495), TweetCount(start='2022-02-26T13:00:00.000Z', end='2022-02-26T14:00:00.000Z', tweet_count=3014), TweetCount(start='2022-02-26T14:00:00.000Z', end='2022-02-26T15:00:00.000Z', tweet_count=3450), TweetCount(start='2022-02-26T15:00:00.000Z', end='2022-02-26T16:00:00.000Z', tweet_count=3956), TweetCount(start='2022-02-26T16:00:00.000Z', end='2022-02-26T17:00:00.000Z', tweet_count=4851), TweetCount(start='2022-02-26T17:00:00.000Z', end='2022-02-26T18:00:00.000Z', tweet_count=4978), TweetCount(start='2022-02-26T18:00:00.000Z', end='2022-02-26T19:00:00.000Z', tweet_count=4252), TweetCount(start='2022-02-26T19:00:00.000Z', end='2022-02-26T20:00:00.000Z', tweet_count=4674), TweetCount(start='2022-02-26T20:00:00.000Z', end='2022-02-26T21:00:00.000Z', tweet_count=4425), TweetCount(start='2022-02-26T21:00:00.000Z', end='2022-02-26T22:00:00.000Z', tweet_count=4128), TweetCount(start='2022-02-26T22:00:00.000Z', end='2022-02-26T23:00:00.000Z', tweet_count=4489), TweetCount(start='2022-02-26T23:00:00.000Z', end='2022-02-27T00:00:00.000Z', tweet_count=4779), TweetCount(start='2022-02-27T00:00:00.000Z', end='2022-02-27T01:00:00.000Z', tweet_count=4700), TweetCount(start='2022-02-27T01:00:00.000Z', end='2022-02-27T02:00:00.000Z', tweet_count=5337), TweetCount(start='2022-02-27T02:00:00.000Z', end='2022-02-27T02:45:08.000Z', tweet_count=4241)])"
      ]
     },
     "execution_count": 7,
     "metadata": {},
     "output_type": "execute_result"
    }
   ],
   "source": [
    "df"
   ]
  },
  {
   "cell_type": "code",
   "execution_count": 8,
   "metadata": {},
   "outputs": [
    {
     "data": {
      "text/plain": [
       "Response(data=[Tweet(id=1497764861333413888, text=@NBA Live betting https://t.co/4t593zKK7L), Tweet(id=1497764853494259714, text=@NBA Best shooting guard in league), Tweet(id=1497764851086548992, text=@NBA dayum), Tweet(id=1497764848910090241, text=RT @BenStinar: My favorite stat: Steph Curry...), Tweet(id=1497764847471284229, text=SHIT nba streams today jesus christ jut lemme...), Tweet(id=1497764845512499200, text=Ya aminakoyim bu NBA hakemleri ne kadar boktan...), Tweet(id=1497764844006965253, text=@mbeast_gms404 @DScottAlexander @mattbarnessux...), Tweet(id=1497764841620062213, text=There’s not 75 players in the history of the...), Tweet(id=1497764833395191808, text=RT @TheHoopCentral: Goran Dragic is back. 🔥 (📸...), Tweet(id=1497764825379721218, text=@NBA I’m sorry but this isn’t a sport)])"
      ]
     },
     "execution_count": 8,
     "metadata": {},
     "output_type": "execute_result"
    }
   ],
   "source": [
    "df = api.search_tweets(query=\"nba\")\n",
    "df"
   ]
  },
  {
   "cell_type": "code",
   "execution_count": 10,
   "metadata": {},
   "outputs": [],
   "source": [
    "stream_api = StreamApi(bearer_token=os.environ.get(\"bearer_token\"))\n",
    "stream_api.sample_stream()"
   ]
  },
  {
   "cell_type": "code",
   "execution_count": null,
   "metadata": {},
   "outputs": [],
   "source": [
    "stream_api.search_stream()"
   ]
  }
 ],
 "metadata": {
  "interpreter": {
   "hash": "81c6a89d9b91bda76c14e46d4b77530c453739b0f65fa8daf80e192463b63a97"
  },
  "kernelspec": {
   "display_name": "Python 3.8.10 ('python_aws-McJt4gWW')",
   "language": "python",
   "name": "python3"
  },
  "language_info": {
   "codemirror_mode": {
    "name": "ipython",
    "version": 3
   },
   "file_extension": ".py",
   "mimetype": "text/x-python",
   "name": "python",
   "nbconvert_exporter": "python",
   "pygments_lexer": "ipython3",
   "version": "3.8.10"
  },
  "orig_nbformat": 4
 },
 "nbformat": 4,
 "nbformat_minor": 2
}

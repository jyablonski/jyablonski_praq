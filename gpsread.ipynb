{
 "cells": [
  {
   "cell_type": "code",
   "execution_count": 2,
   "metadata": {},
   "outputs": [],
   "source": [
    "import gspread\n",
    "import pandas as pd\n",
    "\n",
    "class ObjectTypeException(BaseException):\n",
    "    pass"
   ]
  },
  {
   "cell_type": "code",
   "execution_count": 15,
   "metadata": {},
   "outputs": [],
   "source": [
    "def store_df_to_sheets(df: pd.DataFrame, url: str, sheet: int, add_cols: bool = True, clear: bool = True):\n",
    "    \"\"\"\n",
    "    Google Sheets Function that inputs a Pandas DataFrame and stores it to a Sheets URL\n",
    "    Must have ~/.config/gpsread/credentials.json OAUTH Token and then run gc = gspread.oauth() once to generate a separate authorize token\n",
    "\n",
    "    Args:\n",
    "        df (pandas DataFrame): The DataFrame you wish to store\n",
    "\n",
    "        url (str): The Google Sheets URL\n",
    "\n",
    "        sheet (int): The index number of the Sheet to write to (starts from 0)\n",
    "\n",
    "        add_cols (bool): Boolean to add column values or not; Defaults to true\n",
    "\n",
    "        clear (bool): Boolean to clear the existing worksheet; Defaults to true\n",
    "\n",
    "    Returns:\n",
    "        None\n",
    "\n",
    "    \"\"\"\n",
    "    gc = gspread.oauth() # do this 1 time and get a saved token forever.\n",
    "    sh = gc.open_by_url(url)\n",
    "\n",
    "    worksheet = sh.get_worksheet(sheet)\n",
    "\n",
    "    if not isinstance(d, pd.DataFrame):\n",
    "        raise ObjectTypeException('Input df object is not a DataFrame!')\n",
    "\n",
    "\n",
    "    if clear == True:\n",
    "        worksheet.clear()\n",
    "    else:\n",
    "        pass\n",
    "\n",
    "    df = df.astype(str)\n",
    "\n",
    "    if add_cols == True:\n",
    "        worksheet.append_rows([df.columns.values.tolist()] + df.values.tolist()) \n",
    "    else:\n",
    "        worksheet.append_rows(df.values.tolist())"
   ]
  },
  {
   "cell_type": "code",
   "execution_count": 17,
   "metadata": {},
   "outputs": [],
   "source": [
    "d = {'col1': [1, 2], 'col2': [3, 4]}\n",
    "d = pd.DataFrame({'col1': [1, 2], 'col2': [3, 4]})\n",
    "sheet_name = 'https://docs.google.com/spreadsheets/d/1mzPUKJBgLoRz1QyqT6KUX4Xm43DlsoMheP4ZVWiKTs4/edit#gid=0'\n",
    "sheet_int = 0\n",
    "\n",
    "store_df_to_sheets(d, sheet_name, sheet_int, add_cols=True, clear=True)"
   ]
  }
 ],
 "metadata": {
  "interpreter": {
   "hash": "81c6a89d9b91bda76c14e46d4b77530c453739b0f65fa8daf80e192463b63a97"
  },
  "kernelspec": {
   "display_name": "Python 3.8.10 ('python_aws-McJt4gWW')",
   "language": "python",
   "name": "python3"
  },
  "language_info": {
   "codemirror_mode": {
    "name": "ipython",
    "version": 3
   },
   "file_extension": ".py",
   "mimetype": "text/x-python",
   "name": "python",
   "nbconvert_exporter": "python",
   "pygments_lexer": "ipython3",
   "version": "3.8.10"
  },
  "orig_nbformat": 4
 },
 "nbformat": 4,
 "nbformat_minor": 2
}

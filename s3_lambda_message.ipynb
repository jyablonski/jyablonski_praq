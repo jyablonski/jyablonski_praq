{
 "cells": [
  {
   "cell_type": "code",
   "execution_count": 1,
   "metadata": {},
   "outputs": [],
   "source": [
    "import json\n",
    "import pandas"
   ]
  },
  {
   "cell_type": "code",
   "execution_count": 7,
   "metadata": {},
   "outputs": [],
   "source": [
    "event = {'Records': [{'messageId': 'cec860dd-d4e7-42d0-b498-897f96091ba3', 'receiptHandle': 'AQEBrGWsuFqFbHdVP7YUAS9hYRTxnT5Dn6JAwwUn+tBCMCesqN9uD9AHrjYvjrwn41tEzHQIQWmXosete0sAREnLvy7ypZoaUsQN1P0e7hjV7jxQyuzvfXFArL1ZfCau1StKBjrF9FU/KwNEhodgVOf65fUDf+7Mjyc9ck0Idw5Fw/LeMbfssSSEEv0PaAUl2i9RaLbWgCTbBKoXpuIqo6sNlIaqRkLb+EApWx8YpLuTmuqMaEVQ9y7ilNwUZzzeccF+cFE2xKtp8TROzH0vRdHvwe+qqbmAl7mzIKputs/Mtwf1D0irIQYUR59A/sQjqM6pYk6kqcu3EA/rW4CgRB0OCP/Accs/62egKbl5bQ7896M3QmavMcNPLEiInPjm8xUWYPwTVe1Be5p8Sm9DHgfUrg==', 'body': '{\\n  \"Type\" : \"Notification\",\\n  \"MessageId\" : \"42cac0a8-78d2-5538-8062-9ac7e27005d3\",\\n  \"TopicArn\" : \"arn:aws:sns:us-east-1:324816727452:jacobs-first-sns-topic\",\\n  \"Subject\" : \"Amazon S3 Notification\",\\n  \"Message\" : \"{\\\\\"Records\\\\\":[{\\\\\"eventVersion\\\\\":\\\\\"2.1\\\\\",\\\\\"eventSource\\\\\":\\\\\"aws:s3\\\\\",\\\\\"awsRegion\\\\\":\\\\\"us-east-1\\\\\",\\\\\"eventTime\\\\\":\\\\\"2022-01-29T19:41:21.818Z\\\\\",\\\\\"eventName\\\\\":\\\\\"ObjectCreated:Put\\\\\",\\\\\"userIdentity\\\\\":{\\\\\"principalId\\\\\":\\\\\"AWS:AIDAUXIEV5WOIUQYHQBBT\\\\\"},\\\\\"requestParameters\\\\\":{\\\\\"sourceIPAddress\\\\\":\\\\\"104.153.228.249\\\\\"},\\\\\"responseElements\\\\\":{\\\\\"x-amz-request-id\\\\\":\\\\\"RG3XZE24HRFBB9D9\\\\\",\\\\\"x-amz-id-2\\\\\":\\\\\"FHT9bxbMOXFwgOYb4aGXZ/HFZOH7/71mxQlfDGm8PgtEgrsnNK3o5oIs4ECQWiWPAGekhqpEjXtUq5M8SiEwmKVrd6389q/b\\\\\"},\\\\\"s3\\\\\":{\\\\\"s3SchemaVersion\\\\\":\\\\\"1.0\\\\\",\\\\\"configurationId\\\\\":\\\\\"tf-s3-topic-20220129191253185400000001\\\\\",\\\\\"bucket\\\\\":{\\\\\"name\\\\\":\\\\\"jacobs-sqs-bucket\\\\\",\\\\\"ownerIdentity\\\\\":{\\\\\"principalId\\\\\":\\\\\"AW1BII1HJZPY1\\\\\"},\\\\\"arn\\\\\":\\\\\"arn:aws:s3:::jacobs-sqs-bucket\\\\\"},\\\\\"object\\\\\":{\\\\\"key\\\\\":\\\\\"reddit_data/reddit_test4.parquet\\\\\",\\\\\"size\\\\\":41741,\\\\\"eTag\\\\\":\\\\\"33d2779d2b675442f010790e46e1d9fd\\\\\",\\\\\"sequencer\\\\\":\\\\\"0061F59861C5B47EC5\\\\\"}}}]}\",\\n  \"Timestamp\" : \"2022-01-29T19:41:22.559Z\",\\n  \"SignatureVersion\" : \"1\",\\n  \"Signature\" : \"CnkPu+rW9jq7pwCIqnBWybHNZQIzb0+uVfHpIav63sZs5xMM/auwc6fj00aUEVKdCBiX4P/onQ5ifk9O715JvhXKqrVB2JdMlKZmgJfhEszJ0NZQyrO5tXHh13Ys5zGyrC+sfWaMvujd156IwiGXh4BgTvJ+VqMt1x8UmQ90c1FQcWdEnw5+UMtJ1K/wzh5TxKM10PWkKF8CrQBFSUstdhJezhinbbhfBIL+ZVOhnG7Cyv5OOPxI6OnipUvmjjS047CB9ntCkMAXX91IEVFGCXoYRd0xWqAW709Q83oCagTaLWmwwWBafugNLjy7pPH3EJGH13m7/cBAsZoGuidikQ==\",\\n  \"SigningCertURL\" : \"https://sns.us-east-1.amazonaws.com/SimpleNotificationService-7ff5318490ec183fbaddaa2a969abfda.pem\",\\n  \"UnsubscribeURL\" : \"https://sns.us-east-1.amazonaws.com/?Action=Unsubscribe&SubscriptionArn=arn:aws:sns:us-east-1:324816727452:jacobs-first-sns-topic:781d5c14-ab92-4751-b132-e4a82e5ddaea\"\\n}', 'attributes': {'ApproximateReceiveCount': '1', 'SentTimestamp': '1643485282592', 'SenderId': 'AIDAIT2UOQQY3AUEKVGXU', 'ApproximateFirstReceiveTimestamp': '1643485282606'}, 'messageAttributes': {}, 'md5OfBody': '505e2c117450deee6f78a5b0cb47dbf7', 'eventSource': 'aws:sqs', 'eventSourceARN': 'arn:aws:sqs:us-east-1:324816727452:jacobs-first-sqs', 'awsRegion': 'us-east-1'}]}\n",
    "\n"
   ]
  },
  {
   "cell_type": "code",
   "execution_count": 45,
   "metadata": {},
   "outputs": [
    {
     "data": {
      "text/plain": [
       "{'eventVersion': '2.1',\n",
       " 'eventSource': 'aws:s3',\n",
       " 'awsRegion': 'us-east-1',\n",
       " 'eventTime': '2022-01-29T19:41:21.818Z',\n",
       " 'eventName': 'ObjectCreated:Put',\n",
       " 'userIdentity': {'principalId': 'AWS:AIDAUXIEV5WOIUQYHQBBT'},\n",
       " 'requestParameters': {'sourceIPAddress': '104.153.228.249'},\n",
       " 'responseElements': {'x-amz-request-id': 'RG3XZE24HRFBB9D9',\n",
       "  'x-amz-id-2': 'FHT9bxbMOXFwgOYb4aGXZ/HFZOH7/71mxQlfDGm8PgtEgrsnNK3o5oIs4ECQWiWPAGekhqpEjXtUq5M8SiEwmKVrd6389q/b'},\n",
       " 's3': {'s3SchemaVersion': '1.0',\n",
       "  'configurationId': 'tf-s3-topic-20220129191253185400000001',\n",
       "  'bucket': {'name': 'jacobs-sqs-bucket',\n",
       "   'ownerIdentity': {'principalId': 'AW1BII1HJZPY1'},\n",
       "   'arn': 'arn:aws:s3:::jacobs-sqs-bucket'},\n",
       "  'object': {'key': 'reddit_data/reddit_test4.parquet',\n",
       "   'size': 41741,\n",
       "   'eTag': '33d2779d2b675442f010790e46e1d9fd',\n",
       "   'sequencer': '0061F59861C5B47EC5'}}}"
      ]
     },
     "execution_count": 45,
     "metadata": {},
     "output_type": "execute_result"
    }
   ],
   "source": [
    "df2 = json.loads(json.loads(event['Records'][0]['body'])['Message'])['Records'][0]\n",
    "df2"
   ]
  },
  {
   "cell_type": "code",
   "execution_count": 48,
   "metadata": {},
   "outputs": [
    {
     "name": "stdout",
     "output_type": "stream",
     "text": [
      "Grabbing Bucket jacobs-sqs-bucket\n",
      "Grabbing key reddit_data/reddit_test4.parquet\n",
      "Grabbing event time 2022-01-29T19:41:21.818Z\n",
      "Sending SES Email\n"
     ]
    }
   ],
   "source": [
    "for s3_event in event['Records']:\n",
    "    df = json.loads(json.loads(s3_event['body'])['Message'])\n",
    "    for s3_record in df['Records']:\n",
    "        bucket = s3_record['s3']['bucket']['name']\n",
    "        print(f\"Grabbing Bucket {bucket}\")\n",
    "\n",
    "        key = s3_record['s3']['object']['key']\n",
    "        print(f\"Grabbing key {key}\")\n",
    "\n",
    "        event_time = s3_record['eventTime']\n",
    "        print(f\"Grabbing event time {event_time}\")\n",
    "\n",
    "        # send_ses_email(key, bucket)\n",
    "        print(f\"Sending SES Email\")"
   ]
  },
  {
   "cell_type": "code",
   "execution_count": 35,
   "metadata": {},
   "outputs": [
    {
     "data": {
      "text/plain": [
       "{'s3SchemaVersion': '1.0',\n",
       " 'configurationId': 'tf-s3-topic-20220129191253185400000001',\n",
       " 'bucket': {'name': 'jacobs-sqs-bucket',\n",
       "  'ownerIdentity': {'principalId': 'AW1BII1HJZPY1'},\n",
       "  'arn': 'arn:aws:s3:::jacobs-sqs-bucket'},\n",
       " 'object': {'key': 'reddit_data/reddit_test4.parquet',\n",
       "  'size': 41741,\n",
       "  'eTag': '33d2779d2b675442f010790e46e1d9fd',\n",
       "  'sequencer': '0061F59861C5B47EC5'}}"
      ]
     },
     "execution_count": 35,
     "metadata": {},
     "output_type": "execute_result"
    }
   ],
   "source": [
    "df['Records'][0]['s3']"
   ]
  },
  {
   "cell_type": "code",
   "execution_count": null,
   "metadata": {},
   "outputs": [],
   "source": [
    "['Records'][0]\n",
    "\n",
    "    bucket = df['s3']['bucket']['name']\n",
    "    key = df['s3']['object']['key']"
   ]
  },
  {
   "cell_type": "code",
   "execution_count": 26,
   "metadata": {},
   "outputs": [
    {
     "data": {
      "text/plain": [
       "{'eventVersion': '2.1',\n",
       " 'eventSource': 'aws:s3',\n",
       " 'awsRegion': 'us-east-1',\n",
       " 'eventTime': '2022-01-29T19:41:21.818Z',\n",
       " 'eventName': 'ObjectCreated:Put',\n",
       " 'userIdentity': {'principalId': 'AWS:AIDAUXIEV5WOIUQYHQBBT'},\n",
       " 'requestParameters': {'sourceIPAddress': '104.153.228.249'},\n",
       " 'responseElements': {'x-amz-request-id': 'RG3XZE24HRFBB9D9',\n",
       "  'x-amz-id-2': 'FHT9bxbMOXFwgOYb4aGXZ/HFZOH7/71mxQlfDGm8PgtEgrsnNK3o5oIs4ECQWiWPAGekhqpEjXtUq5M8SiEwmKVrd6389q/b'},\n",
       " 's3': {'s3SchemaVersion': '1.0',\n",
       "  'configurationId': 'tf-s3-topic-20220129191253185400000001',\n",
       "  'bucket': {'name': 'jacobs-sqs-bucket',\n",
       "   'ownerIdentity': {'principalId': 'AW1BII1HJZPY1'},\n",
       "   'arn': 'arn:aws:s3:::jacobs-sqs-bucket'},\n",
       "  'object': {'key': 'reddit_data/reddit_test4.parquet',\n",
       "   'size': 41741,\n",
       "   'eTag': '33d2779d2b675442f010790e46e1d9fd',\n",
       "   'sequencer': '0061F59861C5B47EC5'}}}"
      ]
     },
     "execution_count": 26,
     "metadata": {},
     "output_type": "execute_result"
    }
   ],
   "source": [
    "json.loads(json.loads(df2[0]['body'])['Message'])['Records'][0]"
   ]
  },
  {
   "cell_type": "code",
   "execution_count": 42,
   "metadata": {},
   "outputs": [
    {
     "data": {
      "text/plain": [
       "{'eventVersion': '2.1',\n",
       " 'eventSource': 'aws:s3',\n",
       " 'awsRegion': 'us-east-1',\n",
       " 'eventTime': '2022-01-29T19:14:39.742Z',\n",
       " 'eventName': 'ObjectCreated:Put',\n",
       " 'userIdentity': {'principalId': 'AWS:AIDAUXIEV5WOIUQYHQBBT'},\n",
       " 'requestParameters': {'sourceIPAddress': '104.153.228.249'},\n",
       " 'responseElements': {'x-amz-request-id': 'DPKYHJJTQK2VGSBA',\n",
       "  'x-amz-id-2': '3z/Tghvc832kOXTWJRPLpFqbMKAkoYYtxOv5ikUtOrO7SUfu2RpzdefxKRAZk2C/BU7mWW8pX1HXTthWgAhrRK5on+OUp1Lc'},\n",
       " 's3': {'s3SchemaVersion': '1.0',\n",
       "  'configurationId': 'tf-s3-topic-20220129191253185400000001',\n",
       "  'bucket': {'name': 'jacobs-sqs-bucket',\n",
       "   'ownerIdentity': {'principalId': 'AW1BII1HJZPY1'},\n",
       "   'arn': 'arn:aws:s3:::jacobs-sqs-bucket'},\n",
       "  'object': {'key': 'reddit_data/reddit_data-test2.parquet',\n",
       "   'size': 41741,\n",
       "   'eTag': '33d2779d2b675442f010790e46e1d9fd',\n",
       "   'sequencer': '0061F5921FA7DB87AB'}}}"
      ]
     },
     "execution_count": 42,
     "metadata": {},
     "output_type": "execute_result"
    }
   ],
   "source": [
    "json.loads(json.loads(df['body'])['Message'])['Records'][0]"
   ]
  },
  {
   "cell_type": "code",
   "execution_count": 18,
   "metadata": {},
   "outputs": [],
   "source": [
    "import requests\n",
    "df = requests.get(f\"https://fgvdktt1h3.execute-api.us-east-1.amazonaws.com/Dev/products\")\n",
    "df.status_code\n",
    "df_json = df.content"
   ]
  },
  {
   "cell_type": "code",
   "execution_count": 19,
   "metadata": {},
   "outputs": [],
   "source": [
    "df.status_code\n",
    "df_json = df.content"
   ]
  }
 ],
 "metadata": {
  "interpreter": {
   "hash": "51acfa6005ffec5e74e71d844e0daa05d24ac78244a0bb1b7874b497027552e7"
  },
  "kernelspec": {
   "display_name": "Python 3.8.8 64-bit ('base': conda)",
   "language": "python",
   "name": "python3"
  },
  "language_info": {
   "codemirror_mode": {
    "name": "ipython",
    "version": 3
   },
   "file_extension": ".py",
   "mimetype": "text/x-python",
   "name": "python",
   "nbconvert_exporter": "python",
   "pygments_lexer": "ipython3",
   "version": "3.8.8"
  },
  "orig_nbformat": 4
 },
 "nbformat": 4,
 "nbformat_minor": 2
}

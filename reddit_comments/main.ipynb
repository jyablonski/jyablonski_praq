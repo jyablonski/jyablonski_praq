{
 "cells": [
  {
   "cell_type": "code",
   "execution_count": 15,
   "metadata": {},
   "outputs": [],
   "source": [
    "from datetime import datetime\n",
    "import os\n",
    "\n",
    "import numpy as np\n",
    "import pandas as pd \n",
    "import praw\n",
    "\n",
    "# add comment_id, permalink, and parent_id for next season update.\n",
    "# then make a boolean is_reply column to identify if it's a top level comment or a reply to one."
   ]
  },
  {
   "cell_type": "code",
   "execution_count": 3,
   "metadata": {},
   "outputs": [
    {
     "name": "stderr",
     "output_type": "stream",
     "text": [
      "Version 7.5.0 of praw is outdated. Version 7.6.0 was released 7 days ago.\n"
     ]
    }
   ],
   "source": [
    "reddit = praw.Reddit(\n",
    "    client_id=os.environ.get(\"reddit_accesskey\"),\n",
    "    client_secret=os.environ.get(\"reddit_secretkey\"),\n",
    "    user_agent=\"praw-app\",\n",
    "    username=os.environ.get(\"reddit_user\"),\n",
    "    password=os.environ.get(\"reddit_pw\"),\n",
    ")"
   ]
  },
  {
   "cell_type": "code",
   "execution_count": 24,
   "metadata": {},
   "outputs": [],
   "source": [
    "url = 'https://www.reddit.com/r/nba/comments/urooxu/robb_celticsbucks_game_7_was_the_most_watched/'\n",
    "author_list = []\n",
    "comment_list = []\n",
    "score_list = []\n",
    "flair_list1 = []\n",
    "flair_list2 = []\n",
    "edited_list = []\n",
    "url_list = []\n",
    "comment_id = []\n",
    "parent_id = []\n",
    "permalink = []"
   ]
  },
  {
   "cell_type": "code",
   "execution_count": 25,
   "metadata": {},
   "outputs": [],
   "source": [
    "submission = reddit.submission(url=url)\n",
    "submission.comments.replace_more(limit=None)\n",
    "for comment in submission.comments.list():\n",
    "    author_list.append(comment.author)\n",
    "    comment_list.append(comment.body)\n",
    "    score_list.append(comment.score)\n",
    "    flair_list1.append(comment.author_flair_css_class)\n",
    "    flair_list2.append(comment.author_flair_text)\n",
    "    edited_list.append(comment.edited)\n",
    "    url_list.append(url)\n",
    "    comment_id.append(comment.id)\n",
    "    parent_id.append(comment.parent_id)\n",
    "    permalink.append(comment.permalink)\n",
    "\n",
    "df = pd.DataFrame(\n",
    "    {\n",
    "        \"author\": author_list,\n",
    "        \"comment\": comment_list,\n",
    "        \"score\": score_list,\n",
    "        \"url\": url_list,\n",
    "        \"flair1\": flair_list1,\n",
    "        \"flair2\": flair_list2,\n",
    "        \"edited\": edited_list,\n",
    "        \"comment_id\": comment_id,\n",
    "        \"parent_id\": parent_id,\n",
    "        \"permalink\": permalink,\n",
    "        \"scrape_date\": datetime.now().date(),\n",
    "        \"scrape_ts\": datetime.now(),\n",
    "    }\n",
    ")\n",
    "\n",
    "df = df.astype({\"author\": str})\n",
    "df['is_reply'] = df['parent_id'].apply(lambda x: 1 if x.startswith('t3') else 0) #top level comments start with t3"
   ]
  },
  {
   "cell_type": "code",
   "execution_count": 22,
   "metadata": {},
   "outputs": [],
   "source": [
    "df2 = df.copy()\n",
    "df2['is_reply'] = df2['parent_id'].apply(lambda x: 1 if x.startswith('t3') else 0)"
   ]
  }
 ],
 "metadata": {
  "interpreter": {
   "hash": "51acfa6005ffec5e74e71d844e0daa05d24ac78244a0bb1b7874b497027552e7"
  },
  "kernelspec": {
   "display_name": "Python 3.8.8 ('base')",
   "language": "python",
   "name": "python3"
  },
  "language_info": {
   "codemirror_mode": {
    "name": "ipython",
    "version": 3
   },
   "file_extension": ".py",
   "mimetype": "text/x-python",
   "name": "python",
   "nbconvert_exporter": "python",
   "pygments_lexer": "ipython3",
   "version": "3.8.8"
  },
  "orig_nbformat": 4
 },
 "nbformat": 4,
 "nbformat_minor": 2
}

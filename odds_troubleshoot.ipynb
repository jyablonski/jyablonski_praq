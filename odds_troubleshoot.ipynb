{
 "cells": [
  {
   "cell_type": "code",
   "execution_count": 3,
   "metadata": {},
   "outputs": [],
   "source": [
    "import os\n",
    "import sys\n",
    "from datetime import datetime, timezone, timedelta\n",
    "from urllib.request import urlopen\n",
    "import logging\n",
    "from bs4 import BeautifulSoup\n",
    "from sqlalchemy import exc, create_engine\n",
    "import pymysql\n",
    "import numpy as np\n",
    "import pandas as pd\n",
    "import boto3\n",
    "from botocore.exceptions import ClientError\n",
    "\n",
    "logging.basicConfig(filename='example.log', level=logging.DEBUG, format='%(asctime)s %(message)s', datefmt='%m/%d/%Y %I:%M:%S %p')\n",
    "logging.info('Starting Logging Function')\n",
    "\n",
    "today = datetime.now().date()\n",
    "yesterday = today - timedelta(1)\n",
    "day = (datetime.now() - timedelta(1)).day\n",
    "month = (datetime.now() - timedelta(1)).month\n",
    "year = (datetime.now() - timedelta(1)).year\n",
    "season_type = 'Regular Season'\n"
   ]
  },
  {
   "cell_type": "code",
   "execution_count": 10,
   "metadata": {},
   "outputs": [],
   "source": [
    "def sql_connection():\n",
    "    try:\n",
    "        connection = create_engine('postgresql+psycopg2://' + os.environ.get('RDS_USER') + ':' + os.environ.get('RDS_PW') + '@' + os.environ.get('IP') + ':' + '5432' + '/' + os.environ.get('RDS_DB'),\n",
    "                                    connect_args = {'options': '-csearch_path=nba_source'}, # defining schema to connect to\n",
    "                     echo = False)\n",
    "        logging.info('SQL Connection Successful')\n",
    "        print('SQL Connection Successful')\n",
    "        return(connection)\n",
    "    except exc.SQLAlchemyError as e:\n",
    "        logging.info('SQL Connection Failed, Error:', e)\n",
    "        print('SQL Connection Failed, Error:', e)\n",
    "        return(e)"
   ]
  },
  {
   "cell_type": "code",
   "execution_count": 11,
   "metadata": {},
   "outputs": [
    {
     "name": "stdout",
     "output_type": "stream",
     "text": [
      "SQL Connection Successful\n"
     ]
    }
   ],
   "source": [
    "conn = sql_connection()"
   ]
  },
  {
   "cell_type": "code",
   "execution_count": 1,
   "metadata": {},
   "outputs": [],
   "source": [
    "def get_odds():\n",
    "    \"\"\"\n",
    "    Web Scrape function w/ pandas read_html that grabs current day's nba odds\n",
    "    Args:\n",
    "        None\n",
    "    Returns:\n",
    "        Pandas DataFrame of NBA moneyline + spread odds for upcoming games for that day\n",
    "    \"\"\"\n",
    "    try:\n",
    "        url = \"https://sportsbook.draftkings.com/leagues/basketball/88670846?category=game-lines&subcategory=game\"\n",
    "        df = pd.read_html(url)\n",
    "\n",
    "        data1 = df[0].copy()\n",
    "        date_try = str(year) + \" \" + data1.columns[0]\n",
    "        data1['date'] = np.where(date_try == '2021 Today', datetime.now().date(), str(year) + \" \" + data1.columns[0])\n",
    "        # date_try = pd.to_datetime(date_try, errors=\"coerce\", format=\"%Y %a %b %dth\")\n",
    "        date_try = data1['date'].iloc[0]\n",
    "        data1.columns.values[0] = \"Today\"\n",
    "        data1.reset_index(drop=True)\n",
    "        data1['Today'] = data1['Today'].str.replace(\"LA Clippers\", \"LAC Clippers\", regex = True)\n",
    "        data1[\"Today\"] = data1[\"Today\"].str.replace(\"AM\", \"AM \", regex=True)\n",
    "        data1[\"Today\"] = data1[\"Today\"].str.replace(\"PM\", \"PM \", regex=True)\n",
    "        data1[\"Time\"] = data1[\"Today\"].str.split().str[0]\n",
    "        data1[\"datetime1\"] = pd.to_datetime(date_try.strftime(\"%Y-%m-%d\") + \" \" + data1[\"Time\"]\n",
    "        ) - timedelta(hours=5)\n",
    "\n",
    "        data2 = df[1].copy()\n",
    "        data2.columns.values[0] = \"Today\"\n",
    "        data2.reset_index(drop=True)\n",
    "        data2['Today'] = data2['Today'].str.replace(\"LA Clippers\", \"LAC Clippers\", regex = True)\n",
    "        data2[\"Today\"] = data2[\"Today\"].str.replace(\"AM\", \"AM \", regex=True)\n",
    "        data2[\"Today\"] = data2[\"Today\"].str.replace(\"PM\", \"PM \", regex=True)\n",
    "        data2[\"Time\"] = data2[\"Today\"].str.split().str[0]\n",
    "        data2[\"datetime1\"] = (\n",
    "            pd.to_datetime(date_try.strftime(\"%Y-%m-%d\") + \" \" + data2[\"Time\"])\n",
    "            - timedelta(hours=5)\n",
    "            + timedelta(days=1)\n",
    "        )\n",
    "        data2[\"date\"] = data2[\"datetime1\"].dt.date\n",
    "\n",
    "        data = data1.append(data2).reset_index(drop=True)\n",
    "        data[\"SPREAD\"] = data[\"SPREAD\"].str[:-4]\n",
    "        data[\"TOTAL\"] = data[\"TOTAL\"].str[:-4]\n",
    "        data[\"TOTAL\"] = data[\"TOTAL\"].str[2:]\n",
    "        data[\"Today\"] = data[\"Today\"].str.split().str[1:2]\n",
    "        data[\"Today\"] = pd.DataFrame(\n",
    "            [str(line).strip(\"[\").strip(\"]\").replace(\"'\", \"\") for line in data[\"Today\"]]\n",
    "        )\n",
    "        data[\"SPREAD\"] = data[\"SPREAD\"].str.replace(\"pk\", \"-1\", regex=True)\n",
    "        data[\"SPREAD\"] = data[\"SPREAD\"].str.replace(\"+\", \"\", regex=True)\n",
    "        data.columns = data.columns.str.lower()\n",
    "        data = data[[\"today\", \"spread\", \"total\", \"moneyline\", \"date\", \"datetime1\"]]\n",
    "        data = data.rename(columns={data.columns[0]: \"team\"})\n",
    "        data = data.query(\"date == date.min()\")  # only grab games from upcoming day\n",
    "        logging.info(f\"Odds Function Successful, retrieving {len(data)} rows\")\n",
    "        print(f\"Odds Function Successful, retrieving {len(data)} rows\")\n",
    "        return data\n",
    "    except ValueError:\n",
    "        logging.info(\"Odds Function Failed for Today's Games\")\n",
    "        print(\"Odds Function Failed for Today's Games\")\n",
    "        data = []\n",
    "        return data"
   ]
  },
  {
   "cell_type": "code",
   "execution_count": 4,
   "metadata": {},
   "outputs": [
    {
     "name": "stdout",
     "output_type": "stream",
     "text": [
      "Odds Function Successful, retrieving 6 rows\n"
     ]
    }
   ],
   "source": [
    "df = get_odds()"
   ]
  },
  {
   "cell_type": "code",
   "execution_count": 9,
   "metadata": {},
   "outputs": [],
   "source": [
    "df2 = df.query('team == \"LAC\"')"
   ]
  },
  {
   "cell_type": "code",
   "execution_count": 12,
   "metadata": {},
   "outputs": [],
   "source": [
    "df2.to_sql(con = conn, name = \"aws_odds_source\", if_exists = 'append', index = False)"
   ]
  },
  {
   "cell_type": "code",
   "execution_count": 14,
   "metadata": {},
   "outputs": [],
   "source": [
    "url = \"https://sportsbook.draftkings.com/leagues/basketball/88670846?category=game-lines&subcategory=game\"\n",
    "df = pd.read_html(url)"
   ]
  },
  {
   "cell_type": "code",
   "execution_count": 15,
   "metadata": {},
   "outputs": [],
   "source": [
    "data2 = df[1]\n",
    "data2.columns.values[0] = \"Today\"\n",
    "data3 = data2.copy()\n",
    "data3 = data3.reset_index()\n",
    "data3['Today'] = data3['Today'].str.replace(\"PM\", \"PM \", regex = True)"
   ]
  },
  {
   "cell_type": "code",
   "execution_count": 28,
   "metadata": {},
   "outputs": [],
   "source": [
    "url = \"https://sportsbook.draftkings.com/leagues/basketball/88670846?category=game-lines&subcategory=game\"\n",
    "df = pd.read_html(url)\n",
    "data1 = df[0].copy()\n",
    "date_try = str(year) + \" \" + data1.columns[0]\n",
    "data1['date'] = np.where(date_try == '2021 Today', datetime.now().date(), str(year) + \" \" + data1.columns[0])\n",
    "# date_try = pd.to_datetime(date_try, errors=\"coerce\", format=\"%Y %a %b %dth\")\n",
    "date_try = data1['date'].iloc[0]\n",
    "data1.columns.values[0] = \"Today\"\n",
    "data1.reset_index(drop=True)\n",
    "data1[\"Today\"] = data1[\"Today\"].str.replace(\"AM\", \"AM \", regex=True)\n",
    "data1[\"Today\"] = data1[\"Today\"].str.replace(\"PM\", \"PM \", regex=True)\n",
    "data1[\"Time\"] = data1[\"Today\"].str.split().str[0]\n",
    "data1[\"datetime1\"] = pd.to_datetime(date_try.strftime(\"%Y-%m-%d\") + \" \" + data1[\"Time\"]\n",
    ") - timedelta(hours=5)"
   ]
  },
  {
   "cell_type": "code",
   "execution_count": 27,
   "metadata": {},
   "outputs": [],
   "source": [
    "date_try = data1['date'].iloc[0]"
   ]
  },
  {
   "cell_type": "code",
   "execution_count": 33,
   "metadata": {},
   "outputs": [],
   "source": [
    "url = \"https://sportsbook.draftkings.com/leagues/basketball/88670846?category=game-lines&subcategory=game\"\n",
    "df = pd.read_html(url)\n",
    "\n",
    "data1 = df[0].copy()\n",
    "date_try = str(year) + \" \" + data1.columns[0]\n",
    "data1['date'] = np.where(date_try == '2021 Today', datetime.now().date(), str(year) + \" \" + data1.columns[0])\n",
    "# date_try = pd.to_datetime(date_try, errors=\"coerce\", format=\"%Y %a %b %dth\")\n",
    "date_try = data1['date'].iloc[0]\n",
    "data1.columns.values[0] = \"Today\"\n",
    "data1.reset_index(drop=True)\n",
    "data1[\"Today\"] = data1[\"Today\"].str.replace(\"AM\", \"AM \", regex=True)\n",
    "data1[\"Today\"] = data1[\"Today\"].str.replace(\"PM\", \"PM \", regex=True)\n",
    "data1[\"Time\"] = data1[\"Today\"].str.split().str[0]\n",
    "data1[\"datetime1\"] = pd.to_datetime(date_try.strftime(\"%Y-%m-%d\") + \" \" + data1[\"Time\"]\n",
    ") - timedelta(hours=5)\n",
    "\n",
    "data2 = df[1].copy()\n",
    "data2.columns.values[0] = \"Today\"\n",
    "data2.reset_index(drop=True)\n",
    "data2[\"Today\"] = data2[\"Today\"].str.replace(\"AM\", \"AM \", regex=True)\n",
    "data2[\"Today\"] = data2[\"Today\"].str.replace(\"PM\", \"PM \", regex=True)\n",
    "data2[\"Time\"] = data2[\"Today\"].str.split().str[0]\n",
    "data2[\"datetime1\"] = (\n",
    "    pd.to_datetime(date_try.strftime(\"%Y-%m-%d\") + \" \" + data2[\"Time\"])\n",
    "    - timedelta(hours=5)\n",
    "    + timedelta(days=1)\n",
    ")\n",
    "data2[\"date\"] = data2[\"datetime1\"].dt.date\n",
    "\n",
    "data = data1.append(data2).reset_index(drop=True)\n",
    "data[\"SPREAD\"] = data[\"SPREAD\"].str[:-4]\n",
    "data[\"TOTAL\"] = data[\"TOTAL\"].str[:-4]\n",
    "data[\"TOTAL\"] = data[\"TOTAL\"].str[2:]\n",
    "data[\"Today\"] = data[\"Today\"].str.split().str[1:2]\n",
    "data[\"Today\"] = pd.DataFrame(\n",
    "    [str(line).strip(\"[\").strip(\"]\").replace(\"'\", \"\") for line in data[\"Today\"]]\n",
    ")\n",
    "data[\"SPREAD\"] = data[\"SPREAD\"].str.replace(\"pk\", \"-1\", regex=True)\n",
    "data[\"SPREAD\"] = data[\"SPREAD\"].str.replace(\"+\", \"\", regex=True)\n",
    "data.columns = data.columns.str.lower()\n",
    "data = data[[\"today\", \"spread\", \"total\", \"moneyline\", \"date\", \"datetime1\"]]\n",
    "data = data.rename(columns={data.columns[0]: \"team\"})\n",
    "data = data.query(\"date == date.min()\")  # only grab games from upcoming day"
   ]
  }
 ],
 "metadata": {
  "interpreter": {
   "hash": "51acfa6005ffec5e74e71d844e0daa05d24ac78244a0bb1b7874b497027552e7"
  },
  "kernelspec": {
   "display_name": "Python 3.8.8 64-bit ('base': conda)",
   "name": "python3"
  },
  "language_info": {
   "codemirror_mode": {
    "name": "ipython",
    "version": 3
   },
   "file_extension": ".py",
   "mimetype": "text/x-python",
   "name": "python",
   "nbconvert_exporter": "python",
   "pygments_lexer": "ipython3",
   "version": "3.8.8"
  },
  "orig_nbformat": 4
 },
 "nbformat": 4,
 "nbformat_minor": 2
}

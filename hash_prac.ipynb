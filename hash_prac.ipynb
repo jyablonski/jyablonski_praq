{
 "cells": [
  {
   "cell_type": "code",
   "execution_count": 1,
   "metadata": {},
   "outputs": [],
   "source": [
    "import pandas as pd\n",
    "import hashlib"
   ]
  },
  {
   "cell_type": "code",
   "execution_count": 3,
   "metadata": {},
   "outputs": [
    {
     "name": "stdout",
     "output_type": "stream",
     "text": [
      "c0970ea1df4d1a25fc9f348f6d363f295152373adb42d2b27e9200cf87eeaf12\n",
      "eb208b23f0346076caf34cabd5e1022291e9753e81f7b06c8d4e6cb5f141465ac976fedaf1ba39e8c1c9df25e951a8c6786d1031da1cb66be269df7744df113e\n",
      "bdaedee1ebed8d9cc6670892fa01b415\n"
     ]
    }
   ],
   "source": [
    "# encode turns text into bytes (string into binary)\n",
    "# decode turns bytes into text (binary into string)\n",
    "\n",
    "df = 'teststring123'\n",
    "df = df.encode('utf-8') # have to encode before hashing\n",
    "df_sha256_hash = hashlib.sha256(df).hexdigest() # 64 chars\n",
    "df_sha512_hash = hashlib.sha512(df).hexdigest() # 128 chars\n",
    "df_md5_hash = hashlib.md5(df).hexdigest()       # 32 chars\n",
    "print(df_sha256_hash)\n",
    "print(df_sha512_hash)\n",
    "print(df_md5_hash)"
   ]
  }
 ],
 "metadata": {
  "interpreter": {
   "hash": "81c6a89d9b91bda76c14e46d4b77530c453739b0f65fa8daf80e192463b63a97"
  },
  "kernelspec": {
   "display_name": "Python 3.8.10 64-bit ('python_aws-McJt4gWW': pipenv)",
   "language": "python",
   "name": "python3"
  },
  "language_info": {
   "codemirror_mode": {
    "name": "ipython",
    "version": 3
   },
   "file_extension": ".py",
   "mimetype": "text/x-python",
   "name": "python",
   "nbconvert_exporter": "python",
   "pygments_lexer": "ipython3",
   "version": "3.8.10"
  },
  "orig_nbformat": 4
 },
 "nbformat": 4,
 "nbformat_minor": 2
}

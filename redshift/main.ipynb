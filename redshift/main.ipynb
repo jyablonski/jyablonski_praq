{
 "cells": [
  {
   "cell_type": "code",
   "execution_count": 1,
   "metadata": {},
   "outputs": [],
   "source": [
    "from datetime import datetime\n",
    "import os\n",
    "\n",
    "import pandas as pd\n",
    "import redshift_connector\n",
    "from redshift_auto_schema import RedshiftAutoSchema"
   ]
  },
  {
   "cell_type": "code",
   "execution_count": 2,
   "metadata": {},
   "outputs": [],
   "source": [
    "redshift_conn = redshift_connector.connect(\n",
    "     host='jyablonski-test-cluster.c0d1rid7802w.us-east-1.redshift.amazonaws.com',\n",
    "     database='dev',\n",
    "     user=\"jacob\",\n",
    "     password=os.environ.get('redshift_password')\n",
    ")\n",
    "redshift_conn.autocommit = True"
   ]
  },
  {
   "cell_type": "code",
   "execution_count": 3,
   "metadata": {},
   "outputs": [
    {
     "name": "stderr",
     "output_type": "stream",
     "text": [
      "/home/jacob/anaconda3/lib/python3.8/site-packages/redshift_auto_schema/RedshiftAutoSchema.py:233: FutureWarning: The default value of regex will change from True to False in a future version. In addition, single character regular expressions will *not* be treated as literal strings when regex=True.\n",
      "  self.file_df.columns = self.file_df.columns.str.replace(\".\", \"_\")\n"
     ]
    }
   ],
   "source": [
    "new_table = RedshiftAutoSchema(file='boxscores.parquet',\n",
    "                               schema='nba_prod',\n",
    "                               table='boxscores',\n",
    "                               conn=redshift_conn)\n",
    "\n",
    "ddl = new_table.generate_table_ddl()\n",
    "\n",
    "with redshift_conn.cursor() as cur:\n",
    "    cur.execute(ddl)\n",
    "\n",
    "# with redshift_conn.cursor() as cur:\n",
    "#     cur.execute(ddl)"
   ]
  }
 ],
 "metadata": {
  "kernelspec": {
   "display_name": "base",
   "language": "python",
   "name": "python3"
  },
  "language_info": {
   "codemirror_mode": {
    "name": "ipython",
    "version": 3
   },
   "file_extension": ".py",
   "mimetype": "text/x-python",
   "name": "python",
   "nbconvert_exporter": "python",
   "pygments_lexer": "ipython3",
   "version": "3.8.8"
  },
  "orig_nbformat": 4,
  "vscode": {
   "interpreter": {
    "hash": "51acfa6005ffec5e74e71d844e0daa05d24ac78244a0bb1b7874b497027552e7"
   }
  }
 },
 "nbformat": 4,
 "nbformat_minor": 2
}

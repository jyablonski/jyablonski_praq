{
 "cells": [
  {
   "cell_type": "code",
   "execution_count": 11,
   "metadata": {},
   "outputs": [],
   "source": [
    "import os\n",
    "from slack_sdk import WebClient\n",
    "from slack_sdk.errors import SlackApiError\n",
    "from datetime import datetime\n",
    "\n",
    "# create an app and go to Features -> oauth & permissions under your apps and use the bot auth token with scopes to send messages.\n",
    "# channel id is to the right of the channel name at the top left dropdown menu of slack\n",
    "\n",
    "CHANNEL_ID = os.getenv(\"slack_channel_id\") # starts with CO####\n",
    "SLACK_TOKEN = os.getenv(\"slack_token\")     # starts with xoxb"
   ]
  },
  {
   "cell_type": "code",
   "execution_count": 5,
   "metadata": {},
   "outputs": [],
   "source": [
    "client = WebClient(token=SLACK_TOKEN)\n",
    "message_text = f\"Test Run :large_green_circle: Task Success :red_circle: <br> <br>Task Fail!!\""
   ]
  },
  {
   "cell_type": "code",
   "execution_count": 13,
   "metadata": {},
   "outputs": [],
   "source": [
    "message_text = f\"\"\"\n",
    "Test Run at {datetime.now()}\n",
    "\n",
    ":large_green_circle: Task Success \n",
    "\n",
    ":red_circle: Task Fail!!\n",
    "\n",
    "\"\"\"\n",
    "try:\n",
    "    response = client.chat_postMessage(\n",
    "        channel=CHANNEL_ID,\n",
    "        text=message_text\n",
    "    )\n",
    "except SlackApiError as e:\n",
    "    print(e)\n",
    "    assert e.response[\"error\"]"
   ]
  }
 ],
 "metadata": {
  "interpreter": {
   "hash": "81c6a89d9b91bda76c14e46d4b77530c453739b0f65fa8daf80e192463b63a97"
  },
  "kernelspec": {
   "display_name": "Python 3.8.10 ('python_aws-McJt4gWW')",
   "language": "python",
   "name": "python3"
  },
  "language_info": {
   "codemirror_mode": {
    "name": "ipython",
    "version": 3
   },
   "file_extension": ".py",
   "mimetype": "text/x-python",
   "name": "python",
   "nbconvert_exporter": "python",
   "pygments_lexer": "ipython3",
   "version": "3.8.10"
  },
  "orig_nbformat": 4
 },
 "nbformat": 4,
 "nbformat_minor": 2
}

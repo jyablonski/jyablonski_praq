{
 "cells": [
  {
   "cell_type": "code",
   "execution_count": 1,
   "metadata": {},
   "outputs": [],
   "source": [
    "import os\n",
    "import sys\n",
    "from datetime import datetime, timezone, timedelta\n",
    "from urllib.request import urlopen\n",
    "from urllib.error import HTTPError\n",
    "import logging\n",
    "from bs4 import BeautifulSoup\n",
    "from sqlalchemy import exc, create_engine\n",
    "import pymysql\n",
    "import numpy as np\n",
    "import pandas as pd\n",
    "import boto3\n",
    "from botocore.exceptions import ClientError"
   ]
  },
  {
   "cell_type": "code",
   "execution_count": 2,
   "metadata": {},
   "outputs": [],
   "source": [
    "def get_contracts():\n",
    "    df = pd.read_html('https://www.basketball-reference.com/contracts/players.html', header = 1)[0]\n",
    "    df = df.rename(columns={df.columns[2]: 'team', df.columns[3]: 'season_salary'})\n",
    "    df = df[['Player', 'team', 'season_salary']]\n",
    "    df.columns = df.columns.str.lower()\n",
    "    df = df.drop_duplicates()\n",
    "    df = df.query('season_salary != \"Salary\" & season_salary != \"2021-22\"').reset_index()\n",
    "    df['season_salary'] = df['season_salary'].str.replace(',', \"\", regex = True)\n",
    "    df['season_salary'] = df['season_salary'].str.replace('$', \"\", regex = True)\n",
    "    df['team'] = df['team'].str.replace(\"PHO\", \"PHX\")\n",
    "    df['team'] = df['team'].str.replace(\"CHO\", \"CHA\")\n",
    "    df['team'] = df['team'].str.replace(\"BRK\", \"BKN\")\n",
    "    df['season_salary'] = pd.to_numeric(df['season_salary'])\n",
    "    df['player'] = df['player'].str.normalize('NFKD').str.encode('ascii', errors = 'ignore').str.decode('utf-8')\n",
    "    df = df.reset_index(drop = True)\n",
    "    return(df)"
   ]
  },
  {
   "cell_type": "code",
   "execution_count": 3,
   "metadata": {},
   "outputs": [],
   "source": [
    "df = get_contracts()"
   ]
  },
  {
   "cell_type": "code",
   "execution_count": 5,
   "metadata": {},
   "outputs": [
    {
     "data": {
      "text/plain": [
       "472"
      ]
     },
     "execution_count": 5,
     "metadata": {},
     "output_type": "execute_result"
    }
   ],
   "source": [
    "len(df.columns) # assert len # of columns\n",
    "len(df)         # assert len of the # rows in df"
   ]
  },
  {
   "cell_type": "code",
   "execution_count": 7,
   "metadata": {},
   "outputs": [],
   "source": [
    "df = pd.read_html('https://www.basketball-reference.com/contracts/players.html', header = 1)[0]"
   ]
  },
  {
   "cell_type": "code",
   "execution_count": 8,
   "metadata": {},
   "outputs": [],
   "source": [
    "df.to_csv('pytest_contracts.csv')"
   ]
  },
  {
   "cell_type": "code",
   "execution_count": 9,
   "metadata": {},
   "outputs": [],
   "source": [
    "df = pd.read_csv('new_test/tests/fixture_csv/contracts.csv')"
   ]
  },
  {
   "cell_type": "code",
   "execution_count": 10,
   "metadata": {},
   "outputs": [],
   "source": [
    "df = df.rename(columns={df.columns[3]: 'team', df.columns[4]: 'season_salary'})\n",
    "df = df[['Player', 'team', 'season_salary']]\n",
    "df.columns = df.columns.str.lower()\n",
    "df = df.drop_duplicates()\n",
    "df = df.query('season_salary != \"Salary\" & season_salary != \"2021-22\"').reset_index()\n",
    "df['season_salary'] = df['season_salary'].str.replace(',', \"\", regex = True)\n",
    "df['season_salary'] = df['season_salary'].str.replace('$', \"\", regex = True)\n",
    "df['team'] = df['team'].str.replace(\"PHO\", \"PHX\")\n",
    "df['team'] = df['team'].str.replace(\"CHO\", \"CHA\")\n",
    "df['team'] = df['team'].str.replace(\"BRK\", \"BKN\")\n",
    "df['season_salary'] = pd.to_numeric(df['season_salary'])\n",
    "df['player'] = df['player'].str.normalize('NFKD').str.encode('ascii', errors = 'ignore').str.decode('utf-8')\n",
    "df = df.reset_index(drop = True)"
   ]
  },
  {
   "cell_type": "code",
   "execution_count": 17,
   "metadata": {},
   "outputs": [
    {
     "ename": "NameError",
     "evalue": "name '__file__' is not defined",
     "output_type": "error",
     "traceback": [
      "\u001b[0;31m---------------------------------------------------------------------------\u001b[0m",
      "\u001b[0;31mNameError\u001b[0m                                 Traceback (most recent call last)",
      "\u001b[0;32m<ipython-input-17-b1d432ea2e61>\u001b[0m in \u001b[0;36m<module>\u001b[0;34m\u001b[0m\n\u001b[0;32m----> 1\u001b[0;31m \u001b[0mos\u001b[0m\u001b[0;34m.\u001b[0m\u001b[0mpath\u001b[0m\u001b[0;34m.\u001b[0m\u001b[0mdirname\u001b[0m\u001b[0;34m(\u001b[0m\u001b[0m__file__\u001b[0m\u001b[0;34m)\u001b[0m\u001b[0;34m\u001b[0m\u001b[0;34m\u001b[0m\u001b[0m\n\u001b[0m",
      "\u001b[0;31mNameError\u001b[0m: name '__file__' is not defined"
     ]
    }
   ],
   "source": []
  }
 ],
 "metadata": {
  "interpreter": {
   "hash": "51acfa6005ffec5e74e71d844e0daa05d24ac78244a0bb1b7874b497027552e7"
  },
  "kernelspec": {
   "display_name": "Python 3.8.8 64-bit ('base': conda)",
   "name": "python3"
  },
  "language_info": {
   "codemirror_mode": {
    "name": "ipython",
    "version": 3
   },
   "file_extension": ".py",
   "mimetype": "text/x-python",
   "name": "python",
   "nbconvert_exporter": "python",
   "pygments_lexer": "ipython3",
   "version": "3.8.8"
  },
  "orig_nbformat": 4
 },
 "nbformat": 4,
 "nbformat_minor": 2
}

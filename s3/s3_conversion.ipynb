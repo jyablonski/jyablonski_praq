{
 "cells": [
  {
   "cell_type": "code",
   "execution_count": 1,
   "metadata": {},
   "outputs": [],
   "source": [
    "import pandas as pd\n",
    "import boto3\n",
    "import awswrangler as wr\n",
    "from datetime import datetime\n",
    "from sqlalchemy import exc, create_engine\n",
    "from sqlalchemy.engine.base import Engine\n",
    "import os\n",
    "\n",
    "possible_buckets = ['adv_stats', 'boxscores', 'injury_data', 'odds', 'opp_stats', 'pbp_data', 'reddit_comment_data', 'reddit_data', 'schedule', 'shooting_stats', 'stats', 'transactions', 'twitter_data', 'twitter_tweepy_data']\n",
    "# s3_resource = boto3.resource('s3')\n",
    "# extension = (\"parquet\", \"csv\")\n",
    "# bucket='jacobsbucket97'\n",
    "# prefix = \"reddit_data/\""
   ]
  },
  {
   "cell_type": "code",
   "execution_count": 3,
   "metadata": {},
   "outputs": [],
   "source": [
    "def sql_connection(rds_schema: str) -> Engine:\n",
    "    \"\"\"\n",
    "    SQL Connection function to define the SQL Driver + connection variables needed to connect to the DB.\n",
    "    This doesn't actually make the connection, use conn.connect() in a context manager to create 1 re-usable connection\n",
    "    Args:\n",
    "        rds_schema (str): The Schema in the DB to connect to.\n",
    "    Returns:\n",
    "        SQL Connection variable to a specified schema in my PostgreSQL DB\n",
    "    \"\"\"\n",
    "    RDS_USER = os.environ.get(\"RDS_USER\")\n",
    "    RDS_PW = os.environ.get(\"RDS_PW\")\n",
    "    RDS_IP = os.environ.get(\"IP\")\n",
    "    RDS_DB = os.environ.get(\"RDS_DB\")\n",
    "    try:\n",
    "        connection = create_engine(\n",
    "            f\"postgresql+psycopg2://{RDS_USER}:{RDS_PW}@{RDS_IP}:5432/{RDS_DB}\",\n",
    "            connect_args={\"options\": f\"-csearch_path={rds_schema}\"},\n",
    "            # defining schema to connect to\n",
    "            echo=False,\n",
    "        )\n",
    "        print(f\"SQL Connection to schema: {rds_schema} Successful\")\n",
    "        return connection\n",
    "    except exc.SQLAlchemyError as e:\n",
    "        print(f\"SQL Connection to schema: {rds_schema} Failed, Error: {e}\")\n",
    "        return e\n",
    "\n",
    "def write_to_sql(con, table_name: str, df: pd.DataFrame, table_type: str) -> None:\n",
    "    \"\"\"\n",
    "    SQL Table function to write a pandas data frame in aws_dfname_source format\n",
    "    Args:\n",
    "        con (SQL Connection): The connection to the SQL DB.\n",
    "        table_name (str): The Table name to write to SQL as.\n",
    "        df (DataFrame): The Pandas DataFrame to store in SQL\n",
    "        table_type (str): Whether the table should replace or append to an existing SQL Table under that name\n",
    "    Returns:\n",
    "        Writes the Pandas DataFrame to a Table in Snowflake in the {nba_source} Schema we connected to.\n",
    "    \"\"\"\n",
    "    try:\n",
    "        if len(df) == 0:\n",
    "            print(f\"{table_name} is empty, not writing to SQL\")\n",
    "        else:\n",
    "            df.to_sql(\n",
    "                con=con,\n",
    "                name=f\"aws_{table_name}_source\",\n",
    "                index=False,\n",
    "                if_exists=table_type,\n",
    "            )\n",
    "            print(\n",
    "                f\"Writing {len(df)} {table_name} rows to aws_{table_name}_source to SQL\"\n",
    "            )\n",
    "    except BaseException as error:\n",
    "        print(f\"SQL Write Script Failed, {error}\")"
   ]
  },
  {
   "cell_type": "code",
   "execution_count": 12,
   "metadata": {},
   "outputs": [],
   "source": [
    "class PrefixException(Exception):\n",
    "    pass"
   ]
  },
  {
   "cell_type": "code",
   "execution_count": 19,
   "metadata": {},
   "outputs": [],
   "source": [
    "def reprocess_bucket(bucket: str, prefix: str, conn: Engine):\n",
    "    try:\n",
    "        if prefix.endswith('/'):\n",
    "            raise PrefixException('Please Remove the trailing / on the prefix parameter')\n",
    "        s3_resource = boto3.resource('s3')\n",
    "        s3_keys = list(\n",
    "            f\"{bucket}/{i.key}\" for i in s3_resource.Bucket(bucket).objects.filter(Prefix = F\"{prefix}/\")) # make sure it ends with /\n",
    "        # s3_keys = s3_keys[:3]\n",
    "        for i in s3_keys:\n",
    "            print(f\"Reading in {i}, storing to SQL ...\")\n",
    "            df = wr.s3.read_parquet(f\"s3://{i}\")\n",
    "            write_to_sql(conn, prefix, df, 'append')\n",
    "            \n",
    "    except BaseException as e:\n",
    "        print(f\"Error Occurred, {e}\")"
   ]
  },
  {
   "cell_type": "code",
   "execution_count": 20,
   "metadata": {},
   "outputs": [
    {
     "name": "stdout",
     "output_type": "stream",
     "text": [
      "Reading in jacobsbucket97/boxscores/validated/02/boxscores-2022-02-26.parquet ...\n",
      "Storing jacobsbucket97/boxscores/validated/02/boxscores-2022-02-26.parquet to SQL ...\n",
      "Writing 189 boxscores rows to aws_boxscores_source to SQL\n",
      "Reading in jacobsbucket97/boxscores/validated/02/boxscores-2022-02-27.parquet ...\n",
      "Storing jacobsbucket97/boxscores/validated/02/boxscores-2022-02-27.parquet to SQL ...\n",
      "Writing 144 boxscores rows to aws_boxscores_source to SQL\n",
      "Reading in jacobsbucket97/boxscores/validated/02/boxscores-2022-02-28.parquet ...\n",
      "Storing jacobsbucket97/boxscores/validated/02/boxscores-2022-02-28.parquet to SQL ...\n",
      "Writing 168 boxscores rows to aws_boxscores_source to SQL\n"
     ]
    }
   ],
   "source": [
    "# conn = sql_connection('nba_source_dev')\n",
    "\n",
    "reprocess_bucket('jacobsbucket97', 'boxscores', conn)"
   ]
  },
  {
   "cell_type": "code",
   "execution_count": 2,
   "metadata": {},
   "outputs": [
    {
     "data": {
      "text/plain": [
       "['jacobsbucket97/reddit_data/validated/02/reddit_data-2022-02-26.parquet',\n",
       " 'jacobsbucket97/reddit_data/validated/02/reddit_data-2022-02-27.parquet',\n",
       " 'jacobsbucket97/reddit_data/validated/02/reddit_data-2022-02-28.parquet',\n",
       " 'jacobsbucket97/reddit_data/validated/02/reddit_data-2022-03-01.parquet',\n",
       " 'jacobsbucket97/reddit_data/validated/03/reddit_data-2022-03-02.parquet',\n",
       " 'jacobsbucket97/reddit_data/validated/03/reddit_data-2022-03-03.parquet',\n",
       " 'jacobsbucket97/reddit_data/validated/03/reddit_data-2022-03-04.parquet',\n",
       " 'jacobsbucket97/reddit_data/validated/03/reddit_data-2022-03-05.parquet',\n",
       " 'jacobsbucket97/reddit_data/validated/03/reddit_data-2022-03-06.parquet',\n",
       " 'jacobsbucket97/reddit_data/validated/03/reddit_data-2022-03-07.parquet',\n",
       " 'jacobsbucket97/reddit_data/validated/03/reddit_data-2022-03-08.parquet',\n",
       " 'jacobsbucket97/reddit_data/validated/03/reddit_data-2022-03-09.parquet',\n",
       " 'jacobsbucket97/reddit_data/validated/03/reddit_data-2022-03-10.parquet',\n",
       " 'jacobsbucket97/reddit_data/validated/03/reddit_data-2022-03-11.parquet',\n",
       " 'jacobsbucket97/reddit_data/validated/03/reddit_data-2022-03-12.parquet',\n",
       " 'jacobsbucket97/reddit_data/validated/03/reddit_data-2022-03-13.parquet',\n",
       " 'jacobsbucket97/reddit_data/validated/03/reddit_data-2022-03-14.parquet',\n",
       " 'jacobsbucket97/reddit_data/validated/03/reddit_data-2022-03-15.parquet',\n",
       " 'jacobsbucket97/reddit_data/validated/03/reddit_data-2022-03-16.parquet',\n",
       " 'jacobsbucket97/reddit_data/validated/03/reddit_data-2022-03-17.parquet',\n",
       " 'jacobsbucket97/reddit_data/validated/03/reddit_data-2022-03-18.parquet',\n",
       " 'jacobsbucket97/reddit_data/validated/03/reddit_data-2022-03-19.parquet',\n",
       " 'jacobsbucket97/reddit_data/validated/03/reddit_data-2022-03-20.parquet',\n",
       " 'jacobsbucket97/reddit_data/validated/03/reddit_data-2022-03-21.parquet',\n",
       " 'jacobsbucket97/reddit_data/validated/03/reddit_data-2022-03-22.parquet',\n",
       " 'jacobsbucket97/reddit_data/validated/03/reddit_data-2022-03-23.parquet',\n",
       " 'jacobsbucket97/reddit_data/validated/03/reddit_data-2022-03-24.parquet',\n",
       " 'jacobsbucket97/reddit_data/validated/03/reddit_data-2022-03-25.parquet',\n",
       " 'jacobsbucket97/reddit_data/validated/03/reddit_data-2022-03-26.parquet',\n",
       " 'jacobsbucket97/reddit_data/validated/03/reddit_data-2022-03-27.parquet',\n",
       " 'jacobsbucket97/reddit_data/validated/03/reddit_data-2022-03-28.parquet',\n",
       " 'jacobsbucket97/reddit_data/validated/03/reddit_data-2022-03-29.parquet',\n",
       " 'jacobsbucket97/reddit_data/validated/03/reddit_data-2022-03-30.parquet',\n",
       " 'jacobsbucket97/reddit_data/validated/03/reddit_data-2022-03-31.parquet',\n",
       " 'jacobsbucket97/reddit_data/validated/04/reddit_data-2022-04-01.parquet',\n",
       " 'jacobsbucket97/reddit_data/validated/04/reddit_data-2022-04-02.parquet',\n",
       " 'jacobsbucket97/reddit_data/validated/04/reddit_data-2022-04-03.parquet',\n",
       " 'jacobsbucket97/reddit_data/validated/04/reddit_data-2022-04-04.parquet',\n",
       " 'jacobsbucket97/reddit_data/validated/04/reddit_data-2022-04-05.parquet',\n",
       " 'jacobsbucket97/reddit_data/validated/04/reddit_data-2022-04-06.parquet',\n",
       " 'jacobsbucket97/reddit_data/validated/04/reddit_data-2022-04-07.parquet',\n",
       " 'jacobsbucket97/reddit_data/validated/04/reddit_data-2022-04-08.parquet',\n",
       " 'jacobsbucket97/reddit_data/validated/04/reddit_data-2022-04-09.parquet',\n",
       " 'jacobsbucket97/reddit_data/validated/04/reddit_data-2022-04-10.parquet',\n",
       " 'jacobsbucket97/reddit_data/validated/04/reddit_data-2022-04-11.parquet',\n",
       " 'jacobsbucket97/reddit_data/validated/04/reddit_data-2022-04-12.parquet',\n",
       " 'jacobsbucket97/reddit_data/validated/04/reddit_data-2022-04-13.parquet',\n",
       " 'jacobsbucket97/reddit_data/validated/04/reddit_data-2022-04-14.parquet',\n",
       " 'jacobsbucket97/reddit_data/validated/04/reddit_data-2022-04-15.parquet',\n",
       " 'jacobsbucket97/reddit_data/validated/04/reddit_data-2022-04-16.parquet',\n",
       " 'jacobsbucket97/reddit_data/validated/04/reddit_data-2022-04-17.parquet',\n",
       " 'jacobsbucket97/reddit_data/validated/04/reddit_data-2022-04-18.parquet',\n",
       " 'jacobsbucket97/reddit_data/validated/04/reddit_data-2022-04-19.parquet',\n",
       " 'jacobsbucket97/reddit_data/validated/04/reddit_data-2022-04-20.parquet',\n",
       " 'jacobsbucket97/reddit_data/validated/04/reddit_data-2022-04-21.parquet',\n",
       " 'jacobsbucket97/reddit_data/validated/04/reddit_data-2022-04-22.parquet',\n",
       " 'jacobsbucket97/reddit_data/validated/04/reddit_data-2022-04-23.parquet',\n",
       " 'jacobsbucket97/reddit_data/validated/04/reddit_data-2022-04-24.parquet',\n",
       " 'jacobsbucket97/reddit_data/validated/04/reddit_data-2022-04-25.parquet',\n",
       " 'jacobsbucket97/reddit_data/validated/04/reddit_data-2022-04-26.parquet',\n",
       " 'jacobsbucket97/reddit_data/validated/04/reddit_data-2022-04-27.parquet',\n",
       " 'jacobsbucket97/reddit_data/validated/04/reddit_data-2022-04-28.parquet',\n",
       " 'jacobsbucket97/reddit_data/validated/04/reddit_data-2022-04-29.parquet',\n",
       " 'jacobsbucket97/reddit_data/validated/04/reddit_data-2022-04-30.parquet',\n",
       " 'jacobsbucket97/reddit_data/validated/05/reddit_data-2022-05-01.parquet',\n",
       " 'jacobsbucket97/reddit_data/validated/05/reddit_data-2022-05-02.parquet',\n",
       " 'jacobsbucket97/reddit_data/validated/05/reddit_data-2022-05-03.parquet',\n",
       " 'jacobsbucket97/reddit_data/validated/05/reddit_data-2022-05-04.parquet',\n",
       " 'jacobsbucket97/reddit_data/validated/05/reddit_data-2022-05-05.parquet',\n",
       " 'jacobsbucket97/reddit_data/validated/05/reddit_data-2022-05-06.parquet',\n",
       " 'jacobsbucket97/reddit_data/validated/05/reddit_data-2022-05-07.parquet',\n",
       " 'jacobsbucket97/reddit_data/validated/05/reddit_data-2022-05-08.parquet',\n",
       " 'jacobsbucket97/reddit_data/validated/05/reddit_data-2022-05-09.parquet',\n",
       " 'jacobsbucket97/reddit_data/validated/05/reddit_data-2022-05-10.parquet',\n",
       " 'jacobsbucket97/reddit_data/validated/05/reddit_data-2022-05-11.parquet',\n",
       " 'jacobsbucket97/reddit_data/validated/05/reddit_data-2022-05-12.parquet',\n",
       " 'jacobsbucket97/reddit_data/validated/05/reddit_data-2022-05-13.parquet',\n",
       " 'jacobsbucket97/reddit_data/validated/05/reddit_data-2022-05-14.parquet',\n",
       " 'jacobsbucket97/reddit_data/validated/05/reddit_data-2022-05-15.parquet',\n",
       " 'jacobsbucket97/reddit_data/validated/05/reddit_data-2022-05-16.parquet',\n",
       " 'jacobsbucket97/reddit_data/validated/05/reddit_data-2022-05-17.parquet',\n",
       " 'jacobsbucket97/reddit_data/validated/05/reddit_data-2022-05-18.parquet',\n",
       " 'jacobsbucket97/reddit_data/validated/05/reddit_data-2022-05-19.parquet',\n",
       " 'jacobsbucket97/reddit_data/validated/05/reddit_data-2022-05-20.parquet',\n",
       " 'jacobsbucket97/reddit_data/validated/05/reddit_data-2022-05-21.parquet',\n",
       " 'jacobsbucket97/reddit_data/validated/05/reddit_data-2022-05-22.parquet',\n",
       " 'jacobsbucket97/reddit_data/validated/05/reddit_data-2022-05-23.parquet',\n",
       " 'jacobsbucket97/reddit_data/validated/05/reddit_data-2022-05-24.parquet',\n",
       " 'jacobsbucket97/reddit_data/validated/05/reddit_data-2022-05-25.parquet',\n",
       " 'jacobsbucket97/reddit_data/validated/05/reddit_data-2022-05-26.parquet',\n",
       " 'jacobsbucket97/reddit_data/validated/05/reddit_data-2022-05-27.parquet',\n",
       " 'jacobsbucket97/reddit_data/validated/05/reddit_data-2022-05-28.parquet',\n",
       " 'jacobsbucket97/reddit_data/validated/05/reddit_data-2022-05-29.parquet',\n",
       " 'jacobsbucket97/reddit_data/validated/05/reddit_data-2022-05-30.parquet',\n",
       " 'jacobsbucket97/reddit_data/validated/05/reddit_data-2022-05-31.parquet',\n",
       " 'jacobsbucket97/reddit_data/validated/06/reddit_data-2022-06-01.parquet',\n",
       " 'jacobsbucket97/reddit_data/validated/06/reddit_data-2022-06-02.parquet',\n",
       " 'jacobsbucket97/reddit_data/validated/06/reddit_data-2022-06-03.parquet',\n",
       " 'jacobsbucket97/reddit_data/validated/06/reddit_data-2022-06-04.parquet',\n",
       " 'jacobsbucket97/reddit_data/validated/06/reddit_data-2022-06-05.parquet',\n",
       " 'jacobsbucket97/reddit_data/validated/06/reddit_data-2022-06-06.parquet',\n",
       " 'jacobsbucket97/reddit_data/validated/06/reddit_data-2022-06-07.parquet',\n",
       " 'jacobsbucket97/reddit_data/validated/06/reddit_data-2022-06-08.parquet',\n",
       " 'jacobsbucket97/reddit_data/validated/06/reddit_data-2022-06-09.parquet',\n",
       " 'jacobsbucket97/reddit_data/validated/06/reddit_data-2022-06-10.parquet',\n",
       " 'jacobsbucket97/reddit_data/validated/06/reddit_data-2022-06-11.parquet',\n",
       " 'jacobsbucket97/reddit_data/validated/06/reddit_data-2022-06-12.parquet',\n",
       " 'jacobsbucket97/reddit_data/validated/06/reddit_data-2022-06-13.parquet',\n",
       " 'jacobsbucket97/reddit_data/validated/06/reddit_data-2022-06-14.parquet',\n",
       " 'jacobsbucket97/reddit_data/validated/06/reddit_data-2022-06-15.parquet',\n",
       " 'jacobsbucket97/reddit_data/validated/06/reddit_data-2022-06-16.parquet',\n",
       " 'jacobsbucket97/reddit_data/validated/06/reddit_data-2022-06-17.parquet',\n",
       " 'jacobsbucket97/reddit_data/validated/06/reddit_data-2022-06-18.parquet',\n",
       " 'jacobsbucket97/reddit_data/validated/06/reddit_data-2022-06-19.parquet',\n",
       " 'jacobsbucket97/reddit_data/validated/06/reddit_data-2022-06-20.parquet',\n",
       " 'jacobsbucket97/reddit_data/validated/06/reddit_data-2022-06-21.parquet',\n",
       " 'jacobsbucket97/reddit_data/validated/06/reddit_data-2022-06-22.parquet',\n",
       " 'jacobsbucket97/reddit_data/validated/06/reddit_data-2022-06-23.parquet',\n",
       " 'jacobsbucket97/reddit_data/validated/06/reddit_data-2022-06-24.parquet',\n",
       " 'jacobsbucket97/reddit_data/validated/06/reddit_data-2022-06-25.parquet',\n",
       " 'jacobsbucket97/reddit_data/validated/06/reddit_data-2022-06-26.parquet',\n",
       " 'jacobsbucket97/reddit_data/validated/06/reddit_data-2022-06-27.parquet',\n",
       " 'jacobsbucket97/reddit_data/validated/06/reddit_data-2022-06-28.parquet',\n",
       " 'jacobsbucket97/reddit_data/validated/06/reddit_data-2022-06-29.parquet',\n",
       " 'jacobsbucket97/reddit_data/validated/06/reddit_data-2022-06-30.parquet',\n",
       " 'jacobsbucket97/reddit_data/validated/07/reddit_data-2022-07-01.parquet',\n",
       " 'jacobsbucket97/reddit_data/validated/07/reddit_data-2022-07-02.parquet',\n",
       " 'jacobsbucket97/reddit_data/validated/07/reddit_data-2022-07-03.parquet',\n",
       " 'jacobsbucket97/reddit_data/validated/07/reddit_data-2022-07-04.parquet',\n",
       " 'jacobsbucket97/reddit_data/validated/07/reddit_data-2022-07-05.parquet',\n",
       " 'jacobsbucket97/reddit_data/validated/07/reddit_data-2022-07-06.parquet',\n",
       " 'jacobsbucket97/reddit_data/validated/07/reddit_data-2022-07-07.parquet',\n",
       " 'jacobsbucket97/reddit_data/validated/07/reddit_data-2022-07-08.parquet',\n",
       " 'jacobsbucket97/reddit_data/validated/07/reddit_data-2022-07-09.parquet',\n",
       " 'jacobsbucket97/reddit_data/validated/07/reddit_data-2022-07-10.parquet',\n",
       " 'jacobsbucket97/reddit_data/validated/07/reddit_data-2022-07-11.parquet',\n",
       " 'jacobsbucket97/reddit_data/validated/07/reddit_data-2022-07-12.parquet',\n",
       " 'jacobsbucket97/reddit_data/validated/07/reddit_data-2022-07-13.parquet',\n",
       " 'jacobsbucket97/reddit_data/validated/07/reddit_data-2022-07-14.parquet',\n",
       " 'jacobsbucket97/reddit_data/validated/07/reddit_data-2022-07-15.parquet']"
      ]
     },
     "execution_count": 2,
     "metadata": {},
     "output_type": "execute_result"
    }
   ],
   "source": [
    "boxscores_raw = list(\n",
    "    f\"{bucket}/{i.key}\" for i in s3_resource.Bucket(bucket).objects.filter(Prefix = prefix)) # make sure it ends with /\n",
    "\n",
    "# boxscores_raw = list(filter(lambda x: x.endswith(extension), boxscores_raw))\n",
    "boxscores_raw"
   ]
  },
  {
   "cell_type": "code",
   "execution_count": 12,
   "metadata": {},
   "outputs": [
    {
     "data": {
      "text/plain": [
       "['jacobsbucket97/reddit_data/validated/02/reddit_data-2022-02-26.parquet',\n",
       " 'jacobsbucket97/reddit_data/validated/02/reddit_data-2022-02-27.parquet',\n",
       " 'jacobsbucket97/reddit_data/validated/02/reddit_data-2022-02-28.parquet']"
      ]
     },
     "execution_count": 12,
     "metadata": {},
     "output_type": "execute_result"
    }
   ],
   "source": [
    "boxscores_raw2 = boxscores_raw[:3]\n",
    "boxscores_raw2"
   ]
  },
  {
   "cell_type": "code",
   "execution_count": 5,
   "metadata": {},
   "outputs": [],
   "source": [
    "df = wr.s3.read_parquet('s3://jacobsbucket97/reddit_data/validated/02/reddit_data-2022-02-26.parquet')"
   ]
  },
  {
   "cell_type": "code",
   "execution_count": 13,
   "metadata": {},
   "outputs": [
    {
     "name": "stdout",
     "output_type": "stream",
     "text": [
      "SQL Connection to schema: nba_source_dev Successful\n"
     ]
    }
   ],
   "source": [
    "conn = sql_connection('nba_source_dev')"
   ]
  },
  {
   "cell_type": "code",
   "execution_count": 15,
   "metadata": {},
   "outputs": [
    {
     "name": "stdout",
     "output_type": "stream",
     "text": [
      "Reading in jacobsbucket97/reddit_data/validated/02/reddit_data-2022-02-26.parquet ...\n",
      "Storing jacobsbucket97/reddit_data/validated/02/reddit_data-2022-02-26.parquet to SQL ...\n",
      "Writing 27 reddit_data rows to aws_reddit_data_source to SQL\n",
      "Reading in jacobsbucket97/reddit_data/validated/02/reddit_data-2022-02-27.parquet ...\n",
      "Storing jacobsbucket97/reddit_data/validated/02/reddit_data-2022-02-27.parquet to SQL ...\n",
      "Writing 27 reddit_data rows to aws_reddit_data_source to SQL\n",
      "Reading in jacobsbucket97/reddit_data/validated/02/reddit_data-2022-02-28.parquet ...\n",
      "Storing jacobsbucket97/reddit_data/validated/02/reddit_data-2022-02-28.parquet to SQL ...\n",
      "Writing 27 reddit_data rows to aws_reddit_data_source to SQL\n"
     ]
    }
   ],
   "source": [
    "conn = sql_connection('nba_source_dev')\n",
    "for i in boxscores_raw2:\n",
    "    print(f\"Reading in {i} ...\")\n",
    "    df = wr.s3.read_parquet(f\"s3://{i}\")\n",
    "    print(f\"Storing {i} to SQL ...\")\n",
    "    write_to_sql(conn, 'reddit_data', df, 'append')"
   ]
  }
 ],
 "metadata": {
  "kernelspec": {
   "display_name": "Python 3.8.10 ('python_aws-McJt4gWW')",
   "language": "python",
   "name": "python3"
  },
  "language_info": {
   "codemirror_mode": {
    "name": "ipython",
    "version": 3
   },
   "file_extension": ".py",
   "mimetype": "text/x-python",
   "name": "python",
   "nbconvert_exporter": "python",
   "pygments_lexer": "ipython3",
   "version": "3.8.10"
  },
  "orig_nbformat": 4,
  "vscode": {
   "interpreter": {
    "hash": "81c6a89d9b91bda76c14e46d4b77530c453739b0f65fa8daf80e192463b63a97"
   }
  }
 },
 "nbformat": 4,
 "nbformat_minor": 2
}

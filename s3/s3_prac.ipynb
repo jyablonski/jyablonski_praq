{
 "cells": [
  {
   "cell_type": "code",
   "execution_count": 1,
   "metadata": {},
   "outputs": [],
   "source": [
    "from datetime import datetime, timedelta\n",
    "import pandas as pd\n",
    "import boto3\n",
    "import awswrangler as wr\n",
    "import os"
   ]
  },
  {
   "cell_type": "code",
   "execution_count": 2,
   "metadata": {},
   "outputs": [],
   "source": [
    "s3 = boto3.resource('s3')"
   ]
  },
  {
   "cell_type": "code",
   "execution_count": 7,
   "metadata": {},
   "outputs": [],
   "source": [
    "def s3_write(df, filename, type:str):\n",
    "    path = 's3://jacobsbucket97/sample_files/file1.parquet'\n",
    "    try:\n",
    "        if type == 'csv':\n",
    "            wr.s3.to_csv(df=df, path = f's3://jacobsbucket97/sample_files/{filename}.csv')\n",
    "        elif type == 'json':\n",
    "            wr.s3.to_json(df=df, path = f's3://jacobsbucket97/sample_files/{filename}.json')\n",
    "        elif type == 'parquet':\n",
    "            wr.s3.to_parquet(df=df, path = f's3://jacobsbucket97/sample_files/{filename}.parquet')\n",
    "        else:\n",
    "            raise Exception('Please select 1 of csv, json, or parquet for type')\n",
    "    except BaseException as e:\n",
    "        print(f\"Error occured, {e}\")"
   ]
  },
  {
   "cell_type": "code",
   "execution_count": 37,
   "metadata": {},
   "outputs": [],
   "source": [
    "def s3_read(filename, type:str):\n",
    "    path = 's3://jacobsbucket97/sample_files/file1.parquet'\n",
    "    try:\n",
    "        if type == 'csv':\n",
    "            df = wr.s3.read_csv(path = f's3://jacobsbucket97/sample_files/{filename}.csv')\n",
    "        elif type == 'json':\n",
    "            df = wr.s3.read_json(path = f's3://jacobsbucket97/sample_files/{filename}.json')\n",
    "        elif type == 'parquet':\n",
    "            df = wr.s3.read_parquet(path = f's3://jacobsbucket97/sample_files/{filename}.parquet')\n",
    "        else:\n",
    "            raise Exception('Please select 1 of csv, json, or parquet for type')\n",
    "        print(f\"Returning {filename}.{type} object with {len(df)} rows ...\")\n",
    "        return df\n",
    "    except BaseException as e:\n",
    "        print(f\"Error occured, {e}\")"
   ]
  },
  {
   "cell_type": "code",
   "execution_count": 39,
   "metadata": {},
   "outputs": [
    {
     "name": "stdout",
     "output_type": "stream",
     "text": [
      "Returning file1.csv object with 3 rows ...\n",
      "Returning file5.json object with 3 rows ...\n"
     ]
    }
   ],
   "source": [
    "bby = s3_read('file1', 'csv')\n",
    "bby2 = s3_read('file5', 'json')"
   ]
  },
  {
   "cell_type": "code",
   "execution_count": 8,
   "metadata": {},
   "outputs": [
    {
     "ename": "Exception",
     "evalue": "Please select 1 of csv, json, or parquet for type",
     "output_type": "error",
     "traceback": [
      "\u001b[0;31m---------------------------------------------------------------------------\u001b[0m",
      "\u001b[0;31mException\u001b[0m                                 Traceback (most recent call last)",
      "\u001b[0;32m/tmp/ipykernel_24408/2505665018.py\u001b[0m in \u001b[0;36m<module>\u001b[0;34m\u001b[0m\n\u001b[0;32m----> 1\u001b[0;31m \u001b[0ms3_write\u001b[0m\u001b[0;34m(\u001b[0m\u001b[0;34m'parqsfsdf'\u001b[0m\u001b[0;34m)\u001b[0m\u001b[0;34m\u001b[0m\u001b[0;34m\u001b[0m\u001b[0m\n\u001b[0m",
      "\u001b[0;32m/tmp/ipykernel_24408/1084340823.py\u001b[0m in \u001b[0;36ms3_write\u001b[0;34m(type)\u001b[0m\n\u001b[1;32m      7\u001b[0m         \u001b[0mprint\u001b[0m\u001b[0;34m(\u001b[0m\u001b[0;34m'parquet'\u001b[0m\u001b[0;34m)\u001b[0m\u001b[0;34m\u001b[0m\u001b[0;34m\u001b[0m\u001b[0m\n\u001b[1;32m      8\u001b[0m     \u001b[0;32melse\u001b[0m\u001b[0;34m:\u001b[0m\u001b[0;34m\u001b[0m\u001b[0;34m\u001b[0m\u001b[0m\n\u001b[0;32m----> 9\u001b[0;31m         \u001b[0;32mraise\u001b[0m \u001b[0mException\u001b[0m\u001b[0;34m(\u001b[0m\u001b[0;34m'Please select 1 of csv, json, or parquet for type'\u001b[0m\u001b[0;34m)\u001b[0m\u001b[0;34m\u001b[0m\u001b[0;34m\u001b[0m\u001b[0m\n\u001b[0m",
      "\u001b[0;31mException\u001b[0m: Please select 1 of csv, json, or parquet for type"
     ]
    }
   ],
   "source": [
    "s3_write('parqsfsdf')"
   ]
  },
  {
   "cell_type": "code",
   "execution_count": 19,
   "metadata": {},
   "outputs": [],
   "source": [
    "bucket = s3.Bucket('jacobsbucket97')"
   ]
  },
  {
   "cell_type": "code",
   "execution_count": 20,
   "metadata": {},
   "outputs": [],
   "source": [
    "def write_to_s3(file_type, df, bucket = os.environ.get('S3_BUCKET')):\n",
    "    date = datetime.now().date()\n",
    "    # the date of the data, not the current date\n",
    "    try:\n",
    "        wr.s3.to_parquet(\n",
    "            df = df,\n",
    "            path = f\"s3://{bucket}/{file_type}/{file_type}-{date}.parquet\",\n",
    "            index = False\n",
    "        )\n",
    "        print(f\"Storing {len(df)} {file_type} rows to S3 (s3://{bucket}/{file_type}/{file_type}-{date})\")\n",
    "        pass\n",
    "    except BaseException as error:\n",
    "        print(f\"S3 Storage Function Failed for {file_type}, {error}\")\n",
    "        pass"
   ]
  },
  {
   "cell_type": "code",
   "execution_count": 25,
   "metadata": {},
   "outputs": [],
   "source": [
    "df1 = wr.s3.read_csv('s3://jacobsbucket97/sample_files/file1.csv')\n",
    "df2 = wr.s3.read_csv('s3://jacobsbucket97/sample_files/file2.csv')\n",
    "df3 = wr.s3.read_csv('s3://jacobsbucket97/sample_files/file3.csv')\n",
    "df4 = wr.s3.read_csv('s3://jacobsbucket97/sample_files/file4.csv')\n",
    "df5 = wr.s3.read_csv('s3://jacobsbucket97/sample_files/file5.csv')"
   ]
  },
  {
   "cell_type": "code",
   "execution_count": 27,
   "metadata": {},
   "outputs": [
    {
     "data": {
      "text/plain": [
       "{'paths': ['s3://jacobsbucket97/sample_files/file5.parquet'],\n",
       " 'partitions_values': {}}"
      ]
     },
     "execution_count": 27,
     "metadata": {},
     "output_type": "execute_result"
    }
   ],
   "source": [
    "wr.s3.to_parquet(df=df1, path = 's3://jacobsbucket97/sample_files/file1.parquet')\n",
    "wr.s3.to_parquet(df=df2, path = 's3://jacobsbucket97/sample_files/file2.parquet')\n",
    "wr.s3.to_parquet(df=df3, path = 's3://jacobsbucket97/sample_files/file3.parquet')\n",
    "wr.s3.to_parquet(df=df4, path = 's3://jacobsbucket97/sample_files/file4.parquet')\n",
    "wr.s3.to_parquet(df=df5, path = 's3://jacobsbucket97/sample_files/file5.parquet')"
   ]
  },
  {
   "cell_type": "code",
   "execution_count": 30,
   "metadata": {},
   "outputs": [],
   "source": [
    "df1 = wr.s3.read_parquet('s3://jacobsbucket97/sample_files/file1.parquet')\n",
    "df2 = wr.s3.read_csv('s3://jacobsbucket97/sample_files/file2.csv')\n",
    "df3 = wr.s3.read_csv('s3://jacobsbucket97/sample_files/file3.csv')\n",
    "df4 = wr.s3.read_csv('s3://jacobsbucket97/sample_files/file4.csv')\n",
    "df5 = wr.s3.read_csv('s3://jacobsbucket97/sample_files/file5.csv')"
   ]
  },
  {
   "cell_type": "code",
   "execution_count": 29,
   "metadata": {},
   "outputs": [
    {
     "data": {
      "text/plain": [
       "['s3://jacobsbucket97/sample_files/file5.json']"
      ]
     },
     "execution_count": 29,
     "metadata": {},
     "output_type": "execute_result"
    }
   ],
   "source": [
    "wr.s3.to_json(df=df1, path = 's3://jacobsbucket97/sample_files/file1.json')\n",
    "wr.s3.to_json(df=df2, path = 's3://jacobsbucket97/sample_files/file2.json')\n",
    "wr.s3.to_json(df=df3, path = 's3://jacobsbucket97/sample_files/file3.json')\n",
    "wr.s3.to_json(df=df4, path = 's3://jacobsbucket97/sample_files/file4.json')\n",
    "wr.s3.to_json(df=df5, path = 's3://jacobsbucket97/sample_files/file5.json')"
   ]
  },
  {
   "cell_type": "code",
   "execution_count": null,
   "metadata": {},
   "outputs": [],
   "source": [
    "df1 = wr.s3.read_csv('s3://jacobsbucket97/sample_files/file1.csv')\n",
    "df2 = wr.s3.read_csv('s3://jacobsbucket97/sample_files/file2.csv')\n",
    "df3 = wr.s3.read_csv('s3://jacobsbucket97/sample_files/file3.csv')\n",
    "df4 = wr.s3.read_csv('s3://jacobsbucket97/sample_files/file4.csv')\n",
    "df5 = wr.s3.read_csv('s3://jacobsbucket97/sample_files/file5.csv')"
   ]
  },
  {
   "cell_type": "code",
   "execution_count": 3,
   "metadata": {},
   "outputs": [],
   "source": [
    "df = pd.read_csv(\"reddit_comments.csv\")"
   ]
  },
  {
   "cell_type": "code",
   "execution_count": 10,
   "metadata": {},
   "outputs": [
    {
     "data": {
      "text/plain": [
       "{'paths': ['s3://jacobsbucket97/sample_files/reddit_comments_gzip.csv'],\n",
       " 'partitions_values': {}}"
      ]
     },
     "execution_count": 10,
     "metadata": {},
     "output_type": "execute_result"
    }
   ],
   "source": [
    "wr.s3.to_csv(\n",
    "    df = df,\n",
    "    path = \"s3://jacobsbucket97/sample_files/reddit_comments_gzip.csv\",\n",
    "    compression = 'gzip'\n",
    ")\n",
    "\n",
    "wr.s3.to_parquet(\n",
    "    df = df,\n",
    "    path = \"s3://jacobsbucket97/sample_files/reddit_comments_snappy.parquet\",\n",
    "    compression = 'snappy'\n",
    ")"
   ]
  },
  {
   "cell_type": "code",
   "execution_count": 8,
   "metadata": {},
   "outputs": [],
   "source": [
    "# raw csv - 4.7 mb\n",
    "# zip csv - 1.9 mb\n",
    "\n",
    "# raw parquet - 2.9 mb\n",
    "# zip parquet - 1.8 mb\n",
    "# snappy parquet - 2.9mb\n",
    "\n",
    "df1 = wr.s3.read_parquet('s3://jacobsbucket97/sample_files/reddit_comments_gzip.parquet')\n",
    "df2 = wr.s3.read_parquet('s3://jacobsbucket97/sample_files/reddit_comments_snappy.parquet')\n",
    "df3 = wr.s3.read_parquet('s3://jacobsbucket97/sample_files/reddit_comments_snappy.snappy')\n",
    "df4 = wr.s3.read_parquet('s3://jacobsbucket97/sample_files/reddit_comments.parquet')\n",
    "df5 = wr.s3.read_csv('s3://jacobsbucket97/sample_files/reddit_comments_gzip.csv', compression = 'gzip')"
   ]
  },
  {
   "cell_type": "code",
   "execution_count": 20,
   "metadata": {},
   "outputs": [],
   "source": [
    "\n",
    "# 0.8\n",
    "# df_csv = wr.s3.read_csv('s3://jacobsbucket97/sample_files/reddit_comments.csv')\n",
    "\n",
    "# df_zipped_csv = wr.s3.read_csv('s3://jacobsbucket97/sample_files/reddit_comments_gzip.csv', compression = 'gzip')\n",
    "\n",
    "# df_parquet = wr.s3.read_parquet('s3://jacobsbucket97/sample_files/reddit_comments.parquet')\n",
    "\n",
    "# df_zipped_parquet = wr.s3.read_parquet('s3://jacobsbucket97/sample_files/reddit_comments_gzip.parquet')"
   ]
  },
  {
   "cell_type": "code",
   "execution_count": 4,
   "metadata": {},
   "outputs": [],
   "source": [
    "df = wr.s3.read_parquet('s3://jacobsbucket97-dev/cost-reports/jyablonski-test-report/20220501-20220601/20220503T013620Z/jyablonski-test-report-00001.snappy.parquet')\n",
    "df.to_csv('billing_report_2022-05.csv')"
   ]
  }
 ],
 "metadata": {
  "interpreter": {
   "hash": "51acfa6005ffec5e74e71d844e0daa05d24ac78244a0bb1b7874b497027552e7"
  },
  "kernelspec": {
   "display_name": "Python 3.8.8 64-bit ('base': conda)",
   "language": "python",
   "name": "python3"
  },
  "language_info": {
   "codemirror_mode": {
    "name": "ipython",
    "version": 3
   },
   "file_extension": ".py",
   "mimetype": "text/x-python",
   "name": "python",
   "nbconvert_exporter": "python",
   "pygments_lexer": "ipython3",
   "version": "3.8.8"
  },
  "orig_nbformat": 4
 },
 "nbformat": 4,
 "nbformat_minor": 2
}

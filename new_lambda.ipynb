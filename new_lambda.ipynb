{
 "cells": [
  {
   "cell_type": "code",
   "execution_count": 45,
   "source": [
    "import os\n",
    "import sys\n",
    "from datetime import datetime, timezone, timedelta\n",
    "from urllib.request import urlopen\n",
    "import logging\n",
    "from bs4 import BeautifulSoup\n",
    "from sqlalchemy import exc, create_engine\n",
    "import pymysql\n",
    "import pandas as pd\n",
    "\n",
    "logging.basicConfig(filename='example.log', level=logging.DEBUG, format='%(asctime)s %(message)s', datefmt='%m/%d/%Y %I:%M:%S %p')\n",
    "logging.info('Starting Logging Function')\n",
    "\n",
    "today = datetime.now().date()\n",
    "yesterday = today - timedelta(1)\n",
    "day = (datetime.now() - timedelta(1)).day\n",
    "month = (datetime.now() - timedelta(1)).month\n",
    "year = (datetime.now() - timedelta(1)).year\n",
    "season_type = 'Regular Season'\n"
   ],
   "outputs": [],
   "metadata": {}
  },
  {
   "cell_type": "code",
   "execution_count": 2,
   "source": [
    "def sql_connection():\n",
    "    try:\n",
    "        connection = create_engine('mysql+pymysql://' + os.environ.get('RDS_USER') + ':' + os.environ.get('RDS_PW') + '@' + os.environ.get('IP') + ':' + '3306' + '/' + os.environ.get('RDS_DB'),\n",
    "                     echo = False)\n",
    "        logging.info('SQL Connection Successful')\n",
    "        print('SQL Connection Successful')\n",
    "        return(connection)\n",
    "    except exc.SQLAlchemyError as e:\n",
    "        logging.info('SQL Connection Failed, Error:', e)\n",
    "        print('SQL Connection Failed, Error:', e)\n",
    "        return(e)\n"
   ],
   "outputs": [],
   "metadata": {}
  },
  {
   "cell_type": "code",
   "execution_count": 2,
   "source": [
    "def get_player_stats():\n",
    "    try:\n",
    "        year = 2021\n",
    "        url = \"https://www.basketball-reference.com/leagues/NBA_{}_per_game.html\".format(year)\n",
    "        html = urlopen(url)\n",
    "        soup = BeautifulSoup(html)\n",
    "\n",
    "        headers = [th.getText() for th in soup.findAll('tr', limit=2)[0].findAll('th')]\n",
    "        headers = headers[1:]\n",
    "\n",
    "        rows = soup.findAll('tr')[1:]\n",
    "        player_stats = [[td.getText() for td in rows[i].findAll('td')]\n",
    "            for i in range(len(rows))]\n",
    "\n",
    "        stats = pd.DataFrame(player_stats, columns = headers)\n",
    "        stats['PTS'] = pd.to_numeric(stats['PTS'])\n",
    "        logging.info(f'General Stats Function Successful, retrieving {len(stats)} updated rows')\n",
    "        print(f'General Stats Function Successful, retrieving {len(stats)} updated rows')\n",
    "        return(stats)\n",
    "    except ValueError:\n",
    "        logging.info(\"General Stats Function Failed for Today's Games\")\n",
    "        print(\"General Stats Function Failed for Today's Games\")\n",
    "        df = []\n",
    "        return(df)"
   ],
   "outputs": [],
   "metadata": {}
  },
  {
   "cell_type": "code",
   "execution_count": 119,
   "source": [
    "def get_boxscores(month = month, day = day, year = year):\n",
    "    url = \"https://www.basketball-reference.com/friv/dailyleaders.fcgi?month={}&day={}&year={}&type=all\".format(month, day, year)\n",
    "    html = urlopen(url)\n",
    "    soup = BeautifulSoup(html)\n",
    "\n",
    "    try: \n",
    "        headers = [th.getText() for th in soup.findAll('tr', limit=2)[0].findAll('th')]\n",
    "        headers = headers[1:]\n",
    "        headers[1] = 'Team'\n",
    "        headers[2] = \"Location\"\n",
    "        headers[3] = 'Opponent'\n",
    "        headers[4] = \"Outcome\"\n",
    "        headers[6] = \"FGM\"\n",
    "        headers[8] = \"FGPercent\"\n",
    "        headers[9] = \"threePFGMade\"\n",
    "        headers[10] = \"threePAttempted\"\n",
    "        headers[11] = \"threePointPercent\"\n",
    "        headers[14] = \"FTPercent\"\n",
    "        headers[15] = \"OREB\"\n",
    "        headers[16] = \"DREB\"\n",
    "        headers[24] = 'PlusMinus'\n",
    "\n",
    "        rows = soup.findAll('tr')[1:]\n",
    "        player_stats = [[td.getText() for td in rows[i].findAll('td')]\n",
    "            for i in range(len(rows))]\n",
    "\n",
    "        df = pd.DataFrame(player_stats, columns = headers)\n",
    "        df[['FGM', 'FGA', 'FGPercent', 'threePFGMade', 'threePAttempted', 'threePointPercent', 'OREB', 'DREB', 'TRB', 'AST', 'STL', 'BLK', 'TOV', 'PF', 'PTS', 'PlusMinus', 'GmSc']] = df[['FGM', 'FGA', 'FGPercent', 'threePFGMade', 'threePAttempted', 'threePointPercent','OREB', 'DREB', 'TRB', 'AST', 'STL', 'BLK', 'TOV', 'PF', 'PTS', 'PlusMinus', 'GmSc']].apply(pd.to_numeric)\n",
    "        df['Date'] = yesterday\n",
    "        df['Type'] = season_type\n",
    "        df['Season'] = 2022\n",
    "        df['Location'] = df['Location'].apply(lambda x: 'A' if x == '@' else 'H')\n",
    "        df['Team'] = df['Team'].str.replace(\"PHO\", \"PHX\")\n",
    "        df['Team'] = df['Team'].str.replace(\"CHO\", \"CHA\")\n",
    "        df['Team'] = df['Team'].str.replace(\"BRK\", \"BKN\")\n",
    "        df['Opponent'] = df['Opponent'].str.replace(\"PHO\", \"PHX\")\n",
    "        df['Opponent'] = df['Opponent'].str.replace(\"CHO\", \"CHA\")\n",
    "        df['Opponent'] = df['Opponent'].str.replace(\"BRK\", \"BKN\")\n",
    "        logging.info(f'Box Score Function Successful, retrieving {len(df)} rows for {yesterday}')\n",
    "        print(f'Box Score Function Successful, retrieving {len(df)} rows for {yesterday}')\n",
    "        return(df)\n",
    "    except IndexError:\n",
    "        logging.info(f\"Box Score Function Failed, no data available for {yesterday}\")\n",
    "        print(f\"Box Score Function Failed, no data available for {yesterday}\")\n",
    "        df = []\n",
    "        return(df)"
   ],
   "outputs": [],
   "metadata": {}
  },
  {
   "cell_type": "code",
   "execution_count": 51,
   "source": [
    "url = \"https://www.basketball-reference.com/friv/dailyleaders.fcgi?month={}&day={}&year={}&type=all\".format(7, 20, 2021)\n",
    "html = urlopen(url)\n",
    "soup = BeautifulSoup(html)\n",
    "\n",
    "headers = [th.getText() for th in soup.findAll('tr', limit=2)[0].findAll('th')]\n",
    "headers = headers[1:]\n",
    "headers[1] = 'Team'\n",
    "headers[2] = \"Location\"\n",
    "headers[3] = 'Opponent'\n",
    "headers[4] = \"Outcome\"\n",
    "headers[6] = \"FGM\"\n",
    "headers[8] = \"FGPercent\"\n",
    "headers[9] = \"threePFGMade\"\n",
    "headers[10] = \"threePAttempted\"\n",
    "headers[11] = \"threePointPercent\"\n",
    "headers[14] = \"FTPercent\"\n",
    "headers[15] = \"OREB\"\n",
    "headers[16] = \"DREB\"\n",
    "headers[24] = 'PlusMinus'\n",
    "\n",
    "rows = soup.findAll('tr')[1:]\n",
    "player_stats = [[td.getText() for td in rows[i].findAll('td')]\n",
    "        for i in range(len(rows))]\n",
    "df = pd.DataFrame(player_stats, columns = headers)\n"
   ],
   "outputs": [],
   "metadata": {}
  },
  {
   "cell_type": "code",
   "execution_count": 43,
   "source": [
    "# df_box = get_boxscores(month = 7, day = 20, year = 2021)\n",
    "# Date\n",
    "# Type (season)\n",
    "headers[14]"
   ],
   "outputs": [
    {
     "output_type": "execute_result",
     "data": {
      "text/plain": [
       "'FT%'"
      ]
     },
     "metadata": {},
     "execution_count": 43
    }
   ],
   "metadata": {}
  },
  {
   "cell_type": "code",
   "execution_count": 139,
   "source": [
    "df = get_boxscores(month = 12, day = 23, year = 2020)"
   ],
   "outputs": [
    {
     "output_type": "stream",
     "name": "stdout",
     "text": [
      "Box Score Function Successful, retrieving 266 rows for 2021-09-02\n"
     ]
    }
   ],
   "metadata": {}
  },
  {
   "cell_type": "code",
   "execution_count": 89,
   "source": [
    "df['Location'] = df['Location'].apply(lambda x: 'A' if x == '@' else 'H')"
   ],
   "outputs": [],
   "metadata": {}
  },
  {
   "cell_type": "code",
   "execution_count": 115,
   "source": [
    "df['Team'] = df['Team'].str.replace(\"PHO\", \"PHX\")\n",
    "df['Team'] = df['Team'].str.replace(\"CHO\", \"CHA\")\n",
    "df['Team'] = df['Team'].str.replace(\"BRK\", \"BKN\")\n",
    "df['Opponent'] = df['Opponent'].str.replace(\"PHO\", \"PHX\")\n",
    "df['Opponent'] = df['Opponent'].str.replace(\"CHO\", \"CHA\")\n",
    "df['Opponent'] = df['Opponent'].str.replace(\"BRK\", \"BKN\")"
   ],
   "outputs": [],
   "metadata": {}
  },
  {
   "cell_type": "code",
   "execution_count": 136,
   "source": [
    "df2 = df['Team'] # df2 returns a Series with only the team column\n",
    "df2 = df[['Team']] # df2 returns a dataframe with only the team column\n",
    "df2['Team'] = df2['Team'].str.replace(\"PHO\", \"PHX\") # df2 returns the whole df while fixing the team col\n",
    "# https://www.basketball-reference.com/boxscores/202107200MIL.html\n",
    "# https://www.basketball-reference.com/boxscores/pbp/202107200MIL.html"
   ],
   "outputs": [],
   "metadata": {}
  },
  {
   "cell_type": "code",
   "execution_count": 149,
   "source": [
    "# work on this tmmw\n",
    "url = \"https://www.basketball-reference.com/boxscores/pbp/202012220BRK.html\"\n",
    "df = pd.read_html(url)[0]\n",
    "df"
   ],
   "outputs": [
    {
     "output_type": "execute_result",
     "data": {
      "text/html": [
       "<div>\n",
       "<style scoped>\n",
       "    .dataframe tbody tr th:only-of-type {\n",
       "        vertical-align: middle;\n",
       "    }\n",
       "\n",
       "    .dataframe tbody tr th {\n",
       "        vertical-align: top;\n",
       "    }\n",
       "\n",
       "    .dataframe thead tr th {\n",
       "        text-align: left;\n",
       "    }\n",
       "</style>\n",
       "<table border=\"1\" class=\"dataframe\">\n",
       "  <thead>\n",
       "    <tr>\n",
       "      <th></th>\n",
       "      <th colspan=\"6\" halign=\"left\">1st Q</th>\n",
       "    </tr>\n",
       "    <tr>\n",
       "      <th></th>\n",
       "      <th>Time</th>\n",
       "      <th>Golden State</th>\n",
       "      <th>Unnamed: 2_level_1</th>\n",
       "      <th>Score</th>\n",
       "      <th>Unnamed: 4_level_1</th>\n",
       "      <th>Brooklyn</th>\n",
       "    </tr>\n",
       "  </thead>\n",
       "  <tbody>\n",
       "    <tr>\n",
       "      <th>0</th>\n",
       "      <td>12:00.0</td>\n",
       "      <td>Jump ball: J. Wiseman vs. D. Jordan (J. Harris...</td>\n",
       "      <td>Jump ball: J. Wiseman vs. D. Jordan (J. Harris...</td>\n",
       "      <td>Jump ball: J. Wiseman vs. D. Jordan (J. Harris...</td>\n",
       "      <td>Jump ball: J. Wiseman vs. D. Jordan (J. Harris...</td>\n",
       "      <td>Jump ball: J. Wiseman vs. D. Jordan (J. Harris...</td>\n",
       "    </tr>\n",
       "    <tr>\n",
       "      <th>1</th>\n",
       "      <td>11:50.0</td>\n",
       "      <td>NaN</td>\n",
       "      <td>NaN</td>\n",
       "      <td>0-0</td>\n",
       "      <td>NaN</td>\n",
       "      <td>Turnover by D. Jordan (bad pass)</td>\n",
       "    </tr>\n",
       "    <tr>\n",
       "      <th>2</th>\n",
       "      <td>11:38.0</td>\n",
       "      <td>Shooting foul by K. Irving (drawn by S. Curry)</td>\n",
       "      <td>NaN</td>\n",
       "      <td>0-0</td>\n",
       "      <td>NaN</td>\n",
       "      <td>NaN</td>\n",
       "    </tr>\n",
       "    <tr>\n",
       "      <th>3</th>\n",
       "      <td>11:38.0</td>\n",
       "      <td>S. Curry makes free throw 1 of 2</td>\n",
       "      <td>+1</td>\n",
       "      <td>1-0</td>\n",
       "      <td>NaN</td>\n",
       "      <td>NaN</td>\n",
       "    </tr>\n",
       "    <tr>\n",
       "      <th>4</th>\n",
       "      <td>11:38.0</td>\n",
       "      <td>S. Curry makes free throw 2 of 2</td>\n",
       "      <td>+1</td>\n",
       "      <td>2-0</td>\n",
       "      <td>NaN</td>\n",
       "      <td>NaN</td>\n",
       "    </tr>\n",
       "    <tr>\n",
       "      <th>...</th>\n",
       "      <td>...</td>\n",
       "      <td>...</td>\n",
       "      <td>...</td>\n",
       "      <td>...</td>\n",
       "      <td>...</td>\n",
       "      <td>...</td>\n",
       "    </tr>\n",
       "    <tr>\n",
       "      <th>517</th>\n",
       "      <td>0:30.0</td>\n",
       "      <td>NaN</td>\n",
       "      <td>NaN</td>\n",
       "      <td>96-125</td>\n",
       "      <td>NaN</td>\n",
       "      <td>Turnover by B. Brown (bad pass)</td>\n",
       "    </tr>\n",
       "    <tr>\n",
       "      <th>518</th>\n",
       "      <td>0:10.0</td>\n",
       "      <td>J. Wiseman misses 2-pt jump shot from 9 ft</td>\n",
       "      <td>NaN</td>\n",
       "      <td>96-125</td>\n",
       "      <td>NaN</td>\n",
       "      <td>NaN</td>\n",
       "    </tr>\n",
       "    <tr>\n",
       "      <th>519</th>\n",
       "      <td>0:08.0</td>\n",
       "      <td>Offensive rebound by D. Lee</td>\n",
       "      <td>NaN</td>\n",
       "      <td>96-125</td>\n",
       "      <td>NaN</td>\n",
       "      <td>NaN</td>\n",
       "    </tr>\n",
       "    <tr>\n",
       "      <th>520</th>\n",
       "      <td>0:07.0</td>\n",
       "      <td>M. Mulder makes 3-pt jump shot from 26 ft (ass...</td>\n",
       "      <td>+3</td>\n",
       "      <td>99-125</td>\n",
       "      <td>NaN</td>\n",
       "      <td>NaN</td>\n",
       "    </tr>\n",
       "    <tr>\n",
       "      <th>521</th>\n",
       "      <td>0:00.0</td>\n",
       "      <td>End of 4th quarter</td>\n",
       "      <td>End of 4th quarter</td>\n",
       "      <td>End of 4th quarter</td>\n",
       "      <td>End of 4th quarter</td>\n",
       "      <td>End of 4th quarter</td>\n",
       "    </tr>\n",
       "  </tbody>\n",
       "</table>\n",
       "<p>522 rows × 6 columns</p>\n",
       "</div>"
      ],
      "text/plain": [
       "       1st Q                                                     \\\n",
       "        Time                                       Golden State   \n",
       "0    12:00.0  Jump ball: J. Wiseman vs. D. Jordan (J. Harris...   \n",
       "1    11:50.0                                                NaN   \n",
       "2    11:38.0     Shooting foul by K. Irving (drawn by S. Curry)   \n",
       "3    11:38.0                   S. Curry makes free throw 1 of 2   \n",
       "4    11:38.0                   S. Curry makes free throw 2 of 2   \n",
       "..       ...                                                ...   \n",
       "517   0:30.0                                                NaN   \n",
       "518   0:10.0         J. Wiseman misses 2-pt jump shot from 9 ft   \n",
       "519   0:08.0                        Offensive rebound by D. Lee   \n",
       "520   0:07.0  M. Mulder makes 3-pt jump shot from 26 ft (ass...   \n",
       "521   0:00.0                                 End of 4th quarter   \n",
       "\n",
       "                                                        \\\n",
       "                                    Unnamed: 2_level_1   \n",
       "0    Jump ball: J. Wiseman vs. D. Jordan (J. Harris...   \n",
       "1                                                  NaN   \n",
       "2                                                  NaN   \n",
       "3                                                   +1   \n",
       "4                                                   +1   \n",
       "..                                                 ...   \n",
       "517                                                NaN   \n",
       "518                                                NaN   \n",
       "519                                                NaN   \n",
       "520                                                 +3   \n",
       "521                                 End of 4th quarter   \n",
       "\n",
       "                                                        \\\n",
       "                                                 Score   \n",
       "0    Jump ball: J. Wiseman vs. D. Jordan (J. Harris...   \n",
       "1                                                  0-0   \n",
       "2                                                  0-0   \n",
       "3                                                  1-0   \n",
       "4                                                  2-0   \n",
       "..                                                 ...   \n",
       "517                                             96-125   \n",
       "518                                             96-125   \n",
       "519                                             96-125   \n",
       "520                                             99-125   \n",
       "521                                 End of 4th quarter   \n",
       "\n",
       "                                                        \\\n",
       "                                    Unnamed: 4_level_1   \n",
       "0    Jump ball: J. Wiseman vs. D. Jordan (J. Harris...   \n",
       "1                                                  NaN   \n",
       "2                                                  NaN   \n",
       "3                                                  NaN   \n",
       "4                                                  NaN   \n",
       "..                                                 ...   \n",
       "517                                                NaN   \n",
       "518                                                NaN   \n",
       "519                                                NaN   \n",
       "520                                                NaN   \n",
       "521                                 End of 4th quarter   \n",
       "\n",
       "                                                        \n",
       "                                              Brooklyn  \n",
       "0    Jump ball: J. Wiseman vs. D. Jordan (J. Harris...  \n",
       "1                     Turnover by D. Jordan (bad pass)  \n",
       "2                                                  NaN  \n",
       "3                                                  NaN  \n",
       "4                                                  NaN  \n",
       "..                                                 ...  \n",
       "517                    Turnover by B. Brown (bad pass)  \n",
       "518                                                NaN  \n",
       "519                                                NaN  \n",
       "520                                                NaN  \n",
       "521                                 End of 4th quarter  \n",
       "\n",
       "[522 rows x 6 columns]"
      ]
     },
     "metadata": {},
     "execution_count": 149
    }
   ],
   "metadata": {}
  },
  {
   "cell_type": "code",
   "execution_count": 190,
   "source": [
    "def get_injuries():\n",
    "    try:\n",
    "        url = \"https://www.basketball-reference.com/friv/injuries.fcgi\"\n",
    "        df = pd.read_html(url)[0]\n",
    "        df = df.rename(columns = {\"Update\": \"Date\"})\n",
    "        df1 = df['Description'].str.split(pat = ' - ', expand = True)\n",
    "        df2 = df1[0].str.split(pat = '\\\\(', expand = True)\n",
    "        df3 = df2[1].str.rstrip(')')\n",
    "        df_final = df[['Player', 'Team' ,'Date']]\n",
    "        df_final['Status'] = df2[0]\n",
    "        df_final['Injury'] = df3[1]\n",
    "        df_final['Description'] = df1[1]\n",
    "        logging.info(f'Injury Function Successful, retrieving {len(df_final)} rows')\n",
    "        print(f'Injury Function Successful, retrieving {len(df_final)} rows')\n",
    "        return(df_final)\n",
    "    except ValueError:\n",
    "        logging.info(\"Injury Function Failed for Today's Games\")\n",
    "        print(\"Injury Function Failed for Today's Games\")\n",
    "        df = []\n",
    "        return(df)"
   ],
   "outputs": [],
   "metadata": {}
  },
  {
   "cell_type": "code",
   "execution_count": 198,
   "source": [
    "df = get_injuries()"
   ],
   "outputs": [
    {
     "output_type": "stream",
     "name": "stdout",
     "text": [
      "Injury Function Successful, retrieving 17 rows\n"
     ]
    }
   ],
   "metadata": {}
  },
  {
   "cell_type": "code",
   "execution_count": 6,
   "source": [
    "def get_transactions():\n",
    "    url = \"https://www.basketball-reference.com/leagues/NBA_2021_transactions.html\"\n",
    "    html = urlopen(url)\n",
    "    soup = BeautifulSoup(html)\n",
    "    trs = soup.findAll('li')[71:] # theres a bunch of garbage in the first 71 rows - no matter what \n",
    "    rows = []\n",
    "    mylist = []\n",
    "    for tr in trs:\n",
    "        date = tr.find('span')\n",
    "        if date is not None: # needed bc span can be null (multi <p> elements per span)\n",
    "            date = date.text\n",
    "        data = tr.findAll('p')\n",
    "        for p in data:\n",
    "            mylist.append(p.text)\n",
    "        data3 = [date] + [mylist]\n",
    "        rows.append(data3)\n",
    "        mylist = []\n",
    "\n",
    "    transactions = pd.DataFrame(rows)\n",
    "    transactions.columns = ['Date', 'Transaction']\n",
    "    transactions = transactions.explode('Transaction')\n",
    "    transactions['Date'] = pd.to_datetime(transactions['Date'])\n",
    "    transactions = transactions.query('Date != \"NaN\"')\n",
    "    transactions\n",
    "    logging.info(f'Transactions Function Successful, retrieving {len(transactions)} rows')\n",
    "    print(f'Transactions Function Successful, retrieving {len(transactions)} rows')\n",
    "    return(transactions)"
   ],
   "outputs": [],
   "metadata": {}
  },
  {
   "cell_type": "code",
   "execution_count": 3,
   "source": [
    "def schedule_scraper(month):\n",
    "    try:\n",
    "        global schedule_df\n",
    "        url = \"https://www.basketball-reference.com/leagues/NBA_2022_games-{}.html\".format(month)\n",
    "        html = urlopen(url)\n",
    "        soup = BeautifulSoup(html)\n",
    "\n",
    "        headers = [th.getText() for th in soup.findAll('tr')[0].findAll('th')]\n",
    "        headers[6] = 'boxScoreLink'\n",
    "        headers[7] = 'isOT'\n",
    "        headers = headers[1:]\n",
    "\n",
    "        rows = soup.findAll('tr')[1:]\n",
    "        date_info = [[th.getText() for th in rows[i].findAll('th')]\n",
    "                for i in range(len(rows))]\n",
    "\n",
    "        game_info = [[td.getText() for td in rows[i].findAll('td')]\n",
    "                for i in range(len(rows))]\n",
    "        date_info = [i[0] for i in date_info]\n",
    "\n",
    "        schedule = pd.DataFrame(game_info, columns = headers)\n",
    "        schedule['Date'] = date_info\n",
    "\n",
    "        schedule_df = schedule_df.append(schedule)\n",
    "        logging.info(f'Schedule Function Completed for {month}, retrieving {len(schedule_df)} rows')\n",
    "        print(f'Schedule Function Completed for {month}, retrieving {len(schedule_df)} rows')\n",
    "    except ValueError:\n",
    "        logging.info(\"Schedule Scraper Function Failed\")\n",
    "        print(\"Schedule Scraper Function Failed\")\n",
    "        df = []\n",
    "        return(df)\n",
    "\n",
    "month_list = ['october', 'november', 'december', 'january', 'february', 'march', 'april']\n",
    "schedule_df = pd.DataFrame()\n",
    "for month in month_list:\n",
    "    schedule_scraper(month)"
   ],
   "outputs": [
    {
     "output_type": "stream",
     "name": "stdout",
     "text": [
      "Schedule Function Completed for october, retrieving 93 rows\n",
      "Schedule Function Completed for november, retrieving 318 rows\n",
      "Schedule Function Completed for december, retrieving 538 rows\n",
      "Schedule Function Completed for january, retrieving 765 rows\n",
      "Schedule Function Completed for february, retrieving 925 rows\n",
      "Schedule Function Completed for march, retrieving 1150 rows\n",
      "Schedule Function Completed for april, retrieving 1230 rows\n"
     ]
    }
   ],
   "metadata": {}
  },
  {
   "cell_type": "code",
   "execution_count": 5,
   "source": [
    "conn = sql_connection()\n",
    "schedule_df.to_sql(con = conn, name = 'aws_schedule_table', index = False, if_exists = 'append')"
   ],
   "outputs": [
    {
     "output_type": "stream",
     "name": "stdout",
     "text": [
      "SQL Connection Successful\n"
     ]
    }
   ],
   "metadata": {}
  },
  {
   "cell_type": "code",
   "execution_count": 39,
   "source": [
    "def get_advanced_stats():\n",
    "    try:\n",
    "        url = \"https://www.basketball-reference.com/leagues/NBA_2021.html\"\n",
    "        df = pd.read_html(url)\n",
    "        df = pd.DataFrame(df[10])\n",
    "        df.drop(columns = df.columns[0], \n",
    "            axis=1, \n",
    "            inplace=True)\n",
    "\n",
    "        df.columns = ['Team', 'Age', 'W', 'L', 'PW', 'PL', 'MOV', 'SOS', 'SRS', 'ORTG', 'DRTG', 'NRTG', 'Pace', 'FTr', '3PAr', 'TS%', 'bby1', 'eFG%', 'TOV%', 'ORB%', 'FT/FGA', 'bby2', 'eFG%_opp', 'TOV%_opp', 'DRB%_opp', 'FT/FGA_opp', 'bby3', 'Arena', 'Attendance', 'Att/Game']\n",
    "        df.drop(['bby1', 'bby2', 'bby3'], axis = 1, inplace = True)\n",
    "        df = df.query('Team != \"League Average\"')\n",
    "        logging.info(f'Advanced Stats Function Successful, retrieving updated data for 30 Teams')\n",
    "        print(f'Advanced Stats Function Successful, retrieving updated data for 30 Teams')\n",
    "        return(df)\n",
    "    except ValueError:\n",
    "        logging.info(\"Advanced Stats Function Failed for Today's Games\")\n",
    "        print(\"Advanced Stats Function Failed for Today's Games\")\n",
    "        df = []\n",
    "        return(df)"
   ],
   "outputs": [],
   "metadata": {}
  },
  {
   "cell_type": "code",
   "execution_count": 2,
   "source": [
    "def get_odds():\n",
    "    try:\n",
    "        url = \"https://sportsbook.draftkings.com/leagues/basketball/88673861?category=game-lines&subcategory=game\"\n",
    "        df = pd.read_html(url)\n",
    "        data1 = df[0]\n",
    "        data2 = df[1]\n",
    "        data2 = data2.rename(columns = {\"Tomorrow\": \"Today\"})\n",
    "        data = data1.append(data2)\n",
    "        data\n",
    "        data['SPREAD'] = data['SPREAD'].str[:-4]\n",
    "        data['TOTAL'] = data['TOTAL'].str[:-4]\n",
    "        data['TOTAL'] = data['TOTAL'].str[2:]\n",
    "        data.reset_index(drop = True)\n",
    "        data\n",
    "\n",
    "        data['Today'] = data['Today'].str.replace(\"AM|PM\", \" \")\n",
    "        data['Today'] = data['Today'].str.split().str[1:2]\n",
    "        data['Today'] = pd.DataFrame([str(line).strip('[').strip(']').replace(\"'\",\"\") for line in data['Today']])\n",
    "        data = data.rename(columns = {\"Today\": \"team\", \"SPREAD\": \"spread\", \"TOTAL\": \"total_pts\", \"MONEYLINE\": \"moneyline\"})\n",
    "        logging.info(f'Odds Function Successful, retrieving {len(data)} rows')\n",
    "        print(f'Odds Function Successful, retrieving {len(data)} rows')\n",
    "        return(data)\n",
    "    except ValueError:\n",
    "        logging.info(\"Odds Function Failed for Today's Games\")\n",
    "        print(\"Odds Function Failed for Today's Games\")\n",
    "        data = []\n",
    "        return(data)"
   ],
   "outputs": [],
   "metadata": {}
  },
  {
   "cell_type": "code",
   "execution_count": 3,
   "source": [
    "odds = get_odds()"
   ],
   "outputs": [
    {
     "output_type": "stream",
     "name": "stdout",
     "text": [
      "Odds Function Failed for Today's Games\n"
     ]
    }
   ],
   "metadata": {}
  },
  {
   "cell_type": "code",
   "execution_count": 10,
   "source": [
    "conn = sql_connection()\n",
    "stats = get_player_stats()\n",
    "boxscores = get_boxscores(month = month, day = yesterday, year = year)\n",
    "injury_data = get_injuries()\n",
    "transactions = get_transactions()\n",
    "adv_stats = get_advanced_stats()\n",
    "odds = get_odds()"
   ],
   "outputs": [
    {
     "output_type": "stream",
     "name": "stdout",
     "text": [
      "SQL Connection Successful\n",
      "General Stats Function Successful, retrieving 731 updated rows\n",
      "Box Score Function Successful, retrieving 17 rows for 2021-08-25\n",
      "Injury Function Successful, retrieving 17 rows\n",
      "Transactions Function Successful, retrieving 823 rows\n",
      "Advanced Stats Function Successful, retrieving updated data for 30 Teams\n",
      "Odds Function Failed for Today's Games\n"
     ]
    }
   ],
   "metadata": {}
  },
  {
   "cell_type": "code",
   "execution_count": 38,
   "source": [
    "def write_to_sql(data, table_type):\n",
    "    data_name = [ k for k,v in globals().items() if v is data][0]\n",
    "    if len(data) == 0:\n",
    "        print(data_name + \" Failed, not writing to SQL\")\n",
    "        logging.info(data_name + \" Failed, not writing to SQL\")\n",
    "    else:\n",
    "        # ^ this disgusting monstrosity is to get the name of the -fucking- dataframe lmfao\n",
    "        data.to_sql(con = conn, name = (\"aws_\" + data_name + \"_table\"), index = False, if_exists = table_type)\n",
    "        print(\"Writing \" + data_name + \" table to SQL\")\n",
    "        logging.info(\"Writing \" + data_name + \" table to SQL\")"
   ],
   "outputs": [],
   "metadata": {}
  },
  {
   "cell_type": "code",
   "execution_count": 39,
   "source": [
    "# conn = sql_connection()\n",
    "write_to_sql(stats, \"replace\")"
   ],
   "outputs": [
    {
     "output_type": "stream",
     "name": "stdout",
     "text": [
      "Writing stats to SQL\n",
      "\n"
     ]
    }
   ],
   "metadata": {}
  },
  {
   "cell_type": "code",
   "execution_count": 61,
   "source": [
    "logs = pd.read_csv('example.log', sep=r'\\\\t', engine='python', header = None)\n",
    "logs = logs.rename(columns = {0 : \"errors\"})\n",
    "logs = logs.query(\"errors.str.contains('Failed')\", engine = \"python\")"
   ],
   "outputs": [],
   "metadata": {}
  },
  {
   "cell_type": "code",
   "execution_count": 62,
   "source": [
    "len(logs)"
   ],
   "outputs": [
    {
     "output_type": "execute_result",
     "data": {
      "text/plain": [
       "4"
      ]
     },
     "metadata": {},
     "execution_count": 62
    }
   ],
   "metadata": {}
  },
  {
   "cell_type": "code",
   "execution_count": 63,
   "source": [
    "def send_email_function():\n",
    "    try:\n",
    "        if len(logs) > 0:\n",
    "            print(logs)\n",
    "            # Send email\n",
    "        elif len(logs) == 0:\n",
    "            print('No Errors!')\n",
    "            ## DONT SEND EMAIL\n",
    "    except ValueError:\n",
    "        print('oof')"
   ],
   "outputs": [],
   "metadata": {}
  },
  {
   "cell_type": "code",
   "execution_count": 98,
   "source": [
    "send_email_function()"
   ],
   "outputs": [
    {
     "output_type": "stream",
     "name": "stdout",
     "text": [
      "                                               errors\n",
      "24  08/25/2021 09:05:26 PM Odds Function Failed fo...\n"
     ]
    }
   ],
   "metadata": {}
  },
  {
   "cell_type": "code",
   "execution_count": null,
   "source": [
    "write_to_sql(stats, \"replace\")\n",
    "write_to_sql(boxscores, \"append\")\n",
    "write_to_sql(injury_data, \"append\")\n",
    "write_to_sql(transactions, \"replace\")\n",
    "write_to_sql(adv_stats, \"replace\")\n",
    "write_to_sql(odds, \"append\")"
   ],
   "outputs": [],
   "metadata": {}
  },
  {
   "cell_type": "code",
   "execution_count": 12,
   "source": [
    "stats = get_player_stats()"
   ],
   "outputs": [
    {
     "output_type": "stream",
     "name": "stdout",
     "text": [
      "General Stats Function Successful, retrieving 731 updated rows\n"
     ]
    }
   ],
   "metadata": {}
  },
  {
   "cell_type": "code",
   "execution_count": 64,
   "source": [
    "import smtplib\n",
    "from email.mime.text import MIMEText\n",
    "from email.mime.multipart import MIMEMultipart\n",
    "\n",
    "def sendEmail():\n",
    "    email = os.environ.get(\"USER_EMAIL\") # the email where you sent the email\n",
    "    password = os.environ.get(\"USER_PW\")\n",
    "    send_to_email = os.environ.get(\"USER_EMAIL\") # for whom\n",
    "    message = '''\\\n",
    "<h3>sup hoe here are the errors.</h3>\n",
    "                   {}'''.format(logs.to_html())\n",
    "\n",
    "    msg = MIMEMultipart()\n",
    "    msg[\"From\"] = email\n",
    "    msg[\"To\"] = send_to_email\n",
    "    msg[\"Subject\"] = str(len(logs)) +\" Alert Fails for \" + str(today) + ' Python NBA Web Scrape'\n",
    "    msg.attach(MIMEText(message, 'html'))\n",
    "\n",
    "    server = smtplib.SMTP(\"smtp.gmail.com\", 587)\n",
    "    server.starttls()\n",
    "    server.login(email, password)\n",
    "    text = msg.as_string()\n",
    "    server.sendmail(email, send_to_email, text)\n",
    "    server.quit()"
   ],
   "outputs": [],
   "metadata": {}
  },
  {
   "cell_type": "code",
   "execution_count": 65,
   "source": [
    "sendEmail()"
   ],
   "outputs": [],
   "metadata": {}
  },
  {
   "cell_type": "code",
   "execution_count": 51,
   "source": [
    "def send_email_function():\n",
    "    try:\n",
    "        if len(logs) > 0:\n",
    "            print('Sending Email')\n",
    "            sendEmail()\n",
    "        elif len(logs) == 0:\n",
    "            print('No Errors!')\n",
    "            ## DONT SEND EMAIL\n",
    "    except ValueError:\n",
    "        print('oof')"
   ],
   "outputs": [],
   "metadata": {}
  },
  {
   "cell_type": "code",
   "execution_count": 57,
   "source": [
    "\n",
    "send_email_function()"
   ],
   "outputs": [
    {
     "output_type": "stream",
     "name": "stdout",
     "text": [
      "No Errors!\n"
     ]
    }
   ],
   "metadata": {}
  }
 ],
 "metadata": {
  "orig_nbformat": 4,
  "language_info": {
   "name": "python",
   "version": "3.8.8",
   "mimetype": "text/x-python",
   "codemirror_mode": {
    "name": "ipython",
    "version": 3
   },
   "pygments_lexer": "ipython3",
   "nbconvert_exporter": "python",
   "file_extension": ".py"
  },
  "kernelspec": {
   "name": "python3",
   "display_name": "Python 3.8.8 64-bit"
  },
  "interpreter": {
   "hash": "6ed01d7c1b2618b9cae117b93980b2175bf2fb369f71bb0d7439def5bd7cfad9"
  }
 },
 "nbformat": 4,
 "nbformat_minor": 2
}
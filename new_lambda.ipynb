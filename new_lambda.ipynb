{
 "cells": [
  {
   "cell_type": "code",
   "execution_count": 3,
   "source": [
    "import logging\r\n",
    "import os\r\n",
    "from urllib.request import urlopen\r\n",
    "from bs4 import BeautifulSoup\r\n",
    "from sqlalchemy import exc, create_engine\r\n",
    "import pymysql\r\n",
    "import pandas as pd\r\n",
    "\r\n",
    "logger = logging.getLogger()\r\n",
    "logger.setLevel(logging.INFO)\r\n"
   ],
   "outputs": [],
   "metadata": {}
  },
  {
   "cell_type": "code",
   "execution_count": 2,
   "source": [
    "try:\r\n",
    "    conn = pymysql.connect(host=os.environ.get('IP'), user=os.environ.get('RDS_USER'), passwd=os.environ.get('RDS_PW'),\r\n",
    "     db=os.environ.get('jacob_db'), connect_timeout=5)\r\n",
    "except pymysql.MySQLError as e:\r\n",
    "    logger.error(\"ERROR: Unexpected error: Could not connect to MySQL instance.\")\r\n",
    "    logger.error(e)\r\n",
    "    sys.exit()\r\n"
   ],
   "outputs": [],
   "metadata": {}
  },
  {
   "cell_type": "code",
   "execution_count": 24,
   "source": [
    "def get_player_stats():\r\n",
    "    year = 2021\r\n",
    "    url = \"https://www.basketball-reference.com/leagues/NBA_{}_per_game.html\".format(year)\r\n",
    "    html = urlopen(url)\r\n",
    "    soup = BeautifulSoup(html)\r\n",
    "\r\n",
    "    headers = [th.getText() for th in soup.findAll('tr', limit=2)[0].findAll('th')]\r\n",
    "    headers = headers[1:]\r\n",
    "\r\n",
    "    rows = soup.findAll('tr')[1:]\r\n",
    "    player_stats = [[td.getText() for td in rows[i].findAll('td')]\r\n",
    "            for i in range(len(rows))]\r\n",
    "\r\n",
    "    stats = DataFrame(player_stats, columns = headers)\r\n",
    "    stats['PTS'] = to_numeric(stats['PTS'])\r\n",
    "    logger.info(f'General Stats Function Successful, retrieving {len(stats)} updated rows')\r\n",
    "    return(stats)"
   ],
   "outputs": [],
   "metadata": {}
  },
  {
   "cell_type": "code",
   "execution_count": 25,
   "source": [
    "stats = get_player_stats()"
   ],
   "outputs": [
    {
     "output_type": "stream",
     "name": "stderr",
     "text": [
      "INFO:root:General Stats Function Successful, retrieving 731 updated rows\n"
     ]
    }
   ],
   "metadata": {}
  },
  {
   "cell_type": "code",
   "execution_count": 6,
   "source": [
    "connection = create_engine('mysql+mysqlconnector://' + os.environ.get('RDS_USER') + ':' + os.environ.get('RDS_PW') + '@' + os.environ.get('IP') + ':' + os.environ.get('PORT') + '/' + os.environ.get('RDS_DB'),\r\n",
    "                     echo = False)"
   ],
   "outputs": [
    {
     "output_type": "error",
     "ename": "ModuleNotFoundError",
     "evalue": "No module named 'mysql'",
     "traceback": [
      "\u001b[1;31m---------------------------------------------------------------------------\u001b[0m",
      "\u001b[1;31mModuleNotFoundError\u001b[0m                       Traceback (most recent call last)",
      "\u001b[1;32m<ipython-input-6-65c9def2f165>\u001b[0m in \u001b[0;36m<module>\u001b[1;34m\u001b[0m\n\u001b[1;32m----> 1\u001b[1;33m connection = create_engine('mysql+mysqlconnector://' + os.environ.get('RDS_USER') + ':' + os.environ.get('RDS_PW') + '@' + os.environ.get('IP') + ':' + os.environ.get('PORT') + '/' + os.environ.get('RDS_DB'),\n\u001b[0m\u001b[0;32m      2\u001b[0m                      echo = False)\n",
      "\u001b[1;32m<string>\u001b[0m in \u001b[0;36mcreate_engine\u001b[1;34m(url, **kwargs)\u001b[0m\n",
      "\u001b[1;32m~\\Anaconda3\\envs\\jacobs_lambda\\lib\\site-packages\\sqlalchemy\\util\\deprecations.py\u001b[0m in \u001b[0;36mwarned\u001b[1;34m(fn, *args, **kwargs)\u001b[0m\n\u001b[0;32m    296\u001b[0m                         \u001b[0mstacklevel\u001b[0m\u001b[1;33m=\u001b[0m\u001b[1;36m3\u001b[0m\u001b[1;33m,\u001b[0m\u001b[1;33m\u001b[0m\u001b[1;33m\u001b[0m\u001b[0m\n\u001b[0;32m    297\u001b[0m                     )\n\u001b[1;32m--> 298\u001b[1;33m             \u001b[1;32mreturn\u001b[0m \u001b[0mfn\u001b[0m\u001b[1;33m(\u001b[0m\u001b[1;33m*\u001b[0m\u001b[0margs\u001b[0m\u001b[1;33m,\u001b[0m \u001b[1;33m**\u001b[0m\u001b[0mkwargs\u001b[0m\u001b[1;33m)\u001b[0m\u001b[1;33m\u001b[0m\u001b[1;33m\u001b[0m\u001b[0m\n\u001b[0m\u001b[0;32m    299\u001b[0m \u001b[1;33m\u001b[0m\u001b[0m\n\u001b[0;32m    300\u001b[0m         \u001b[0mdoc\u001b[0m \u001b[1;33m=\u001b[0m \u001b[0mfn\u001b[0m\u001b[1;33m.\u001b[0m\u001b[0m__doc__\u001b[0m \u001b[1;32mis\u001b[0m \u001b[1;32mnot\u001b[0m \u001b[1;32mNone\u001b[0m \u001b[1;32mand\u001b[0m \u001b[0mfn\u001b[0m\u001b[1;33m.\u001b[0m\u001b[0m__doc__\u001b[0m \u001b[1;32mor\u001b[0m \u001b[1;34m\"\"\u001b[0m\u001b[1;33m\u001b[0m\u001b[1;33m\u001b[0m\u001b[0m\n",
      "\u001b[1;32m~\\Anaconda3\\envs\\jacobs_lambda\\lib\\site-packages\\sqlalchemy\\engine\\create.py\u001b[0m in \u001b[0;36mcreate_engine\u001b[1;34m(url, **kwargs)\u001b[0m\n\u001b[0;32m    546\u001b[0m             \u001b[1;32mif\u001b[0m \u001b[0mk\u001b[0m \u001b[1;32min\u001b[0m \u001b[0mkwargs\u001b[0m\u001b[1;33m:\u001b[0m\u001b[1;33m\u001b[0m\u001b[1;33m\u001b[0m\u001b[0m\n\u001b[0;32m    547\u001b[0m                 \u001b[0mdbapi_args\u001b[0m\u001b[1;33m[\u001b[0m\u001b[0mk\u001b[0m\u001b[1;33m]\u001b[0m \u001b[1;33m=\u001b[0m \u001b[0mpop_kwarg\u001b[0m\u001b[1;33m(\u001b[0m\u001b[0mk\u001b[0m\u001b[1;33m)\u001b[0m\u001b[1;33m\u001b[0m\u001b[1;33m\u001b[0m\u001b[0m\n\u001b[1;32m--> 548\u001b[1;33m         \u001b[0mdbapi\u001b[0m \u001b[1;33m=\u001b[0m \u001b[0mdialect_cls\u001b[0m\u001b[1;33m.\u001b[0m\u001b[0mdbapi\u001b[0m\u001b[1;33m(\u001b[0m\u001b[1;33m**\u001b[0m\u001b[0mdbapi_args\u001b[0m\u001b[1;33m)\u001b[0m\u001b[1;33m\u001b[0m\u001b[1;33m\u001b[0m\u001b[0m\n\u001b[0m\u001b[0;32m    549\u001b[0m \u001b[1;33m\u001b[0m\u001b[0m\n\u001b[0;32m    550\u001b[0m     \u001b[0mdialect_args\u001b[0m\u001b[1;33m[\u001b[0m\u001b[1;34m\"dbapi\"\u001b[0m\u001b[1;33m]\u001b[0m \u001b[1;33m=\u001b[0m \u001b[0mdbapi\u001b[0m\u001b[1;33m\u001b[0m\u001b[1;33m\u001b[0m\u001b[0m\n",
      "\u001b[1;32m~\\Anaconda3\\envs\\jacobs_lambda\\lib\\site-packages\\sqlalchemy\\dialects\\mysql\\mysqlconnector.py\u001b[0m in \u001b[0;36mdbapi\u001b[1;34m(cls)\u001b[0m\n\u001b[0;32m    127\u001b[0m     \u001b[1;33m@\u001b[0m\u001b[0mclassmethod\u001b[0m\u001b[1;33m\u001b[0m\u001b[1;33m\u001b[0m\u001b[0m\n\u001b[0;32m    128\u001b[0m     \u001b[1;32mdef\u001b[0m \u001b[0mdbapi\u001b[0m\u001b[1;33m(\u001b[0m\u001b[0mcls\u001b[0m\u001b[1;33m)\u001b[0m\u001b[1;33m:\u001b[0m\u001b[1;33m\u001b[0m\u001b[1;33m\u001b[0m\u001b[0m\n\u001b[1;32m--> 129\u001b[1;33m         \u001b[1;32mfrom\u001b[0m \u001b[0mmysql\u001b[0m \u001b[1;32mimport\u001b[0m \u001b[0mconnector\u001b[0m\u001b[1;33m\u001b[0m\u001b[1;33m\u001b[0m\u001b[0m\n\u001b[0m\u001b[0;32m    130\u001b[0m \u001b[1;33m\u001b[0m\u001b[0m\n\u001b[0;32m    131\u001b[0m         \u001b[1;32mreturn\u001b[0m \u001b[0mconnector\u001b[0m\u001b[1;33m\u001b[0m\u001b[1;33m\u001b[0m\u001b[0m\n",
      "\u001b[1;31mModuleNotFoundError\u001b[0m: No module named 'mysql'"
     ]
    }
   ],
   "metadata": {}
  },
  {
   "cell_type": "code",
   "execution_count": 15,
   "source": [
    "stats.to_sql(con = connection, name = \"player_stats\", index = False, if_exists = \"replace\")"
   ],
   "outputs": [],
   "metadata": {}
  },
  {
   "cell_type": "code",
   "execution_count": 10,
   "source": [
    "all_tables1 = pd.read_sql_query('SHOW TABLES FROM jacob_db;', connection)"
   ],
   "outputs": [],
   "metadata": {}
  },
  {
   "cell_type": "code",
   "execution_count": 17,
   "source": [
    "all_tables1"
   ],
   "outputs": [
    {
     "output_type": "execute_result",
     "data": {
      "text/plain": [
       "   Tables_in_jacob_db\n",
       "0         aws_odds_df\n",
       "1  my_python_injuries\n",
       "2     my_python_table\n",
       "3        player_stats"
      ],
      "text/html": [
       "<div>\n",
       "<style scoped>\n",
       "    .dataframe tbody tr th:only-of-type {\n",
       "        vertical-align: middle;\n",
       "    }\n",
       "\n",
       "    .dataframe tbody tr th {\n",
       "        vertical-align: top;\n",
       "    }\n",
       "\n",
       "    .dataframe thead th {\n",
       "        text-align: right;\n",
       "    }\n",
       "</style>\n",
       "<table border=\"1\" class=\"dataframe\">\n",
       "  <thead>\n",
       "    <tr style=\"text-align: right;\">\n",
       "      <th></th>\n",
       "      <th>Tables_in_jacob_db</th>\n",
       "    </tr>\n",
       "  </thead>\n",
       "  <tbody>\n",
       "    <tr>\n",
       "      <th>0</th>\n",
       "      <td>aws_odds_df</td>\n",
       "    </tr>\n",
       "    <tr>\n",
       "      <th>1</th>\n",
       "      <td>my_python_injuries</td>\n",
       "    </tr>\n",
       "    <tr>\n",
       "      <th>2</th>\n",
       "      <td>my_python_table</td>\n",
       "    </tr>\n",
       "    <tr>\n",
       "      <th>3</th>\n",
       "      <td>player_stats</td>\n",
       "    </tr>\n",
       "  </tbody>\n",
       "</table>\n",
       "</div>"
      ]
     },
     "metadata": {},
     "execution_count": 17
    }
   ],
   "metadata": {}
  },
  {
   "cell_type": "code",
   "execution_count": 1,
   "source": [
    "def sql_connection():\r\n",
    "    try:\r\n",
    "        connection = create_engine('mysql+pymysql://' + os.environ.get('RDS_USER') + ':' + os.environ.get('RDS_PW') + '@' + os.environ.get('IP') + ':' + os.environ.get('PORT') + '/' + os.environ.get('RDS_DB'),\r\n",
    "                     echo = False)\r\n",
    "        logging.info('SQL Connection Successful')\r\n",
    "        return(connection)\r\n",
    "    except exc.SQLAlchemyError as e:\r\n",
    "        logging.error('SQL Connection Failed, Error:', e)\r\n",
    "        return e\r\n"
   ],
   "outputs": [],
   "metadata": {}
  },
  {
   "cell_type": "code",
   "execution_count": 11,
   "source": [
    "engine = sql_connection()"
   ],
   "outputs": [
    {
     "output_type": "stream",
     "name": "stderr",
     "text": [
      "INFO:root:SQL Connection Successful\n"
     ]
    }
   ],
   "metadata": {}
  },
  {
   "cell_type": "code",
   "execution_count": 12,
   "source": [
    "all_tables1 = pd.read_sql_query('SHOW TABLES FROM jacob_db;', engine)"
   ],
   "outputs": [],
   "metadata": {}
  },
  {
   "cell_type": "code",
   "execution_count": 13,
   "source": [
    "all_tables1"
   ],
   "outputs": [
    {
     "output_type": "execute_result",
     "data": {
      "text/plain": [
       "    Tables_in_jacob_db\n",
       "0          aws_odds_df\n",
       "1   my_python_injuries\n",
       "2      my_python_table\n",
       "3         player_stats\n",
       "4        player_stats2\n",
       "5        player_stats3\n",
       "6        player_stats4\n",
       "7       player_stats44\n",
       "8       player_stats69\n",
       "9       player_stats71\n",
       "10      player_stats72"
      ],
      "text/html": [
       "<div>\n",
       "<style scoped>\n",
       "    .dataframe tbody tr th:only-of-type {\n",
       "        vertical-align: middle;\n",
       "    }\n",
       "\n",
       "    .dataframe tbody tr th {\n",
       "        vertical-align: top;\n",
       "    }\n",
       "\n",
       "    .dataframe thead th {\n",
       "        text-align: right;\n",
       "    }\n",
       "</style>\n",
       "<table border=\"1\" class=\"dataframe\">\n",
       "  <thead>\n",
       "    <tr style=\"text-align: right;\">\n",
       "      <th></th>\n",
       "      <th>Tables_in_jacob_db</th>\n",
       "    </tr>\n",
       "  </thead>\n",
       "  <tbody>\n",
       "    <tr>\n",
       "      <th>0</th>\n",
       "      <td>aws_odds_df</td>\n",
       "    </tr>\n",
       "    <tr>\n",
       "      <th>1</th>\n",
       "      <td>my_python_injuries</td>\n",
       "    </tr>\n",
       "    <tr>\n",
       "      <th>2</th>\n",
       "      <td>my_python_table</td>\n",
       "    </tr>\n",
       "    <tr>\n",
       "      <th>3</th>\n",
       "      <td>player_stats</td>\n",
       "    </tr>\n",
       "    <tr>\n",
       "      <th>4</th>\n",
       "      <td>player_stats2</td>\n",
       "    </tr>\n",
       "    <tr>\n",
       "      <th>5</th>\n",
       "      <td>player_stats3</td>\n",
       "    </tr>\n",
       "    <tr>\n",
       "      <th>6</th>\n",
       "      <td>player_stats4</td>\n",
       "    </tr>\n",
       "    <tr>\n",
       "      <th>7</th>\n",
       "      <td>player_stats44</td>\n",
       "    </tr>\n",
       "    <tr>\n",
       "      <th>8</th>\n",
       "      <td>player_stats69</td>\n",
       "    </tr>\n",
       "    <tr>\n",
       "      <th>9</th>\n",
       "      <td>player_stats71</td>\n",
       "    </tr>\n",
       "    <tr>\n",
       "      <th>10</th>\n",
       "      <td>player_stats72</td>\n",
       "    </tr>\n",
       "  </tbody>\n",
       "</table>\n",
       "</div>"
      ]
     },
     "metadata": {},
     "execution_count": 13
    }
   ],
   "metadata": {}
  },
  {
   "cell_type": "code",
   "execution_count": 14,
   "source": [
    "df1 = pd.read_sql_query('SELECT * FROM player_stats72;', engine)"
   ],
   "outputs": [],
   "metadata": {}
  },
  {
   "cell_type": "code",
   "execution_count": 15,
   "source": [
    "df1"
   ],
   "outputs": [
    {
     "output_type": "execute_result",
     "data": {
      "text/plain": [
       "              Player                    Team             Update  \\\n",
       "0     Onyeka Okongwu           Atlanta Hawks  Wed, Jul 21, 2021   \n",
       "1       Jaylen Brown          Boston Celtics  Thu, May 13, 2021   \n",
       "2         Coby White           Chicago Bulls  Thu, Jun 10, 2021   \n",
       "3       Jamal Murray          Denver Nuggets  Thu, Jul 22, 2021   \n",
       "4      Klay Thompson   Golden State Warriors  Thu, Jul 22, 2021   \n",
       "5      James Wiseman   Golden State Warriors  Thu, Jul 22, 2021   \n",
       "6        T.J. Warren          Indiana Pacers  Thu, Mar 25, 2021   \n",
       "7   Donte DiVincenzo         Milwaukee Bucks  Fri, May 28, 2021   \n",
       "8     Jarrett Culver  Minnesota Timberwolves  Thu, Apr 29, 2021   \n",
       "9     Taurean Prince  Minnesota Timberwolves  Thu, Apr 22, 2021   \n",
       "10    Markelle Fultz           Orlando Magic   Wed, Jan 6, 2021   \n",
       "11    Jonathan Isaac           Orlando Magic   Fri, Mar 5, 2021   \n",
       "12       Dario Šarić            Phoenix Suns   Wed, Jul 7, 2021   \n",
       "13      Zach Collins       San Antonio Spurs  Tue, Jun 29, 2021   \n",
       "14     Pascal Siakam         Toronto Raptors  Fri, Jun 11, 2021   \n",
       "15       Deni Avdija      Washington Wizards  Fri, Apr 23, 2021   \n",
       "16     Thomas Bryant      Washington Wizards   Tue, Feb 2, 2021   \n",
       "\n",
       "                                          Description  \n",
       "0   Out (Shoulder) - The Hawks announced that Okon...  \n",
       "1   Out (Wrist) - The Celtics announced that Brown...  \n",
       "2   Out (Shoulder) - The Bulls announced that Whit...  \n",
       "3   Out (Knee) - Murray is recovering from a torn ...  \n",
       "4   Out (Right Achilles) - Thompson is on track to...  \n",
       "5   Out (Knee) - Wiseman is on track to be ready b...  \n",
       "6   Out (Foot) - Warren underwent foot surgery and...  \n",
       "7   Out (Foot) - DiVincenzo suffered a tendon inju...  \n",
       "8   Out (Ankle) - The Timberwolves announced Culve...  \n",
       "9   Out (Ankle) - The Cavaliers announced F Taurea...  \n",
       "10  Out (Knee) - Fultz will miss the rest of the s...  \n",
       "11  Out (Knee) - Isaac is making progress with his...  \n",
       "12  Out (Knee) - The Suns announced that Sario has...  \n",
       "13  Out (Ankle) - The Blazers announced that Colli...  \n",
       "14  Out (Shoulder) - The Raptors announced Pascal ...  \n",
       "15  Out (Leg) - The Wizards announced that Avdija ...  \n",
       "16  Out (Left knee) - The Wizards announced that B...  "
      ],
      "text/html": [
       "<div>\n",
       "<style scoped>\n",
       "    .dataframe tbody tr th:only-of-type {\n",
       "        vertical-align: middle;\n",
       "    }\n",
       "\n",
       "    .dataframe tbody tr th {\n",
       "        vertical-align: top;\n",
       "    }\n",
       "\n",
       "    .dataframe thead th {\n",
       "        text-align: right;\n",
       "    }\n",
       "</style>\n",
       "<table border=\"1\" class=\"dataframe\">\n",
       "  <thead>\n",
       "    <tr style=\"text-align: right;\">\n",
       "      <th></th>\n",
       "      <th>Player</th>\n",
       "      <th>Team</th>\n",
       "      <th>Update</th>\n",
       "      <th>Description</th>\n",
       "    </tr>\n",
       "  </thead>\n",
       "  <tbody>\n",
       "    <tr>\n",
       "      <th>0</th>\n",
       "      <td>Onyeka Okongwu</td>\n",
       "      <td>Atlanta Hawks</td>\n",
       "      <td>Wed, Jul 21, 2021</td>\n",
       "      <td>Out (Shoulder) - The Hawks announced that Okon...</td>\n",
       "    </tr>\n",
       "    <tr>\n",
       "      <th>1</th>\n",
       "      <td>Jaylen Brown</td>\n",
       "      <td>Boston Celtics</td>\n",
       "      <td>Thu, May 13, 2021</td>\n",
       "      <td>Out (Wrist) - The Celtics announced that Brown...</td>\n",
       "    </tr>\n",
       "    <tr>\n",
       "      <th>2</th>\n",
       "      <td>Coby White</td>\n",
       "      <td>Chicago Bulls</td>\n",
       "      <td>Thu, Jun 10, 2021</td>\n",
       "      <td>Out (Shoulder) - The Bulls announced that Whit...</td>\n",
       "    </tr>\n",
       "    <tr>\n",
       "      <th>3</th>\n",
       "      <td>Jamal Murray</td>\n",
       "      <td>Denver Nuggets</td>\n",
       "      <td>Thu, Jul 22, 2021</td>\n",
       "      <td>Out (Knee) - Murray is recovering from a torn ...</td>\n",
       "    </tr>\n",
       "    <tr>\n",
       "      <th>4</th>\n",
       "      <td>Klay Thompson</td>\n",
       "      <td>Golden State Warriors</td>\n",
       "      <td>Thu, Jul 22, 2021</td>\n",
       "      <td>Out (Right Achilles) - Thompson is on track to...</td>\n",
       "    </tr>\n",
       "    <tr>\n",
       "      <th>5</th>\n",
       "      <td>James Wiseman</td>\n",
       "      <td>Golden State Warriors</td>\n",
       "      <td>Thu, Jul 22, 2021</td>\n",
       "      <td>Out (Knee) - Wiseman is on track to be ready b...</td>\n",
       "    </tr>\n",
       "    <tr>\n",
       "      <th>6</th>\n",
       "      <td>T.J. Warren</td>\n",
       "      <td>Indiana Pacers</td>\n",
       "      <td>Thu, Mar 25, 2021</td>\n",
       "      <td>Out (Foot) - Warren underwent foot surgery and...</td>\n",
       "    </tr>\n",
       "    <tr>\n",
       "      <th>7</th>\n",
       "      <td>Donte DiVincenzo</td>\n",
       "      <td>Milwaukee Bucks</td>\n",
       "      <td>Fri, May 28, 2021</td>\n",
       "      <td>Out (Foot) - DiVincenzo suffered a tendon inju...</td>\n",
       "    </tr>\n",
       "    <tr>\n",
       "      <th>8</th>\n",
       "      <td>Jarrett Culver</td>\n",
       "      <td>Minnesota Timberwolves</td>\n",
       "      <td>Thu, Apr 29, 2021</td>\n",
       "      <td>Out (Ankle) - The Timberwolves announced Culve...</td>\n",
       "    </tr>\n",
       "    <tr>\n",
       "      <th>9</th>\n",
       "      <td>Taurean Prince</td>\n",
       "      <td>Minnesota Timberwolves</td>\n",
       "      <td>Thu, Apr 22, 2021</td>\n",
       "      <td>Out (Ankle) - The Cavaliers announced F Taurea...</td>\n",
       "    </tr>\n",
       "    <tr>\n",
       "      <th>10</th>\n",
       "      <td>Markelle Fultz</td>\n",
       "      <td>Orlando Magic</td>\n",
       "      <td>Wed, Jan 6, 2021</td>\n",
       "      <td>Out (Knee) - Fultz will miss the rest of the s...</td>\n",
       "    </tr>\n",
       "    <tr>\n",
       "      <th>11</th>\n",
       "      <td>Jonathan Isaac</td>\n",
       "      <td>Orlando Magic</td>\n",
       "      <td>Fri, Mar 5, 2021</td>\n",
       "      <td>Out (Knee) - Isaac is making progress with his...</td>\n",
       "    </tr>\n",
       "    <tr>\n",
       "      <th>12</th>\n",
       "      <td>Dario Šarić</td>\n",
       "      <td>Phoenix Suns</td>\n",
       "      <td>Wed, Jul 7, 2021</td>\n",
       "      <td>Out (Knee) - The Suns announced that Sario has...</td>\n",
       "    </tr>\n",
       "    <tr>\n",
       "      <th>13</th>\n",
       "      <td>Zach Collins</td>\n",
       "      <td>San Antonio Spurs</td>\n",
       "      <td>Tue, Jun 29, 2021</td>\n",
       "      <td>Out (Ankle) - The Blazers announced that Colli...</td>\n",
       "    </tr>\n",
       "    <tr>\n",
       "      <th>14</th>\n",
       "      <td>Pascal Siakam</td>\n",
       "      <td>Toronto Raptors</td>\n",
       "      <td>Fri, Jun 11, 2021</td>\n",
       "      <td>Out (Shoulder) - The Raptors announced Pascal ...</td>\n",
       "    </tr>\n",
       "    <tr>\n",
       "      <th>15</th>\n",
       "      <td>Deni Avdija</td>\n",
       "      <td>Washington Wizards</td>\n",
       "      <td>Fri, Apr 23, 2021</td>\n",
       "      <td>Out (Leg) - The Wizards announced that Avdija ...</td>\n",
       "    </tr>\n",
       "    <tr>\n",
       "      <th>16</th>\n",
       "      <td>Thomas Bryant</td>\n",
       "      <td>Washington Wizards</td>\n",
       "      <td>Tue, Feb 2, 2021</td>\n",
       "      <td>Out (Left knee) - The Wizards announced that B...</td>\n",
       "    </tr>\n",
       "  </tbody>\n",
       "</table>\n",
       "</div>"
      ]
     },
     "metadata": {},
     "execution_count": 15
    }
   ],
   "metadata": {}
  },
  {
   "cell_type": "code",
   "execution_count": 28,
   "source": [
    "stats.to_sql(con = engine, name = \"player_stats44\", index = False, if_exists = \"replace\")"
   ],
   "outputs": [],
   "metadata": {}
  },
  {
   "cell_type": "code",
   "execution_count": null,
   "source": [
    "import os\r\n",
    "import pandas as pd\r\n",
    "from sqlalchemy import exc, create_engine\r\n",
    "import pymysql\r\n",
    "\r\n",
    "print('LOADED FUNCTIONS')\r\n",
    "\r\n",
    "\r\n",
    "d = {'col1': [1, 2], 'col2': [3, 4]}\r\n",
    "df = pd.DataFrame(data=d)\r\n",
    "df\r\n",
    "\r\n",
    "def sql_connection():\r\n",
    "    try:\r\n",
    "        connection = create_engine('mysql+pymysql://' + os.environ.get('RDS_USER') + ':' + os.environ.get('RDS_PW') + '@' + os.environ.get('IP') + ':' + os.environ.get('PORT') + '/' + os.environ.get('RDS_DB'),\r\n",
    "                     echo = False)\r\n",
    "        print('SQL Connection Successful')\r\n",
    "        return(connection)\r\n",
    "    except exc.SQLAlchemyError as e:\r\n",
    "        print('SQL Connection Failed, Error:', e)\r\n",
    "        return e\r\n",
    "\r\n",
    "print('STARTING HANDLER')\r\n",
    "def lambda_handler(event, context):\r\n",
    "    print(len(df))\r\n",
    "    conn3 = sql_connection()\r\n",
    "    df.to_sql(con=conn3, name=\"player_stats4\", index=False, if_exists=\"replace\")\r\n",
    "    print('WOOT FINISHED')"
   ],
   "outputs": [],
   "metadata": {}
  }
 ],
 "metadata": {
  "orig_nbformat": 4,
  "language_info": {
   "name": "python",
   "version": "3.8.11",
   "mimetype": "text/x-python",
   "codemirror_mode": {
    "name": "ipython",
    "version": 3
   },
   "pygments_lexer": "ipython3",
   "nbconvert_exporter": "python",
   "file_extension": ".py"
  },
  "kernelspec": {
   "name": "python3",
   "display_name": "Python 3.8.11 64-bit ('base': conda)"
  },
  "interpreter": {
   "hash": "23631fb84f7d007f44401ba04533f258904c229b790399b66b79eae0a9abec65"
  }
 },
 "nbformat": 4,
 "nbformat_minor": 2
}
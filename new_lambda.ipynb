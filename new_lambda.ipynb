{
 "cells": [
  {
   "cell_type": "code",
   "execution_count": 1,
   "source": [
    "import os\n",
    "import sys\n",
    "from datetime import datetime, timezone, timedelta\n",
    "from urllib.request import urlopen\n",
    "import logging\n",
    "from bs4 import BeautifulSoup\n",
    "from sqlalchemy import exc, create_engine\n",
    "import pymysql\n",
    "import pandas as pd\n",
    "\n",
    "logging.basicConfig(filename='example.log', level=logging.DEBUG, format='%(asctime)s %(message)s', datefmt='%m/%d/%Y %I:%M:%S %p')\n",
    "logging.info('Starting Logging Function')\n",
    "\n",
    "today = datetime.now().date()\n",
    "yesterday = today - timedelta(1)\n",
    "day = (datetime.now() - timedelta(1)).day\n",
    "month = (datetime.now() - timedelta(1)).month\n",
    "year = (datetime.now() - timedelta(1)).year\n"
   ],
   "outputs": [],
   "metadata": {}
  },
  {
   "cell_type": "code",
   "execution_count": 17,
   "source": [
    "def sql_connection():\n",
    "    try:\n",
    "        connection = create_engine('mysql+pymysql://' + os.environ.get('RDS_USER') + ':' + os.environ.get('RDS_PW') + '@' + os.environ.get('IP') + ':' + '3306' + '/' + os.environ.get('RDS_DB'),\n",
    "                     echo = False)\n",
    "        logging.info('SQL Connection Successful')\n",
    "        print('SQL Connection Successful')\n",
    "        return(connection)\n",
    "    except exc.SQLAlchemyError as e:\n",
    "        logging.info('SQL Connection Failed, Error:', e)\n",
    "        print('SQL Connection Failed, Error:', e)\n",
    "        return(e)\n"
   ],
   "outputs": [],
   "metadata": {}
  },
  {
   "cell_type": "code",
   "execution_count": 2,
   "source": [
    "def get_player_stats():\n",
    "    try:\n",
    "        year = 2021\n",
    "        url = \"https://www.basketball-reference.com/leagues/NBA_{}_per_game.html\".format(year)\n",
    "        html = urlopen(url)\n",
    "        soup = BeautifulSoup(html)\n",
    "\n",
    "        headers = [th.getText() for th in soup.findAll('tr', limit=2)[0].findAll('th')]\n",
    "        headers = headers[1:]\n",
    "\n",
    "        rows = soup.findAll('tr')[1:]\n",
    "        player_stats = [[td.getText() for td in rows[i].findAll('td')]\n",
    "            for i in range(len(rows))]\n",
    "\n",
    "        stats = pd.DataFrame(player_stats, columns = headers)\n",
    "        stats['PTS'] = pd.to_numeric(stats['PTS'])\n",
    "        logging.info(f'General Stats Function Successful, retrieving {len(stats)} updated rows')\n",
    "        print(f'General Stats Function Successful, retrieving {len(stats)} updated rows')\n",
    "        return(stats)\n",
    "    except ValueError:\n",
    "        logging.info(\"General Stats Function Failed for Today's Games\")\n",
    "        print(\"General Stats Function Failed for Today's Games\")\n",
    "        df = []\n",
    "        return(df)"
   ],
   "outputs": [],
   "metadata": {}
  },
  {
   "cell_type": "code",
   "execution_count": 4,
   "source": [
    "def get_boxscores(month = month, day = day, year = year):\n",
    "    url = \"https://www.basketball-reference.com/friv/dailyleaders.fcgi?month={}&day={}&year={}&type=all\".format(month, day, year)\n",
    "    html = urlopen(url)\n",
    "    soup = BeautifulSoup(html)\n",
    "\n",
    "    try: \n",
    "        headers = [th.getText() for th in soup.findAll('tr', limit=2)[0].findAll('th')]\n",
    "        headers = headers[1:]\n",
    "        headers[2] = \"Location\"\n",
    "        headers[4] = \"Outcome\"\n",
    "\n",
    "        rows = soup.findAll('tr')[1:]\n",
    "        player_stats = [[td.getText() for td in rows[i].findAll('td')]\n",
    "            for i in range(len(rows))]\n",
    "\n",
    "        df = pd.DataFrame(player_stats, columns = headers)\n",
    "        df[['FG', 'FGA', 'FG%', '3P', '3PA', '3P%', 'DRB', 'TRB', 'AST', 'STL', 'BLK', 'TOV', 'PF', 'PTS', 'GmSc']] = df[['FG', 'FGA', 'FG%', '3P', '3PA', '3P%', 'DRB', 'TRB', 'AST', 'STL', 'BLK', 'TOV', 'PF', 'PTS', 'GmSc']].apply(pd.to_numeric)\n",
    "\n",
    "        df.sort_values('PTS', ascending = False)\n",
    "        logging.info(f'Box Score Function Successful, retrieving {len(df)} rows for {yesterday}')\n",
    "        print(f'Box Score Function Successful, retrieving {len(df)} rows for {yesterday}')\n",
    "        return(df)\n",
    "    except IndexError:\n",
    "        logging.info(f\"Box Score Function Failed, no data available for {yesterday}\")\n",
    "        print(f\"Box Score Function Failed, no data available for {yesterday}\")\n",
    "        df = []\n",
    "        return(df)"
   ],
   "outputs": [],
   "metadata": {}
  },
  {
   "cell_type": "code",
   "execution_count": 5,
   "source": [
    "def get_injuries():\n",
    "    try:\n",
    "        url = \"https://www.basketball-reference.com/friv/injuries.fcgi\"\n",
    "        df = pd.read_html(url)[0]\n",
    "        df = df.rename(columns = {\"Update\": \"Date\"})\n",
    "        logging.info(f'Injury Function Successful, retrieving {len(df)} rows')\n",
    "        print(f'Injury Function Successful, retrieving {len(df)} rows')\n",
    "        return(df)\n",
    "    except ValueError:\n",
    "        logging.info(\"Injury Function Failed for Today's Games\")\n",
    "        print(\"Injury Function Failed for Today's Games\")\n",
    "        df = []\n",
    "        return(df)"
   ],
   "outputs": [],
   "metadata": {}
  },
  {
   "cell_type": "code",
   "execution_count": 6,
   "source": [
    "def get_transactions():\n",
    "    url = \"https://www.basketball-reference.com/leagues/NBA_2021_transactions.html\"\n",
    "    html = urlopen(url)\n",
    "    soup = BeautifulSoup(html)\n",
    "    trs = soup.findAll('li')[71:] # theres a bunch of garbage in the first 71 rows - no matter what \n",
    "    rows = []\n",
    "    mylist = []\n",
    "    for tr in trs:\n",
    "        date = tr.find('span')\n",
    "        if date is not None: # needed bc span can be null (multi <p> elements per span)\n",
    "            date = date.text\n",
    "        data = tr.findAll('p')\n",
    "        for p in data:\n",
    "            mylist.append(p.text)\n",
    "        data3 = [date] + [mylist]\n",
    "        rows.append(data3)\n",
    "        mylist = []\n",
    "\n",
    "    transactions = pd.DataFrame(rows)\n",
    "    transactions.columns = ['Date', 'Transaction']\n",
    "    transactions = transactions.explode('Transaction')\n",
    "    transactions['Date'] = pd.to_datetime(transactions['Date'])\n",
    "    transactions = transactions.query('Date != \"NaN\"')\n",
    "    transactions\n",
    "    logging.info(f'Transactions Function Successful, retrieving {len(transactions)} rows')\n",
    "    print(f'Transactions Function Successful, retrieving {len(transactions)} rows')\n",
    "    return(transactions)"
   ],
   "outputs": [],
   "metadata": {}
  },
  {
   "cell_type": "code",
   "execution_count": 7,
   "source": [
    "def schedule_scraper(month):\n",
    "    try:\n",
    "        global schedule_df\n",
    "        url = \"https://www.basketball-reference.com/leagues/NBA_2021_games-{}.html\".format(month)\n",
    "        html = urlopen(url)\n",
    "        soup = BeautifulSoup(html)\n",
    "\n",
    "        headers = [th.getText() for th in soup.findAll('tr')[0].findAll('th')]\n",
    "        headers[6] = 'boxScoreLink'\n",
    "        headers[7] = 'isOT'\n",
    "        headers = headers[1:]\n",
    "\n",
    "        rows = soup.findAll('tr')[1:]\n",
    "        date_info = [[th.getText() for th in rows[i].findAll('th')]\n",
    "                for i in range(len(rows))]\n",
    "\n",
    "        game_info = [[td.getText() for td in rows[i].findAll('td')]\n",
    "                for i in range(len(rows))]\n",
    "        date_info = [i[0] for i in date_info]\n",
    "\n",
    "        schedule = pd.DataFrame(game_info, columns = headers)\n",
    "        schedule['Date'] = date_info\n",
    "\n",
    "        schedule_df = schedule_df.append(schedule)\n",
    "        logging.info(f'Schedule Function Completed for {month}, retrieving {len(schedule_df)} rows')\n",
    "        print(f'Schedule Function Completed for {month}, retrieving {len(schedule_df)} rows')\n",
    "    except ValueError:\n",
    "        logging.info(\"Schedule Scraper Function Failed\")\n",
    "        print(\"Schedule Scraper Function Failed\")\n",
    "        df = []\n",
    "        return(df)\n",
    "\n",
    "month_list = ['december', 'january', 'february', 'march', 'april', 'may', 'june', 'july']\n",
    "schedule_df = pd.DataFrame()\n",
    "for month in month_list:\n",
    "    schedule_scraper(month)"
   ],
   "outputs": [
    {
     "output_type": "stream",
     "name": "stdout",
     "text": [
      "Schedule Function Completed for december, retrieving 67 rows\n",
      "Schedule Function Completed for january, retrieving 289 rows\n",
      "Schedule Function Completed for february, retrieving 501 rows\n",
      "Schedule Function Completed for march, retrieving 705 rows\n",
      "Schedule Function Completed for april, retrieving 945 rows\n",
      "Schedule Function Completed for may, retrieving 1118 rows\n",
      "Schedule Function Completed for june, retrieving 1163 rows\n",
      "Schedule Function Completed for july, retrieving 1171 rows\n"
     ]
    }
   ],
   "metadata": {}
  },
  {
   "cell_type": "code",
   "execution_count": 39,
   "source": [
    "def get_advanced_stats():\n",
    "    try:\n",
    "        url = \"https://www.basketball-reference.com/leagues/NBA_2021.html\"\n",
    "        df = pd.read_html(url)\n",
    "        df = pd.DataFrame(df[10])\n",
    "        df.drop(columns = df.columns[0], \n",
    "            axis=1, \n",
    "            inplace=True)\n",
    "\n",
    "        df.columns = ['Team', 'Age', 'W', 'L', 'PW', 'PL', 'MOV', 'SOS', 'SRS', 'ORTG', 'DRTG', 'NRTG', 'Pace', 'FTr', '3PAr', 'TS%', 'bby1', 'eFG%', 'TOV%', 'ORB%', 'FT/FGA', 'bby2', 'eFG%_opp', 'TOV%_opp', 'DRB%_opp', 'FT/FGA_opp', 'bby3', 'Arena', 'Attendance', 'Att/Game']\n",
    "        df.drop(['bby1', 'bby2', 'bby3'], axis = 1, inplace = True)\n",
    "        df = df.query('Team != \"League Average\"')\n",
    "        logging.info(f'Advanced Stats Function Successful, retrieving updated data for 30 Teams')\n",
    "        print(f'Advanced Stats Function Successful, retrieving updated data for 30 Teams')\n",
    "        return(df)\n",
    "    except ValueError:\n",
    "        logging.info(\"Advanced Stats Function Failed for Today's Games\")\n",
    "        print(\"Advanced Stats Function Failed for Today's Games\")\n",
    "        df = []\n",
    "        return(df)"
   ],
   "outputs": [],
   "metadata": {}
  },
  {
   "cell_type": "code",
   "execution_count": 33,
   "source": [
    "def get_odds():\n",
    "    try:\n",
    "        url = \"https://sportsbook.draftkings.com/leagues/basketball/88673861?category=game-lines&subcategory=game\"\n",
    "        df = pd.read_html(url)\n",
    "        data1 = df[0]\n",
    "        data2 = df[1]\n",
    "        data2 = data2.rename(columns = {\"Tomorrow\": \"Today\"})\n",
    "        data = data1.append(data2)\n",
    "        data\n",
    "        data['SPREAD'] = data['SPREAD'].str[:-4]\n",
    "        data['TOTAL'] = data['TOTAL'].str[:-4]\n",
    "        data['TOTAL'] = data['TOTAL'].str[2:]\n",
    "        data.reset_index(drop = True)\n",
    "        data\n",
    "\n",
    "        data['Today'] = data['Today'].str.replace(\"AM|PM\", \" \")\n",
    "        data['Today'] = data['Today'].str.split().str[1:2]\n",
    "        data['Today'] = pd.DataFrame([str(line).strip('[').strip(']').replace(\"'\",\"\") for line in data['Today']])\n",
    "        data = data.rename(columns = {\"Today\": \"team\", \"SPREAD\": \"spread\", \"TOTAL\": \"total_pts\", \"MONEYLINE\": \"moneyline\"})\n",
    "        logging.info(f'Odds Function Successful, retrieving {len(data)} rows')\n",
    "        print(f'Odds Function Successful, retrieving {len(data)} rows')\n",
    "        return(data)\n",
    "    except ValueError:\n",
    "        logging.info(\"Odds Function Failed for Today's Games\")\n",
    "        print(\"Odds Function Failed for Today's Games\")\n",
    "        data = []\n",
    "        return(data)"
   ],
   "outputs": [],
   "metadata": {}
  },
  {
   "cell_type": "code",
   "execution_count": 10,
   "source": [
    "conn = sql_connection()\n",
    "stats = get_player_stats()\n",
    "boxscores = get_boxscores(month = month, day = yesterday, year = year)\n",
    "injury_data = get_injuries()\n",
    "transactions = get_transactions()\n",
    "adv_stats = get_advanced_stats()\n",
    "odds = get_odds()"
   ],
   "outputs": [
    {
     "output_type": "stream",
     "name": "stdout",
     "text": [
      "SQL Connection Successful\n",
      "General Stats Function Successful, retrieving 731 updated rows\n",
      "Box Score Function Successful, retrieving 17 rows for 2021-08-25\n",
      "Injury Function Successful, retrieving 17 rows\n",
      "Transactions Function Successful, retrieving 823 rows\n",
      "Advanced Stats Function Successful, retrieving updated data for 30 Teams\n",
      "Odds Function Failed for Today's Games\n"
     ]
    }
   ],
   "metadata": {}
  },
  {
   "cell_type": "code",
   "execution_count": 38,
   "source": [
    "def write_to_sql(data, table_type):\n",
    "    data_name = [ k for k,v in globals().items() if v is data][0]\n",
    "    if len(data) == 0:\n",
    "        print(data_name + \" Failed, not writing to SQL\")\n",
    "        logging.info(data_name + \" Failed, not writing to SQL\")\n",
    "    else:\n",
    "        # ^ this disgusting monstrosity is to get the name of the -fucking- dataframe lmfao\n",
    "        data.to_sql(con = conn, name = (\"aws_\" + data_name + \"_table\"), index = False, if_exists = table_type)\n",
    "        print(\"Writing \" + data_name + \" table to SQL\")\n",
    "        logging.info(\"Writing \" + data_name + \" table to SQL\")"
   ],
   "outputs": [],
   "metadata": {}
  },
  {
   "cell_type": "code",
   "execution_count": 39,
   "source": [
    "# conn = sql_connection()\n",
    "write_to_sql(stats, \"replace\")"
   ],
   "outputs": [
    {
     "output_type": "stream",
     "name": "stdout",
     "text": [
      "Writing stats to SQL\n",
      "\n"
     ]
    }
   ],
   "metadata": {}
  },
  {
   "cell_type": "code",
   "execution_count": 86,
   "source": [
    "logs = pd.read_csv('example.log', sep=r'\\\\t', engine='python', header = None)\n",
    "logs = logs.rename(columns = {0 : \"errors\"})"
   ],
   "outputs": [],
   "metadata": {}
  },
  {
   "cell_type": "code",
   "execution_count": 87,
   "source": [
    "logs_new = logs.query(\"errors.str.contains('Failed')\", engine = \"python\")"
   ],
   "outputs": [],
   "metadata": {}
  },
  {
   "cell_type": "code",
   "execution_count": 88,
   "source": [
    "logs_new"
   ],
   "outputs": [
    {
     "output_type": "execute_result",
     "data": {
      "text/plain": [
       "                                               errors\n",
       "24  08/25/2021 09:05:26 PM Odds Function Failed fo..."
      ],
      "text/html": [
       "<div>\n",
       "<style scoped>\n",
       "    .dataframe tbody tr th:only-of-type {\n",
       "        vertical-align: middle;\n",
       "    }\n",
       "\n",
       "    .dataframe tbody tr th {\n",
       "        vertical-align: top;\n",
       "    }\n",
       "\n",
       "    .dataframe thead th {\n",
       "        text-align: right;\n",
       "    }\n",
       "</style>\n",
       "<table border=\"1\" class=\"dataframe\">\n",
       "  <thead>\n",
       "    <tr style=\"text-align: right;\">\n",
       "      <th></th>\n",
       "      <th>errors</th>\n",
       "    </tr>\n",
       "  </thead>\n",
       "  <tbody>\n",
       "    <tr>\n",
       "      <th>24</th>\n",
       "      <td>08/25/2021 09:05:26 PM Odds Function Failed fo...</td>\n",
       "    </tr>\n",
       "  </tbody>\n",
       "</table>\n",
       "</div>"
      ]
     },
     "metadata": {},
     "execution_count": 88
    }
   ],
   "metadata": {}
  },
  {
   "cell_type": "code",
   "execution_count": 97,
   "source": [
    "def send_email_function():\n",
    "    try:\n",
    "        if len(logs_new) > 0:\n",
    "            print(logs_new)\n",
    "            # Send email\n",
    "        elif len(logs_new) == 0:\n",
    "            print('No Errors!')\n",
    "            ## DONT SEND EMAIL\n",
    "    except ValueError:\n",
    "        print('oof')"
   ],
   "outputs": [],
   "metadata": {}
  },
  {
   "cell_type": "code",
   "execution_count": 98,
   "source": [
    "send_email_function()"
   ],
   "outputs": [
    {
     "output_type": "stream",
     "name": "stdout",
     "text": [
      "                                               errors\n",
      "24  08/25/2021 09:05:26 PM Odds Function Failed fo...\n"
     ]
    }
   ],
   "metadata": {}
  },
  {
   "cell_type": "code",
   "execution_count": null,
   "source": [
    "write_to_sql(stats, \"replace\")\n",
    "write_to_sql(boxscores, \"append\")\n",
    "write_to_sql(injury_data, \"append\")\n",
    "write_to_sql(transactions, \"replace\")\n",
    "write_to_sql(adv_stats, \"replace\")\n",
    "write_to_sql(odds, \"append\")"
   ],
   "outputs": [],
   "metadata": {}
  },
  {
   "cell_type": "code",
   "execution_count": 12,
   "source": [
    "stats = get_player_stats()"
   ],
   "outputs": [
    {
     "output_type": "stream",
     "name": "stdout",
     "text": [
      "General Stats Function Successful, retrieving 731 updated rows\n"
     ]
    }
   ],
   "metadata": {}
  },
  {
   "cell_type": "code",
   "execution_count": 20,
   "source": [
    "stats_name = [ k for k,v in globals().items() if v is stats][0]\n",
    "stats_name\n"
   ],
   "outputs": [
    {
     "output_type": "execute_result",
     "data": {
      "text/plain": [
       "'stats'"
      ]
     },
     "metadata": {},
     "execution_count": 20
    }
   ],
   "metadata": {}
  }
 ],
 "metadata": {
  "orig_nbformat": 4,
  "language_info": {
   "name": "python",
   "version": "3.8.8",
   "mimetype": "text/x-python",
   "codemirror_mode": {
    "name": "ipython",
    "version": 3
   },
   "pygments_lexer": "ipython3",
   "nbconvert_exporter": "python",
   "file_extension": ".py"
  },
  "kernelspec": {
   "name": "python3",
   "display_name": "Python 3.8.8 64-bit ('base': conda)"
  },
  "interpreter": {
   "hash": "6ed01d7c1b2618b9cae117b93980b2175bf2fb369f71bb0d7439def5bd7cfad9"
  }
 },
 "nbformat": 4,
 "nbformat_minor": 2
}
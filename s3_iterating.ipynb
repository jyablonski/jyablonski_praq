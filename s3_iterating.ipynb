{
 "cells": [
  {
   "cell_type": "code",
   "execution_count": 1,
   "metadata": {},
   "outputs": [],
   "source": [
    "import pandas as pd\n",
    "import boto3\n",
    "import awswrangler as wr\n",
    "from datetime import datetime\n",
    "\n",
    "# steps should be:\n",
    "# write raw data to s3 / raw\n",
    "# lambda to receive those files and validate them into s3 / validated.\n",
    "# a lambda to process those validated files as they arrive and ingest into sql\n",
    "\n",
    "# a MANUAL script to wipe the source tables and re-ingest everything in the validated s3 buckets.\n",
    "\n",
    "# send emails out on any failed file ingestions / validations."
   ]
  },
  {
   "cell_type": "code",
   "execution_count": 51,
   "metadata": {},
   "outputs": [
    {
     "data": {
      "text/plain": [
       "['jacobsbucket97/boxscores/raw/boxscores-2021-10-27.parquet',\n",
       " 'jacobsbucket97/boxscores/raw/boxscores-2021-11-06.parquet',\n",
       " 'jacobsbucket97/boxscores/raw/boxscores-2021-11-07.parquet',\n",
       " 'jacobsbucket97/boxscores/raw/boxscores-2021-11-17.parquet',\n",
       " 'jacobsbucket97/boxscores/raw/boxscores-2021-11-19.parquet',\n",
       " 'jacobsbucket97/boxscores/raw/boxscores-2021-11-20.parquet',\n",
       " 'jacobsbucket97/boxscores/raw/boxscores-2021-11-24.parquet',\n",
       " 'jacobsbucket97/boxscores/raw/boxscores-2021-12-03.parquet',\n",
       " 'jacobsbucket97/boxscores/raw/boxscores-2021-12-10.parquet',\n",
       " 'jacobsbucket97/boxscores/raw/boxscores-2021-12-30.parquet',\n",
       " 'jacobsbucket97/boxscores/raw/boxscores-2022-01-01.parquet',\n",
       " 'jacobsbucket97/boxscores/raw/boxscores-2022-01-08.parquet',\n",
       " 'jacobsbucket97/boxscores/raw/boxscores-2022-01-14.parquet',\n",
       " 'jacobsbucket97/boxscores/raw/boxscores-2022-01-15.parquet',\n",
       " 'jacobsbucket97/boxscores/raw/boxscores-2022-01-19.csv',\n",
       " 'jacobsbucket97/boxscores/raw/boxscores-2022-01-19.parquet',\n",
       " 'jacobsbucket97/boxscores/raw/boxscores-2022-01-25.parquet',\n",
       " 'jacobsbucket97/boxscores/raw/boxscores-2022-01-26.parquet']"
      ]
     },
     "execution_count": 51,
     "metadata": {},
     "output_type": "execute_result"
    }
   ],
   "source": [
    "# use resource and not client, vconfusing\n",
    "s3_resource = boto3.resource('s3')\n",
    "extension = (\"parquet\", \"csv\")\n",
    "bucket='jacobsbucket97'\n",
    "boxscores_raw = list(f\"{bucket}/{i.key}\" for i in s3_resource.Bucket(bucket).objects.filter(Prefix = \"boxscores/raw/\")) # make sure it ends with /\n",
    "boxscores_raw = list(filter(lambda x: x.endswith(extension), boxscores_raw))\n",
    "boxscores_raw"
   ]
  },
  {
   "cell_type": "code",
   "execution_count": 50,
   "metadata": {},
   "outputs": [
    {
     "data": {
      "text/plain": [
       "[s3.Bucket(name='jacobs-lambda-packages'),\n",
       " s3.Bucket(name='jacobs-sqs-bucket'),\n",
       " s3.Bucket(name='jacobsbucket97'),\n",
       " s3.Bucket(name='jyablonski-lambda-bucket'),\n",
       " s3.Bucket(name='jyablonski-lambda-prac'),\n",
       " s3.Bucket(name='jyablonski-tf-cicd-bucket'),\n",
       " s3.Bucket(name='jyablonski-unhappy-bucket')]"
      ]
     },
     "execution_count": 50,
     "metadata": {},
     "output_type": "execute_result"
    }
   ],
   "source": [
    "# list all jimmy buckets\n",
    "s3 = boto3.resource('s3')\n",
    "buckets = list(s3.buckets.all())\n",
    "buckets"
   ]
  },
  {
   "cell_type": "code",
   "execution_count": 71,
   "metadata": {},
   "outputs": [
    {
     "name": "stdout",
     "output_type": "stream",
     "text": [
      "Reading s3://jacobsbucket97/boxscores/raw/boxscores-2021-10-27.parquet\n",
      "Writing Validated File to s3://jacobsbucket97/boxscores/validated/boxscores-2021-10-27.parquet\n",
      "Reading s3://jacobsbucket97/boxscores/raw/boxscores-2021-11-06.parquet\n",
      "Writing Validated File to s3://jacobsbucket97/boxscores/validated/boxscores-2021-11-06.parquet\n",
      "Reading s3://jacobsbucket97/boxscores/raw/boxscores-2021-11-07.parquet\n",
      "Writing Validated File to s3://jacobsbucket97/boxscores/validated/boxscores-2021-11-07.parquet\n",
      "Reading s3://jacobsbucket97/boxscores/raw/boxscores-2021-11-17.parquet\n",
      "Writing Validated File to s3://jacobsbucket97/boxscores/validated/boxscores-2021-11-17.parquet\n",
      "Reading s3://jacobsbucket97/boxscores/raw/boxscores-2021-11-19.parquet\n",
      "Writing Validated File to s3://jacobsbucket97/boxscores/validated/boxscores-2021-11-19.parquet\n",
      "Reading s3://jacobsbucket97/boxscores/raw/boxscores-2021-11-20.parquet\n",
      "Writing Validated File to s3://jacobsbucket97/boxscores/validated/boxscores-2021-11-20.parquet\n",
      "Reading s3://jacobsbucket97/boxscores/raw/boxscores-2021-11-24.parquet\n",
      "Writing Validated File to s3://jacobsbucket97/boxscores/validated/boxscores-2021-11-24.parquet\n",
      "Reading s3://jacobsbucket97/boxscores/raw/boxscores-2021-12-03.parquet\n",
      "Writing Validated File to s3://jacobsbucket97/boxscores/validated/boxscores-2021-12-03.parquet\n",
      "Reading s3://jacobsbucket97/boxscores/raw/boxscores-2021-12-10.parquet\n",
      "Writing Validated File to s3://jacobsbucket97/boxscores/validated/boxscores-2021-12-10.parquet\n",
      "Reading s3://jacobsbucket97/boxscores/raw/boxscores-2021-12-30.parquet\n",
      "Writing Validated File to s3://jacobsbucket97/boxscores/validated/boxscores-2021-12-30.parquet\n",
      "Reading s3://jacobsbucket97/boxscores/raw/boxscores-2022-01-01.parquet\n",
      "Writing Validated File to s3://jacobsbucket97/boxscores/validated/boxscores-2022-01-01.parquet\n",
      "Reading s3://jacobsbucket97/boxscores/raw/boxscores-2022-01-08.parquet\n",
      "Writing Validated File to s3://jacobsbucket97/boxscores/validated/boxscores-2022-01-08.parquet\n",
      "Reading s3://jacobsbucket97/boxscores/raw/boxscores-2022-01-14.parquet\n",
      "Writing Validated File to s3://jacobsbucket97/boxscores/validated/boxscores-2022-01-14.parquet\n",
      "Reading s3://jacobsbucket97/boxscores/raw/boxscores-2022-01-15.parquet\n",
      "Writing Validated File to s3://jacobsbucket97/boxscores/validated/boxscores-2022-01-15.parquet\n",
      "Reading s3://jacobsbucket97/boxscores/raw/boxscores-2022-01-19.parquet\n",
      "Writing Validated File to s3://jacobsbucket97/boxscores/validated/boxscores-2022-01-19.parquet\n",
      "Reading s3://jacobsbucket97/boxscores/raw/boxscores-2022-01-25.parquet\n",
      "Writing Validated File to s3://jacobsbucket97/boxscores/validated/boxscores-2022-01-25.parquet\n",
      "Reading s3://jacobsbucket97/boxscores/raw/boxscores-2022-01-26.parquet\n",
      "Writing Validated File to s3://jacobsbucket97/boxscores/validated/boxscores-2022-01-26.parquet\n",
      "Reading s3://jacobsbucket97/boxscores/raw/boxscores-2021-10-27.parquet.parquet\n"
     ]
    },
    {
     "ename": "NoFilesFound",
     "evalue": "No files Found on: s3://jacobsbucket97/boxscores/raw/boxscores-2021-10-27.parquet.parquet.",
     "output_type": "error",
     "traceback": [
      "\u001b[0;31m---------------------------------------------------------------------------\u001b[0m",
      "\u001b[0;31mNoFilesFound\u001b[0m                              Traceback (most recent call last)",
      "\u001b[0;32m<ipython-input-71-e5bbc8843295>\u001b[0m in \u001b[0;36m<module>\u001b[0;34m\u001b[0m\n\u001b[1;32m     15\u001b[0m         \u001b[0;32mif\u001b[0m \u001b[0;34m'parquet'\u001b[0m \u001b[0;32min\u001b[0m \u001b[0mobj\u001b[0m\u001b[0;34m[\u001b[0m\u001b[0;34m'Key'\u001b[0m\u001b[0;34m]\u001b[0m\u001b[0;34m:\u001b[0m\u001b[0;34m\u001b[0m\u001b[0;34m\u001b[0m\u001b[0m\n\u001b[1;32m     16\u001b[0m             \u001b[0mprint\u001b[0m\u001b[0;34m(\u001b[0m\u001b[0;34mf\"Reading {s3_path}/{initial_folder}/{file_name}\"\u001b[0m\u001b[0;34m)\u001b[0m\u001b[0;34m\u001b[0m\u001b[0;34m\u001b[0m\u001b[0m\n\u001b[0;32m---> 17\u001b[0;31m             \u001b[0mdf\u001b[0m \u001b[0;34m=\u001b[0m \u001b[0mwr\u001b[0m\u001b[0;34m.\u001b[0m\u001b[0ms3\u001b[0m\u001b[0;34m.\u001b[0m\u001b[0mread_parquet\u001b[0m\u001b[0;34m(\u001b[0m\u001b[0;34mf\"{s3_path}/{initial_folder}/{file_name}\"\u001b[0m\u001b[0;34m)\u001b[0m \u001b[0;31m# read in csv, parquet, zipped shit here.\u001b[0m\u001b[0;34m\u001b[0m\u001b[0;34m\u001b[0m\u001b[0m\n\u001b[0m\u001b[1;32m     18\u001b[0m             \u001b[0mdf\u001b[0m\u001b[0;34m[\u001b[0m\u001b[0;34m'file_name'\u001b[0m\u001b[0;34m]\u001b[0m \u001b[0;34m=\u001b[0m \u001b[0;34mf\"{s3_path}/{folder}/validated/{file_name}\"\u001b[0m\u001b[0;34m\u001b[0m\u001b[0;34m\u001b[0m\u001b[0m\n\u001b[1;32m     19\u001b[0m             \u001b[0;32mif\u001b[0m \u001b[0mlen\u001b[0m\u001b[0;34m(\u001b[0m\u001b[0mdf\u001b[0m\u001b[0;34m)\u001b[0m \u001b[0;34m>\u001b[0m \u001b[0;36m0\u001b[0m\u001b[0;34m:\u001b[0m \u001b[0;31m# do some validation here\u001b[0m\u001b[0;34m\u001b[0m\u001b[0;34m\u001b[0m\u001b[0m\n",
      "\u001b[0;32m~/anaconda3/lib/python3.8/site-packages/awswrangler/s3/_read_parquet.py\u001b[0m in \u001b[0;36mread_parquet\u001b[0;34m(path, path_root, path_suffix, path_ignore_suffix, version_id, ignore_empty, ignore_index, partition_filter, columns, validate_schema, chunked, dataset, categories, safe, map_types, use_threads, last_modified_begin, last_modified_end, boto3_session, s3_additional_kwargs, pyarrow_additional_kwargs)\u001b[0m\n\u001b[1;32m    732\u001b[0m         \u001b[0mpaths\u001b[0m \u001b[0;34m=\u001b[0m \u001b[0m_apply_partition_filter\u001b[0m\u001b[0;34m(\u001b[0m\u001b[0mpath_root\u001b[0m\u001b[0;34m=\u001b[0m\u001b[0mpath_root\u001b[0m\u001b[0;34m,\u001b[0m \u001b[0mpaths\u001b[0m\u001b[0;34m=\u001b[0m\u001b[0mpaths\u001b[0m\u001b[0;34m,\u001b[0m \u001b[0mfilter_func\u001b[0m\u001b[0;34m=\u001b[0m\u001b[0mpartition_filter\u001b[0m\u001b[0;34m)\u001b[0m\u001b[0;34m\u001b[0m\u001b[0;34m\u001b[0m\u001b[0m\n\u001b[1;32m    733\u001b[0m     \u001b[0;32mif\u001b[0m \u001b[0mlen\u001b[0m\u001b[0;34m(\u001b[0m\u001b[0mpaths\u001b[0m\u001b[0;34m)\u001b[0m \u001b[0;34m<\u001b[0m \u001b[0;36m1\u001b[0m\u001b[0;34m:\u001b[0m\u001b[0;34m\u001b[0m\u001b[0;34m\u001b[0m\u001b[0m\n\u001b[0;32m--> 734\u001b[0;31m         \u001b[0;32mraise\u001b[0m \u001b[0mexceptions\u001b[0m\u001b[0;34m.\u001b[0m\u001b[0mNoFilesFound\u001b[0m\u001b[0;34m(\u001b[0m\u001b[0;34mf\"No files Found on: {path}.\"\u001b[0m\u001b[0;34m)\u001b[0m\u001b[0;34m\u001b[0m\u001b[0;34m\u001b[0m\u001b[0m\n\u001b[0m\u001b[1;32m    735\u001b[0m     \u001b[0m_logger\u001b[0m\u001b[0;34m.\u001b[0m\u001b[0mdebug\u001b[0m\u001b[0;34m(\u001b[0m\u001b[0;34m\"paths:\\n%s\"\u001b[0m\u001b[0;34m,\u001b[0m \u001b[0mpaths\u001b[0m\u001b[0;34m)\u001b[0m\u001b[0;34m\u001b[0m\u001b[0;34m\u001b[0m\u001b[0m\n\u001b[1;32m    736\u001b[0m \u001b[0;34m\u001b[0m\u001b[0m\n",
      "\u001b[0;31mNoFilesFound\u001b[0m: No files Found on: s3://jacobsbucket97/boxscores/raw/boxscores-2021-10-27.parquet.parquet."
     ]
    }
   ],
   "source": [
    "s3_path = 's3://jacobsbucket97'\n",
    "bucket = \"jacobsbucket97\"\n",
    "folder = \"boxscores\"\n",
    "initial_folder = \"boxscores/raw\"\n",
    "s3 = boto3.client('s3')\n",
    "paginator = s3.get_paginator('list_objects_v2')\n",
    "pages = paginator.paginate(Bucket=bucket, Prefix=folder)\n",
    "\n",
    "# size is in kilobytes.\n",
    "# limit to 500,000 kbs.\n",
    "for page in pages:\n",
    "    obj_list = []\n",
    "    for obj in page['Contents']:\n",
    "        file_name = obj['Key'].split('/')[2]\n",
    "        if 'parquet' in obj['Key']:\n",
    "            print(f\"Reading {s3_path}/{initial_folder}/{file_name}\")\n",
    "            df = wr.s3.read_parquet(f\"{s3_path}/{initial_folder}/{file_name}\") # read in csv, parquet, zipped shit here.\n",
    "            df['file_name'] = f\"{s3_path}/{folder}/validated/{file_name}\"\n",
    "            if len(df) > 0: # do some validation here\n",
    "                wr.s3.to_parquet(\n",
    "                    df = df,\n",
    "                    path = f\"{s3_path}/{folder}/validated/{file_name}\",\n",
    "                    index = False\n",
    "                )\n",
    "                print(f\"Writing Validated File to {s3_path}/{folder}/validated/{file_name}\")"
   ]
  },
  {
   "cell_type": "code",
   "execution_count": 2,
   "metadata": {},
   "outputs": [
    {
     "name": "stdout",
     "output_type": "stream",
     "text": [
      "{'Key': 'boxscores/raw/', 'LastModified': datetime.datetime(2022, 2, 10, 4, 22, 44, tzinfo=tzutc()), 'ETag': '\"d41d8cd98f00b204e9800998ecf8427e\"', 'Size': 0, 'StorageClass': 'STANDARD'}\n",
      "{'Key': 'boxscores/raw/boxscores-2021-10-27.parquet', 'LastModified': datetime.datetime(2022, 2, 10, 4, 23, 7, tzinfo=tzutc()), 'ETag': '\"bb0ff2db7f8e277bdb7d6ec9496a2657\"', 'Size': 23835, 'StorageClass': 'STANDARD'}\n",
      "{'Key': 'boxscores/raw/boxscores-2021-11-06.parquet', 'LastModified': datetime.datetime(2022, 2, 10, 4, 23, 7, tzinfo=tzutc()), 'ETag': '\"1ad4d8485d12f48ff8f895dea2ccc974\"', 'Size': 24291, 'StorageClass': 'STANDARD'}\n",
      "{'Key': 'boxscores/raw/boxscores-2021-11-07.parquet', 'LastModified': datetime.datetime(2022, 2, 10, 4, 23, 7, tzinfo=tzutc()), 'ETag': '\"0c5d74ae43e6198c5b2d90b555cc7825\"', 'Size': 24288, 'StorageClass': 'STANDARD'}\n",
      "{'Key': 'boxscores/raw/boxscores-2021-11-17.parquet', 'LastModified': datetime.datetime(2022, 2, 10, 4, 23, 7, tzinfo=tzutc()), 'ETag': '\"8a7defb292080a6aae9b3477292af275\"', 'Size': 21903, 'StorageClass': 'STANDARD'}\n",
      "{'Key': 'boxscores/raw/boxscores-2021-11-19.parquet', 'LastModified': datetime.datetime(2022, 2, 10, 4, 23, 7, tzinfo=tzutc()), 'ETag': '\"a9709219e42044d9e2566ce19e70c9b5\"', 'Size': 24785, 'StorageClass': 'STANDARD'}\n",
      "{'Key': 'boxscores/raw/boxscores-2021-11-20.parquet', 'LastModified': datetime.datetime(2022, 2, 10, 4, 23, 7, tzinfo=tzutc()), 'ETag': '\"2caade1907fd4c40cc0ea532f3ab6fa1\"', 'Size': 26757, 'StorageClass': 'STANDARD'}\n",
      "{'Key': 'boxscores/raw/boxscores-2021-11-24.parquet', 'LastModified': datetime.datetime(2022, 2, 10, 4, 23, 7, tzinfo=tzutc()), 'ETag': '\"c6c021aba315cbe98490ff4f39ecf5b1\"', 'Size': 22606, 'StorageClass': 'STANDARD'}\n",
      "{'Key': 'boxscores/raw/boxscores-2021-12-03.parquet', 'LastModified': datetime.datetime(2022, 2, 10, 4, 23, 7, tzinfo=tzutc()), 'ETag': '\"c6c021aba315cbe98490ff4f39ecf5b1\"', 'Size': 22606, 'StorageClass': 'STANDARD'}\n",
      "{'Key': 'boxscores/raw/boxscores-2021-12-10.parquet', 'LastModified': datetime.datetime(2022, 2, 10, 4, 23, 7, tzinfo=tzutc()), 'ETag': '\"d666a4b0b36a7b4e1dad7ed291057b71\"', 'Size': 21779, 'StorageClass': 'STANDARD'}\n",
      "{'Key': 'boxscores/raw/boxscores-2021-12-30.parquet', 'LastModified': datetime.datetime(2022, 2, 10, 4, 23, 7, tzinfo=tzutc()), 'ETag': '\"ffbd7b54a3a272fddd5fff2c77e844ae\"', 'Size': 25929, 'StorageClass': 'STANDARD'}\n",
      "{'Key': 'boxscores/raw/boxscores-2022-01-01.parquet', 'LastModified': datetime.datetime(2022, 2, 10, 4, 23, 7, tzinfo=tzutc()), 'ETag': '\"ef26ecf503cf2208a96c2540386ed118\"', 'Size': 27920, 'StorageClass': 'STANDARD'}\n",
      "{'Key': 'boxscores/raw/boxscores-2022-01-08.parquet', 'LastModified': datetime.datetime(2022, 2, 10, 4, 23, 7, tzinfo=tzutc()), 'ETag': '\"dbfdfe071305c592483a8102998f39f7\"', 'Size': 27710, 'StorageClass': 'STANDARD'}\n",
      "{'Key': 'boxscores/raw/boxscores-2022-01-14.parquet', 'LastModified': datetime.datetime(2022, 2, 10, 4, 23, 7, tzinfo=tzutc()), 'ETag': '\"5eec58d33671466cb6b243cea6388573\"', 'Size': 24419, 'StorageClass': 'STANDARD'}\n",
      "{'Key': 'boxscores/raw/boxscores-2022-01-15.parquet', 'LastModified': datetime.datetime(2022, 2, 10, 4, 23, 7, tzinfo=tzutc()), 'ETag': '\"3f37cd1081a672d7720ddfccb4916dee\"', 'Size': 26969, 'StorageClass': 'STANDARD'}\n",
      "{'Key': 'boxscores/raw/boxscores-2022-01-19.parquet', 'LastModified': datetime.datetime(2022, 2, 10, 4, 23, 7, tzinfo=tzutc()), 'ETag': '\"3f37cd1081a672d7720ddfccb4916dee\"', 'Size': 26969, 'StorageClass': 'STANDARD'}\n",
      "{'Key': 'boxscores/raw/boxscores-2022-01-25.parquet', 'LastModified': datetime.datetime(2022, 2, 10, 4, 23, 7, tzinfo=tzutc()), 'ETag': '\"7fdd1a2900c70e77b9b6362dc157cba1\"', 'Size': 22486, 'StorageClass': 'STANDARD'}\n",
      "{'Key': 'boxscores/raw/boxscores-2022-01-26.parquet', 'LastModified': datetime.datetime(2022, 2, 10, 4, 23, 7, tzinfo=tzutc()), 'ETag': '\"56c14c10aa27813dbbf7664b5f10d6ce\"', 'Size': 27270, 'StorageClass': 'STANDARD'}\n"
     ]
    }
   ],
   "source": [
    "s3_path = 's3://jacobsbucket97'\n",
    "bucket = \"jacobsbucket97\"\n",
    "folder = \"boxscores\"\n",
    "initial_folder = \"boxscores/raw\"\n",
    "s3 = boto3.client('s3')\n",
    "paginator = s3.get_paginator('list_objects_v2')\n",
    "pages = paginator.paginate(Bucket=bucket, Prefix=initial_folder)\n",
    "\n",
    "# size is in kilobytes.\n",
    "# limit to 500,000 kbs.\n",
    "for page in pages:\n",
    "    obj_list = []\n",
    "    for obj in page['Contents']:\n",
    "        print(obj)"
   ]
  },
  {
   "cell_type": "code",
   "execution_count": 7,
   "metadata": {},
   "outputs": [],
   "source": [
    "bucket = 'jacobsbucket97'\n",
    "s3_resource = boto3.resource('s3')\n",
    "bucket = s3_resource.Bucket(name = bucket)\n",
    "s3_keys = list(s3_object.key for s3_object in bucket.objects.all())\n",
    "\n",
    "# for i in s3_keys:\n",
    "#     print(i)"
   ]
  },
  {
   "cell_type": "code",
   "execution_count": 21,
   "metadata": {},
   "outputs": [
    {
     "data": {
      "text/plain": [
       "[s3.Bucket(name='jacobs-lambda-packages'),\n",
       " s3.Bucket(name='jacobs-sqs-bucket'),\n",
       " s3.Bucket(name='jacobsbucket97'),\n",
       " s3.Bucket(name='jyablonski-lambda-bucket'),\n",
       " s3.Bucket(name='jyablonski-lambda-prac'),\n",
       " s3.Bucket(name='jyablonski-tf-cicd-bucket'),\n",
       " s3.Bucket(name='jyablonski-unhappy-bucket')]"
      ]
     },
     "execution_count": 21,
     "metadata": {},
     "output_type": "execute_result"
    }
   ],
   "source": [
    "# list all buckets\n",
    "s3 = boto3.resource('s3')\n",
    "buckets = list(s3.buckets.all())\n",
    "buckets"
   ]
  }
 ],
 "metadata": {
  "interpreter": {
   "hash": "916dbcbb3f70747c44a77c7bcd40155683ae19c65e1c03b4aa3499c5328201f1"
  },
  "kernelspec": {
   "display_name": "Python 3.8.10 64-bit",
   "language": "python",
   "name": "python3"
  },
  "language_info": {
   "codemirror_mode": {
    "name": "ipython",
    "version": 3
   },
   "file_extension": ".py",
   "mimetype": "text/x-python",
   "name": "python",
   "nbconvert_exporter": "python",
   "pygments_lexer": "ipython3",
   "version": "3.8.8"
  },
  "orig_nbformat": 4
 },
 "nbformat": 4,
 "nbformat_minor": 2
}

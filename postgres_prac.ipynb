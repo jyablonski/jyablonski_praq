{
 "cells": [
  {
   "cell_type": "code",
   "execution_count": 1,
   "metadata": {},
   "outputs": [],
   "source": [
    "import os\n",
    "import pandas as pd\n",
    "import psycopg2\n",
    "from sqlalchemy import exc, create_engine\n",
    "from bs4 import BeautifulSoup\n",
    "from urllib.request import urlopen\n",
    "import logging"
   ]
  },
  {
   "cell_type": "code",
   "execution_count": 2,
   "metadata": {},
   "outputs": [],
   "source": [
    "def sql_connection():\n",
    "    try:\n",
    "        connection = create_engine('postgresql+psycopg2://' + os.environ.get('RDS_USER') + ':' + os.environ.get('RDS_PW') + '@' + os.environ.get('IP') + ':' + '5432' + '/' + os.environ.get('RDS_DB'),\n",
    "                                    connect_args = {'options': '-csearch_path=nba_source'},\n",
    "                     echo = False)\n",
    "        logging.info('SQL Connection Successful')\n",
    "        print('SQL Connection Successful')\n",
    "        return(connection)\n",
    "    except exc.SQLAlchemyError as e:\n",
    "        logging.info('SQL Connection Failed, Error:', e)\n",
    "        print('SQL Connection Failed, Error:', e)\n",
    "        return(e)"
   ]
  },
  {
   "cell_type": "code",
   "execution_count": 3,
   "metadata": {},
   "outputs": [
    {
     "name": "stdout",
     "output_type": "stream",
     "text": [
      "SQL Connection Successful\n"
     ]
    }
   ],
   "source": [
    "conn = sql_connection()"
   ]
  },
  {
   "cell_type": "code",
   "execution_count": 12,
   "metadata": {},
   "outputs": [],
   "source": [
    "tables = pd.read_sql_query('SELECT table_name FROM information_schema.tables', conn)\n"
   ]
  },
  {
   "cell_type": "code",
   "execution_count": 2,
   "metadata": {},
   "outputs": [],
   "source": [
    "conn = psycopg2.connect(host=os.environ.get('IP'), \n",
    "                 port=\"5432\", \n",
    "                 user=os.environ.get('RDS_USER'), \n",
    "                 password=os.environ.get('RDS_PW'), \n",
    "                 database=os.environ.get('RDS_DB'), \n",
    "                 options=\"-c search_path=nba_prod\") # setting schema"
   ]
  },
  {
   "cell_type": "code",
   "execution_count": 6,
   "metadata": {},
   "outputs": [],
   "source": [
    "df = pd.read_sql_query('SELECT table_name FROM information_schema.tables', conn)"
   ]
  },
  {
   "cell_type": "code",
   "execution_count": 8,
   "metadata": {},
   "outputs": [
    {
     "data": {
      "text/html": [
       "<div>\n",
       "<style scoped>\n",
       "    .dataframe tbody tr th:only-of-type {\n",
       "        vertical-align: middle;\n",
       "    }\n",
       "\n",
       "    .dataframe tbody tr th {\n",
       "        vertical-align: top;\n",
       "    }\n",
       "\n",
       "    .dataframe thead th {\n",
       "        text-align: right;\n",
       "    }\n",
       "</style>\n",
       "<table border=\"1\" class=\"dataframe\">\n",
       "  <thead>\n",
       "    <tr style=\"text-align: right;\">\n",
       "      <th></th>\n",
       "      <th>col1</th>\n",
       "      <th>col2</th>\n",
       "    </tr>\n",
       "  </thead>\n",
       "  <tbody>\n",
       "    <tr>\n",
       "      <th>0</th>\n",
       "      <td>1</td>\n",
       "      <td>3</td>\n",
       "    </tr>\n",
       "    <tr>\n",
       "      <th>1</th>\n",
       "      <td>2</td>\n",
       "      <td>4</td>\n",
       "    </tr>\n",
       "  </tbody>\n",
       "</table>\n",
       "</div>"
      ],
      "text/plain": [
       "   col1  col2\n",
       "0     1     3\n",
       "1     2     4"
      ]
     },
     "execution_count": 8,
     "metadata": {},
     "output_type": "execute_result"
    }
   ],
   "source": [
    "d = {'col1': [1, 2], 'col2': [3, 4]}\n",
    "df2 = pd.DataFrame(data=d)\n",
    "df2"
   ]
  },
  {
   "cell_type": "code",
   "execution_count": 6,
   "metadata": {},
   "outputs": [],
   "source": [
    "def write_to_sql(data, table_type):\n",
    "    data_name = [ k for k,v in globals().items() if v is data][0]\n",
    "    if len(data) == 0:\n",
    "        print(data_name + \" Failed, not writing to SQL\")\n",
    "    else:\n",
    "        # ^ this disgusting monstrosity is to get the name of the -fucking- dataframe lmfao\n",
    "        data.to_sql(con = conn, name = (\"aws_\" + data_name + \"_table\"), index = False, if_exists = table_type)\n",
    "        print(\"Writing aws_\" + data_name + \"_table to SQL\")"
   ]
  },
  {
   "cell_type": "code",
   "execution_count": null,
   "metadata": {},
   "outputs": [],
   "source": []
  },
  {
   "cell_type": "code",
   "execution_count": 13,
   "metadata": {},
   "outputs": [],
   "source": [
    "df.to_sql(con = conn, name = 'aws_stats_table_prac', index = False, if_exists = 'replace')"
   ]
  },
  {
   "cell_type": "code",
   "execution_count": 4,
   "metadata": {},
   "outputs": [
    {
     "name": "stdout",
     "output_type": "stream",
     "text": [
      "Schedule Function Completed for october, retrieving 93 rows\n",
      "Schedule Function Completed for november, retrieving 318 rows\n",
      "Schedule Function Completed for december, retrieving 538 rows\n",
      "Schedule Function Completed for january, retrieving 765 rows\n",
      "Schedule Function Completed for february, retrieving 925 rows\n",
      "Schedule Function Completed for march, retrieving 1150 rows\n",
      "Schedule Function Completed for april, retrieving 1230 rows\n"
     ]
    }
   ],
   "source": [
    "def schedule_scraper(month):\n",
    "    try:\n",
    "        global schedule_df\n",
    "        url = \"https://www.basketball-reference.com/leagues/NBA_2022_games-{}.html\".format(month)\n",
    "        html = urlopen(url)\n",
    "        soup = BeautifulSoup(html)\n",
    "\n",
    "        headers = [th.getText() for th in soup.findAll('tr')[0].findAll('th')]\n",
    "        headers[6] = 'boxScoreLink'\n",
    "        headers[7] = 'isOT'\n",
    "        headers = headers[1:]\n",
    "\n",
    "        rows = soup.findAll('tr')[1:]\n",
    "        date_info = [[th.getText() for th in rows[i].findAll('th')]\n",
    "                for i in range(len(rows))]\n",
    "\n",
    "        game_info = [[td.getText() for td in rows[i].findAll('td')]\n",
    "                for i in range(len(rows))]\n",
    "        date_info = [i[0] for i in date_info]\n",
    "\n",
    "        schedule = pd.DataFrame(game_info, columns = headers)\n",
    "        schedule['Date'] = date_info\n",
    "\n",
    "        schedule_df = schedule_df.append(schedule)\n",
    "        logging.info(f'Schedule Function Completed for {month}, retrieving {len(schedule_df)} rows')\n",
    "        print(f'Schedule Function Completed for {month}, retrieving {len(schedule_df)} rows')\n",
    "    except ValueError:\n",
    "        logging.info(\"Schedule Scraper Function Failed\")\n",
    "        print(\"Schedule Scraper Function Failed\")\n",
    "        df = []\n",
    "        return(df)\n",
    "\n",
    "month_list = ['october', 'november', 'december', 'january', 'february', 'march', 'april']\n",
    "schedule_df = pd.DataFrame()\n",
    "for month in month_list:\n",
    "    schedule_scraper(month)"
   ]
  },
  {
   "cell_type": "code",
   "execution_count": 5,
   "metadata": {},
   "outputs": [],
   "source": [
    "from datetime import datetime, date"
   ]
  },
  {
   "cell_type": "code",
   "execution_count": 5,
   "metadata": {},
   "outputs": [],
   "source": [
    "schedule_df = schedule_df[['Start (ET)', 'Visitor/Neutral', 'Home/Neutral', 'Date']]\n",
    "schedule_df['proper_date'] = pd.to_datetime(schedule_df['Date']).dt.date\n",
    "schedule_df.columns = schedule_df.columns.str.lower()\n",
    "# schedule_df = schedule_df.rename(columns = {\"Today\": \"team\", \"SPREAD\": \"spread\", \"TOTAL\": \"total_pts\", \"MONEYLINE\": \"moneyline\"})"
   ]
  },
  {
   "cell_type": "code",
   "execution_count": 7,
   "metadata": {},
   "outputs": [],
   "source": [
    "schedule_df = schedule_df.rename(columns = {\"start (et)\": \"start_time\", \"visitor/neutral\": \"away_team\", \"home/neutral\": \"home_team\"})"
   ]
  },
  {
   "cell_type": "code",
   "execution_count": 9,
   "metadata": {},
   "outputs": [],
   "source": [
    "schedule_df.to_sql(con = conn, name = \"aws_schedule_table\", if_exists = 'replace')"
   ]
  },
  {
   "cell_type": "code",
   "execution_count": 10,
   "metadata": {},
   "outputs": [],
   "source": [
    "def get_advanced_stats():\n",
    "    try:\n",
    "        url = \"https://www.basketball-reference.com/leagues/NBA_2021.html\"\n",
    "        df = pd.read_html(url)\n",
    "        df = pd.DataFrame(df[10])\n",
    "        df.drop(columns = df.columns[0], \n",
    "            axis=1, \n",
    "            inplace=True)\n",
    "\n",
    "        df.columns = ['Team', 'Age', 'W', 'L', 'PW', 'PL', 'MOV', 'SOS', 'SRS', 'ORTG', 'DRTG', 'NRTG', 'Pace', 'FTr', '3PAr', 'TS%', 'bby1', 'eFG%', 'TOV%', 'ORB%', 'FT/FGA', 'bby2', 'eFG%_opp', 'TOV%_opp', 'DRB%_opp', 'FT/FGA_opp', 'bby3', 'Arena', 'Attendance', 'Att/Game']\n",
    "        df.drop(['bby1', 'bby2', 'bby3'], axis = 1, inplace = True)\n",
    "        df = df.query('Team != \"League Average\"')\n",
    "        df['Team'] = df['Team'].str.replace(\"*\", \"\")\n",
    "        df.columns = df.columns.str.lower()\n",
    "        logging.info(f'Advanced Stats Function Successful, retrieving updated data for 30 Teams')\n",
    "        print(f'Advanced Stats Function Successful, retrieving updated data for 30 Teams')\n",
    "        return(df)\n",
    "    except ValueError:\n",
    "        logging.info(\"Advanced Stats Function Failed for Today's Games\")\n",
    "        print(\"Advanced Stats Function Failed for Today's Games\")\n",
    "        df = []\n",
    "        return(df)"
   ]
  },
  {
   "cell_type": "code",
   "execution_count": 11,
   "metadata": {},
   "outputs": [
    {
     "name": "stdout",
     "output_type": "stream",
     "text": [
      "Advanced Stats Function Successful, retrieving updated data for 30 Teams\n"
     ]
    },
    {
     "name": "stderr",
     "output_type": "stream",
     "text": [
      "<ipython-input-10-a655e1138752>:13: FutureWarning: The default value of regex will change from True to False in a future version. In addition, single character regular expressions will*not* be treated as literal strings when regex=True.\n",
      "  df['Team'] = df['Team'].str.replace(\"*\", \"\")\n",
      "<ipython-input-10-a655e1138752>:13: SettingWithCopyWarning: \n",
      "A value is trying to be set on a copy of a slice from a DataFrame.\n",
      "Try using .loc[row_indexer,col_indexer] = value instead\n",
      "\n",
      "See the caveats in the documentation: https://pandas.pydata.org/pandas-docs/stable/user_guide/indexing.html#returning-a-view-versus-a-copy\n",
      "  df['Team'] = df['Team'].str.replace(\"*\", \"\")\n"
     ]
    }
   ],
   "source": [
    "df = get_advanced_stats()"
   ]
  }
 ],
 "metadata": {
  "interpreter": {
   "hash": "51acfa6005ffec5e74e71d844e0daa05d24ac78244a0bb1b7874b497027552e7"
  },
  "kernelspec": {
   "display_name": "Python 3.8.8 64-bit ('base': conda)",
   "name": "python3"
  },
  "language_info": {
   "codemirror_mode": {
    "name": "ipython",
    "version": 3
   },
   "file_extension": ".py",
   "mimetype": "text/x-python",
   "name": "python",
   "nbconvert_exporter": "python",
   "pygments_lexer": "ipython3",
   "version": "3.8.8"
  },
  "orig_nbformat": 4
 },
 "nbformat": 4,
 "nbformat_minor": 2
}

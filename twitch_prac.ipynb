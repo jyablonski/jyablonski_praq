{
 "cells": [
  {
   "cell_type": "code",
   "execution_count": 31,
   "metadata": {},
   "outputs": [],
   "source": [
    "import pandas as pd\n",
    "import requests\n",
    "from datetime import datetime, timedelta\n",
    "import os\n",
    "import json\n",
    "headers = {\n",
    "    'user-agent': 'Mozilla/5.0 (Windows NT 10.0; Win64; x64) AppleWebKit/537.36 (KHTML, like Gecko) Chrome/74.0.3729.169 Safari/537.36'}"
   ]
  },
  {
   "cell_type": "code",
   "execution_count": 24,
   "metadata": {},
   "outputs": [],
   "source": [
    "df = requests.get('https://twitchtracker.com/api/channels/summary/tsm_imperialhal', headers=headers)"
   ]
  },
  {
   "cell_type": "code",
   "execution_count": 25,
   "metadata": {},
   "outputs": [
    {
     "name": "stdout",
     "output_type": "stream",
     "text": [
      "200\n"
     ]
    }
   ],
   "source": [
    "print(df.status_code)"
   ]
  },
  {
   "cell_type": "code",
   "execution_count": 39,
   "metadata": {},
   "outputs": [],
   "source": [
    "df_json = df.json()"
   ]
  },
  {
   "cell_type": "code",
   "execution_count": 44,
   "metadata": {},
   "outputs": [],
   "source": [
    "df_df = pd.DataFrame.from_dict(df_json, orient = 'index').transpose()"
   ]
  },
  {
   "cell_type": "code",
   "execution_count": 45,
   "metadata": {},
   "outputs": [],
   "source": [
    "keyword1 = 'tsm_imperialhal'"
   ]
  },
  {
   "cell_type": "code",
   "execution_count": 46,
   "metadata": {},
   "outputs": [],
   "source": [
    "df_df['twitch_channel'] = keyword1"
   ]
  },
  {
   "cell_type": "code",
   "execution_count": 47,
   "metadata": {},
   "outputs": [],
   "source": [
    "def get_twitch_api(keyword: str) -> pd.DataFrame:\n",
    "    \"\"\"\n",
    "    Function to Extract Twitch Stats from twitchtracker.com API\n",
    "\n",
    "    Args:\n",
    "        keyword: Str - The name of the twitch channel you want to scrape\n",
    "\n",
    "    Returns:\n",
    "        Pandas DataFrame\n",
    "\n",
    "    \"\"\"\n",
    "    headers = {\n",
    "    'user-agent': 'Mozilla/5.0 (Windows NT 10.0; Win64; x64) AppleWebKit/537.36 (KHTML, like Gecko) Chrome/74.0.3729.169 Safari/537.36'\n",
    "    } # without this the error code is 520 and it gets pissed off, idfk\n",
    "    try:\n",
    "        df = requests.get(f'https://twitchtracker.com/api/channels/summary/{keyword}', headers=headers)\n",
    "        print(f\"Getting Twitch Stats for {keyword}, response message was {df.status_code}\")\n",
    "        df_json = df.json()\n",
    "        df_df = pd.DataFrame.from_dict(df_json, orient = 'index').transpose()\n",
    "        df_df['twitch_channel'] = keyword\n",
    "        print('Success!')\n",
    "        return df_df\n",
    "    except BaseException as e:\n",
    "        print(f\"Error Occurred, {e}\")\n",
    "        df = []\n",
    "        return df"
   ]
  },
  {
   "cell_type": "code",
   "execution_count": 48,
   "metadata": {},
   "outputs": [
    {
     "name": "stdout",
     "output_type": "stream",
     "text": [
      "Getting Twitch Stats for alkaizerx, response message was 200\n",
      "Success!\n"
     ]
    }
   ],
   "source": [
    "df1 = get_twitch_api('alkaizerx')"
   ]
  }
 ],
 "metadata": {
  "interpreter": {
   "hash": "81c6a89d9b91bda76c14e46d4b77530c453739b0f65fa8daf80e192463b63a97"
  },
  "kernelspec": {
   "display_name": "Python 3.8.10 64-bit ('python_aws-McJt4gWW': pipenv)",
   "language": "python",
   "name": "python3"
  },
  "language_info": {
   "codemirror_mode": {
    "name": "ipython",
    "version": 3
   },
   "file_extension": ".py",
   "mimetype": "text/x-python",
   "name": "python",
   "nbconvert_exporter": "python",
   "pygments_lexer": "ipython3",
   "version": "3.8.10"
  },
  "orig_nbformat": 4
 },
 "nbformat": 4,
 "nbformat_minor": 2
}

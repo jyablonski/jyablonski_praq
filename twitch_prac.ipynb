{
 "cells": [
  {
   "cell_type": "code",
   "execution_count": 1,
   "metadata": {},
   "outputs": [],
   "source": [
    "import pandas as pd\n",
    "import requests\n",
    "from datetime import datetime, timedelta\n",
    "import os\n",
    "import json\n",
    "headers = {\n",
    "    'user-agent': 'Mozilla/5.0 (Windows NT 10.0; Win64; x64) AppleWebKit/537.36 (KHTML, like Gecko) Chrome/74.0.3729.169 Safari/537.36'\n",
    "    }"
   ]
  },
  {
   "cell_type": "code",
   "execution_count": null,
   "metadata": {},
   "outputs": [],
   "source": [
    "df = requests.get('https://twitchtracker.com/api/channels/summary/tsm_imperialhal', headers=headers)"
   ]
  },
  {
   "cell_type": "code",
   "execution_count": null,
   "metadata": {},
   "outputs": [],
   "source": [
    "print(df.status_code)"
   ]
  },
  {
   "cell_type": "code",
   "execution_count": null,
   "metadata": {},
   "outputs": [],
   "source": [
    "df_json = df.json()"
   ]
  },
  {
   "cell_type": "code",
   "execution_count": null,
   "metadata": {},
   "outputs": [],
   "source": [
    "df_df = pd.DataFrame.from_dict(df_json, orient = 'index').transpose()"
   ]
  },
  {
   "cell_type": "code",
   "execution_count": null,
   "metadata": {},
   "outputs": [],
   "source": [
    "keyword1 = 'tsm_imperialhal'"
   ]
  },
  {
   "cell_type": "code",
   "execution_count": null,
   "metadata": {},
   "outputs": [],
   "source": [
    "df_df['twitch_channel'] = keyword1"
   ]
  },
  {
   "cell_type": "code",
   "execution_count": null,
   "metadata": {},
   "outputs": [],
   "source": [
    "def get_twitch_api(keyword: str) -> pd.DataFrame:\n",
    "    \"\"\"\n",
    "    Function to Extract Twitch Stats from twitchtracker.com API\n",
    "\n",
    "    Args:\n",
    "        keyword: Str - The name of the twitch channel you want to scrape\n",
    "\n",
    "    Returns:\n",
    "        Pandas DataFrame\n",
    "\n",
    "    \"\"\"\n",
    "    headers = {\n",
    "    'user-agent': 'Mozilla/5.0 (Windows NT 10.0; Win64; x64) AppleWebKit/537.36 (KHTML, like Gecko) Chrome/74.0.3729.169 Safari/537.36'\n",
    "    } # without this the error code is 520 and it gets pissed off, idfk\n",
    "    try:\n",
    "        df = requests.get(f'https://twitchtracker.com/api/channels/summary/{keyword}', headers=headers)\n",
    "        print(f\"Getting Twitch Stats for {keyword}, response message was {df.status_code}\")\n",
    "        df_json = df.json()\n",
    "        df_df = pd.DataFrame.from_dict(df_json, orient = 'index').transpose()\n",
    "        df_df['twitch_channel'] = keyword\n",
    "        print('Success!')\n",
    "        return df_df\n",
    "    except BaseException as e:\n",
    "        print(f\"Error Occurred, {e}\")\n",
    "        df = []\n",
    "        return df"
   ]
  },
  {
   "cell_type": "code",
   "execution_count": null,
   "metadata": {},
   "outputs": [],
   "source": [
    "df1 = get_twitch_api('alkaizerx')"
   ]
  },
  {
   "cell_type": "code",
   "execution_count": 2,
   "metadata": {},
   "outputs": [],
   "source": [
    "def get_apex_api_stats(player: str):\n",
    "    df = requests.get(f\"https://api.mozambiquehe.re/bridge?version=5&platform=PC&player={player}&auth={os.getenv('apex_key')}\")\n",
    "    df_json = df.json()\n",
    "    print(f\"Grabbing data for player {player}, with name {df_json['global']['name']} and uid {df_json['global']['uid']}\")\n",
    "    return df_json"
   ]
  },
  {
   "cell_type": "code",
   "execution_count": 3,
   "metadata": {},
   "outputs": [
    {
     "name": "stdout",
     "output_type": "stream",
     "text": [
      "Grabbing data for player jabroniDonk, with name Jabroni Honk and uid 1000148599230\n"
     ]
    }
   ],
   "source": [
    "df = get_apex_api_stats('jabroniDonk')\n",
    "# jabroniDonk uid = 1000148599230\n",
    "# kickn97 uid = 2309731276\n",
    "# 2turnt uid = 1007855838143\n",
    "# MintyCubes uid = 1004468072172"
   ]
  },
  {
   "cell_type": "code",
   "execution_count": null,
   "metadata": {},
   "outputs": [],
   "source": [
    "df"
   ]
  },
  {
   "cell_type": "code",
   "execution_count": null,
   "metadata": {},
   "outputs": [],
   "source": [
    "df = requests.get(f\"https://api.mozambiquehe.re/bridge?version=5&platform=PC&player=kickn97&auth={os.getenv('apex_key')}\")"
   ]
  },
  {
   "cell_type": "code",
   "execution_count": null,
   "metadata": {},
   "outputs": [],
   "source": [
    "df_json = df.json()\n",
    "df_json['global']"
   ]
  },
  {
   "cell_type": "code",
   "execution_count": null,
   "metadata": {},
   "outputs": [],
   "source": [
    "for i in df_json:\n",
    "    print(i)"
   ]
  },
  {
   "cell_type": "code",
   "execution_count": 5,
   "metadata": {},
   "outputs": [
    {
     "name": "stdout",
     "output_type": "stream",
     "text": [
      "{'name': 'kickn', 'uid': 2309731276, 'avatar': '', 'platform': 'PC', 'level': 540, 'toNextLevelPercent': 25, 'internalUpdateCount': 10062, 'bans': {'isActive': False, 'remainingSeconds': 0, 'last_banReason': 'COMPETITIVE_DODGE_COOLDOWN'}, 'rank': {'rankScore': 7365, 'rankName': 'Diamond', 'rankDiv': 4, 'ladderPosPlatform': -1, 'rankImg': 'https://api.mozambiquehe.re/assets/ranks/diamond4.png', 'rankedSeason': 'season11_split_2'}, 'arena': {'rankScore': 0, 'rankName': 'Unranked', 'rankDiv': 4, 'ladderPosPlatform': -1, 'rankImg': 'https://api.mozambiquehe.re/assets/ranks/unranked4.png', 'rankedSeason': 'arenas11_split_2'}, 'battlepass': {'level': '-1', 'history': {'season1': -1, 'season2': -1, 'season3': -1, 'season4': -1, 'season5': -1, 'season6': -1, 'season7': -1, 'season8': -1, 'season9': -1, 'season10': -1, 'season11': -1}}, 'badges': [{'name': 'The Old Ways', 'value': 0}, {'name': 'System Override', 'value': 4}]}\n"
     ]
    }
   ],
   "source": [
    "print(df_json['global'])"
   ]
  },
  {
   "cell_type": "code",
   "execution_count": null,
   "metadata": {},
   "outputs": [],
   "source": [
    "print(df_json['realtime'])"
   ]
  },
  {
   "cell_type": "code",
   "execution_count": null,
   "metadata": {},
   "outputs": [],
   "source": [
    "print(df_json['legends'])"
   ]
  },
  {
   "cell_type": "code",
   "execution_count": null,
   "metadata": {},
   "outputs": [],
   "source": [
    "print(df_json['mozambiquehere_internal'])"
   ]
  },
  {
   "cell_type": "code",
   "execution_count": null,
   "metadata": {},
   "outputs": [],
   "source": [
    "print(df_json['total'])\n",
    "# https://apexlegendsapi.com/documentation.php#download-section"
   ]
  },
  {
   "cell_type": "code",
   "execution_count": null,
   "metadata": {},
   "outputs": [],
   "source": [
    "df = requests.get(f\"https://api.mozambiquehe.re/maprotation?version=2&auth={os.getenv('apex_key')}\")"
   ]
  },
  {
   "cell_type": "code",
   "execution_count": null,
   "metadata": {},
   "outputs": [],
   "source": [
    "df_json = df.json()"
   ]
  },
  {
   "cell_type": "code",
   "execution_count": null,
   "metadata": {},
   "outputs": [],
   "source": [
    "df_json['battle_royale']"
   ]
  },
  {
   "cell_type": "code",
   "execution_count": 6,
   "metadata": {},
   "outputs": [
    {
     "name": "stdout",
     "output_type": "stream",
     "text": [
      "200\n"
     ]
    }
   ],
   "source": [
    "# https://apexlegendsapi.com/dashboard.php?key=wsA4FfYhV3mi9M3xzDWn\n",
    "df = requests.get(f\"https://api.mozambiquehe.re/bridge?version=5&platform=PC&player=kickn97&auth={os.environ.get('apex_key')}\")\n",
    "print(df.status_code)\n",
    "df_json = df.json()\n",
    "# print(df_json)"
   ]
  }
 ],
 "metadata": {
  "interpreter": {
   "hash": "81c6a89d9b91bda76c14e46d4b77530c453739b0f65fa8daf80e192463b63a97"
  },
  "kernelspec": {
   "display_name": "Python 3.8.10 64-bit ('python_aws-McJt4gWW': pipenv)",
   "language": "python",
   "name": "python3"
  },
  "language_info": {
   "codemirror_mode": {
    "name": "ipython",
    "version": 3
   },
   "file_extension": ".py",
   "mimetype": "text/x-python",
   "name": "python",
   "nbconvert_exporter": "python",
   "pygments_lexer": "ipython3",
   "version": "3.8.10"
  },
  "orig_nbformat": 4
 },
 "nbformat": 4,
 "nbformat_minor": 2
}

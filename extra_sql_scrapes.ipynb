{
 "cells": [
  {
   "cell_type": "code",
   "execution_count": 2,
   "metadata": {},
   "outputs": [],
   "source": [
    "import os\n",
    "import sys\n",
    "from datetime import datetime, timezone, timedelta\n",
    "from urllib.request import urlopen\n",
    "import logging\n",
    "from bs4 import BeautifulSoup\n",
    "from sqlalchemy import exc, create_engine\n",
    "import pymysql\n",
    "import numpy as np\n",
    "import pandas as pd\n",
    "import boto3\n",
    "from botocore.exceptions import ClientError\n",
    "\n",
    "logging.basicConfig(filename='example.log', level=logging.DEBUG, format='%(asctime)s %(message)s', datefmt='%m/%d/%Y %I:%M:%S %p')\n",
    "logging.info('Starting Logging Function')\n",
    "\n",
    "today = datetime.now().date()\n",
    "yesterday = today - timedelta(1)\n",
    "day = (datetime.now() - timedelta(1)).day\n",
    "month = (datetime.now() - timedelta(1)).month\n",
    "year = (datetime.now() - timedelta(1)).year\n",
    "season_type = 'Regular Season'"
   ]
  },
  {
   "cell_type": "code",
   "execution_count": null,
   "metadata": {},
   "outputs": [],
   "source": [
    "def sql_connection():\n",
    "    try:\n",
    "        connection = create_engine('postgresql+psycopg2://' + os.environ.get('RDS_USER') + ':' + os.environ.get('RDS_PW') + '@' + os.environ.get('IP') + ':' + '5432' + '/' + os.environ.get('RDS_DB'),\n",
    "                                    connect_args = {'options': '-csearch_path=nba_source'}, # defining schema to connect to\n",
    "                     echo = False)\n",
    "        logging.info('SQL Connection Successful')\n",
    "        print('SQL Connection Successful')\n",
    "        return(connection)\n",
    "    except exc.SQLAlchemyError as e:\n",
    "        logging.info('SQL Connection Failed, Error:', e)\n",
    "        print('SQL Connection Failed, Error:', e)\n",
    "        return(e)\n",
    "conn = sql_connection()"
   ]
  },
  {
   "cell_type": "code",
   "execution_count": null,
   "metadata": {},
   "outputs": [],
   "source": [
    "def schedule_scraper(month):\n",
    "    try:\n",
    "        global schedule_df\n",
    "        url = \"https://www.basketball-reference.com/leagues/NBA_2022_games-{}.html\".format(month)\n",
    "        html = urlopen(url)\n",
    "        soup = BeautifulSoup(html)\n",
    "\n",
    "        headers = [th.getText() for th in soup.findAll('tr')[0].findAll('th')]\n",
    "        headers[6] = 'boxScoreLink'\n",
    "        headers[7] = 'isOT'\n",
    "        headers = headers[1:]\n",
    "\n",
    "        rows = soup.findAll('tr')[1:]\n",
    "        date_info = [[th.getText() for th in rows[i].findAll('th')]\n",
    "                for i in range(len(rows))]\n",
    "\n",
    "        game_info = [[td.getText() for td in rows[i].findAll('td')]\n",
    "                for i in range(len(rows))]\n",
    "        date_info = [i[0] for i in date_info]\n",
    "\n",
    "        schedule = pd.DataFrame(game_info, columns = headers)\n",
    "        schedule['Date'] = date_info\n",
    "\n",
    "        schedule_df = schedule_df.append(schedule)\n",
    "        logging.info(f'Schedule Function Completed for {month}, retrieving {len(schedule_df)} rows')\n",
    "        print(f'Schedule Function Completed for {month}, retrieving {len(schedule_df)} rows')\n",
    "    except ValueError:\n",
    "        logging.info(\"Schedule Scraper Function Failed\")\n",
    "        print(\"Schedule Scraper Function Failed\")\n",
    "        df = []\n",
    "        return(df)\n",
    "\n",
    "month_list = ['october', 'november', 'december', 'january', 'february', 'march', 'april']\n",
    "schedule_df = pd.DataFrame()\n",
    "for month in month_list:\n",
    "    schedule_scraper(month)"
   ]
  },
  {
   "cell_type": "code",
   "execution_count": null,
   "metadata": {},
   "outputs": [],
   "source": [
    "schedule_df = schedule_df[['Start (ET)', 'Visitor/Neutral', 'Home/Neutral', 'Date']]\n",
    "schedule_df['proper_date'] = pd.to_datetime(schedule_df['Date']).dt.date\n",
    "schedule_df.columns = schedule_df.columns.str.lower()\n",
    "schedule_df = schedule_df.rename(columns = {\"start (et)\": \"start_time\", \"visitor/neutral\": \"away_team\", \"home/neutral\": \"home_team\"})"
   ]
  },
  {
   "cell_type": "code",
   "execution_count": null,
   "metadata": {},
   "outputs": [],
   "source": [
    "schedule_df.to_sql(con = conn, name = \"aws_schedule_source\", if_exists = 'replace', index = False)"
   ]
  },
  {
   "cell_type": "code",
   "execution_count": 8,
   "metadata": {},
   "outputs": [],
   "source": [
    "def get_contracts():\n",
    "    df = pd.read_html('https://www.basketball-reference.com/contracts/players.html', header = 1)[0]\n",
    "    df = df.rename(columns={df.columns[2]: 'team', df.columns[3]: 'season_salary'})\n",
    "    df = df[['Player', 'team', 'season_salary']]\n",
    "    df.columns = df.columns.str.lower()\n",
    "    df = df.drop_duplicates()\n",
    "    df = df.query('season_salary != \"Salary\" & season_salary != \"2021-22\"').reset_index()\n",
    "    df['season_salary'] = df['season_salary'].str.replace(',', \"\", regex = True)\n",
    "    df['season_salary'] = df['season_salary'].str.replace('$', \"\", regex = True)\n",
    "    df['team'] = df['team'].str.replace(\"PHO\", \"PHX\")\n",
    "    df['team'] = df['team'].str.replace(\"CHO\", \"CHA\")\n",
    "    df['team'] = df['team'].str.replace(\"BRK\", \"BKN\")\n",
    "    df['season_salary'] = pd.to_numeric(df['season_salary'])\n",
    "    df['player'] = df['player'].str.normalize('NFKD').str.encode('ascii', errors = 'ignore').str.decode('utf-8')\n",
    "    return(df)"
   ]
  },
  {
   "cell_type": "code",
   "execution_count": 9,
   "metadata": {},
   "outputs": [],
   "source": [
    "contracts = get_contracts()"
   ]
  },
  {
   "cell_type": "code",
   "execution_count": null,
   "metadata": {},
   "outputs": [],
   "source": [
    "contracts.to_sql(con = conn, name = \"aws_contracts_source\", if_exists = 'replace', index = False)"
   ]
  }
 ],
 "metadata": {
  "interpreter": {
   "hash": "51acfa6005ffec5e74e71d844e0daa05d24ac78244a0bb1b7874b497027552e7"
  },
  "kernelspec": {
   "display_name": "Python 3.8.8 64-bit ('base': conda)",
   "name": "python3"
  },
  "language_info": {
   "codemirror_mode": {
    "name": "ipython",
    "version": 3
   },
   "file_extension": ".py",
   "mimetype": "text/x-python",
   "name": "python",
   "nbconvert_exporter": "python",
   "pygments_lexer": "ipython3",
   "version": "3.8.8"
  },
  "orig_nbformat": 4
 },
 "nbformat": 4,
 "nbformat_minor": 2
}

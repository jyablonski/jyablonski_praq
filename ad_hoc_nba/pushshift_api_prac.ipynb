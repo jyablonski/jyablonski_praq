{
 "cells": [
  {
   "cell_type": "code",
   "execution_count": 1,
   "metadata": {},
   "outputs": [],
   "source": [
    "import pandas as pd\n",
    "from datetime import datetime, timedelta\n",
    "from psaw import PushshiftAPI\n"
   ]
  },
  {
   "cell_type": "code",
   "execution_count": 2,
   "metadata": {},
   "outputs": [
    {
     "name": "stderr",
     "output_type": "stream",
     "text": [
      "/home/jacob/anaconda3/lib/python3.8/site-packages/psaw/PushshiftAPI.py:192: UserWarning: Got non 200 code 429\n",
      "  warnings.warn(\"Got non 200 code %s\" % response.status_code)\n",
      "/home/jacob/anaconda3/lib/python3.8/site-packages/psaw/PushshiftAPI.py:180: UserWarning: Unable to connect to pushshift.io. Retrying after backoff.\n",
      "  warnings.warn(\"Unable to connect to pushshift.io. Retrying after backoff.\")\n"
     ]
    }
   ],
   "source": [
    "api = PushshiftAPI()"
   ]
  },
  {
   "cell_type": "code",
   "execution_count": 4,
   "metadata": {},
   "outputs": [
    {
     "name": "stderr",
     "output_type": "stream",
     "text": [
      "/home/jacob/anaconda3/lib/python3.8/site-packages/psaw/PushshiftAPI.py:252: UserWarning: Not all PushShift shards are active. Query results may be incomplete\n",
      "  warnings.warn(shards_down_message)\n"
     ]
    }
   ],
   "source": [
    "gen = api.search_submissions(limit=100)\n",
    "results = list(gen)\n"
   ]
  },
  {
   "cell_type": "code",
   "execution_count": 6,
   "metadata": {},
   "outputs": [
    {
     "ename": "StopIteration",
     "evalue": "",
     "output_type": "error",
     "traceback": [
      "\u001b[0;31m---------------------------------------------------------------------------\u001b[0m",
      "\u001b[0;31mStopIteration\u001b[0m                             Traceback (most recent call last)",
      "\u001b[0;32m/tmp/ipykernel_39569/3146464422.py\u001b[0m in \u001b[0;36m<module>\u001b[0;34m\u001b[0m\n\u001b[1;32m      1\u001b[0m \u001b[0mapi\u001b[0m \u001b[0;34m=\u001b[0m \u001b[0mPushshiftAPI\u001b[0m\u001b[0;34m(\u001b[0m\u001b[0;34m)\u001b[0m\u001b[0;34m\u001b[0m\u001b[0;34m\u001b[0m\u001b[0m\n\u001b[1;32m      2\u001b[0m \u001b[0mgen\u001b[0m \u001b[0;34m=\u001b[0m \u001b[0mapi\u001b[0m\u001b[0;34m.\u001b[0m\u001b[0msearch_comments\u001b[0m\u001b[0;34m(\u001b[0m\u001b[0mauthor\u001b[0m\u001b[0;34m=\u001b[0m\u001b[0;34m'warriors'\u001b[0m\u001b[0;34m,\u001b[0m \u001b[0maggs\u001b[0m\u001b[0;34m=\u001b[0m\u001b[0;34m'subreddit'\u001b[0m\u001b[0;34m)\u001b[0m\u001b[0;34m\u001b[0m\u001b[0;34m\u001b[0m\u001b[0m\n\u001b[0;32m----> 3\u001b[0;31m \u001b[0mnext\u001b[0m\u001b[0;34m(\u001b[0m\u001b[0mgen\u001b[0m\u001b[0;34m)\u001b[0m\u001b[0;34m\u001b[0m\u001b[0;34m\u001b[0m\u001b[0m\n\u001b[0m\u001b[1;32m      4\u001b[0m \u001b[0mlen\u001b[0m\u001b[0;34m(\u001b[0m\u001b[0mlist\u001b[0m\u001b[0;34m(\u001b[0m\u001b[0mgen\u001b[0m\u001b[0;34m)\u001b[0m\u001b[0;34m)\u001b[0m\u001b[0;34m\u001b[0m\u001b[0;34m\u001b[0m\u001b[0m\n",
      "\u001b[0;31mStopIteration\u001b[0m: "
     ]
    }
   ],
   "source": [
    "api = PushshiftAPI()\n",
    "gen = api.search_comments(author='warriors', aggs='subreddit')\n",
    "next(gen)\n",
    "len(list(gen))"
   ]
  },
  {
   "cell_type": "code",
   "execution_count": 7,
   "metadata": {},
   "outputs": [],
   "source": [
    "gen = api.search_comments(q='warriors', subreddit='nba')\n",
    "\n",
    "max_response_cache = 1000\n",
    "cache = []\n",
    "\n",
    "for c in gen:\n",
    "    cache.append(c)\n",
    "\n",
    "    # Omit this test to actually return all results. Wouldn't recommend it though: could take a while, but you do you.\n",
    "    if len(cache) >= max_response_cache:\n",
    "        break"
   ]
  },
  {
   "cell_type": "markdown",
   "metadata": {},
   "source": []
  },
  {
   "cell_type": "code",
   "execution_count": 3,
   "metadata": {},
   "outputs": [],
   "source": [
    "api_request_generator = api.search_submissions(subreddit='AmITheAsshole',\n",
    "                                               score = \">2000\")"
   ]
  },
  {
   "cell_type": "code",
   "execution_count": 4,
   "metadata": {},
   "outputs": [
    {
     "name": "stderr",
     "output_type": "stream",
     "text": [
      "/home/jacob/anaconda3/lib/python3.8/site-packages/psaw/PushshiftAPI.py:252: UserWarning: Not all PushShift shards are active. Query results may be incomplete\n",
      "  warnings.warn(shards_down_message)\n"
     ]
    }
   ],
   "source": [
    "aita_submissions = pd.DataFrame([submission.d_ for submission in api_request_generator])\n"
   ]
  },
  {
   "cell_type": "code",
   "execution_count": 5,
   "metadata": {},
   "outputs": [
    {
     "data": {
      "text/plain": [
       "(2598, 80)"
      ]
     },
     "execution_count": 5,
     "metadata": {},
     "output_type": "execute_result"
    }
   ],
   "source": [
    "aita_submissions.shape\n"
   ]
  },
  {
   "cell_type": "code",
   "execution_count": 6,
   "metadata": {},
   "outputs": [
    {
     "data": {
      "text/html": [
       "<div>\n",
       "<style scoped>\n",
       "    .dataframe tbody tr th:only-of-type {\n",
       "        vertical-align: middle;\n",
       "    }\n",
       "\n",
       "    .dataframe tbody tr th {\n",
       "        vertical-align: top;\n",
       "    }\n",
       "\n",
       "    .dataframe thead th {\n",
       "        text-align: right;\n",
       "    }\n",
       "</style>\n",
       "<table border=\"1\" class=\"dataframe\">\n",
       "  <thead>\n",
       "    <tr style=\"text-align: right;\">\n",
       "      <th></th>\n",
       "      <th>title</th>\n",
       "      <th>score</th>\n",
       "    </tr>\n",
       "  </thead>\n",
       "  <tbody>\n",
       "    <tr>\n",
       "      <th>2478</th>\n",
       "      <td>AITA for telling my stepdaughter that I hated ...</td>\n",
       "      <td>15961</td>\n",
       "    </tr>\n",
       "    <tr>\n",
       "      <th>72</th>\n",
       "      <td>AITA for eating a lot of Japanese food?</td>\n",
       "      <td>9057</td>\n",
       "    </tr>\n",
       "    <tr>\n",
       "      <th>1333</th>\n",
       "      <td>AITA for subjecting my boyfriend to my nakedess?</td>\n",
       "      <td>16247</td>\n",
       "    </tr>\n",
       "    <tr>\n",
       "      <th>1204</th>\n",
       "      <td>AITA for going on my would-be honeymoon with m...</td>\n",
       "      <td>5086</td>\n",
       "    </tr>\n",
       "    <tr>\n",
       "      <th>2200</th>\n",
       "      <td>UPDATE: AITA for telling my daughter to give u...</td>\n",
       "      <td>3495</td>\n",
       "    </tr>\n",
       "    <tr>\n",
       "      <th>1622</th>\n",
       "      <td>AITA for writing \"please\" on a bar check</td>\n",
       "      <td>2843</td>\n",
       "    </tr>\n",
       "    <tr>\n",
       "      <th>606</th>\n",
       "      <td>AITA for ruining my brother and his wife's pre...</td>\n",
       "      <td>8239</td>\n",
       "    </tr>\n",
       "    <tr>\n",
       "      <th>897</th>\n",
       "      <td>AITA for fussing about my child being charged ...</td>\n",
       "      <td>4149</td>\n",
       "    </tr>\n",
       "    <tr>\n",
       "      <th>515</th>\n",
       "      <td>AITA for not wanting the responsibility of 2 t...</td>\n",
       "      <td>5752</td>\n",
       "    </tr>\n",
       "    <tr>\n",
       "      <th>1724</th>\n",
       "      <td>AITA for not wanting to move to a middle seat ...</td>\n",
       "      <td>4290</td>\n",
       "    </tr>\n",
       "  </tbody>\n",
       "</table>\n",
       "</div>"
      ],
      "text/plain": [
       "                                                  title  score\n",
       "2478  AITA for telling my stepdaughter that I hated ...  15961\n",
       "72              AITA for eating a lot of Japanese food?   9057\n",
       "1333   AITA for subjecting my boyfriend to my nakedess?  16247\n",
       "1204  AITA for going on my would-be honeymoon with m...   5086\n",
       "2200  UPDATE: AITA for telling my daughter to give u...   3495\n",
       "1622           AITA for writing \"please\" on a bar check   2843\n",
       "606   AITA for ruining my brother and his wife's pre...   8239\n",
       "897   AITA for fussing about my child being charged ...   4149\n",
       "515   AITA for not wanting the responsibility of 2 t...   5752\n",
       "1724  AITA for not wanting to move to a middle seat ...   4290"
      ]
     },
     "execution_count": 6,
     "metadata": {},
     "output_type": "execute_result"
    }
   ],
   "source": [
    "aita_submissions[['title', 'score']].sample(10)\n"
   ]
  },
  {
   "cell_type": "code",
   "execution_count": 7,
   "metadata": {},
   "outputs": [],
   "source": [
    "aita_submissions['date'] = pd.to_datetime(aita_submissions['created_utc'], utc=True, unit='s')\n"
   ]
  },
  {
   "cell_type": "code",
   "execution_count": 8,
   "metadata": {},
   "outputs": [
    {
     "data": {
      "text/html": [
       "<div>\n",
       "<style scoped>\n",
       "    .dataframe tbody tr th:only-of-type {\n",
       "        vertical-align: middle;\n",
       "    }\n",
       "\n",
       "    .dataframe tbody tr th {\n",
       "        vertical-align: top;\n",
       "    }\n",
       "\n",
       "    .dataframe thead th {\n",
       "        text-align: right;\n",
       "    }\n",
       "</style>\n",
       "<table border=\"1\" class=\"dataframe\">\n",
       "  <thead>\n",
       "    <tr style=\"text-align: right;\">\n",
       "      <th></th>\n",
       "      <th>author</th>\n",
       "      <th>date</th>\n",
       "      <th>title</th>\n",
       "      <th>selftext</th>\n",
       "      <th>url</th>\n",
       "      <th>subreddit</th>\n",
       "      <th>score</th>\n",
       "      <th>num_comments</th>\n",
       "      <th>num_crossposts</th>\n",
       "    </tr>\n",
       "  </thead>\n",
       "  <tbody>\n",
       "    <tr>\n",
       "      <th>0</th>\n",
       "      <td>NonTueWed3099</td>\n",
       "      <td>2021-10-06 01:38:13+00:00</td>\n",
       "      <td>AITA for demanding my sister's husband to pay ...</td>\n",
       "      <td>My 23M sister F26 recently got married to one ...</td>\n",
       "      <td>https://www.reddit.com/r/AmItheAsshole/comment...</td>\n",
       "      <td>AmItheAsshole</td>\n",
       "      <td>4694</td>\n",
       "      <td>2988</td>\n",
       "      <td>1</td>\n",
       "    </tr>\n",
       "    <tr>\n",
       "      <th>1</th>\n",
       "      <td>GothicLesCandy</td>\n",
       "      <td>2021-10-05 21:19:10+00:00</td>\n",
       "      <td>AITA for using the Bible to call out my uncle?</td>\n",
       "      <td>[removed]</td>\n",
       "      <td>https://www.reddit.com/r/AmItheAsshole/comment...</td>\n",
       "      <td>AmItheAsshole</td>\n",
       "      <td>2376</td>\n",
       "      <td>660</td>\n",
       "      <td>1</td>\n",
       "    </tr>\n",
       "    <tr>\n",
       "      <th>2</th>\n",
       "      <td>Forward_Friend_9639</td>\n",
       "      <td>2021-10-05 20:36:31+00:00</td>\n",
       "      <td>AITA for getting angry at my parents after the...</td>\n",
       "      <td>I (25F) have two children, my son (4) and my d...</td>\n",
       "      <td>https://www.reddit.com/r/AmItheAsshole/comment...</td>\n",
       "      <td>AmItheAsshole</td>\n",
       "      <td>2433</td>\n",
       "      <td>4080</td>\n",
       "      <td>4</td>\n",
       "    </tr>\n",
       "    <tr>\n",
       "      <th>3</th>\n",
       "      <td>FreckledKitCat</td>\n",
       "      <td>2021-10-05 20:36:06+00:00</td>\n",
       "      <td>Update - AITA for getting upset at my husband ...</td>\n",
       "      <td>Here is the link for the original post: [Link]...</td>\n",
       "      <td>https://www.reddit.com/r/AmItheAsshole/comment...</td>\n",
       "      <td>AmItheAsshole</td>\n",
       "      <td>4263</td>\n",
       "      <td>555</td>\n",
       "      <td>0</td>\n",
       "    </tr>\n",
       "    <tr>\n",
       "      <th>4</th>\n",
       "      <td>aitafamilytimegf</td>\n",
       "      <td>2021-10-05 19:28:09+00:00</td>\n",
       "      <td>AITA for not letting my ex and his girlfriend ...</td>\n",
       "      <td>Every year I take my son to visit his great gr...</td>\n",
       "      <td>https://www.reddit.com/r/AmItheAsshole/comment...</td>\n",
       "      <td>AmItheAsshole</td>\n",
       "      <td>8056</td>\n",
       "      <td>2904</td>\n",
       "      <td>1</td>\n",
       "    </tr>\n",
       "    <tr>\n",
       "      <th>...</th>\n",
       "      <td>...</td>\n",
       "      <td>...</td>\n",
       "      <td>...</td>\n",
       "      <td>...</td>\n",
       "      <td>...</td>\n",
       "      <td>...</td>\n",
       "      <td>...</td>\n",
       "      <td>...</td>\n",
       "      <td>...</td>\n",
       "    </tr>\n",
       "    <tr>\n",
       "      <th>2593</th>\n",
       "      <td>kleen_next</td>\n",
       "      <td>2018-09-12 19:50:40+00:00</td>\n",
       "      <td>AITA for shutting off the power to my neighbor...</td>\n",
       "      <td>I live in a building where the breaker box is ...</td>\n",
       "      <td>https://www.reddit.com/r/AmItheAsshole/comment...</td>\n",
       "      <td>AmItheAsshole</td>\n",
       "      <td>2330</td>\n",
       "      <td>200</td>\n",
       "      <td>0</td>\n",
       "    </tr>\n",
       "    <tr>\n",
       "      <th>2594</th>\n",
       "      <td>BackgroundJellyfish</td>\n",
       "      <td>2018-08-31 21:39:49+00:00</td>\n",
       "      <td>AITA for hitting my girlfriend out of reflex f...</td>\n",
       "      <td>Hi, so my girlfriend and i watched a horror mo...</td>\n",
       "      <td>https://www.reddit.com/r/AmItheAsshole/comment...</td>\n",
       "      <td>AmItheAsshole</td>\n",
       "      <td>2719</td>\n",
       "      <td>405</td>\n",
       "      <td>1</td>\n",
       "    </tr>\n",
       "    <tr>\n",
       "      <th>2595</th>\n",
       "      <td>Marylebone_Road</td>\n",
       "      <td>2018-08-30 17:00:31+00:00</td>\n",
       "      <td>AITA for thinking that this sub is only so peo...</td>\n",
       "      <td></td>\n",
       "      <td>https://www.reddit.com/r/AmItheAsshole/comment...</td>\n",
       "      <td>AmItheAsshole</td>\n",
       "      <td>2001</td>\n",
       "      <td>104</td>\n",
       "      <td>0</td>\n",
       "    </tr>\n",
       "    <tr>\n",
       "      <th>2596</th>\n",
       "      <td>grizzythekid</td>\n",
       "      <td>2018-06-19 02:07:05+00:00</td>\n",
       "      <td>AITA for throwing a soda on the ground near th...</td>\n",
       "      <td>I was going to McDonald's for a quick bite to ...</td>\n",
       "      <td>https://www.reddit.com/r/AmItheAsshole/comment...</td>\n",
       "      <td>AmItheAsshole</td>\n",
       "      <td>3532</td>\n",
       "      <td>90</td>\n",
       "      <td>0</td>\n",
       "    </tr>\n",
       "    <tr>\n",
       "      <th>2597</th>\n",
       "      <td>Pettheftthrow</td>\n",
       "      <td>2018-05-11 03:28:07+00:00</td>\n",
       "      <td>AITA for refusing to return a lost pet?</td>\n",
       "      <td>So over two years ago a cat appeared in my yar...</td>\n",
       "      <td>https://www.reddit.com/r/AmItheAsshole/comment...</td>\n",
       "      <td>AmItheAsshole</td>\n",
       "      <td>2387</td>\n",
       "      <td>169</td>\n",
       "      <td>0</td>\n",
       "    </tr>\n",
       "  </tbody>\n",
       "</table>\n",
       "<p>2598 rows × 9 columns</p>\n",
       "</div>"
      ],
      "text/plain": [
       "                   author                      date  \\\n",
       "0           NonTueWed3099 2021-10-06 01:38:13+00:00   \n",
       "1          GothicLesCandy 2021-10-05 21:19:10+00:00   \n",
       "2     Forward_Friend_9639 2021-10-05 20:36:31+00:00   \n",
       "3          FreckledKitCat 2021-10-05 20:36:06+00:00   \n",
       "4        aitafamilytimegf 2021-10-05 19:28:09+00:00   \n",
       "...                   ...                       ...   \n",
       "2593           kleen_next 2018-09-12 19:50:40+00:00   \n",
       "2594  BackgroundJellyfish 2018-08-31 21:39:49+00:00   \n",
       "2595      Marylebone_Road 2018-08-30 17:00:31+00:00   \n",
       "2596         grizzythekid 2018-06-19 02:07:05+00:00   \n",
       "2597        Pettheftthrow 2018-05-11 03:28:07+00:00   \n",
       "\n",
       "                                                  title  \\\n",
       "0     AITA for demanding my sister's husband to pay ...   \n",
       "1        AITA for using the Bible to call out my uncle?   \n",
       "2     AITA for getting angry at my parents after the...   \n",
       "3     Update - AITA for getting upset at my husband ...   \n",
       "4     AITA for not letting my ex and his girlfriend ...   \n",
       "...                                                 ...   \n",
       "2593  AITA for shutting off the power to my neighbor...   \n",
       "2594  AITA for hitting my girlfriend out of reflex f...   \n",
       "2595  AITA for thinking that this sub is only so peo...   \n",
       "2596  AITA for throwing a soda on the ground near th...   \n",
       "2597            AITA for refusing to return a lost pet?   \n",
       "\n",
       "                                               selftext  \\\n",
       "0     My 23M sister F26 recently got married to one ...   \n",
       "1                                             [removed]   \n",
       "2     I (25F) have two children, my son (4) and my d...   \n",
       "3     Here is the link for the original post: [Link]...   \n",
       "4     Every year I take my son to visit his great gr...   \n",
       "...                                                 ...   \n",
       "2593  I live in a building where the breaker box is ...   \n",
       "2594  Hi, so my girlfriend and i watched a horror mo...   \n",
       "2595                                                      \n",
       "2596  I was going to McDonald's for a quick bite to ...   \n",
       "2597  So over two years ago a cat appeared in my yar...   \n",
       "\n",
       "                                                    url      subreddit  score  \\\n",
       "0     https://www.reddit.com/r/AmItheAsshole/comment...  AmItheAsshole   4694   \n",
       "1     https://www.reddit.com/r/AmItheAsshole/comment...  AmItheAsshole   2376   \n",
       "2     https://www.reddit.com/r/AmItheAsshole/comment...  AmItheAsshole   2433   \n",
       "3     https://www.reddit.com/r/AmItheAsshole/comment...  AmItheAsshole   4263   \n",
       "4     https://www.reddit.com/r/AmItheAsshole/comment...  AmItheAsshole   8056   \n",
       "...                                                 ...            ...    ...   \n",
       "2593  https://www.reddit.com/r/AmItheAsshole/comment...  AmItheAsshole   2330   \n",
       "2594  https://www.reddit.com/r/AmItheAsshole/comment...  AmItheAsshole   2719   \n",
       "2595  https://www.reddit.com/r/AmItheAsshole/comment...  AmItheAsshole   2001   \n",
       "2596  https://www.reddit.com/r/AmItheAsshole/comment...  AmItheAsshole   3532   \n",
       "2597  https://www.reddit.com/r/AmItheAsshole/comment...  AmItheAsshole   2387   \n",
       "\n",
       "      num_comments  num_crossposts  \n",
       "0             2988               1  \n",
       "1              660               1  \n",
       "2             4080               4  \n",
       "3              555               0  \n",
       "4             2904               1  \n",
       "...            ...             ...  \n",
       "2593           200               0  \n",
       "2594           405               1  \n",
       "2595           104               0  \n",
       "2596            90               0  \n",
       "2597           169               0  \n",
       "\n",
       "[2598 rows x 9 columns]"
      ]
     },
     "execution_count": 8,
     "metadata": {},
     "output_type": "execute_result"
    }
   ],
   "source": [
    "aita_submissions[['author', 'date', 'title', 'selftext', 'url', 'subreddit', 'score', 'num_comments', 'num_crossposts']]\n"
   ]
  },
  {
   "cell_type": "code",
   "execution_count": 15,
   "metadata": {},
   "outputs": [
    {
     "name": "stderr",
     "output_type": "stream",
     "text": [
      "/home/jacob/anaconda3/lib/python3.8/site-packages/psaw/PushshiftAPI.py:252: UserWarning: Not all PushShift shards are active. Query results may be incomplete\n",
      "  warnings.warn(shards_down_message)\n"
     ]
    }
   ],
   "source": [
    "api_request_generator = api.search_submissions(q='Steph Curry', score = \">2000\")\n",
    "steph_submissions = pd.DataFrame([submission.d_ for submission in api_request_generator])\n",
    "steph_submissions['date'] = pd.to_datetime(steph_submissions['created_utc'], utc=True, unit='s')\n",
    "df = steph_submissions[['author', 'date', 'title', 'selftext', 'url', 'subreddit', 'score', 'num_comments', 'num_crossposts', ]]\n"
   ]
  },
  {
   "cell_type": "code",
   "execution_count": 16,
   "metadata": {},
   "outputs": [
    {
     "data": {
      "text/plain": [
       "nba                     205\n",
       "sports                    9\n",
       "BlackPeopleTwitter        5\n",
       "funny                     4\n",
       "warriors                  3\n",
       "politics                  3\n",
       "gifs                      2\n",
       "videos                    2\n",
       "The_Donald                2\n",
       "theocho                   2\n",
       "nextfuckinglevel          1\n",
       "NBA2k                     1\n",
       "gif                       1\n",
       "IAmA                      1\n",
       "Jokes                     1\n",
       "KidsAreFuckingStupid      1\n",
       "ImGoingToHellForThis      1\n",
       "asianpeoplegifs           1\n",
       "pics                      1\n",
       "holdmyjuicebox            1\n",
       "Rainbow6                  1\n",
       "nevertellmetheodds        1\n",
       "UpliftingNews             1\n",
       "nfl                       1\n",
       "tifu                      1\n",
       "Name: subreddit, dtype: int64"
      ]
     },
     "execution_count": 16,
     "metadata": {},
     "output_type": "execute_result"
    }
   ],
   "source": [
    "steph_submissions['subreddit'].value_counts()"
   ]
  },
  {
   "cell_type": "code",
   "execution_count": 20,
   "metadata": {},
   "outputs": [
    {
     "name": "stderr",
     "output_type": "stream",
     "text": [
      "/home/jacob/anaconda3/lib/python3.8/site-packages/psaw/PushshiftAPI.py:252: UserWarning: Not all PushShift shards are active. Query results may be incomplete\n",
      "  warnings.warn(shards_down_message)\n",
      "/home/jacob/anaconda3/lib/python3.8/site-packages/psaw/PushshiftAPI.py:192: UserWarning: Got non 200 code 429\n",
      "  warnings.warn(\"Got non 200 code %s\" % response.status_code)\n",
      "/home/jacob/anaconda3/lib/python3.8/site-packages/psaw/PushshiftAPI.py:180: UserWarning: Unable to connect to pushshift.io. Retrying after backoff.\n",
      "  warnings.warn(\"Unable to connect to pushshift.io. Retrying after backoff.\")\n"
     ]
    }
   ],
   "source": [
    "api_request_generator = api.search_comments(q='steph curry', score = \">500\")\n",
    "comments = pd.DataFrame([comment.d_ for comment in api_request_generator])\n",
    "comments['date'] = pd.to_datetime(comments['created_utc'], utc=True, unit='s')\n"
   ]
  },
  {
   "cell_type": "code",
   "execution_count": 23,
   "metadata": {},
   "outputs": [],
   "source": [
    "df = comments[['author', 'date', 'body', 'subreddit', 'score', 'author_flair_text', ]]\n"
   ]
  }
 ],
 "metadata": {
  "interpreter": {
   "hash": "916dbcbb3f70747c44a77c7bcd40155683ae19c65e1c03b4aa3499c5328201f1"
  },
  "kernelspec": {
   "display_name": "Python 3.8.10 64-bit",
   "language": "python",
   "name": "python3"
  },
  "language_info": {
   "codemirror_mode": {
    "name": "ipython",
    "version": 3
   },
   "file_extension": ".py",
   "mimetype": "text/x-python",
   "name": "python",
   "nbconvert_exporter": "python",
   "pygments_lexer": "ipython3",
   "version": "3.8.8"
  },
  "orig_nbformat": 4
 },
 "nbformat": 4,
 "nbformat_minor": 2
}

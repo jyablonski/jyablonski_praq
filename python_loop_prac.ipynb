{
 "cells": [
  {
   "cell_type": "code",
   "execution_count": 1,
   "metadata": {},
   "outputs": [],
   "source": [
    "import pandas as pd\n",
    "import os\n",
    "from datetime import datetime, timedelta"
   ]
  },
  {
   "cell_type": "code",
   "execution_count": 48,
   "metadata": {},
   "outputs": [],
   "source": [
    "def jacobs_function(x):\n",
    "    try:\n",
    "        if type(x) is int:\n",
    "            print('x is an int')\n",
    "        elif type(x) is str:\n",
    "            print('x is a str')\n",
    "        elif type(x) is bool:\n",
    "            print('x is a boolean')\n",
    "        elif type(x) is list:\n",
    "            print('x is a list')\n",
    "        elif type(x) is pd.DataFrame:\n",
    "            print('x is a dataframe')\n",
    "        else:\n",
    "            raise Exception('Pls select an int, str, pandas df, or bool bitch')\n",
    "    except Exception as e:\n",
    "        print(f\"error occurred, {e}\")"
   ]
  },
  {
   "cell_type": "code",
   "execution_count": 22,
   "metadata": {},
   "outputs": [],
   "source": [
    "mylist = [1, 2, 3]"
   ]
  },
  {
   "cell_type": "code",
   "execution_count": 29,
   "metadata": {},
   "outputs": [],
   "source": [
    "mydf = pd.DataFrame({'col1': [1, 2], 'col2': [3, 4]})"
   ]
  },
  {
   "cell_type": "code",
   "execution_count": 49,
   "metadata": {},
   "outputs": [
    {
     "name": "stdout",
     "output_type": "stream",
     "text": [
      "x is a dataframe\n"
     ]
    }
   ],
   "source": [
    "jacobs_function(mydf)"
   ]
  },
  {
   "cell_type": "code",
   "execution_count": 45,
   "metadata": {},
   "outputs": [
    {
     "data": {
      "text/plain": [
       "True"
      ]
     },
     "execution_count": 45,
     "metadata": {},
     "output_type": "execute_result"
    }
   ],
   "source": [
    "isinstance(mydf, pd.DataFrame)"
   ]
  },
  {
   "cell_type": "code",
   "execution_count": 92,
   "metadata": {},
   "outputs": [],
   "source": [
    "class Person:\n",
    "    owner = 'jacob'\n",
    "    region = 'us-east-2'\n",
    "    def __init__(self, name):\n",
    "        self.name = name\n",
    "        self.tricks = []\n",
    "\n",
    "    def __iter__(self):\n",
    "        print('what')\n",
    "\n",
    "    # this is what's returned when u do print(d1) on your Person object\n",
    "    def __str__(self):\n",
    "        return f\"{self.name} is 24 years old\"\n",
    "\n",
    "    # This is what's returned when u call d1 on your person Object\n",
    "    def __repr__(self):\n",
    "        rep = f\"Person is {self.name}, with {len(self.tricks)} trick(s)\"\n",
    "        return rep\n",
    "\n",
    "    def add_trick(self, trick):\n",
    "        self.tricks.append(trick)\n",
    "\n",
    "    def f(self, name):\n",
    "        return f\"hello {name}, world\""
   ]
  },
  {
   "cell_type": "code",
   "execution_count": 93,
   "metadata": {},
   "outputs": [],
   "source": [
    "d1 = Person('big otis')\n",
    "d2 = Person('kickn')\n",
    "d1.add_trick('fuck')\n",
    "d2.add_trick('shit')"
   ]
  },
  {
   "cell_type": "code",
   "execution_count": 94,
   "metadata": {},
   "outputs": [
    {
     "data": {
      "text/plain": [
       "Person is big otis, with 1 trick(s)"
      ]
     },
     "execution_count": 94,
     "metadata": {},
     "output_type": "execute_result"
    }
   ],
   "source": [
    "d1"
   ]
  },
  {
   "cell_type": "code",
   "execution_count": 95,
   "metadata": {},
   "outputs": [
    {
     "name": "stdout",
     "output_type": "stream",
     "text": [
      "big otis is 24 years old\n"
     ]
    }
   ],
   "source": [
    "print(d1)"
   ]
  },
  {
   "cell_type": "code",
   "execution_count": 81,
   "metadata": {},
   "outputs": [
    {
     "name": "stdout",
     "output_type": "stream",
     "text": [
      "['fuck']\n",
      "['shit']\n"
     ]
    }
   ],
   "source": [
    "print(d1.tricks)\n",
    "print(d2.tricks)"
   ]
  },
  {
   "cell_type": "code",
   "execution_count": 82,
   "metadata": {},
   "outputs": [
    {
     "name": "stdout",
     "output_type": "stream",
     "text": [
      "jacob\n",
      "big otis\n",
      "hello jacob2, world\n",
      "us-east-2\n"
     ]
    }
   ],
   "source": [
    "print(d1.owner)\n",
    "print(d1.name)\n",
    "print(d1.f('jacob2'))\n",
    "print(d1.region)"
   ]
  }
 ],
 "metadata": {
  "interpreter": {
   "hash": "51acfa6005ffec5e74e71d844e0daa05d24ac78244a0bb1b7874b497027552e7"
  },
  "kernelspec": {
   "display_name": "Python 3.8.8 64-bit ('base': conda)",
   "language": "python",
   "name": "python3"
  },
  "language_info": {
   "codemirror_mode": {
    "name": "ipython",
    "version": 3
   },
   "file_extension": ".py",
   "mimetype": "text/x-python",
   "name": "python",
   "nbconvert_exporter": "python",
   "pygments_lexer": "ipython3",
   "version": "3.8.8"
  },
  "orig_nbformat": 4
 },
 "nbformat": 4,
 "nbformat_minor": 2
}

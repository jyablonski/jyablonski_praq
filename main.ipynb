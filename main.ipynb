{
 "cells": [
  {
   "cell_type": "code",
   "execution_count": 1,
   "metadata": {},
   "outputs": [],
   "source": [
    "import pandas as pd\n",
    "import numpy as np\n",
    "import os\n",
    "import matplotlib.pyplot as plt\n",
    "import seaborn as sns\n",
    "import sqlalchemy\n",
    "import boto3\n",
    "import pyarrow\n",
    "import pymysql\n",
    "import mysql.connector\n",
    "from bs4 import BeautifulSoup\n",
    "from urllib.request import urlopen\n",
    "from datetime import datetime, timezone, timedelta\n",
    "from utils import *\n",
    "# from decouple import config"
   ]
  },
  {
   "cell_type": "code",
   "execution_count": 31,
   "metadata": {},
   "outputs": [],
   "source": [
    "year_stats = 2022\n",
    "url = f\"https://www.basketball-reference.com/leagues/NBA_{year_stats}_per_game.html\"\n",
    "\n",
    "html = urlopen(url)\n",
    "# soup = BeautifulSoup(html, \"html.parser\")"
   ]
  },
  {
   "cell_type": "code",
   "execution_count": 32,
   "metadata": {},
   "outputs": [],
   "source": [
    "import pickle\n",
    "\n",
    "year_stats = 2022\n",
    "url = f\"https://www.basketball-reference.com/leagues/NBA_{year_stats}_per_game.html\"\n",
    "html = urlopen(url)\n",
    "\n",
    "with open('new_test/tests/fixture_csvs/stats_html.html', 'wb') as fp:\n",
    "    while True:\n",
    "        chunk = html.read(1024)\n",
    "        if not chunk:\n",
    "            break\n",
    "        fp.write(chunk)\n"
   ]
  },
  {
   "cell_type": "code",
   "execution_count": 37,
   "metadata": {},
   "outputs": [],
   "source": [
    "with open('new_test/tests/fixture_csvs/stats_html.html', \"rb\") as fp:\n",
    "    html1 = fp.read()\n",
    "\n",
    "soup2 = BeautifulSoup(html1, \"html.parser\")"
   ]
  },
  {
   "cell_type": "code",
   "execution_count": 34,
   "metadata": {},
   "outputs": [],
   "source": [
    "# with open('new_test/tests/fixture_csvs/stats_html', \"rb\") as fp:\n",
    "#     html1 = pickle.load(fp)\n",
    "\n",
    "with open('new_test/tests/fixture_csvs/stats_html.html', \"rb\") as fp:\n",
    "    soup1 = BeautifulSoup(fp, \"html.parser\")\n",
    "    \n",
    "    # BeautifulSoup(fp.read(), \"lxml\")\n",
    "\n",
    "\n",
    "# soup1 = BeautifulSoup(html1, \"html.parser\")\n",
    "# soup1"
   ]
  },
  {
   "cell_type": "code",
   "execution_count": 18,
   "metadata": {},
   "outputs": [],
   "source": [
    "aa = BeautifulSoup(html)"
   ]
  },
  {
   "cell_type": "code",
   "execution_count": 2,
   "metadata": {},
   "outputs": [],
   "source": [
    "s3 = boto3.resource(\n",
    "    service_name ='s3',\n",
    "    region_name = os.environ.get('AWS_REGION'),\n",
    "    aws_access_key_id = os.environ.get('AWS_KEY'),\n",
    "    aws_secret_access_key = os.environ.get('AWS_SECRET')\n",
    ")"
   ]
  },
  {
   "cell_type": "code",
   "execution_count": 3,
   "metadata": {},
   "outputs": [
    {
     "name": "stdout",
     "output_type": "stream",
     "text": [
      "jacobs-lambda-packages\n",
      "jacobsbucket97\n"
     ]
    }
   ],
   "source": [
    "for bucket in s3.buckets.all():\n",
    "    print(bucket.name)\n",
    "\n",
    "    b"
   ]
  },
  {
   "cell_type": "code",
   "execution_count": null,
   "metadata": {},
   "outputs": [],
   "source": [
    "def replace_all(text, dic):\n",
    "  for i, j in dic.iteritems():\n",
    "    text = text.replace(i, j)\n",
    "  return text"
   ]
  },
  {
   "cell_type": "code",
   "execution_count": 26,
   "metadata": {},
   "outputs": [
    {
     "name": "stdout",
     "output_type": "stream",
     "text": [
      "Gary Trent\n"
     ]
    }
   ],
   "source": [
    "prefixes_to_remove = [' Jr.', ' II', ' III', ' Sr.', ' IV']\n",
    "# prefixes_to_remove = {' Jr.': \"\", ' II': \"\", ' III': \"\", ' Sr.': \"\", ' IV': \"\"}\n",
    "\n",
    "def replace_all(dict, str):\n",
    "    for key in dict:\n",
    "        str = str.replace(key, dict[key])\n",
    "    return str\n",
    "# name = 'Gary Trent Jr.'\n",
    "\n",
    "# new_name = name.replace(' Jr.', \"\")\n",
    "# print(f\"{new_name}\")\n",
    "\n",
    "# for i in prefixes_to_remove:\n",
    "#     new_name2 = name.replace(i, \"\")\n",
    "#     print(new_name2)\n",
    "\n",
    "# for i in range(1, 100):\n",
    "#     print(i * i)\n",
    "print(str.replace('Gary Trent Jr.', ' Jr.', \"\"))"
   ]
  },
  {
   "cell_type": "code",
   "execution_count": 20,
   "metadata": {},
   "outputs": [
    {
     "ename": "AttributeError",
     "evalue": "'dict' object has no attribute 'replace'",
     "output_type": "error",
     "traceback": [
      "\u001b[0;31m---------------------------------------------------------------------------\u001b[0m",
      "\u001b[0;31mAttributeError\u001b[0m                            Traceback (most recent call last)",
      "\u001b[0;32m/tmp/ipykernel_61558/157122350.py\u001b[0m in \u001b[0;36m<module>\u001b[0;34m\u001b[0m\n\u001b[0;32m----> 1\u001b[0;31m \u001b[0mprint\u001b[0m\u001b[0;34m(\u001b[0m\u001b[0mreplace_all\u001b[0m\u001b[0;34m(\u001b[0m\u001b[0;34m'Gary Trent Jr.'\u001b[0m\u001b[0;34m,\u001b[0m \u001b[0;34m{\u001b[0m\u001b[0;34m' Jr. '\u001b[0m\u001b[0;34m:\u001b[0m \u001b[0;34m\"\"\u001b[0m\u001b[0;34m}\u001b[0m\u001b[0;34m)\u001b[0m\u001b[0;34m)\u001b[0m\u001b[0;34m\u001b[0m\u001b[0;34m\u001b[0m\u001b[0m\n\u001b[0m",
      "\u001b[0;32m/tmp/ipykernel_61558/1476514426.py\u001b[0m in \u001b[0;36mreplace_all\u001b[0;34m(dict, str)\u001b[0m\n\u001b[1;32m      4\u001b[0m \u001b[0;32mdef\u001b[0m \u001b[0mreplace_all\u001b[0m\u001b[0;34m(\u001b[0m\u001b[0mdict\u001b[0m\u001b[0;34m,\u001b[0m \u001b[0mstr\u001b[0m\u001b[0;34m)\u001b[0m\u001b[0;34m:\u001b[0m\u001b[0;34m\u001b[0m\u001b[0;34m\u001b[0m\u001b[0m\n\u001b[1;32m      5\u001b[0m     \u001b[0;32mfor\u001b[0m \u001b[0mkey\u001b[0m \u001b[0;32min\u001b[0m \u001b[0mdict\u001b[0m\u001b[0;34m:\u001b[0m\u001b[0;34m\u001b[0m\u001b[0;34m\u001b[0m\u001b[0m\n\u001b[0;32m----> 6\u001b[0;31m         \u001b[0mstr\u001b[0m \u001b[0;34m=\u001b[0m \u001b[0mstr\u001b[0m\u001b[0;34m.\u001b[0m\u001b[0mreplace\u001b[0m\u001b[0;34m(\u001b[0m\u001b[0mkey\u001b[0m\u001b[0;34m,\u001b[0m \u001b[0mdict\u001b[0m\u001b[0;34m[\u001b[0m\u001b[0mkey\u001b[0m\u001b[0;34m]\u001b[0m\u001b[0;34m)\u001b[0m\u001b[0;34m\u001b[0m\u001b[0;34m\u001b[0m\u001b[0m\n\u001b[0m\u001b[1;32m      7\u001b[0m     \u001b[0;32mreturn\u001b[0m \u001b[0mstr\u001b[0m\u001b[0;34m\u001b[0m\u001b[0;34m\u001b[0m\u001b[0m\n\u001b[1;32m      8\u001b[0m \u001b[0;31m# name = 'Gary Trent Jr.'\u001b[0m\u001b[0;34m\u001b[0m\u001b[0;34m\u001b[0m\u001b[0;34m\u001b[0m\u001b[0m\n",
      "\u001b[0;31mAttributeError\u001b[0m: 'dict' object has no attribute 'replace'"
     ]
    }
   ],
   "source": [
    "print(replace_all('Gary Trent Jbbr.', {' Jr. ': \"\"}))"
   ]
  },
  {
   "cell_type": "code",
   "execution_count": 10,
   "metadata": {},
   "outputs": [
    {
     "name": "stdout",
     "output_type": "stream",
     "text": [
      "Jacob Otis is 74.\n"
     ]
    },
    {
     "data": {
      "text/plain": [
       "Jacob Otis is fuckin 74. Surprise!"
      ]
     },
     "execution_count": 10,
     "metadata": {},
     "output_type": "execute_result"
    }
   ],
   "source": [
    "class Comedian:\n",
    "    def __init__(self, first_name, last_name, age):\n",
    "        self.first_name = first_name\n",
    "        self.last_name = last_name\n",
    "        self.age = age\n",
    "\n",
    "    def __str__(self):\n",
    "        return f\"{self.first_name} {self.last_name} is {self.age}.\"\n",
    "\n",
    "    def __repr__(self):\n",
    "        return f\"{self.first_name} {self.last_name} is fuckin {self.age}. Surprise!\"\n",
    "\n",
    "bby1 = Comedian('Jacob', 'Otis', 74)\n",
    "bby1\n",
    "print(bby1) # the print object\n",
    "bby1        # the literal representation of the object when we call it."
   ]
  },
  {
   "cell_type": "code",
   "execution_count": 27,
   "metadata": {},
   "outputs": [],
   "source": [
    "name_list = ['Gary Trent Jr.', 'Marcus Morris Sr.']\n",
    "df = pd.DataFrame(name_list)\n",
    "df = df.rename(columns = {df.columns[0]: 'player'})\n",
    "\n",
    "for i in prefixes_to_remove:\n",
    "    df['player'] = df['player'].str.replace(i, \"\", regex = True)"
   ]
  },
  {
   "cell_type": "code",
   "execution_count": 7,
   "metadata": {},
   "outputs": [],
   "source": [
    "# READ a file directly from s3.  no download.\n",
    "obj = s3.Bucket('mygamelogsbucket').Object('bby.csv').get()\n",
    "s3_gamelogs = pd.read_csv(obj['Body'], index_col = 0) # removes the useless index column"
   ]
  },
  {
   "cell_type": "code",
   "execution_count": 4,
   "metadata": {},
   "outputs": [],
   "source": [
    "### #SQL DATABASE STUFF\n",
    "mydb = sqlalchemy.create_engine('mysql+mysqlconnector://' + os.environ.get('RDS_USER') + ':' + os.environ.get('RDS_PW') + '@' + os.environ.get('IP') + ':' + os.environ.get('PORT') + '/' + os.environ.get('RDS_DB'),\n",
    "                     echo = False)\n"
   ]
  },
  {
   "cell_type": "code",
   "execution_count": 5,
   "metadata": {},
   "outputs": [],
   "source": [
    "bb1 = pd.read_sql('SELECT * FROM aws_odds_df;', con = mydb)\n"
   ]
  },
  {
   "cell_type": "code",
   "execution_count": 6,
   "metadata": {},
   "outputs": [],
   "source": [
    "cnx = mydb.raw_connection()"
   ]
  },
  {
   "cell_type": "code",
   "execution_count": 3,
   "metadata": {},
   "outputs": [],
   "source": [
    "from datetime import datetime, timedelta\n",
    "import pandas as pd\n",
    "# df = pd.to_datetime('2021-11-19', format = '%Y-%m-%d').date() - timedelta(days = 1)\n",
    "# print(df)\n",
    "df = pd.to_datetime('2018-01-01T00:00:00+00:00')\n",
    "df2 = pd.to_datetime(datetime.strftime(df, format = '%Y-%m-%d:%H:%M:%S'), format = '%Y-%m-%d:%H:%M:%S')\n",
    "df3 = pd.to_datetime(datetime.strftime(pd.to_datetime('2018-01-01T00:00:00+00:00'), format = '%Y-%m-%d:%H:%M:%S'), format = '%Y-%m-%d:%H:%M:%S')"
   ]
  },
  {
   "cell_type": "code",
   "execution_count": 11,
   "metadata": {},
   "outputs": [],
   "source": [
    "connection = mysql.connector.connect(host = os.environ.get('IP'),\n",
    "                                     port = os.environ.get('PORT'),\n",
    "                                      user = os.environ.get('USER'),\n",
    "                                      password = os.environ.get('PW'),\n",
    "                                      db = os.environ.get('DB'))\n",
    "\n",
    "\n",
    "# connection\n",
    "\n",
    "all_tables = pd.read_sql_query('SHOW TABLES FROM aws_database;', connection)"
   ]
  },
  {
   "cell_type": "code",
   "execution_count": 12,
   "metadata": {},
   "outputs": [],
   "source": [
    "df1 = pd.read_sql('SELECT * FROM aws_gamelogs;', con = connection)\n",
    "df2 = pd.read_sql_query('SELECT * FROM aws_gamelogs;', con = connection)"
   ]
  },
  {
   "cell_type": "code",
   "execution_count": 13,
   "metadata": {},
   "outputs": [],
   "source": [
    "gamelogs = pd.read_sql_query('SELECT * FROM aws_gamelogs;', connection)\n",
    "\n",
    "gamelogs_new = gamelogs.groupby(['Team', 'Type', 'GameID']).mean('PTS')\n",
    "\n",
    "gamelogs_type_aggs = gamelogs[(gamelogs['Type'] != 'Play-In Tournament')] \\\n",
    "    .groupby(['Team', 'Type', 'GameID']) \\\n",
    "    .sum()['PTS'] \\\n",
    "    .groupby(['Team', 'Type']) \\\n",
    "    .mean().round(1) \\\n",
    "    .reset_index() \\\n",
    "    .rename(columns = {'PTS' : 'team_pts'}) \\\n",
    "    .sort_values('team_pts', ascending = False) \\\n",
    "    .assign(language = 'Python7-4')"
   ]
  },
  {
   "cell_type": "code",
   "execution_count": 39,
   "metadata": {},
   "outputs": [],
   "source": [
    "top10 = gamelogs.groupby(['Player']) \\\n",
    "    .mean('PTS').round(1) \\\n",
    "    .nlargest(25, 'PTS')  \\\n",
    "    .reset_index() \\\n",
    "    .get(['Player', 'Season', 'PTS', 'PlusMinus'])\n",
    "# top10_2 = top10[['Player', 'PTS']].filter(['PTS'] >= 25)\n",
    "top10_filter = top10.query('Player == \"Stephen Curry\" | Player == \"Bradley Beal\"')\n",
    "top10_ptsfilter = top10[['Player', 'PTS']].query('PTS >= 25')\n",
    "# USE QUERY IT IS DISGUSTING."
   ]
  },
  {
   "cell_type": "code",
   "execution_count": 52,
   "metadata": {},
   "outputs": [],
   "source": [
    "twenty_pt_games = gamelogs.query('PTS >= 20 & Type == \"Regular Season\"') \\\n",
    "    .groupby('Player') \\\n",
    "    .count() \\\n",
    "    .reset_index() \\\n",
    "    .get(['Player', 'row_names']) \\\n",
    "    .sort_values('row_names', ascending = False)\n",
    "\n",
    "twenty_pt_games2 = gamelogs.query('PTS >= 20') \\\n",
    "    .groupby('Player') \\\n",
    "    .count()"
   ]
  },
  {
   "cell_type": "code",
   "execution_count": 11,
   "metadata": {},
   "outputs": [],
   "source": [
    "# gamelogs_type_aggs.to_sql(con = connection, name = \"my_python_table\", index = False, if_exists = \"replace\")\n",
    "# doesnt work, cant use connection var"
   ]
  },
  {
   "cell_type": "code",
   "execution_count": 7,
   "metadata": {},
   "outputs": [],
   "source": [
    "bb1.to_sql(con = mydb, name = \"my_python_table\", index = False, if_exists = \"replace\")\n"
   ]
  },
  {
   "cell_type": "code",
   "execution_count": 8,
   "metadata": {},
   "outputs": [],
   "source": [
    "new_df = pd.read_sql_query('SELECT * FROM my_python_table;', con = mydb)"
   ]
  },
  {
   "cell_type": "code",
   "execution_count": 10,
   "metadata": {},
   "outputs": [
    {
     "name": "stdout",
     "output_type": "stream",
     "text": [
      "  Tables_in_jacob_db\n",
      "0        aws_odds_df\n",
      "1    my_python_table\n",
      "  Tables_in_jacob_db\n",
      "0        aws_odds_df\n",
      "1    my_python_table\n"
     ]
    }
   ],
   "source": [
    "all_tables = pd.read_sql_query('SHOW TABLES FROM jacob_db;', cnx)\n",
    "all_tables1 = pd.read_sql_query('SHOW TABLES FROM jacob_db;', mydb)\n",
    "print(all_tables)\n",
    "print(all_tables1)"
   ]
  },
  {
   "cell_type": "code",
   "execution_count": 14,
   "metadata": {},
   "outputs": [],
   "source": [
    "# i can read sql with both mysql connector and sqlalchemy engine\n",
    "# but can only write to rds with sqlalchemy engine"
   ]
  },
  {
   "cell_type": "code",
   "execution_count": 15,
   "metadata": {},
   "outputs": [],
   "source": [
    "# start_time = datetime.utcnow()\n",
    "# my_time = datetime.now().time()\n",
    "# current_datetime = datetime.today().strftime(\"%Y-%m-%d %H:%M:%S %p %Z\")\n",
    "# current_date = datetime.now().date()\n",
    "# print(current_date)\n",
    "# print(current_datetime)\n",
    "# print('starting function at', start_time)\n",
    "yesterday = datetime.now().date() - timedelta(1)"
   ]
  },
  {
   "cell_type": "code",
   "execution_count": 14,
   "metadata": {},
   "outputs": [],
   "source": [
    "# top 15 scorers from most recent games\n",
    "df = pd.read_sql_query('SELECT * FROM aws_gamelogs;', con = mydb)\n",
    "\n",
    "df['Date'] = pd.to_datetime(df['Date']).dt.date"
   ]
  },
  {
   "cell_type": "code",
   "execution_count": 17,
   "metadata": {},
   "outputs": [
    {
     "data": {
      "text/plain": [
       "datetime.date(2021, 7, 6)"
      ]
     },
     "execution_count": 17,
     "metadata": {},
     "output_type": "execute_result"
    }
   ],
   "source": [
    "min(df['Date'])\n",
    "max(df['Date'])"
   ]
  },
  {
   "cell_type": "code",
   "execution_count": 20,
   "metadata": {},
   "outputs": [],
   "source": [
    "top10_yesterday = df[df['Date'] == max(df['Date'])] \\\n",
    "    .nlargest(10, 'PTS') \\\n",
    "    .sort_values('PTS', ascending = False)\n",
    "# top10_yesterday = df2[['Player', 'Date', 'Outcome', 'Team', 'PTS']]"
   ]
  },
  {
   "cell_type": "code",
   "execution_count": 25,
   "metadata": {},
   "outputs": [
    {
     "ename": "KeyError",
     "evalue": "('Team', 'PTS')",
     "output_type": "error",
     "traceback": [
      "\u001b[1;31m---------------------------------------------------------------------------\u001b[0m",
      "\u001b[1;31mKeyError\u001b[0m                                  Traceback (most recent call last)",
      "\u001b[1;32m~\\Anaconda3\\lib\\site-packages\\pandas\\core\\indexes\\base.py\u001b[0m in \u001b[0;36mget_loc\u001b[1;34m(self, key, method, tolerance)\u001b[0m\n\u001b[0;32m   3079\u001b[0m             \u001b[1;32mtry\u001b[0m\u001b[1;33m:\u001b[0m\u001b[1;33m\u001b[0m\u001b[1;33m\u001b[0m\u001b[0m\n\u001b[1;32m-> 3080\u001b[1;33m                 \u001b[1;32mreturn\u001b[0m \u001b[0mself\u001b[0m\u001b[1;33m.\u001b[0m\u001b[0m_engine\u001b[0m\u001b[1;33m.\u001b[0m\u001b[0mget_loc\u001b[0m\u001b[1;33m(\u001b[0m\u001b[0mcasted_key\u001b[0m\u001b[1;33m)\u001b[0m\u001b[1;33m\u001b[0m\u001b[1;33m\u001b[0m\u001b[0m\n\u001b[0m\u001b[0;32m   3081\u001b[0m             \u001b[1;32mexcept\u001b[0m \u001b[0mKeyError\u001b[0m \u001b[1;32mas\u001b[0m \u001b[0merr\u001b[0m\u001b[1;33m:\u001b[0m\u001b[1;33m\u001b[0m\u001b[1;33m\u001b[0m\u001b[0m\n",
      "\u001b[1;32mpandas\\_libs\\index.pyx\u001b[0m in \u001b[0;36mpandas._libs.index.IndexEngine.get_loc\u001b[1;34m()\u001b[0m\n",
      "\u001b[1;32mpandas\\_libs\\index.pyx\u001b[0m in \u001b[0;36mpandas._libs.index.IndexEngine.get_loc\u001b[1;34m()\u001b[0m\n",
      "\u001b[1;32mpandas\\_libs\\hashtable_class_helper.pxi\u001b[0m in \u001b[0;36mpandas._libs.hashtable.PyObjectHashTable.get_item\u001b[1;34m()\u001b[0m\n",
      "\u001b[1;32mpandas\\_libs\\hashtable_class_helper.pxi\u001b[0m in \u001b[0;36mpandas._libs.hashtable.PyObjectHashTable.get_item\u001b[1;34m()\u001b[0m\n",
      "\u001b[1;31mKeyError\u001b[0m: ('Team', 'PTS')",
      "\nThe above exception was the direct cause of the following exception:\n",
      "\u001b[1;31mKeyError\u001b[0m                                  Traceback (most recent call last)",
      "\u001b[1;32m<ipython-input-25-76be1da147c4>\u001b[0m in \u001b[0;36m<module>\u001b[1;34m\u001b[0m\n\u001b[1;32m----> 1\u001b[1;33m \u001b[0mdf\u001b[0m\u001b[1;33m.\u001b[0m\u001b[0mgroupby\u001b[0m\u001b[1;33m(\u001b[0m\u001b[1;34m'Team'\u001b[0m\u001b[1;33m)\u001b[0m\u001b[1;33m.\u001b[0m\u001b[0msum\u001b[0m\u001b[1;33m(\u001b[0m\u001b[1;34m'PTS'\u001b[0m\u001b[1;33m)\u001b[0m\u001b[1;33m[\u001b[0m\u001b[1;34m'Team'\u001b[0m\u001b[1;33m,\u001b[0m \u001b[1;34m'PTS'\u001b[0m\u001b[1;33m]\u001b[0m\u001b[1;33m\u001b[0m\u001b[1;33m\u001b[0m\u001b[0m\n\u001b[0m",
      "\u001b[1;32m~\\Anaconda3\\lib\\site-packages\\pandas\\core\\frame.py\u001b[0m in \u001b[0;36m__getitem__\u001b[1;34m(self, key)\u001b[0m\n\u001b[0;32m   3022\u001b[0m             \u001b[1;32mif\u001b[0m \u001b[0mself\u001b[0m\u001b[1;33m.\u001b[0m\u001b[0mcolumns\u001b[0m\u001b[1;33m.\u001b[0m\u001b[0mnlevels\u001b[0m \u001b[1;33m>\u001b[0m \u001b[1;36m1\u001b[0m\u001b[1;33m:\u001b[0m\u001b[1;33m\u001b[0m\u001b[1;33m\u001b[0m\u001b[0m\n\u001b[0;32m   3023\u001b[0m                 \u001b[1;32mreturn\u001b[0m \u001b[0mself\u001b[0m\u001b[1;33m.\u001b[0m\u001b[0m_getitem_multilevel\u001b[0m\u001b[1;33m(\u001b[0m\u001b[0mkey\u001b[0m\u001b[1;33m)\u001b[0m\u001b[1;33m\u001b[0m\u001b[1;33m\u001b[0m\u001b[0m\n\u001b[1;32m-> 3024\u001b[1;33m             \u001b[0mindexer\u001b[0m \u001b[1;33m=\u001b[0m \u001b[0mself\u001b[0m\u001b[1;33m.\u001b[0m\u001b[0mcolumns\u001b[0m\u001b[1;33m.\u001b[0m\u001b[0mget_loc\u001b[0m\u001b[1;33m(\u001b[0m\u001b[0mkey\u001b[0m\u001b[1;33m)\u001b[0m\u001b[1;33m\u001b[0m\u001b[1;33m\u001b[0m\u001b[0m\n\u001b[0m\u001b[0;32m   3025\u001b[0m             \u001b[1;32mif\u001b[0m \u001b[0mis_integer\u001b[0m\u001b[1;33m(\u001b[0m\u001b[0mindexer\u001b[0m\u001b[1;33m)\u001b[0m\u001b[1;33m:\u001b[0m\u001b[1;33m\u001b[0m\u001b[1;33m\u001b[0m\u001b[0m\n\u001b[0;32m   3026\u001b[0m                 \u001b[0mindexer\u001b[0m \u001b[1;33m=\u001b[0m \u001b[1;33m[\u001b[0m\u001b[0mindexer\u001b[0m\u001b[1;33m]\u001b[0m\u001b[1;33m\u001b[0m\u001b[1;33m\u001b[0m\u001b[0m\n",
      "\u001b[1;32m~\\Anaconda3\\lib\\site-packages\\pandas\\core\\indexes\\base.py\u001b[0m in \u001b[0;36mget_loc\u001b[1;34m(self, key, method, tolerance)\u001b[0m\n\u001b[0;32m   3080\u001b[0m                 \u001b[1;32mreturn\u001b[0m \u001b[0mself\u001b[0m\u001b[1;33m.\u001b[0m\u001b[0m_engine\u001b[0m\u001b[1;33m.\u001b[0m\u001b[0mget_loc\u001b[0m\u001b[1;33m(\u001b[0m\u001b[0mcasted_key\u001b[0m\u001b[1;33m)\u001b[0m\u001b[1;33m\u001b[0m\u001b[1;33m\u001b[0m\u001b[0m\n\u001b[0;32m   3081\u001b[0m             \u001b[1;32mexcept\u001b[0m \u001b[0mKeyError\u001b[0m \u001b[1;32mas\u001b[0m \u001b[0merr\u001b[0m\u001b[1;33m:\u001b[0m\u001b[1;33m\u001b[0m\u001b[1;33m\u001b[0m\u001b[0m\n\u001b[1;32m-> 3082\u001b[1;33m                 \u001b[1;32mraise\u001b[0m \u001b[0mKeyError\u001b[0m\u001b[1;33m(\u001b[0m\u001b[0mkey\u001b[0m\u001b[1;33m)\u001b[0m \u001b[1;32mfrom\u001b[0m \u001b[0merr\u001b[0m\u001b[1;33m\u001b[0m\u001b[1;33m\u001b[0m\u001b[0m\n\u001b[0m\u001b[0;32m   3083\u001b[0m \u001b[1;33m\u001b[0m\u001b[0m\n\u001b[0;32m   3084\u001b[0m         \u001b[1;32mif\u001b[0m \u001b[0mtolerance\u001b[0m \u001b[1;32mis\u001b[0m \u001b[1;32mnot\u001b[0m \u001b[1;32mNone\u001b[0m\u001b[1;33m:\u001b[0m\u001b[1;33m\u001b[0m\u001b[1;33m\u001b[0m\u001b[0m\n",
      "\u001b[1;31mKeyError\u001b[0m: ('Team', 'PTS')"
     ]
    }
   ],
   "source": [
    "df.groupby('Team').sum('PTS')"
   ]
  },
  {
   "cell_type": "markdown",
   "metadata": {},
   "source": []
  }
 ],
 "metadata": {
  "interpreter": {
   "hash": "23631fb84f7d007f44401ba04533f258904c229b790399b66b79eae0a9abec65"
  },
  "kernelspec": {
   "display_name": "Python 3.8.11 64-bit ('base': conda)",
   "name": "python3"
  },
  "language_info": {
   "codemirror_mode": {
    "name": "ipython",
    "version": 3
   },
   "file_extension": ".py",
   "mimetype": "text/x-python",
   "name": "python",
   "nbconvert_exporter": "python",
   "pygments_lexer": "ipython3",
   "version": "3.8.8"
  },
  "orig_nbformat": 4
 },
 "nbformat": 4,
 "nbformat_minor": 2
}

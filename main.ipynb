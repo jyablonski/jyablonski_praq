{
 "cells": [
  {
   "cell_type": "code",
   "execution_count": 1,
   "metadata": {},
   "outputs": [],
   "source": [
    "import pandas as pd\r\n",
    "import numpy as np\r\n",
    "import os\r\n",
    "import matplotlib.pyplot as plt\r\n",
    "import seaborn as sns\r\n",
    "import sqlalchemy\r\n",
    "import boto3\r\n",
    "import pyarrow\r\n",
    "import pymysql\r\n",
    "import mysql.connector\r\n",
    "from datetime import datetime, timezone, timedelta\r\n",
    "from decouple import config"
   ]
  },
  {
   "cell_type": "code",
   "execution_count": 34,
   "metadata": {},
   "outputs": [],
   "source": [
    "s3 = boto3.resource(\r\n",
    "    service_name ='s3',\r\n",
    "    region_name = config('AWS_REGION'),\r\n",
    "    aws_access_key_id = config('AWS_KEY'),\r\n",
    "    aws_secret_access_key = config('AWS_SECRET')\r\n",
    ")"
   ]
  },
  {
   "cell_type": "code",
   "execution_count": 33,
   "metadata": {},
   "outputs": [
    {
     "name": "stdout",
     "output_type": "stream",
     "text": [
      "mygamelogsbucket\n",
      "thebucketofjacob2020\n"
     ]
    }
   ],
   "source": [
    "for bucket in s3.buckets.all():\r\n",
    "    print(bucket.name)\r\n",
    "    "
   ]
  },
  {
   "cell_type": "code",
   "execution_count": 36,
   "metadata": {},
   "outputs": [],
   "source": [
    "# READ a file directly from s3.  no download.\r\n",
    "obj = s3.Bucket('mygamelogsbucket').Object('bby.csv').get()\r\n",
    "s3_gamelogs = pd.read_csv(obj['Body'], index_col = 0) # removes the useless index column"
   ]
  },
  {
   "cell_type": "code",
   "execution_count": 39,
   "metadata": {},
   "outputs": [],
   "source": [
    "### #SQL DATABASE STUFF\r\n",
    "mydb = sqlalchemy.create_engine('mysql+mysqlconnector://' + config('AWS_USER') + ':' + config('PW') + '@' + config('IP') + ':' + config('PORT') + '/' + config('DB'),\r\n",
    "                     echo = False)\r\n"
   ]
  },
  {
   "cell_type": "code",
   "execution_count": 10,
   "metadata": {},
   "outputs": [],
   "source": [
    "bb1 = pd.read_sql('SELECT * FROM aws_gamelogs;', con = mydb)\r\n",
    "bb2 = pd.read_sql_query('SELECT * FROM aws_gamelogs;', con = mydb)\r\n"
   ]
  },
  {
   "cell_type": "code",
   "execution_count": null,
   "metadata": {},
   "outputs": [],
   "source": [
    "cnx = mydb.raw_connection()"
   ]
  },
  {
   "cell_type": "code",
   "execution_count": 40,
   "metadata": {},
   "outputs": [],
   "source": [
    "connection = mysql.connector.connect(host = config('IP'),\r\n",
    "                                     port = config('PORT'),\r\n",
    "                                      user = config('AWS_USER'),\r\n",
    "                                      password = config('PW'),\r\n",
    "                                      db = config('DB'))\r\n",
    "\r\n",
    "\r\n",
    "# connection\r\n",
    "\r\n",
    "all_tables = pd.read_sql_query('SHOW TABLES FROM aws_database;', connection)"
   ]
  },
  {
   "cell_type": "code",
   "execution_count": 17,
   "metadata": {},
   "outputs": [],
   "source": [
    "df1 = pd.read_sql('SELECT * FROM aws_gamelogs;', con = connection)\r\n",
    "df2 = pd.read_sql_query('SELECT * FROM aws_gamelogs;', con = connection)"
   ]
  },
  {
   "cell_type": "code",
   "execution_count": 21,
   "metadata": {},
   "outputs": [],
   "source": [
    "gamelogs = pd.read_sql_query('SELECT * FROM aws_gamelogs;', connection)\r\n",
    "\r\n",
    "gamelogs_new = gamelogs.groupby(['Team', 'Type', 'GameID']).mean('PTS')\r\n",
    "\r\n",
    "gamelogs_type_aggs = gamelogs[(gamelogs['Type'] != 'Play-In Tournament')] \\\r\n",
    "    .groupby(['Team', 'Type', 'GameID']) \\\r\n",
    "    .sum()['PTS'] \\\r\n",
    "    .groupby(['Team', 'Type']) \\\r\n",
    "    .mean().round(1) \\\r\n",
    "    .reset_index() \\\r\n",
    "    .rename(columns = {'PTS' : 'team_pts'}) \\\r\n",
    "    .sort_values('team_pts', ascending = False) \\\r\n",
    "    .assign(language = 'Python7-4')"
   ]
  },
  {
   "cell_type": "code",
   "execution_count": 24,
   "metadata": {},
   "outputs": [],
   "source": [
    "# gamelogs_type_aggs.to_sql(con = connection, name = \"my_python_table\", index = False, if_exists = \"replace\")\r\n",
    "# doesnt work, cant use connection var"
   ]
  },
  {
   "cell_type": "code",
   "execution_count": 22,
   "metadata": {},
   "outputs": [],
   "source": [
    "gamelogs_type_aggs.to_sql(con = mydb, name = \"my_python_table\", index = False, if_exists = \"replace\")\r\n"
   ]
  },
  {
   "cell_type": "code",
   "execution_count": 23,
   "metadata": {},
   "outputs": [],
   "source": [
    "new_df = pd.read_sql_query('SELECT * FROM my_python_table;', con = mydb)"
   ]
  },
  {
   "cell_type": "code",
   "execution_count": null,
   "metadata": {},
   "outputs": [],
   "source": [
    "# i can read sql with both mysql connector and sqlalchemy engine\r\n",
    "# but can only write to rds with sqlalchemy engine"
   ]
  },
  {
   "cell_type": "code",
   "execution_count": 25,
   "metadata": {},
   "outputs": [],
   "source": [
    "# top 15 scorers from most recent games\r\n",
    "df = pd.read_sql_query('SELECT * FROM aws_gamelogs;', con = mydb)"
   ]
  },
  {
   "cell_type": "code",
   "execution_count": 30,
   "metadata": {},
   "outputs": [],
   "source": [
    "# start_time = datetime.utcnow()\r\n",
    "# my_time = datetime.now().time()\r\n",
    "# current_datetime = datetime.today().strftime(\"%Y-%m-%d %H:%M:%S %p %Z\")\r\n",
    "# current_date = datetime.now().date()\r\n",
    "# print(current_date)\r\n",
    "# print(current_datetime)\r\n",
    "# print('starting function at', start_time)\r\n",
    "yesterday = datetime.now().date() - timedelta(1)"
   ]
  },
  {
   "cell_type": "code",
   "execution_count": 55,
   "metadata": {},
   "outputs": [],
   "source": [
    "df['Date'] = pd.to_datetime(df['Date']).dt.date"
   ]
  },
  {
   "cell_type": "code",
   "execution_count": 57,
   "metadata": {},
   "outputs": [
    {
     "data": {
      "text/plain": [
       "datetime.date(2021, 7, 3)"
      ]
     },
     "execution_count": 57,
     "metadata": {},
     "output_type": "execute_result"
    }
   ],
   "source": [
    "min(df['Date'])\r\n",
    "max(df['Date'])"
   ]
  },
  {
   "cell_type": "code",
   "execution_count": 77,
   "metadata": {},
   "outputs": [],
   "source": [
    "top10_yesterday = df[df['Date'] == yesterday] \\\r\n",
    "    .nlargest(10, 'PTS') \\\r\n",
    "    .sort_values('PTS', ascending = False)\r\n",
    "top10_yesterday = df2[['Player', 'Date', 'Outcome', 'Team', 'PTS']]\r\n",
    "\r\n"
   ]
  }
 ],
 "metadata": {
  "interpreter": {
   "hash": "23631fb84f7d007f44401ba04533f258904c229b790399b66b79eae0a9abec65"
  },
  "kernelspec": {
   "display_name": "Python 3.8.10 64-bit ('base': conda)",
   "name": "python3"
  },
  "language_info": {
   "name": "python",
   "version": ""
  },
  "orig_nbformat": 4
 },
 "nbformat": 4,
 "nbformat_minor": 2
}
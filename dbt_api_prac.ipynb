{
 "cells": [
  {
   "cell_type": "code",
   "execution_count": 4,
   "metadata": {},
   "outputs": [],
   "source": [
    "import requests\n",
    "import os\n",
    "import numpy as np\n",
    "from numpy.random import normal\n",
    "import pandas as pd\n",
    "import altair as alt\n",
    "import networkx as nx\n",
    "from ipycytoscape import CytoscapeWidget\n",
    "import ipywidgets as widgets\n",
    "\n",
    "from IPython.display import JSON, Markdown, display\n",
    "def printmd(string):\n",
    "    display(Markdown(string))\n",
    "# https://github.com/metaplane/dbt-coalesce-2021-codebase"
   ]
  },
  {
   "cell_type": "code",
   "execution_count": 3,
   "metadata": {},
   "outputs": [],
   "source": [
    "cloud_api_base_url = 'https://cloud.getdbt.com/api/v2'\n",
    "metadata_api_url = 'https://metadata.cloud.getdbt.com/graphql'"
   ]
  },
  {
   "cell_type": "code",
   "execution_count": 5,
   "metadata": {},
   "outputs": [],
   "source": [
    "api_key = os.getenv('dbt_key')\n",
    "headers = {\n",
    "    \"Accept\": \"application/json\",\n",
    "    \"Authorization\": f\"Bearer {api_key}\"\n",
    "}"
   ]
  },
  {
   "cell_type": "code",
   "execution_count": 7,
   "metadata": {},
   "outputs": [
    {
     "data": {
      "text/plain": [
       "ThemeRegistry.enable('coalesce_theme')"
      ]
     },
     "execution_count": 7,
     "metadata": {},
     "output_type": "execute_result"
    }
   ],
   "source": [
    "coalesce_colors = {\n",
    "    \"blue\": \"#345F70\",\n",
    "    \"baby_blue\": \"#50ADD2\",\n",
    "    \"orange\": \"#ED7357\",\n",
    "    \"magenta\": \"#8F4056\",\n",
    "    \"green\": \"#82B14F\",\n",
    "    \"dark_green\": \"#327176\"\n",
    "}\n",
    "\n",
    "\n",
    "def coalesce_theme():\n",
    "    # Typography\n",
    "    font = \"Source Sans Pro, -apple-system, BlinkMacSystemFont, sans-serif\"\n",
    "    title_font = \"Roboto Slab, -apple-system, BlinkMacSystemFont, serif\"\n",
    "    font_color = \"#000000\"\n",
    "    labelFont = font\n",
    "    sourceFont = font\n",
    "    # Axes\n",
    "    axisColor = \"#000000\"\n",
    "    gridColor = \"#DEDDDD\"\n",
    "    \n",
    "    width = 600\n",
    "    height = 400\n",
    "    \n",
    "    title_font_size = 28\n",
    "    lg_font_size = 24\n",
    "    md_font_size = 20\n",
    "    sm_font_size = 16\n",
    "    return {\n",
    "        \"config\": {\n",
    "            \"view\": {\n",
    "                \"width\": width,\n",
    "                \"height\": height\n",
    "            },\n",
    "            \"title\": {\n",
    "                \"fontSize\": title_font_size,\n",
    "                \"font\": title_font,\n",
    "                \"anchor\": \"start\",\n",
    "                \"fontColor\": font_color,\n",
    "                \"offset\": 20,\n",
    "                \"subtitleFont\": title_font,\n",
    "                \"subtitleFontSize\": sm_font_size,\n",
    "                \"subtitleFontWeight\": 200\n",
    "            },\n",
    "            \"subtitle\": {\n",
    "                \"fontSize\": title_font_size,\n",
    "                \"font\": title_font,\n",
    "                \"anchor\": \"start\",\n",
    "                \"fontColor\": font_color,\n",
    "            },\n",
    "            \"legend\": {\n",
    "                \"titleFont\": font,\n",
    "                \"titleColor\": font_color,\n",
    "                \"titleFontSize\": sm_font_size,\n",
    "                \"labelFont\": font,\n",
    "                \"labelColor\": font_color,\n",
    "                \"labelFontSize\": sm_font_size,\n",
    "            },\n",
    "            \"axisX\": {\n",
    "                \"domain\": True,\n",
    "                \"domainColor\": axisColor,\n",
    "                \"domainWidth\": 1,\n",
    "                \"labelFont\": labelFont,\n",
    "                \"labelFontSize\": sm_font_size,\n",
    "                \"labelAngle\": 0,\n",
    "                \"tickColor\": axisColor,\n",
    "                \"tickSize\": 5,\n",
    "                \"titleFont\": font,\n",
    "                \"titleFontSize\": md_font_size,\n",
    "                \"titlePadding\": 10,\n",
    "                \"title\": \"X Axis Title (units)\", \n",
    "            },\n",
    "            \"axisY\": {\n",
    "                \"domain\": False,\n",
    "                \"grid\": True,\n",
    "                \"gridColor\": gridColor,\n",
    "                \"gridWidth\": 1,\n",
    "                \"labelFont\": labelFont,\n",
    "                \"labelFontSize\": sm_font_size,\n",
    "                \"labelAngle\": 0, \n",
    "                \"ticks\": False,\n",
    "                \"titleFont\": font,\n",
    "                \"titleFontSize\": md_font_size,\n",
    "                \"titlePadding\": 10,\n",
    "                \"title\": \"Y Axis Title (units)\"\n",
    "            },\n",
    "            \"range\": {\n",
    "                \"category\": [v for v in coalesce_colors.values()]\n",
    "            }\n",
    "        }\n",
    "    }\n",
    "\n",
    "# register\n",
    "alt.themes.register(\"coalesce_theme\", coalesce_theme)\n",
    "# enable|\n",
    "alt.themes.enable(\"coalesce_theme\")"
   ]
  },
  {
   "cell_type": "code",
   "execution_count": 8,
   "metadata": {},
   "outputs": [
    {
     "data": {
      "text/html": [
       "<div>\n",
       "<style scoped>\n",
       "    .dataframe tbody tr th:only-of-type {\n",
       "        vertical-align: middle;\n",
       "    }\n",
       "\n",
       "    .dataframe tbody tr th {\n",
       "        vertical-align: top;\n",
       "    }\n",
       "\n",
       "    .dataframe thead th {\n",
       "        text-align: right;\n",
       "    }\n",
       "</style>\n",
       "<table border=\"1\" class=\"dataframe\">\n",
       "  <thead>\n",
       "    <tr style=\"text-align: right;\">\n",
       "      <th></th>\n",
       "      <th>docs_job_id</th>\n",
       "      <th>freshness_job_id</th>\n",
       "      <th>lock_reason</th>\n",
       "      <th>unlock_if_subscription_renewed</th>\n",
       "      <th>read_only_seats</th>\n",
       "      <th>id</th>\n",
       "      <th>name</th>\n",
       "      <th>state</th>\n",
       "      <th>plan</th>\n",
       "      <th>pending_cancel</th>\n",
       "      <th>...</th>\n",
       "      <th>develop_file_system</th>\n",
       "      <th>unlocked_at</th>\n",
       "      <th>created_at</th>\n",
       "      <th>updated_at</th>\n",
       "      <th>starter_repo_url</th>\n",
       "      <th>sso_reauth</th>\n",
       "      <th>git_auth_level</th>\n",
       "      <th>docs_job</th>\n",
       "      <th>freshness_job</th>\n",
       "      <th>enterprise_login_url</th>\n",
       "    </tr>\n",
       "  </thead>\n",
       "  <tbody>\n",
       "    <tr>\n",
       "      <th>0</th>\n",
       "      <td>None</td>\n",
       "      <td>None</td>\n",
       "      <td>None</td>\n",
       "      <td>False</td>\n",
       "      <td>0</td>\n",
       "      <td>28720</td>\n",
       "      <td>NA</td>\n",
       "      <td>1</td>\n",
       "      <td>developer</td>\n",
       "      <td>False</td>\n",
       "      <td>...</td>\n",
       "      <td>True</td>\n",
       "      <td>None</td>\n",
       "      <td>2021-09-19T15:52:48.970932+00:00</td>\n",
       "      <td>2021-09-20T22:28:20.188621+00:00</td>\n",
       "      <td>None</td>\n",
       "      <td>False</td>\n",
       "      <td>team</td>\n",
       "      <td>None</td>\n",
       "      <td>None</td>\n",
       "      <td>https://cloud.getdbt.com/enterprise-login/None/</td>\n",
       "    </tr>\n",
       "  </tbody>\n",
       "</table>\n",
       "<p>1 rows × 30 columns</p>\n",
       "</div>"
      ],
      "text/plain": [
       "  docs_job_id freshness_job_id lock_reason  unlock_if_subscription_renewed  \\\n",
       "0        None             None        None                           False   \n",
       "\n",
       "   read_only_seats     id name  state       plan  pending_cancel  ...  \\\n",
       "0                0  28720   NA      1  developer           False  ...   \n",
       "\n",
       "   develop_file_system  unlocked_at                        created_at  \\\n",
       "0                 True         None  2021-09-19T15:52:48.970932+00:00   \n",
       "\n",
       "                         updated_at  starter_repo_url sso_reauth  \\\n",
       "0  2021-09-20T22:28:20.188621+00:00              None      False   \n",
       "\n",
       "  git_auth_level docs_job freshness_job  \\\n",
       "0           team     None          None   \n",
       "\n",
       "                              enterprise_login_url  \n",
       "0  https://cloud.getdbt.com/enterprise-login/None/  \n",
       "\n",
       "[1 rows x 30 columns]"
      ]
     },
     "metadata": {},
     "output_type": "display_data"
    }
   ],
   "source": [
    "def get_accounts():\n",
    "    r = requests.get(f'{cloud_api_base_url}/accounts', headers=headers)\n",
    "    accounts_result = r.json()\n",
    "    return accounts_result.get('data')\n",
    "\n",
    "accounts_result = get_accounts()\n",
    "account_id = accounts_result[0].get(\"id\")\n",
    "display(pd.DataFrame(accounts_result))"
   ]
  },
  {
   "cell_type": "code",
   "execution_count": 12,
   "metadata": {},
   "outputs": [
    {
     "data": {
      "text/html": [
       "<div>\n",
       "<style scoped>\n",
       "    .dataframe tbody tr th:only-of-type {\n",
       "        vertical-align: middle;\n",
       "    }\n",
       "\n",
       "    .dataframe tbody tr th {\n",
       "        vertical-align: top;\n",
       "    }\n",
       "\n",
       "    .dataframe thead th {\n",
       "        text-align: right;\n",
       "    }\n",
       "</style>\n",
       "<table border=\"1\" class=\"dataframe\">\n",
       "  <thead>\n",
       "    <tr style=\"text-align: right;\">\n",
       "      <th></th>\n",
       "    </tr>\n",
       "  </thead>\n",
       "  <tbody>\n",
       "  </tbody>\n",
       "</table>\n",
       "</div>"
      ],
      "text/plain": [
       "Empty DataFrame\n",
       "Columns: []\n",
       "Index: []"
      ]
     },
     "metadata": {},
     "output_type": "display_data"
    },
    {
     "ename": "TypeError",
     "evalue": "'NoneType' object is not subscriptable",
     "output_type": "error",
     "traceback": [
      "\u001b[0;31m---------------------------------------------------------------------------\u001b[0m",
      "\u001b[0;31mTypeError\u001b[0m                                 Traceback (most recent call last)",
      "\u001b[0;32m/tmp/ipykernel_21650/4123898020.py\u001b[0m in \u001b[0;36m<module>\u001b[0;34m\u001b[0m\n\u001b[1;32m      7\u001b[0m \u001b[0mdisplay\u001b[0m\u001b[0;34m(\u001b[0m\u001b[0mpd\u001b[0m\u001b[0;34m.\u001b[0m\u001b[0mDataFrame\u001b[0m\u001b[0;34m(\u001b[0m\u001b[0mjobs\u001b[0m\u001b[0;34m)\u001b[0m\u001b[0;34m)\u001b[0m\u001b[0;34m\u001b[0m\u001b[0;34m\u001b[0m\u001b[0m\n\u001b[1;32m      8\u001b[0m \u001b[0;34m\u001b[0m\u001b[0m\n\u001b[0;32m----> 9\u001b[0;31m \u001b[0mmost_recent_job\u001b[0m \u001b[0;34m=\u001b[0m \u001b[0mjobs\u001b[0m\u001b[0;34m[\u001b[0m\u001b[0;36m0\u001b[0m\u001b[0;34m]\u001b[0m\u001b[0;34m\u001b[0m\u001b[0;34m\u001b[0m\u001b[0m\n\u001b[0m\u001b[1;32m     10\u001b[0m \u001b[0mjob_id\u001b[0m \u001b[0;34m=\u001b[0m \u001b[0mmost_recent_job\u001b[0m\u001b[0;34m.\u001b[0m\u001b[0mget\u001b[0m\u001b[0;34m(\u001b[0m\u001b[0;34m\"id\"\u001b[0m\u001b[0;34m)\u001b[0m\u001b[0;34m\u001b[0m\u001b[0;34m\u001b[0m\u001b[0m\n\u001b[1;32m     11\u001b[0m \u001b[0mjob_name\u001b[0m \u001b[0;34m=\u001b[0m \u001b[0mmost_recent_job\u001b[0m\u001b[0;34m.\u001b[0m\u001b[0mget\u001b[0m\u001b[0;34m(\u001b[0m\u001b[0;34m\"name\"\u001b[0m\u001b[0;34m)\u001b[0m\u001b[0;34m\u001b[0m\u001b[0;34m\u001b[0m\u001b[0m\n",
      "\u001b[0;31mTypeError\u001b[0m: 'NoneType' object is not subscriptable"
     ]
    }
   ],
   "source": [
    "def get_jobs(account_id):\n",
    "    r = requests.get(f'{cloud_api_base_url}/accounts/{account_id}/jobs', headers=headers)\n",
    "    jobs_result = r.json()\n",
    "    return jobs_result.get('data')\n",
    "\n",
    "jobs = get_jobs(account_id) # doesnt work bc im on a developer account?\n",
    "display(pd.DataFrame(jobs))\n",
    "\n",
    "most_recent_job = jobs[0]\n",
    "job_id = most_recent_job.get(\"id\")\n",
    "job_name = most_recent_job.get(\"name\")"
   ]
  },
  {
   "cell_type": "code",
   "execution_count": 14,
   "metadata": {},
   "outputs": [
    {
     "data": {
      "text/html": [
       "<div>\n",
       "<style scoped>\n",
       "    .dataframe tbody tr th:only-of-type {\n",
       "        vertical-align: middle;\n",
       "    }\n",
       "\n",
       "    .dataframe tbody tr th {\n",
       "        vertical-align: top;\n",
       "    }\n",
       "\n",
       "    .dataframe thead th {\n",
       "        text-align: right;\n",
       "    }\n",
       "</style>\n",
       "<table border=\"1\" class=\"dataframe\">\n",
       "  <thead>\n",
       "    <tr style=\"text-align: right;\">\n",
       "      <th></th>\n",
       "    </tr>\n",
       "  </thead>\n",
       "  <tbody>\n",
       "  </tbody>\n",
       "</table>\n",
       "</div>"
      ],
      "text/plain": [
       "Empty DataFrame\n",
       "Columns: []\n",
       "Index: []"
      ]
     },
     "metadata": {},
     "output_type": "display_data"
    },
    {
     "ename": "TypeError",
     "evalue": "'NoneType' object is not subscriptable",
     "output_type": "error",
     "traceback": [
      "\u001b[0;31m---------------------------------------------------------------------------\u001b[0m",
      "\u001b[0;31mTypeError\u001b[0m                                 Traceback (most recent call last)",
      "\u001b[0;32m/tmp/ipykernel_21650/2408746744.py\u001b[0m in \u001b[0;36m<module>\u001b[0;34m\u001b[0m\n\u001b[1;32m      7\u001b[0m \u001b[0mdisplay\u001b[0m\u001b[0;34m(\u001b[0m\u001b[0mpd\u001b[0m\u001b[0;34m.\u001b[0m\u001b[0mDataFrame\u001b[0m\u001b[0;34m(\u001b[0m\u001b[0mjobs\u001b[0m\u001b[0;34m)\u001b[0m\u001b[0;34m)\u001b[0m\u001b[0;34m\u001b[0m\u001b[0;34m\u001b[0m\u001b[0m\n\u001b[1;32m      8\u001b[0m \u001b[0;34m\u001b[0m\u001b[0m\n\u001b[0;32m----> 9\u001b[0;31m \u001b[0mmost_recent_job\u001b[0m \u001b[0;34m=\u001b[0m \u001b[0mjobs\u001b[0m\u001b[0;34m[\u001b[0m\u001b[0;36m0\u001b[0m\u001b[0;34m]\u001b[0m\u001b[0;34m\u001b[0m\u001b[0;34m\u001b[0m\u001b[0m\n\u001b[0m\u001b[1;32m     10\u001b[0m \u001b[0mjob_id\u001b[0m \u001b[0;34m=\u001b[0m \u001b[0mmost_recent_job\u001b[0m\u001b[0;34m.\u001b[0m\u001b[0mget\u001b[0m\u001b[0;34m(\u001b[0m\u001b[0;34m\"id\"\u001b[0m\u001b[0;34m)\u001b[0m\u001b[0;34m\u001b[0m\u001b[0;34m\u001b[0m\u001b[0m\n\u001b[1;32m     11\u001b[0m \u001b[0mjob_name\u001b[0m \u001b[0;34m=\u001b[0m \u001b[0mmost_recent_job\u001b[0m\u001b[0;34m.\u001b[0m\u001b[0mget\u001b[0m\u001b[0;34m(\u001b[0m\u001b[0;34m\"name\"\u001b[0m\u001b[0;34m)\u001b[0m\u001b[0;34m\u001b[0m\u001b[0;34m\u001b[0m\u001b[0m\n",
      "\u001b[0;31mTypeError\u001b[0m: 'NoneType' object is not subscriptable"
     ]
    }
   ],
   "source": [
    "def get_projects(account_id):\n",
    "    r = requests.get(f'{cloud_api_base_url}/accounts/{account_id}/projects', headers=headers)\n",
    "    jobs_result = r.json()\n",
    "    return jobs_result.get('data')\n",
    "\n",
    "projects = get_projects(account_id) # doesnt work bc im on a developer account?\n",
    "display(pd.DataFrame(projects))\n",
    "\n",
    "most_recent_project = projects[0]\n",
    "project_id = most_recent_project.get(\"id\")\n",
    "project_name = most_recent_project.get(\"name\")"
   ]
  }
 ],
 "metadata": {
  "interpreter": {
   "hash": "51acfa6005ffec5e74e71d844e0daa05d24ac78244a0bb1b7874b497027552e7"
  },
  "kernelspec": {
   "display_name": "Python 3.8.8 64-bit ('base': conda)",
   "language": "python",
   "name": "python3"
  },
  "language_info": {
   "codemirror_mode": {
    "name": "ipython",
    "version": 3
   },
   "file_extension": ".py",
   "mimetype": "text/x-python",
   "name": "python",
   "nbconvert_exporter": "python",
   "pygments_lexer": "ipython3",
   "version": "3.8.8"
  },
  "orig_nbformat": 4
 },
 "nbformat": 4,
 "nbformat_minor": 2
}

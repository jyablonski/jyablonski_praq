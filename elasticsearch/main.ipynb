{
 "cells": [
  {
   "cell_type": "code",
   "execution_count": 1,
   "metadata": {},
   "outputs": [],
   "source": [
    "from datetime import datetime\n",
    "\n",
    "import awswrangler as wr\n",
    "import pandas as pd\n",
    "from elasticsearch import Elasticsearch\n",
    "import os"
   ]
  },
  {
   "cell_type": "code",
   "execution_count": 17,
   "metadata": {},
   "outputs": [],
   "source": [
    "client = Elasticsearch(f\"{os.environ.get('OPENSEARCH_ENDPOINT')}:443\")\n",
    "resp = client.info() # shit dont work idk dude"
   ]
  },
  {
   "cell_type": "code",
   "execution_count": 2,
   "metadata": {},
   "outputs": [],
   "source": [
    "# aws wrangler works tho\n",
    "conn = wr.opensearch.connect(host=f\"{os.environ.get('OPENSEARCH_ENDPOINT')}\",\n",
    "                             port = 443)"
   ]
  },
  {
   "cell_type": "code",
   "execution_count": null,
   "metadata": {},
   "outputs": [],
   "source": [
    "# aws wrangler works tho\n",
    "conn = wr.opensearch.connect(host=\"opensearch.jyablonski.dev\",\n",
    "                             port = 443)"
   ]
  },
  {
   "cell_type": "code",
   "execution_count": 4,
   "metadata": {},
   "outputs": [],
   "source": [
    "df = wr.opensearch.search(\n",
    "    client = conn,\n",
    "    index = 'python-aws-logs*'\n",
    ")"
   ]
  },
  {
   "cell_type": "code",
   "execution_count": 5,
   "metadata": {},
   "outputs": [
    {
     "data": {
      "text/html": [
       "<div>\n",
       "<style scoped>\n",
       "    .dataframe tbody tr th:only-of-type {\n",
       "        vertical-align: middle;\n",
       "    }\n",
       "\n",
       "    .dataframe tbody tr th {\n",
       "        vertical-align: top;\n",
       "    }\n",
       "\n",
       "    .dataframe thead th {\n",
       "        text-align: right;\n",
       "    }\n",
       "</style>\n",
       "<table border=\"1\" class=\"dataframe\">\n",
       "  <thead>\n",
       "    <tr style=\"text-align: right;\">\n",
       "      <th></th>\n",
       "      <th>_id</th>\n",
       "      <th>ecs.version</th>\n",
       "      <th>agent.ephemeral_id</th>\n",
       "      <th>agent.type</th>\n",
       "      <th>agent.version</th>\n",
       "      <th>host.hostname</th>\n",
       "      <th>host.name</th>\n",
       "      <th>host.id</th>\n",
       "      <th>host.ip</th>\n",
       "      <th>@timestamp</th>\n",
       "      <th>...</th>\n",
       "      <th>log.origin.file.name</th>\n",
       "      <th>log.origin.file.path</th>\n",
       "      <th>log.origin.function</th>\n",
       "      <th>log.origin.module</th>\n",
       "      <th>log.process.name</th>\n",
       "      <th>log.process.pid</th>\n",
       "      <th>log.thread.name</th>\n",
       "      <th>log.thread.id</th>\n",
       "      <th>args</th>\n",
       "      <th>stack_info</th>\n",
       "    </tr>\n",
       "  </thead>\n",
       "  <tbody>\n",
       "    <tr>\n",
       "      <th>0</th>\n",
       "      <td>0nCLP4gBgweMWgxfOpy_</td>\n",
       "      <td>1.4.0</td>\n",
       "      <td>bf41cf12-9193-40cc-9866-b3f8862c774d</td>\n",
       "      <td>opensearch-logger</td>\n",
       "      <td>1.2.2</td>\n",
       "      <td>jacob-BigOtisLinux</td>\n",
       "      <td>jacob-BigOtisLinux</td>\n",
       "      <td>jacob-BigOtisLinux</td>\n",
       "      <td>127.0.1.1</td>\n",
       "      <td>2023-05-21T18:21:07.570Z</td>\n",
       "      <td>...</td>\n",
       "      <td>opensearch_logging.py</td>\n",
       "      <td>/home/jacob/Documents/python_aws/elasticsearch...</td>\n",
       "      <td>&lt;module&gt;</td>\n",
       "      <td>opensearch_logging</td>\n",
       "      <td>MainProcess</td>\n",
       "      <td>51144</td>\n",
       "      <td>MainThread</td>\n",
       "      <td>140284638962752</td>\n",
       "      <td>[]</td>\n",
       "      <td></td>\n",
       "    </tr>\n",
       "  </tbody>\n",
       "</table>\n",
       "<p>1 rows × 25 columns</p>\n",
       "</div>"
      ],
      "text/plain": [
       "                    _id ecs.version                    agent.ephemeral_id  \\\n",
       "0  0nCLP4gBgweMWgxfOpy_       1.4.0  bf41cf12-9193-40cc-9866-b3f8862c774d   \n",
       "\n",
       "          agent.type agent.version       host.hostname           host.name  \\\n",
       "0  opensearch-logger         1.2.2  jacob-BigOtisLinux  jacob-BigOtisLinux   \n",
       "\n",
       "              host.id    host.ip                @timestamp  ...  \\\n",
       "0  jacob-BigOtisLinux  127.0.1.1  2023-05-21T18:21:07.570Z  ...   \n",
       "\n",
       "    log.origin.file.name                               log.origin.file.path  \\\n",
       "0  opensearch_logging.py  /home/jacob/Documents/python_aws/elasticsearch...   \n",
       "\n",
       "  log.origin.function   log.origin.module  log.process.name log.process.pid  \\\n",
       "0            <module>  opensearch_logging       MainProcess           51144   \n",
       "\n",
       "  log.thread.name    log.thread.id args stack_info  \n",
       "0      MainThread  140284638962752   []             \n",
       "\n",
       "[1 rows x 25 columns]"
      ]
     },
     "execution_count": 5,
     "metadata": {},
     "output_type": "execute_result"
    }
   ],
   "source": [
    "df.head(1)"
   ]
  },
  {
   "cell_type": "code",
   "execution_count": null,
   "metadata": {},
   "outputs": [],
   "source": []
  }
 ],
 "metadata": {
  "interpreter": {
   "hash": "81c6a89d9b91bda76c14e46d4b77530c453739b0f65fa8daf80e192463b63a97"
  },
  "kernelspec": {
   "display_name": "Python 3.8.10 ('python_aws-McJt4gWW')",
   "language": "python",
   "name": "python3"
  },
  "language_info": {
   "codemirror_mode": {
    "name": "ipython",
    "version": 3
   },
   "file_extension": ".py",
   "mimetype": "text/x-python",
   "name": "python",
   "nbconvert_exporter": "python",
   "pygments_lexer": "ipython3",
   "version": "3.8.8"
  },
  "orig_nbformat": 4
 },
 "nbformat": 4,
 "nbformat_minor": 2
}

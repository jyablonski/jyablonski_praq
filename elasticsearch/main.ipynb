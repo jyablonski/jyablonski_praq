{
 "cells": [
  {
   "cell_type": "code",
   "execution_count": 1,
   "metadata": {},
   "outputs": [],
   "source": [
    "from datetime import datetime\n",
    "\n",
    "import awswrangler as wr\n",
    "import pandas as pd\n",
    "from elasticsearch import Elasticsearch"
   ]
  },
  {
   "cell_type": "code",
   "execution_count": 17,
   "metadata": {},
   "outputs": [],
   "source": [
    "client = Elasticsearch(\"https://search-jacobs-opensearch-cluster-erfr54ly7475ebcmsb3odvwjyu.us-east-1.es.amazonaws.com:443\")\n",
    "resp = client.info() # shit dont work idk dude"
   ]
  },
  {
   "cell_type": "code",
   "execution_count": 2,
   "metadata": {},
   "outputs": [],
   "source": [
    "# aws wrangler works tho\n",
    "conn = wr.opensearch.connect(host=\"https://search-jacobs-opensearch-cluster-a6kkxsa7jqn65aktrw2wemzmqi.us-east-1.es.amazonaws.com\",\n",
    "                             port = 443)"
   ]
  },
  {
   "cell_type": "code",
   "execution_count": 4,
   "metadata": {},
   "outputs": [],
   "source": [
    "df = wr.opensearch.search(\n",
    "    client = conn,\n",
    "    index = 'opensearch_dashboards_sample_data_ecommerce'\n",
    ")"
   ]
  },
  {
   "cell_type": "code",
   "execution_count": 5,
   "metadata": {},
   "outputs": [
    {
     "data": {
      "text/html": [
       "<div>\n",
       "<style scoped>\n",
       "    .dataframe tbody tr th:only-of-type {\n",
       "        vertical-align: middle;\n",
       "    }\n",
       "\n",
       "    .dataframe tbody tr th {\n",
       "        vertical-align: top;\n",
       "    }\n",
       "\n",
       "    .dataframe thead th {\n",
       "        text-align: right;\n",
       "    }\n",
       "</style>\n",
       "<table border=\"1\" class=\"dataframe\">\n",
       "  <thead>\n",
       "    <tr style=\"text-align: right;\">\n",
       "      <th></th>\n",
       "      <th>_id</th>\n",
       "      <th>category</th>\n",
       "      <th>currency</th>\n",
       "      <th>customer_first_name</th>\n",
       "      <th>customer_full_name</th>\n",
       "      <th>customer_gender</th>\n",
       "      <th>customer_id</th>\n",
       "      <th>customer_last_name</th>\n",
       "      <th>customer_phone</th>\n",
       "      <th>day_of_week</th>\n",
       "      <th>...</th>\n",
       "      <th>total_unique_products</th>\n",
       "      <th>type</th>\n",
       "      <th>user</th>\n",
       "      <th>geoip.country_iso_code</th>\n",
       "      <th>geoip.location.lon</th>\n",
       "      <th>geoip.location.lat</th>\n",
       "      <th>geoip.region_name</th>\n",
       "      <th>geoip.continent_name</th>\n",
       "      <th>geoip.city_name</th>\n",
       "      <th>event.dataset</th>\n",
       "    </tr>\n",
       "  </thead>\n",
       "  <tbody>\n",
       "    <tr>\n",
       "      <th>0</th>\n",
       "      <td>ZHBMP4gBgweMWgxfcFsN</td>\n",
       "      <td>[Men's Clothing, Men's Shoes]</td>\n",
       "      <td>EUR</td>\n",
       "      <td>Muniz</td>\n",
       "      <td>Muniz Nash</td>\n",
       "      <td>MALE</td>\n",
       "      <td>37</td>\n",
       "      <td>Nash</td>\n",
       "      <td></td>\n",
       "      <td>Wednesday</td>\n",
       "      <td>...</td>\n",
       "      <td>2</td>\n",
       "      <td>order</td>\n",
       "      <td>muniz</td>\n",
       "      <td>MA</td>\n",
       "      <td>-8.0</td>\n",
       "      <td>31.6</td>\n",
       "      <td>Marrakech-Tensift-Al Haouz</td>\n",
       "      <td>Africa</td>\n",
       "      <td>Marrakesh</td>\n",
       "      <td>sample_ecommerce</td>\n",
       "    </tr>\n",
       "  </tbody>\n",
       "</table>\n",
       "<p>1 rows × 30 columns</p>\n",
       "</div>"
      ],
      "text/plain": [
       "                    _id                       category currency  \\\n",
       "0  ZHBMP4gBgweMWgxfcFsN  [Men's Clothing, Men's Shoes]      EUR   \n",
       "\n",
       "  customer_first_name customer_full_name customer_gender  customer_id  \\\n",
       "0               Muniz         Muniz Nash            MALE           37   \n",
       "\n",
       "  customer_last_name customer_phone day_of_week  ...  total_unique_products  \\\n",
       "0               Nash                  Wednesday  ...                      2   \n",
       "\n",
       "    type   user geoip.country_iso_code  geoip.location.lon geoip.location.lat  \\\n",
       "0  order  muniz                     MA                -8.0               31.6   \n",
       "\n",
       "            geoip.region_name  geoip.continent_name  geoip.city_name  \\\n",
       "0  Marrakech-Tensift-Al Haouz                Africa        Marrakesh   \n",
       "\n",
       "      event.dataset  \n",
       "0  sample_ecommerce  \n",
       "\n",
       "[1 rows x 30 columns]"
      ]
     },
     "execution_count": 5,
     "metadata": {},
     "output_type": "execute_result"
    }
   ],
   "source": [
    "df.head(1)"
   ]
  }
 ],
 "metadata": {
  "interpreter": {
   "hash": "81c6a89d9b91bda76c14e46d4b77530c453739b0f65fa8daf80e192463b63a97"
  },
  "kernelspec": {
   "display_name": "Python 3.8.10 ('python_aws-McJt4gWW')",
   "language": "python",
   "name": "python3"
  },
  "language_info": {
   "codemirror_mode": {
    "name": "ipython",
    "version": 3
   },
   "file_extension": ".py",
   "mimetype": "text/x-python",
   "name": "python",
   "nbconvert_exporter": "python",
   "pygments_lexer": "ipython3",
   "version": "3.9.13"
  },
  "orig_nbformat": 4
 },
 "nbformat": 4,
 "nbformat_minor": 2
}

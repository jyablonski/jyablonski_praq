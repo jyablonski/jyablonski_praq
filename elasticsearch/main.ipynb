{
 "cells": [
  {
   "cell_type": "code",
   "execution_count": 1,
   "metadata": {},
   "outputs": [],
   "source": [
    "from datetime import datetime\n",
    "\n",
    "import awswrangler as wr\n",
    "import pandas as pd\n",
    "from elasticsearch import Elasticsearch"
   ]
  },
  {
   "cell_type": "code",
   "execution_count": 17,
   "metadata": {},
   "outputs": [],
   "source": [
    "client = Elasticsearch(\"https://search-jacobs-opensearch-cluster-erfr54ly7475ebcmsb3odvwjyu.us-east-1.es.amazonaws.com:443\")\n",
    "resp = client.info() # shit dont work idk dude"
   ]
  },
  {
   "cell_type": "code",
   "execution_count": 3,
   "metadata": {},
   "outputs": [],
   "source": [
    "# aws wrangler works tho\n",
    "conn = wr.opensearch.connect(host=\"https://search-jacobs-opensearch-cluster-erfr54ly7475ebcmsb3odvwjyu.us-east-1.es.amazonaws.com\",\n",
    "                             port = 443)"
   ]
  },
  {
   "cell_type": "code",
   "execution_count": 4,
   "metadata": {},
   "outputs": [],
   "source": [
    "df = wr.opensearch.search(\n",
    "    client = conn,\n",
    "    index = 'cwl-2022.04.22'\n",
    ")"
   ]
  },
  {
   "cell_type": "code",
   "execution_count": 9,
   "metadata": {},
   "outputs": [
    {
     "data": {
      "text/html": [
       "<div>\n",
       "<style scoped>\n",
       "    .dataframe tbody tr th:only-of-type {\n",
       "        vertical-align: middle;\n",
       "    }\n",
       "\n",
       "    .dataframe tbody tr th {\n",
       "        vertical-align: top;\n",
       "    }\n",
       "\n",
       "    .dataframe thead th {\n",
       "        text-align: right;\n",
       "    }\n",
       "</style>\n",
       "<table border=\"1\" class=\"dataframe\">\n",
       "  <thead>\n",
       "    <tr style=\"text-align: right;\">\n",
       "      <th></th>\n",
       "      <th>_id</th>\n",
       "      <th>@id</th>\n",
       "      <th>@timestamp</th>\n",
       "      <th>@message</th>\n",
       "      <th>@owner</th>\n",
       "      <th>@log_group</th>\n",
       "      <th>@log_stream</th>\n",
       "    </tr>\n",
       "  </thead>\n",
       "  <tbody>\n",
       "    <tr>\n",
       "      <th>0</th>\n",
       "      <td>3681017336078620529448535366374881720995866124...</td>\n",
       "      <td>3681017336078620529448535366374881720995866124...</td>\n",
       "      <td>2022-04-22T11:01:00.864Z</td>\n",
       "      <td>[INFO] 2022-04-22 11:01:00 AM Schedule Functio...</td>\n",
       "      <td>324816727452</td>\n",
       "      <td>jacobs_ecs_logs</td>\n",
       "      <td>ecs/jacobs_container/7350c983be1140ccae48c1527...</td>\n",
       "    </tr>\n",
       "  </tbody>\n",
       "</table>\n",
       "</div>"
      ],
      "text/plain": [
       "                                                 _id  \\\n",
       "0  3681017336078620529448535366374881720995866124...   \n",
       "\n",
       "                                                 @id  \\\n",
       "0  3681017336078620529448535366374881720995866124...   \n",
       "\n",
       "                 @timestamp  \\\n",
       "0  2022-04-22T11:01:00.864Z   \n",
       "\n",
       "                                            @message        @owner  \\\n",
       "0  [INFO] 2022-04-22 11:01:00 AM Schedule Functio...  324816727452   \n",
       "\n",
       "        @log_group                                        @log_stream  \n",
       "0  jacobs_ecs_logs  ecs/jacobs_container/7350c983be1140ccae48c1527...  "
      ]
     },
     "execution_count": 9,
     "metadata": {},
     "output_type": "execute_result"
    }
   ],
   "source": [
    "df.head(1)"
   ]
  }
 ],
 "metadata": {
  "interpreter": {
   "hash": "81c6a89d9b91bda76c14e46d4b77530c453739b0f65fa8daf80e192463b63a97"
  },
  "kernelspec": {
   "display_name": "Python 3.8.10 ('python_aws-McJt4gWW')",
   "language": "python",
   "name": "python3"
  },
  "language_info": {
   "codemirror_mode": {
    "name": "ipython",
    "version": 3
   },
   "file_extension": ".py",
   "mimetype": "text/x-python",
   "name": "python",
   "nbconvert_exporter": "python",
   "pygments_lexer": "ipython3",
   "version": "3.8.10"
  },
  "orig_nbformat": 4
 },
 "nbformat": 4,
 "nbformat_minor": 2
}

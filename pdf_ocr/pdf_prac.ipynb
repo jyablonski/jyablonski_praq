{
 "cells": [
  {
   "cell_type": "code",
   "execution_count": 1,
   "metadata": {},
   "outputs": [],
   "source": [
    "import pdftotext\n",
    "# package to import pdf documents into python and perform ocr on them"
   ]
  },
  {
   "cell_type": "code",
   "execution_count": 2,
   "metadata": {},
   "outputs": [],
   "source": [
    "with open(\"example_1.pdf\", \"rb\") as f:\n",
    "    pdf = pdftotext.PDF(f)"
   ]
  },
  {
   "cell_type": "code",
   "execution_count": 3,
   "metadata": {},
   "outputs": [
    {
     "name": "stdout",
     "output_type": "stream",
     "text": [
      "1\n"
     ]
    }
   ],
   "source": [
    "print(len(pdf))\n"
   ]
  },
  {
   "cell_type": "code",
   "execution_count": 4,
   "metadata": {},
   "outputs": [
    {
     "name": "stdout",
     "output_type": "stream",
     "text": [
      "   What is Lorem Ipsum?\n",
      "   Lorem Ipsum is simply dummy text of the printing and typesetting industry. Lorem Ipsum has\n",
      "   been the industry's standard dummy text ever since the 1500s, when an unknown printer took\n",
      "   a galley of type and scrambled it to make a type specimen book. It has survived not only five\n",
      "   centuries, but also the leap into electronic typesetting, remaining essentially unchanged. It\n",
      "   was popularised in the 1960s with the release of Letraset sheets containing Lorem Ipsum\n",
      "   passages, and more recently with desktop publishing software like Aldus PageMaker\n",
      "   including versions of Lorem Ipsum.\n",
      "Why do we use it?\n",
      "It is a long established fact that a reader will be distracted by the readable content of a page\n",
      "when looking at its layout. The point of using Lorem Ipsum is that it has a more-or-less\n",
      "normal distribution of letters, as opposed to using 'Content here, content here', making it look\n",
      "like readable English. Many desktop publishing packages and web page editors now use\n",
      "Lorem Ipsum as their default model text, and a search for 'lorem ipsum' will uncover many\n",
      "web sites still in their infancy. Various versions have evolved over the years, sometimes by\n",
      "accident, sometimes on purpose (injected humour and the like).\n",
      "   Where does it come from?\n",
      "   Contrary to popular belief, Lorem Ipsum is not simply random text. It has roots in a piece of\n",
      "   classical Latin literature from 45 BC, making it over 2000 years old. Richard McClintock, a\n",
      "   Latin professor at Hampden-Sydney College in Virginia, looked up one of the more obscure\n",
      "   Latin words, consectetur, from a Lorem Ipsum passage, and going through the cites of the\n",
      "   word in classical literature, discovered the undoubtable source. Lorem Ipsum comes from\n",
      "   sections 1.10.32 and 1.10.33 of \"de Finibus Bonorum et Malorum\" (The Extremes of Good\n",
      "   and Evil) by Cicero, written in 45 BC. This book is a treatise on the theory of ethics, very\n",
      "   popular during the Renaissance. The first line of Lorem Ipsum, \"Lorem ipsum dolor sit\n",
      "   amet..\", comes from a line in section 1.10.32.\n",
      "\n"
     ]
    }
   ],
   "source": [
    "for page in pdf:\n",
    "    print(page)\n"
   ]
  },
  {
   "cell_type": "code",
   "execution_count": 5,
   "metadata": {},
   "outputs": [
    {
     "name": "stdout",
     "output_type": "stream",
     "text": [
      "   What is Lorem Ipsum?\n",
      "   Lorem Ipsum is simply dummy text of the printing and typesetting industry. Lorem Ipsum has\n",
      "   been the industry's standard dummy text ever since the 1500s, when an unknown printer took\n",
      "   a galley of type and scrambled it to make a type specimen book. It has survived not only five\n",
      "   centuries, but also the leap into electronic typesetting, remaining essentially unchanged. It\n",
      "   was popularised in the 1960s with the release of Letraset sheets containing Lorem Ipsum\n",
      "   passages, and more recently with desktop publishing software like Aldus PageMaker\n",
      "   including versions of Lorem Ipsum.\n",
      "Why do we use it?\n",
      "It is a long established fact that a reader will be distracted by the readable content of a page\n",
      "when looking at its layout. The point of using Lorem Ipsum is that it has a more-or-less\n",
      "normal distribution of letters, as opposed to using 'Content here, content here', making it look\n",
      "like readable English. Many desktop publishing packages and web page editors now use\n",
      "Lorem Ipsum as their default model text, and a search for 'lorem ipsum' will uncover many\n",
      "web sites still in their infancy. Various versions have evolved over the years, sometimes by\n",
      "accident, sometimes on purpose (injected humour and the like).\n",
      "   Where does it come from?\n",
      "   Contrary to popular belief, Lorem Ipsum is not simply random text. It has roots in a piece of\n",
      "   classical Latin literature from 45 BC, making it over 2000 years old. Richard McClintock, a\n",
      "   Latin professor at Hampden-Sydney College in Virginia, looked up one of the more obscure\n",
      "   Latin words, consectetur, from a Lorem Ipsum passage, and going through the cites of the\n",
      "   word in classical literature, discovered the undoubtable source. Lorem Ipsum comes from\n",
      "   sections 1.10.32 and 1.10.33 of \"de Finibus Bonorum et Malorum\" (The Extremes of Good\n",
      "   and Evil) by Cicero, written in 45 BC. This book is a treatise on the theory of ethics, very\n",
      "   popular during the Renaissance. The first line of Lorem Ipsum, \"Lorem ipsum dolor sit\n",
      "   amet..\", comes from a line in section 1.10.32.\n",
      "\n"
     ]
    }
   ],
   "source": [
    "print(pdf[0]) # print the 1st page"
   ]
  },
  {
   "cell_type": "code",
   "execution_count": 6,
   "metadata": {},
   "outputs": [
    {
     "name": "stdout",
     "output_type": "stream",
     "text": [
      "   What is Lorem Ipsum?\n",
      "   Lorem Ipsum is simply dummy text of the printing and typesetting industry. Lorem Ipsum has\n",
      "   been the industry's standard dummy text ever since the 1500s, when an unknown printer took\n",
      "   a galley of type and scrambled it to make a type specimen book. It has survived not only five\n",
      "   centuries, but also the leap into electronic typesetting, remaining essentially unchanged. It\n",
      "   was popularised in the 1960s with the release of Letraset sheets containing Lorem Ipsum\n",
      "   passages, and more recently with desktop publishing software like Aldus PageMaker\n",
      "   including versions of Lorem Ipsum.\n",
      "Why do we use it?\n",
      "It is a long established fact that a reader will be distracted by the readable content of a page\n",
      "when looking at its layout. The point of using Lorem Ipsum is that it has a more-or-less\n",
      "normal distribution of letters, as opposed to using 'Content here, content here', making it look\n",
      "like readable English. Many desktop publishing packages and web page editors now use\n",
      "Lorem Ipsum as their default model text, and a search for 'lorem ipsum' will uncover many\n",
      "web sites still in their infancy. Various versions have evolved over the years, sometimes by\n",
      "accident, sometimes on purpose (injected humour and the like).\n",
      "   Where does it come from?\n",
      "   Contrary to popular belief, Lorem Ipsum is not simply random text. It has roots in a piece of\n",
      "   classical Latin literature from 45 BC, making it over 2000 years old. Richard McClintock, a\n",
      "   Latin professor at Hampden-Sydney College in Virginia, looked up one of the more obscure\n",
      "   Latin words, consectetur, from a Lorem Ipsum passage, and going through the cites of the\n",
      "   word in classical literature, discovered the undoubtable source. Lorem Ipsum comes from\n",
      "   sections 1.10.32 and 1.10.33 of \"de Finibus Bonorum et Malorum\" (The Extremes of Good\n",
      "   and Evil) by Cicero, written in 45 BC. This book is a treatise on the theory of ethics, very\n",
      "   popular during the Renaissance. The first line of Lorem Ipsum, \"Lorem ipsum dolor sit\n",
      "   amet..\", comes from a line in section 1.10.32.\n",
      "\n"
     ]
    }
   ],
   "source": [
    "print(\"\\n\\n\".join(pdf))"
   ]
  },
  {
   "cell_type": "code",
   "execution_count": 7,
   "metadata": {},
   "outputs": [],
   "source": [
    "text = \"\\n\\n\".join(pdf)"
   ]
  }
 ],
 "metadata": {
  "interpreter": {
   "hash": "81c6a89d9b91bda76c14e46d4b77530c453739b0f65fa8daf80e192463b63a97"
  },
  "kernelspec": {
   "display_name": "Python 3.8.10 ('python_aws-McJt4gWW')",
   "language": "python",
   "name": "python3"
  },
  "language_info": {
   "codemirror_mode": {
    "name": "ipython",
    "version": 3
   },
   "file_extension": ".py",
   "mimetype": "text/x-python",
   "name": "python",
   "nbconvert_exporter": "python",
   "pygments_lexer": "ipython3",
   "version": "3.8.10"
  },
  "orig_nbformat": 4
 },
 "nbformat": 4,
 "nbformat_minor": 2
}

{
 "cells": [
  {
   "cell_type": "code",
   "execution_count": 1,
   "metadata": {},
   "outputs": [],
   "source": [
    "from datetime import datetime, timedelta\n",
    "import os\n",
    "\n",
    "import pandas as pd\n",
    "import requests"
   ]
  },
  {
   "cell_type": "code",
   "execution_count": 39,
   "metadata": {},
   "outputs": [],
   "source": [
    "def process_request(url: str, http_request: str, endpoint: str, input_data = \"\"):\n",
    "    try:\n",
    "        if http_request == 'get':\n",
    "            df = requests.get(f\"{url}/{endpoint}\")\n",
    "            print(f\"Processing Status code {df.status_code} for {http_request} request from {url}/{endpoint}\")\n",
    "            return df.json()\n",
    "        if http_request == 'post':\n",
    "            df = requests.post(f\"{url}/{endpoint}\", data = input_data)\n",
    "            print(df.status_code)\n",
    "            return df.json()\n",
    "    except BaseException as e:\n",
    "        print(f\"Error Occurred, {e}\")\n"
   ]
  },
  {
   "cell_type": "code",
   "execution_count": 37,
   "metadata": {},
   "outputs": [
    {
     "name": "stdout",
     "output_type": "stream",
     "text": [
      "Processing Status code 200 for get request from https://fgvdktt1h3.execute-api.us-east-1.amazonaws.com/Dev/products\n"
     ]
    }
   ],
   "source": [
    "my_url = \"https://fgvdktt1h3.execute-api.us-east-1.amazonaws.com/Dev\"\n",
    "df = process_request(my_url, \"get\", \"products\")"
   ]
  },
  {
   "cell_type": "code",
   "execution_count": 34,
   "metadata": {},
   "outputs": [
    {
     "name": "stdout",
     "output_type": "stream",
     "text": [
      "{'price': 1000.0, 'color': 'green', 'productId': '10003'}\n"
     ]
    }
   ],
   "source": [
    "print(df['products'][0])"
   ]
  },
  {
   "cell_type": "code",
   "execution_count": 2,
   "metadata": {},
   "outputs": [],
   "source": [
    "df = requests.get(\"https://fgvdktt1h3.execute-api.us-east-1.amazonaws.com/Dev/products\")"
   ]
  },
  {
   "cell_type": "code",
   "execution_count": 4,
   "metadata": {},
   "outputs": [
    {
     "name": "stdout",
     "output_type": "stream",
     "text": [
      "200\n",
      "{'products': [{'price': 1000.0, 'color': 'green', 'productId': '10003'}, {'price': 300.0, 'productId': '10002', 'color': 'blue'}]}\n"
     ]
    }
   ],
   "source": [
    "print(df.status_code)\n",
    "print(df.json())"
   ]
  },
  {
   "cell_type": "code",
   "execution_count": 40,
   "metadata": {},
   "outputs": [
    {
     "name": "stdout",
     "output_type": "stream",
     "text": [
      "200\n",
      "{'Operation': 'SAVE', 'Message': 'SUCCESS', 'Item': {'productId': '10006', 'color': 'teal', 'price': 800}}\n"
     ]
    }
   ],
   "source": [
    "data = \"\"\"{\n",
    "                                \"productId\": \"10006\",\n",
    "                                \"color\": \"teal\",\n",
    "                                \"price\": 800\n",
    "                            }\n",
    "                            \"\"\"\n",
    "second_post = process_request(url = my_url, http_request = \"post\", endpoint = \"product\", input_data = data)\n",
    "print(second_post)"
   ]
  },
  {
   "cell_type": "code",
   "execution_count": 10,
   "metadata": {},
   "outputs": [],
   "source": [
    "first_post = requests.post(\"https://fgvdktt1h3.execute-api.us-east-1.amazonaws.com/Dev/product\",\n",
    "                            data = \"\"\"{\n",
    "                                \"productId\": \"10004\",\n",
    "                                \"color\": \"purple\",\n",
    "                                \"price\": 5000\n",
    "                            }\n",
    "                            \"\"\")"
   ]
  },
  {
   "cell_type": "code",
   "execution_count": 11,
   "metadata": {},
   "outputs": [
    {
     "name": "stdout",
     "output_type": "stream",
     "text": [
      "200\n",
      "{'Operation': 'SAVE', 'Message': 'SUCCESS', 'Item': {'productId': '10004', 'color': 'purple', 'price': 5000}}\n",
      "b'{\"Operation\": \"SAVE\", \"Message\": \"SUCCESS\", \"Item\": {\"productId\": \"10004\", \"color\": \"purple\", \"price\": 5000}}'\n"
     ]
    }
   ],
   "source": [
    "print(first_post.status_code)\n",
    "print(first_post.json())\n",
    "print(first_post.content)"
   ]
  }
 ],
 "metadata": {
  "interpreter": {
   "hash": "916dbcbb3f70747c44a77c7bcd40155683ae19c65e1c03b4aa3499c5328201f1"
  },
  "kernelspec": {
   "display_name": "Python 3.8.10 64-bit",
   "language": "python",
   "name": "python3"
  },
  "language_info": {
   "codemirror_mode": {
    "name": "ipython",
    "version": 3
   },
   "file_extension": ".py",
   "mimetype": "text/x-python",
   "name": "python",
   "nbconvert_exporter": "python",
   "pygments_lexer": "ipython3",
   "version": "3.8.10"
  },
  "orig_nbformat": 4
 },
 "nbformat": 4,
 "nbformat_minor": 2
}

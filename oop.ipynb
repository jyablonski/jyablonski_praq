{
 "cells": [
  {
   "cell_type": "code",
   "execution_count": 10,
   "metadata": {},
   "outputs": [],
   "source": [
    "class Person:\n",
    "    species = 'Human' # this can be overriden\n",
    "    def __init__(self, name, age, height, gender, **kwargs):\n",
    "        self.name = name\n",
    "        self.age = age\n",
    "        self.height = height\n",
    "        self.gender = gender\n",
    "        super().__init__(**kwargs)\n",
    "\n",
    "    def __repr__(self): # what's returned whne you just call jacob\n",
    "        return self.name\n",
    "\n",
    "    def __str__(self): # what's returned when you call print(jacob)\n",
    "        return (f\"{self.name} fuq\")\n",
    "\n",
    "    def add_one(self, num1): # x = jacob.add_one(4)\n",
    "        x = num1 + 1\n",
    "        print(x)\n",
    "        return x"
   ]
  },
  {
   "cell_type": "code",
   "execution_count": 11,
   "metadata": {},
   "outputs": [],
   "source": [
    "jacob = Person('Jacob', 25, \"5'7\", 'Male')"
   ]
  },
  {
   "cell_type": "code",
   "execution_count": 12,
   "metadata": {},
   "outputs": [
    {
     "name": "stdout",
     "output_type": "stream",
     "text": [
      "Jacob\n",
      "25\n",
      "5'7\n",
      "Male\n",
      "5\n",
      "5\n",
      "Jacob fuq\n",
      "Human\n",
      "CHANGED\n"
     ]
    },
    {
     "data": {
      "text/plain": [
       "Jacob"
      ]
     },
     "execution_count": 12,
     "metadata": {},
     "output_type": "execute_result"
    }
   ],
   "source": [
    "print(jacob.name)\n",
    "print(jacob.age)\n",
    "print(jacob.height)\n",
    "print(jacob.gender)\n",
    "num3 = jacob.add_one(4)\n",
    "print(num3)\n",
    "print(jacob)\n",
    "print(jacob.species)\n",
    "jacob.species = \"CHANGED\"\n",
    "print(jacob.species)\n",
    "jacob\n"
   ]
  },
  {
   "cell_type": "code",
   "execution_count": 13,
   "metadata": {},
   "outputs": [],
   "source": [
    "class Whore(Person):  # __str__ and __repr__ seem tobe automatically inherited.\n",
    "    species = 'Bitch' # methods are also inherited\n",
    "    def __init__(self, name, age, height, gender, skank: bool):\n",
    "        super().__init__(name, age, height, gender) # unique to child classes, this is so you dont have to do self.name = name all over again.\n",
    "        self.skank = skank"
   ]
  },
  {
   "cell_type": "code",
   "execution_count": 14,
   "metadata": {},
   "outputs": [
    {
     "name": "stdout",
     "output_type": "stream",
     "text": [
      "name1\n",
      "24\n",
      "5'6\n",
      "Female\n",
      "True\n",
      "Bitch\n",
      "name1 fuq\n"
     ]
    },
    {
     "data": {
      "text/plain": [
       "name1"
      ]
     },
     "execution_count": 14,
     "metadata": {},
     "output_type": "execute_result"
    }
   ],
   "source": [
    "bby = Whore('name1', 24, \"5'6\", \"Female\", True)\n",
    "print(bby.name)\n",
    "print(bby.age)\n",
    "print(bby.height)\n",
    "print(bby.gender)\n",
    "print(bby.skank)\n",
    "print(bby.species)\n",
    "print(bby)\n",
    "bby"
   ]
  }
 ],
 "metadata": {
  "interpreter": {
   "hash": "916dbcbb3f70747c44a77c7bcd40155683ae19c65e1c03b4aa3499c5328201f1"
  },
  "kernelspec": {
   "display_name": "Python 3.8.10 64-bit",
   "language": "python",
   "name": "python3"
  },
  "language_info": {
   "codemirror_mode": {
    "name": "ipython",
    "version": 3
   },
   "file_extension": ".py",
   "mimetype": "text/x-python",
   "name": "python",
   "nbconvert_exporter": "python",
   "pygments_lexer": "ipython3",
   "version": "3.8.10"
  },
  "orig_nbformat": 4
 },
 "nbformat": 4,
 "nbformat_minor": 2
}

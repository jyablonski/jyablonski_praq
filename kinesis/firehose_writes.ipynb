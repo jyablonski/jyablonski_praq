{
 "cells": [
  {
   "cell_type": "code",
   "execution_count": 44,
   "metadata": {},
   "outputs": [],
   "source": [
    "import datetime\n",
    "import json\n",
    "import random\n",
    "import boto3\n",
    "import botocore\n",
    "# script that writes random data to a DIRECT PUT firehose delivery stream.\n",
    "# skipping the kinesis data stream part for $$ purposes.\n",
    "# you lose scalability here.\n",
    "STREAM_NAME = \"jacobs-kinesis-firehose-stream\"\n",
    "\n",
    "def get_data() -> dict:\n",
    "    return {\n",
    "        'EVENT_TIME': datetime.datetime.now().isoformat(),\n",
    "        'TICKER': random.choice(['AAPL', 'AMZN', 'MSFT', 'INTC', 'TBV']),\n",
    "        'PRICE': round(random.random() * 100, 2)\n",
    "    }\n",
    "\n",
    "\n",
    "def generate(stream_name: str, kinesis_client: 'botocore.client.Firehose') -> None:\n",
    "    # while True: # this makes an infinite loop to continuously send messages\n",
    "    data = get_data()\n",
    "    print(data)\n",
    "    kinesis_client.put_record(\n",
    "        DeliveryStreamName=stream_name,\n",
    "        Record={\n",
    "            'Data': json.dumps(data) + '\\n'\n",
    "        },\n",
    "    )\n",
    "        # PartitionKey=\"partitionkey\")\n",
    "\n",
    "\n",
    "# if __name__ == '__main__':\n",
    "#     generate(STREAM_NAME, boto3.client('kinesis'))"
   ]
  },
  {
   "cell_type": "code",
   "execution_count": 55,
   "metadata": {},
   "outputs": [
    {
     "name": "stdout",
     "output_type": "stream",
     "text": [
      "{'EVENT_TIME': '2022-07-27T14:32:07.580844', 'TICKER': 'INTC', 'PRICE': 99.65}\n"
     ]
    }
   ],
   "source": [
    "generate(STREAM_NAME, boto3.client('firehose'))"
   ]
  },
  {
   "cell_type": "code",
   "execution_count": null,
   "metadata": {},
   "outputs": [],
   "source": [
    "# data gets loaded in like this without using '\\n' at end of json msg.\n",
    "{\"EVENT_TIME\": \"2022-07-27T13:40:19.345362\", \"TICKER\": \"TBV\", \"PRICE\": 27.96}{\"EVENT_TIME\": \"2022-07-27T13:40:19.467695\", \"TICKER\": \"AAPL\", \"PRICE\": 37.42}{\"EVENT_TIME\": \"2022-07-27T13:40:19.502649\", \"TICKER\": \"MSFT\", \"PRICE\": 73.61}{\"EVENT_TIME\": \"2022-07-27T13:40:19.569286\", \"TICKER\": \"AAPL\", \"PRICE\": 55.77}{\"EVENT_TIME\": \"2022-07-27T13:40:19.604135\", \"TICKER\": \"INTC\", \"PRICE\": 59.82}{\"EVENT_TIME\": \"2022-07-27T13:40:19.640605\", \"TICKER\": \"AAPL\", \"PRICE\": 16.61}\n",
    "\n",
    "\n",
    "# so after adding the \\n it turns into this\n",
    "{\"EVENT_TIME\": \"2022-07-27T13:40:19.345362\", \"TICKER\": \"TBV\", \"PRICE\": 27.96}\n",
    "{\"EVENT_TIME\": \"2022-07-27T13:40:19.467695\", \"TICKER\": \"AAPL\", \"PRICE\": 37.42}\n",
    "{\"EVENT_TIME\": \"2022-07-27T13:40:19.502649\", \"TICKER\": \"MSFT\", \"PRICE\": 73.61}\n",
    "{\"EVENT_TIME\": \"2022-07-27T13:40:19.569286\", \"TICKER\": \"AAPL\", \"PRICE\": 55.77}\n",
    "{\"EVENT_TIME\": \"2022-07-27T13:40:19.604135\", \"TICKER\": \"INTC\", \"PRICE\": 59.82}\n",
    "{\"EVENT_TIME\": \"2022-07-27T13:40:19.640605\", \"TICKER\": \"AAPL\", \"PRICE\": 16.61}\n",
    "\n",
    "# the other thing you can do is a use a lambda function to process the data before every batch gets written to s3, so you can separate the json records there.\n",
    "# but ,,,, fk that"
   ]
  }
 ],
 "metadata": {
  "kernelspec": {
   "display_name": "Python 3.8.10 ('python_aws-McJt4gWW')",
   "language": "python",
   "name": "python3"
  },
  "language_info": {
   "codemirror_mode": {
    "name": "ipython",
    "version": 3
   },
   "file_extension": ".py",
   "mimetype": "text/x-python",
   "name": "python",
   "nbconvert_exporter": "python",
   "pygments_lexer": "ipython3",
   "version": "3.8.10"
  },
  "orig_nbformat": 4,
  "vscode": {
   "interpreter": {
    "hash": "81c6a89d9b91bda76c14e46d4b77530c453739b0f65fa8daf80e192463b63a97"
   }
  }
 },
 "nbformat": 4,
 "nbformat_minor": 2
}

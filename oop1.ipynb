{
 "cells": [
  {
   "cell_type": "code",
   "execution_count": 3,
   "metadata": {},
   "outputs": [
    {
     "name": "stdout",
     "output_type": "stream",
     "text": [
      "big otis is 24 years old\n"
     ]
    },
    {
     "data": {
      "text/plain": [
       "Person is big otis, with 1 trick(s)"
      ]
     },
     "execution_count": 3,
     "metadata": {},
     "output_type": "execute_result"
    }
   ],
   "source": [
    "class Person:\n",
    "    owner = 'jacob'\n",
    "    region = 'us-east-2'\n",
    "    def __init__(self, name):\n",
    "        self.name = name\n",
    "        self.tricks = []\n",
    "\n",
    "    def __iter__(self):\n",
    "        print('what')\n",
    "\n",
    "    # this is what's returned when u do print(d1) on your Person object\n",
    "    def __str__(self):\n",
    "        return f\"{self.name} is 24 years old\"\n",
    "\n",
    "    # This is what's returned when u call d1 on your person Object\n",
    "    def __repr__(self):\n",
    "        rep = f\"Person is {self.name}, with {len(self.tricks)} trick(s)\"\n",
    "        return rep\n",
    "\n",
    "    def add_trick(self, trick):\n",
    "        self.tricks.append(trick)\n",
    "\n",
    "    def f(self, name):\n",
    "        return f\"hello {name}, world\"\n",
    "\n",
    "d1 = Person('big otis')\n",
    "d2 = Person('kickn')\n",
    "d1.add_trick('hii')\n",
    "d2.add_trick('hello')\n",
    "\n",
    "print(d1)\n",
    "d1"
   ]
  }
 ],
 "metadata": {
  "interpreter": {
   "hash": "51acfa6005ffec5e74e71d844e0daa05d24ac78244a0bb1b7874b497027552e7"
  },
  "kernelspec": {
   "display_name": "Python 3.8.8 ('base')",
   "language": "python",
   "name": "python3"
  },
  "language_info": {
   "codemirror_mode": {
    "name": "ipython",
    "version": 3
   },
   "file_extension": ".py",
   "mimetype": "text/x-python",
   "name": "python",
   "nbconvert_exporter": "python",
   "pygments_lexer": "ipython3",
   "version": "3.8.8"
  },
  "orig_nbformat": 4
 },
 "nbformat": 4,
 "nbformat_minor": 2
}

{
 "cells": [
  {
   "cell_type": "code",
   "execution_count": 1,
   "source": [
    "import smtplib\r\n",
    "from email.mime.text import MIMEText\r\n",
    "from email.mime.multipart import MIMEMultipart\r\n",
    "import os\r\n"
   ],
   "outputs": [],
   "metadata": {}
  },
  {
   "cell_type": "code",
   "execution_count": 2,
   "source": [
    "def sendEmail():\r\n",
    "    email = os.environ.get(\"USER_EMAIL\") # the email where you sent the email\r\n",
    "    password = os.environ.get(\"USER_PW\")\r\n",
    "    send_to_email = os.environ.get(\"USER_EMAIL\") # for whom\r\n",
    "    message = \"\"\"\\\r\n",
    "<html>\r\n",
    "  <head></head>\r\n",
    "  <body>\r\n",
    "    <p>Hi!<br> <br>\r\n",
    "       How are you?<br>\r\n",
    "       Here is the <a href=\"http://www.python.org\">link</a> you wanted.\r\n",
    "       <br> <br>\r\n",
    "       Jacob\r\n",
    "    </p>\r\n",
    "  </body>\r\n",
    "</html>\r\n",
    "\"\"\"\r\n",
    "    msg = MIMEMultipart()\r\n",
    "    msg[\"From\"] = email\r\n",
    "    msg[\"To\"] = send_to_email\r\n",
    "    msg[\"Subject\"] = \"Gmail prac\"\r\n",
    "    msg.attach(MIMEText(message, 'html'))\r\n",
    "\r\n",
    "    server = smtplib.SMTP(\"smtp.gmail.com\", 587)\r\n",
    "    server.starttls()\r\n",
    "    server.login(email, password)\r\n",
    "    text = msg.as_string()\r\n",
    "    server.sendmail(email, send_to_email, text)\r\n",
    "    server.quit()"
   ],
   "outputs": [],
   "metadata": {}
  },
  {
   "cell_type": "code",
   "execution_count": 3,
   "source": [
    "sendEmail()"
   ],
   "outputs": [],
   "metadata": {}
  },
  {
   "cell_type": "code",
   "execution_count": null,
   "source": [
    "#Content-Type: multipart/mixed; boundary=\"===============6427826653380459185==\"\r\n",
    "# MIME-Version: 1.0\r\n",
    "# From: jyablonski9@gmail.com\r\n",
    "# To: jyablonski9@gmail.com\r\n",
    "# Subject: Gmail prac\r\n",
    "\r\n",
    "# --===============6427826653380459185==\r\n",
    "# Content-Type: text/plain; charset=\"us-ascii\"\r\n",
    "# MIME-Version: 1.0\r\n",
    "# Content-Transfer-Encoding: 7bit\r\n",
    "\r\n",
    "# This is a test email sent by Python. Isn't that cool?!\r\n",
    "# --===============6427826653380459185==--\r\n",
    "\r\n",
    "# this is what it looks like - a standard email."
   ],
   "outputs": [],
   "metadata": {}
  }
 ],
 "metadata": {
  "orig_nbformat": 4,
  "language_info": {
   "name": "python"
  }
 },
 "nbformat": 4,
 "nbformat_minor": 2
}
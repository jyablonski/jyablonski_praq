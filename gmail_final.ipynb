{
 "cells": [
  {
   "cell_type": "code",
   "execution_count": 22,
   "source": [
    "import pyodbc\n",
    "import smtplib\n",
    "from email.mime.text import MIMEText\n",
    "from email.mime.multipart import MIMEMultipart\n",
    "import os\n",
    "import httplib2\n",
    "from googleapiclient.discovery import build\n",
    "from google.oauth2 import service_account\n",
    "# https://github.com/mkleehammer/pyodbc/wiki\n",
    "from datetime import datetime, timezone, timedelta\n",
    "import pandas as pd\n",
    "from pytz import timezone\n",
    "import gspread\n",
    "\n",
    "# https://levelup.gitconnected.com/python-pandas-google-spreadsheet-476bd6a77f2b\n",
    "# tz = timezone('America/Los_Angeles')\n",
    "# data3 = datetime.today().astimezone().strftime(\"%Y-%m-%d %H:%M:%S %p %Z\") # needs pytz\n",
    "# data4 = datetime.today().strftime(\"%B %m, %Y - %I:%M %p PDT\")"
   ],
   "outputs": [],
   "metadata": {}
  },
  {
   "cell_type": "code",
   "execution_count": 4,
   "source": [
    "def sendEmail():\n",
    "    email = os.environ.get(\"USER_EMAIL\") # the email where you sent the email\n",
    "    password = os.environ.get(\"USER_PW\")\n",
    "    send_to_email = os.environ.get(\"USER_EMAIL\") # for whom\n",
    "    message = \"\"\"\\\n",
    "<html>\n",
    "  <head></head>\n",
    "  <body>\n",
    "    <p>Hi!<br> <br>\n",
    "       How are you?<br>\n",
    "       Here is the <a href=\"https://docs.google.com/spreadsheets/d/1iVCGoVT6JsuRnNY7sR38e_yZxVOQZLZibmbeNGeyJgU/edit#gid=1443099774\">link</a> you wanted.\n",
    "       <br> <br>\n",
    "       Jacob\n",
    "    </p>\n",
    "  </body>\n",
    "</html>\n",
    "\"\"\"\n",
    "    msg = MIMEMultipart()\n",
    "    msg[\"From\"] = email\n",
    "    msg[\"To\"] = send_to_email\n",
    "    msg[\"Subject\"] = \"Gmail prac from Python\"\n",
    "    msg.attach(MIMEText(message, 'html'))\n",
    "\n",
    "    server = smtplib.SMTP(\"smtp.gmail.com\", 587)\n",
    "    server.starttls()\n",
    "    server.login(email, password)\n",
    "    text = msg.as_string()\n",
    "    server.sendmail(email, send_to_email, text)\n",
    "    server.quit()"
   ],
   "outputs": [],
   "metadata": {}
  },
  {
   "cell_type": "code",
   "execution_count": 21,
   "source": [
    "## spreadsheet stuff\n",
    "try: \n",
    "    scopes = [\"https://www.googleapis.com/auth/drive\", \"https://www.googleapis.com/auth/drive.file\",\n",
    "              \"https://www.googleapis.com/auth/spreadsheets\"]\n",
    "    secret_file = os.path.join(os.getcwd(), \"key/jacobs_key.json\")\n",
    "\n",
    "    spreadsheet_id = '1VxQDc-K3s7CoG245cy5deOV_cdX5CAT_HtIVpvb7doo'\n",
    "    # range_name = 'current_time'\n",
    "    range_name = 'current_time!A1'\n",
    "\n",
    "    credentials = service_account.Credentials.from_service_account_file(secret_file, scopes = scopes)\n",
    "    service = build('sheets', 'v4', credentials=credentials)\n",
    "\n",
    "    values = [[datetime.today().strftime(\"%B %d, %Y - %I:%M %p CST\")]]\n",
    "\n",
    "    data1 = {\n",
    "        \"values\": values\n",
    "    }\n",
    "    #service.spreadsheets().values() is basically always the same\n",
    "    #you can do .update() or .append() after that\n",
    "        # with spreadsheetId = spread\n",
    "    service.spreadsheets().values().append(spreadsheetId=spreadsheet_id, body=data1, range=range_name,\n",
    "                                           valueInputOption='USER_ENTERED').execute()\n",
    "\n",
    "\n",
    "except OSError as e:\n",
    "    print(e)"
   ],
   "outputs": [],
   "metadata": {}
  },
  {
   "cell_type": "code",
   "execution_count": 24,
   "source": [
    "def get_data_google_sheets(sample_spreadsheet_id, tab_index):\n",
    "    scopes = [\"https://www.googleapis.com/auth/drive\", \"https://www.googleapis.com/auth/drive.file\",\n",
    "              \"https://www.googleapis.com/auth/spreadsheets\"]\n",
    "    secret_file = os.path.join(os.getcwd(), \"key/jacobs_key.json\")\n",
    "\n",
    "    # range_name = 'current_time'\n",
    "    range_name = 'current_time!A1'\n",
    "\n",
    "    credentials = service_account.Credentials.from_service_account_file(secret_file, scopes = scopes)\n",
    "    \n",
    "    # Request authorization and open the selected spreadsheet\n",
    "    gc = gspread.authorize(credentials).open_by_key(sample_spreadsheet_id)\n",
    "\n",
    "    # Prompts for all spreadsheet values\n",
    "    values = gc.get_worksheet(tab_index).get_all_values()\n",
    "    \n",
    "    # Turns the return into a dataframe\n",
    "    df = pd.DataFrame(values)\n",
    "    df.columns = df.iloc[0]\n",
    "    df.drop(df.index[0], inplace=True)         \n",
    "\n",
    "    return df"
   ],
   "outputs": [],
   "metadata": {}
  },
  {
   "cell_type": "code",
   "execution_count": 29,
   "source": [
    "df = get_data_google_sheets('1VxQDc-K3s7CoG245cy5deOV_cdX5CAT_HtIVpvb7doo', 0)\n",
    "df2 = get_data_google_sheets('1VxQDc-K3s7CoG245cy5deOV_cdX5CAT_HtIVpvb7doo', 1)"
   ],
   "outputs": [],
   "metadata": {}
  },
  {
   "cell_type": "code",
   "execution_count": 26,
   "source": [
    "def create_credentials():\n",
    "\n",
    "    scopes = [\n",
    "        'https://www.googleapis.com/auth/spreadsheets',\n",
    "        'https://www.googleapis.com/auth/drive'\n",
    "        ]\n",
    "        \n",
    "    credentials = service_account.Credentials.from_service_account_file(secret_file, scopes = scopes)\n",
    "    \n",
    "    return gspread.authorize(credentials)"
   ],
   "outputs": [],
   "metadata": {}
  },
  {
   "cell_type": "code",
   "execution_count": 27,
   "source": [
    "def update_spreadsheet(id_sheet, id_spreadsheet, df):\n",
    "    gc = create_credentials()\n",
    "    \n",
    "    gc = gc.open_by_key(id_spreadsheet)\n",
    "    \n",
    "    sheet = gc.get_worksheet(id_sheet)\n",
    "    \n",
    "    sheet.update(([df.columns.values.tolist()] + df.values.tolist()))"
   ],
   "outputs": [],
   "metadata": {}
  },
  {
   "cell_type": "code",
   "execution_count": 32,
   "source": [
    "def create_insert_sheets(nm_sheet, email_share, type_role, df):\n",
    "    gc = create_credentials()\n",
    "    \n",
    "    sh = gc.create(nm_sheet)\n",
    "    sh.share(email_share, perm_type='user', role=type_role)\n",
    "    \n",
    "    ## \n",
    "    \n",
    "    update_spreadsheet(0, sh.id, df)\n",
    "    return sh"
   ],
   "outputs": [],
   "metadata": {}
  },
  {
   "cell_type": "code",
   "execution_count": 33,
   "source": [
    "# service account creates an entirely new google sheet - might be useful\n",
    "create_insert_sheets('newsheet', 'jyablonski9@gmail.com', 'owner', df)"
   ],
   "outputs": [
    {
     "output_type": "execute_result",
     "data": {
      "text/plain": [
       "<Spreadsheet 'newsheet' id:1GfSjxhb851ziT67xuOGT_6-KzElrrjQSHmeZJu4ZHt8>"
      ]
     },
     "metadata": {},
     "execution_count": 33
    }
   ],
   "metadata": {}
  },
  {
   "cell_type": "code",
   "execution_count": 31,
   "source": [
    "update_spreadsheet(0, '1VxQDc-K3s7CoG245cy5deOV_cdX5CAT_HtIVpvb7doo', df)\n",
    "# it will only update values in the same places, outside values stay."
   ],
   "outputs": [],
   "metadata": {}
  },
  {
   "cell_type": "code",
   "execution_count": 42,
   "source": [
    "gc = create_credentials()\n",
    "# sh - gc.open('sheetsname1')\n",
    "# sh - gc.open_by_key('1VxQDc-K3s7CoG245cy5deOV_cdX5CAT_HtIVpvb7doo')\n",
    "sh = gc.open_by_url('https://docs.google.com/spreadsheets/d/1VxQDc-K3s7CoG245cy5deOV_cdX5CAT_HtIVpvb7doo')\n",
    "worksheet1 = sh.get_worksheet(0)\n",
    "worksheet2 = sh.get_worksheet(1)"
   ],
   "outputs": [],
   "metadata": {}
  },
  {
   "cell_type": "code",
   "execution_count": 56,
   "source": [
    "worksheet1.append_rows(df.values.tolist())"
   ],
   "outputs": [
    {
     "output_type": "execute_result",
     "data": {
      "text/plain": [
       "{'spreadsheetId': '1VxQDc-K3s7CoG245cy5deOV_cdX5CAT_HtIVpvb7doo',\n",
       " 'tableRange': 'current_time!A1:C10',\n",
       " 'updates': {'spreadsheetId': '1VxQDc-K3s7CoG245cy5deOV_cdX5CAT_HtIVpvb7doo',\n",
       "  'updatedRange': 'current_time!A11:C13',\n",
       "  'updatedRows': 3,\n",
       "  'updatedColumns': 3,\n",
       "  'updatedCells': 9}}"
      ]
     },
     "metadata": {},
     "execution_count": 56
    }
   ],
   "metadata": {}
  }
 ],
 "metadata": {
  "orig_nbformat": 4,
  "language_info": {
   "name": "python",
   "version": "3.8.8",
   "mimetype": "text/x-python",
   "codemirror_mode": {
    "name": "ipython",
    "version": 3
   },
   "pygments_lexer": "ipython3",
   "nbconvert_exporter": "python",
   "file_extension": ".py"
  },
  "kernelspec": {
   "name": "python3",
   "display_name": "Python 3.8.8 64-bit ('base': conda)"
  },
  "interpreter": {
   "hash": "6ed01d7c1b2618b9cae117b93980b2175bf2fb369f71bb0d7439def5bd7cfad9"
  }
 },
 "nbformat": 4,
 "nbformat_minor": 2
}
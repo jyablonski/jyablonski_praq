{
 "cells": [
  {
   "cell_type": "code",
   "execution_count": 3,
   "source": [
    "import pyodbc\r\n",
    "import smtplib\r\n",
    "from email.mime.text import MIMEText\r\n",
    "from email.mime.multipart import MIMEMultipart\r\n",
    "import os\r\n",
    "import httplib2\r\n",
    "from apiclient import discovery\r\n",
    "from google.oauth2 import service_account\r\n",
    "# https://github.com/mkleehammer/pyodbc/wiki\r\n",
    "from datetime import datetime, timezone, timedelta\r\n",
    "import pandas as pd\r\n",
    "from pytz import timezone\r\n",
    "\r\n",
    "# tz = timezone('America/Los_Angeles')\r\n",
    "# data3 = datetime.today().astimezone().strftime(\"%Y-%m-%d %H:%M:%S %p %Z\") # needs pytz\r\n",
    "# data4 = datetime.today().strftime(\"%B %m, %Y - %I:%M %p PDT\")"
   ],
   "outputs": [],
   "metadata": {}
  },
  {
   "cell_type": "code",
   "execution_count": 4,
   "source": [
    "def sendEmail():\r\n",
    "    email = os.environ.get(\"USER_EMAIL\") # the email where you sent the email\r\n",
    "    password = os.environ.get(\"USER_PW\")\r\n",
    "    send_to_email = os.environ.get(\"USER_EMAIL\") # for whom\r\n",
    "    message = \"\"\"\\\r\n",
    "<html>\r\n",
    "  <head></head>\r\n",
    "  <body>\r\n",
    "    <p>Hi!<br> <br>\r\n",
    "       How are you?<br>\r\n",
    "       Here is the <a href=\"https://docs.google.com/spreadsheets/d/1iVCGoVT6JsuRnNY7sR38e_yZxVOQZLZibmbeNGeyJgU/edit#gid=1443099774\">link</a> you wanted.\r\n",
    "       <br> <br>\r\n",
    "       Jacob\r\n",
    "    </p>\r\n",
    "  </body>\r\n",
    "</html>\r\n",
    "\"\"\"\r\n",
    "    msg = MIMEMultipart()\r\n",
    "    msg[\"From\"] = email\r\n",
    "    msg[\"To\"] = send_to_email\r\n",
    "    msg[\"Subject\"] = \"Gmail prac from Python\"\r\n",
    "    msg.attach(MIMEText(message, 'html'))\r\n",
    "\r\n",
    "    server = smtplib.SMTP(\"smtp.gmail.com\", 587)\r\n",
    "    server.starttls()\r\n",
    "    server.login(email, password)\r\n",
    "    text = msg.as_string()\r\n",
    "    server.sendmail(email, send_to_email, text)\r\n",
    "    server.quit()"
   ],
   "outputs": [],
   "metadata": {}
  },
  {
   "cell_type": "code",
   "execution_count": 5,
   "source": [
    "## spreadsheet stuff\r\n",
    "try: \r\n",
    "    scopes = [\"https://www.googleapis.com/auth/drive\", \"https://www.googleapis.com/auth/drive.file\",\r\n",
    "              \"https://www.googleapis.com/auth/spreadsheets\"]\r\n",
    "    secret_file = os.path.join(os.getcwd(), \"key/jacobs-googledrive.json\")\r\n",
    "\r\n",
    "    spreadsheet_id = '1iVCGoVT6JsuRnNY7sR38e_yZxVOQZLZibmbeNGeyJgU'\r\n",
    "    # range_name = 'current_time'\r\n",
    "    range_name = 'current_time!A1'\r\n",
    "\r\n",
    "    credentials = service_account.Credentials.from_service_account_file(secret_file, scopes = scopes)\r\n",
    "    service = discovery.build('sheets', 'v4', credentials=credentials)\r\n",
    "\r\n",
    "    values = [[datetime.today().strftime(\"%B %d, %Y - %I:%M %p CST\")]]\r\n",
    "\r\n",
    "    data1 = {\r\n",
    "        \"values\": values\r\n",
    "    }\r\n",
    "    #service.spreadsheets().values() is basically always the same\r\n",
    "    #you can do .update() or .append() after that\r\n",
    "        # with spreadsheetId = spread\r\n",
    "    service.spreadsheets().values().append(spreadsheetId=spreadsheet_id, body=data1, range=range_name,\r\n",
    "                                           valueInputOption='USER_ENTERED').execute()\r\n",
    "\r\n",
    "    sendEmail()\r\n",
    "\r\n",
    "except OSError as e:\r\n",
    "    print(e)"
   ],
   "outputs": [],
   "metadata": {}
  }
 ],
 "metadata": {
  "orig_nbformat": 4,
  "language_info": {
   "name": "python",
   "version": "3.8.8",
   "mimetype": "text/x-python",
   "codemirror_mode": {
    "name": "ipython",
    "version": 3
   },
   "pygments_lexer": "ipython3",
   "nbconvert_exporter": "python",
   "file_extension": ".py"
  },
  "kernelspec": {
   "name": "python3",
   "display_name": "Python 3.8.8 64-bit ('base': conda)"
  },
  "interpreter": {
   "hash": "bf7c5f26ae299ec1f57a9a4378f71b0e7ead33ba44d0e87a76c0ba5c58a0d8f8"
  }
 },
 "nbformat": 4,
 "nbformat_minor": 2
}
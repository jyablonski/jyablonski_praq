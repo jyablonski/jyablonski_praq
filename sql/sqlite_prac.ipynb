{
 "cells": [
  {
   "cell_type": "code",
   "execution_count": 1,
   "metadata": {},
   "outputs": [],
   "source": [
    "from datetime import datetime\n",
    "import logging\n",
    "\n",
    "import pandas as pd\n",
    "import numpy as np\n",
    "import sqlite3\n",
    "\n",
    "# general idea was to try to figure out how to avoid storing duplicate records to postgres even if they have a different timestamp\n",
    "# it's a huge pain in the ass, the way im doing it works just fine rn so fk this."
   ]
  },
  {
   "cell_type": "code",
   "execution_count": 2,
   "metadata": {},
   "outputs": [],
   "source": [
    "connection_obj = sqlite3.connect('prac.db',\n",
    "                             detect_types=sqlite3.PARSE_DECLTYPES |\n",
    "                             sqlite3.PARSE_COLNAMES)"
   ]
  },
  {
   "cell_type": "code",
   "execution_count": 3,
   "metadata": {},
   "outputs": [],
   "source": [
    "df2 = pd.DataFrame(np.array([['email1@gmail.com', 'email2@gmail.com', 'email3@gmail.com'],\n",
    "                             ['name1', 'name2', 'name2'],\n",
    "                             ['lastname1', 'lastname2', 'lastname3']]\n",
    "                            ),\n",
    "                   columns=['email', 'first_name', 'last_name'])\n",
    "df2['scrape_date'] = datetime.now()"
   ]
  },
  {
   "cell_type": "code",
   "execution_count": 4,
   "metadata": {},
   "outputs": [
    {
     "data": {
      "text/plain": [
       "<sqlite3.Cursor at 0x7fc00af67730>"
      ]
     },
     "execution_count": 4,
     "metadata": {},
     "output_type": "execute_result"
    }
   ],
   "source": [
    "cursor_obj = connection_obj.cursor()\n",
    "cursor_obj.execute(\"DROP TABLE IF EXISTS practice_table\")\n",
    "\n",
    "table = \"\"\" CREATE TABLE practice_table (\n",
    "            email VARCHAR(255) NOT NULL,\n",
    "            first_name CHAR(25) NOT NULL,\n",
    "            last_name CHAR(25) NOT NULL,\n",
    "            scrape_date TIMESTAMP NOT NULL\n",
    "        ); \"\"\"\n",
    " \n",
    "cursor_obj.execute(table)"
   ]
  },
  {
   "cell_type": "code",
   "execution_count": 20,
   "metadata": {},
   "outputs": [],
   "source": [
    "df2.to_sql('practice_table', connection_obj, index = False, if_exists = 'append')\n",
    "df2.to_sql('practice_table', connection_obj, index = False, if_exists = 'append')\n",
    "df2.to_sql('practice_table', connection_obj, index = False, if_exists = 'append')"
   ]
  },
  {
   "cell_type": "code",
   "execution_count": 46,
   "metadata": {},
   "outputs": [],
   "source": [
    "query = 'SELECT * FROM practice_table;'\n",
    "query_df = pd.read_sql(query, connection_obj)"
   ]
  },
  {
   "cell_type": "code",
   "execution_count": 45,
   "metadata": {},
   "outputs": [],
   "source": [
    "data = [\"email1@gmail.com\", \"name1\", \"lastname1\", datetime.now()]\n",
    "cursor_obj.execute(\"\"\"INSERT OR REPLACE INTO practice_table\n",
    "    VALUES (?, ?, ?, ?);\"\"\",\n",
    "    data)\n",
    "connection_obj.commit()"
   ]
  },
  {
   "cell_type": "code",
   "execution_count": 42,
   "metadata": {},
   "outputs": [
    {
     "ename": "OperationalError",
     "evalue": "near \",\": syntax error",
     "output_type": "error",
     "traceback": [
      "\u001b[0;31m---------------------------------------------------------------------------\u001b[0m",
      "\u001b[0;31mOperationalError\u001b[0m                          Traceback (most recent call last)",
      "\u001b[0;32m<ipython-input-42-1c8d4938babb>\u001b[0m in \u001b[0;36m<module>\u001b[0;34m\u001b[0m\n\u001b[1;32m      1\u001b[0m \u001b[0mdata\u001b[0m \u001b[0;34m=\u001b[0m \u001b[0;34m[\u001b[0m\u001b[0;34m\"email1@gmail.com\"\u001b[0m\u001b[0;34m,\u001b[0m \u001b[0;34m\"name1\"\u001b[0m\u001b[0;34m,\u001b[0m \u001b[0;34m\"lastname1\"\u001b[0m\u001b[0;34m,\u001b[0m \u001b[0mdatetime\u001b[0m\u001b[0;34m.\u001b[0m\u001b[0mnow\u001b[0m\u001b[0;34m(\u001b[0m\u001b[0;34m)\u001b[0m\u001b[0;34m]\u001b[0m\u001b[0;34m\u001b[0m\u001b[0;34m\u001b[0m\u001b[0m\n\u001b[0;32m----> 2\u001b[0;31m cursor_obj.execute(\"\"\"INSERT INTO practice_table (email, first_name, last_name, scrape_date)\n\u001b[0m\u001b[1;32m      3\u001b[0m     \u001b[0mSELECT\u001b[0m \u001b[0memail\u001b[0m\u001b[0;34m,\u001b[0m \u001b[0mfirst_name\u001b[0m\u001b[0;34m,\u001b[0m \u001b[0mlast_name\u001b[0m\u001b[0;34m,\u001b[0m \u001b[0mscrape_date\u001b[0m\u001b[0;34m\u001b[0m\u001b[0;34m\u001b[0m\u001b[0m\n\u001b[1;32m      4\u001b[0m     WHERE NOT EXISTS (SELECT 1 FROM practice_table WHERE email = email, first_name = first_name, last_name = last_name;\"\"\",\n\u001b[1;32m      5\u001b[0m     data)\n",
      "\u001b[0;31mOperationalError\u001b[0m: near \",\": syntax error"
     ]
    }
   ],
   "source": [
    "data = [\"email1@gmail.com\", \"name1\", \"lastname1\", datetime.now()]\n",
    "cursor_obj.execute(\"\"\"INSERT INTO practice_table (email, first_name, last_name, scrape_date)\n",
    "    SELECT email, first_name, last_name, scrape_date\n",
    "    WHERE NOT EXISTS (SELECT 1 FROM practice_table WHERE email = email, first_name = first_name, last_name = last_name;\"\"\",\n",
    "    data)\n",
    "connection_obj.commit()"
   ]
  },
  {
   "cell_type": "code",
   "execution_count": 24,
   "metadata": {},
   "outputs": [],
   "source": [
    "query = 'SELECT * FROM practice_table;'\n",
    "query_df = pd.read_sql(query, connection_obj)"
   ]
  },
  {
   "cell_type": "code",
   "execution_count": 20,
   "metadata": {},
   "outputs": [
    {
     "data": {
      "text/plain": [
       "<sqlite3.Cursor at 0x7fe6fee345e0>"
      ]
     },
     "execution_count": 20,
     "metadata": {},
     "output_type": "execute_result"
    }
   ],
   "source": [
    "rows = list(df2.values.tolist())\n",
    "cursor_obj.executemany('insert into practice_table values (?,?,?,?)', rows)"
   ]
  },
  {
   "cell_type": "code",
   "execution_count": 75,
   "metadata": {},
   "outputs": [
    {
     "data": {
      "text/plain": [
       "[['email1@gmail.com',\n",
       "  'email2@gmail.com',\n",
       "  'email3@gmail.com',\n",
       "  Timestamp('2022-04-30 11:20:21.448396')],\n",
       " ['name1', 'name2', 'name2', Timestamp('2022-04-30 11:20:21.448396')],\n",
       " ['lastname1',\n",
       "  'lastname2',\n",
       "  'lastname3',\n",
       "  Timestamp('2022-04-30 11:20:21.448396')]]"
      ]
     },
     "execution_count": 75,
     "metadata": {},
     "output_type": "execute_result"
    }
   ],
   "source": [
    "list(df2.values.tolist())"
   ]
  },
  {
   "cell_type": "code",
   "execution_count": 9,
   "metadata": {},
   "outputs": [],
   "source": [
    "cursor_obj.close()"
   ]
  }
 ],
 "metadata": {
  "interpreter": {
   "hash": "51acfa6005ffec5e74e71d844e0daa05d24ac78244a0bb1b7874b497027552e7"
  },
  "kernelspec": {
   "display_name": "Python 3.8.8 ('base')",
   "language": "python",
   "name": "python3"
  },
  "language_info": {
   "codemirror_mode": {
    "name": "ipython",
    "version": 3
   },
   "file_extension": ".py",
   "mimetype": "text/x-python",
   "name": "python",
   "nbconvert_exporter": "python",
   "pygments_lexer": "ipython3",
   "version": "3.8.8"
  },
  "orig_nbformat": 4
 },
 "nbformat": 4,
 "nbformat_minor": 2
}

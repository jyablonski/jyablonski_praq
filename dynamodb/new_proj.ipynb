{
 "cells": [
  {
   "cell_type": "code",
   "execution_count": 27,
   "metadata": {},
   "outputs": [],
   "source": [
    "from datetime import datetime\n",
    "import json\n",
    "import hashlib\n",
    "\n",
    "import awswrangler as wr\n",
    "from faker import Faker\n",
    "import pandas as pd\n"
   ]
  },
  {
   "cell_type": "code",
   "execution_count": 11,
   "metadata": {},
   "outputs": [],
   "source": [
    "fake = Faker()\n",
    "\n",
    "# utf-8 turns it into bytes\n",
    "name = fake.name()\n",
    "scrape_ts = datetime.now()\n",
    "name_hash_pk = hashlib.md5((name + str(scrape_ts)).encode('utf-8')).hexdigest()\n",
    "\n",
    "dynamo_payload = {\n",
    "    \"name_hash_pk\": name_hash_pk,\n",
    "    \"name\": name,\n",
    "    \"scrape_ts\": scrape_ts\n",
    "}"
   ]
  },
  {
   "cell_type": "code",
   "execution_count": 12,
   "metadata": {},
   "outputs": [],
   "source": [
    "df = wr.dynamodb.get_table('jacob_test_table')"
   ]
  },
  {
   "cell_type": "code",
   "execution_count": 39,
   "metadata": {},
   "outputs": [],
   "source": [
    "wr.dynamodb.put_items(items = [{\"name_hash_pk\": \"cccc\", \"scrape_ts\": \"2022-06-08\"}], table_name = 'jacob_test_table')"
   ]
  },
  {
   "cell_type": "code",
   "execution_count": 55,
   "metadata": {},
   "outputs": [],
   "source": [
    "wr.dynamodb.put_items(items = [json.loads(json.dumps(dynamo_payload, default = str))], table_name = \"jacob_test_table\")"
   ]
  },
  {
   "cell_type": "code",
   "execution_count": 54,
   "metadata": {},
   "outputs": [],
   "source": [
    "json.dumps(dynamo_payload, default = str)\n",
    "cc = json.loads('{\"name_hash_pk\": \"3274923ec2a441d4225dcce6d83cc621\", \"name\": \"Sara Singleton\", \"scrape_ts\": \"2022-06-08 18:21:50.045718\"}')"
   ]
  },
  {
   "cell_type": "code",
   "execution_count": 29,
   "metadata": {},
   "outputs": [
    {
     "data": {
      "text/plain": [
       "'{\"name_hash_pk\": \"3274923ec2a441d4225dcce6d83cc621\", \"name\": \"Sara Singleton\", \"scrape_ts\": \"2022-06-08 18:21:50.045718\"}'"
      ]
     },
     "execution_count": 29,
     "metadata": {},
     "output_type": "execute_result"
    }
   ],
   "source": [
    "json.dumps(dynamo_payload, default = str)"
   ]
  },
  {
   "cell_type": "code",
   "execution_count": 22,
   "metadata": {},
   "outputs": [],
   "source": [
    "table_keys = [schema[\"AttributeName\"] for schema in df.key_schema]"
   ]
  }
 ],
 "metadata": {
  "interpreter": {
   "hash": "81c6a89d9b91bda76c14e46d4b77530c453739b0f65fa8daf80e192463b63a97"
  },
  "kernelspec": {
   "display_name": "Python 3.8.10 ('python_aws-McJt4gWW')",
   "language": "python",
   "name": "python3"
  },
  "language_info": {
   "codemirror_mode": {
    "name": "ipython",
    "version": 3
   },
   "file_extension": ".py",
   "mimetype": "text/x-python",
   "name": "python",
   "nbconvert_exporter": "python",
   "pygments_lexer": "ipython3",
   "version": "3.8.10"
  },
  "orig_nbformat": 4
 },
 "nbformat": 4,
 "nbformat_minor": 2
}

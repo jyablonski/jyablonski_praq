{
 "cells": [
  {
   "cell_type": "code",
   "execution_count": 1,
   "metadata": {},
   "outputs": [],
   "source": [
    "import os\n",
    "from slack_sdk import WebClient\n",
    "from slack_sdk.errors import SlackApiError\n",
    "from datetime import datetime\n",
    "\n",
    "# create an app and go to Features -> oauth & permissions under your apps and use the bot auth token with scopes to send messages.\n",
    "# channel id is to the right of the channel name at the top left dropdown menu of slack\n",
    "\n",
    "CHANNEL_ID = os.getenv(\"slack_channel_id\") # starts with CO####\n",
    "SLACK_TOKEN = os.getenv(\"slack_token\")     # starts with xoxb"
   ]
  },
  {
   "cell_type": "code",
   "execution_count": 2,
   "metadata": {},
   "outputs": [],
   "source": [
    "client = WebClient(token=SLACK_TOKEN)\n",
    "message_text = f\"Test Run :large_green_circle: Task Success :red_circle: <br> <br>Task Fail!!\""
   ]
  },
  {
   "cell_type": "code",
   "execution_count": 3,
   "metadata": {},
   "outputs": [],
   "source": [
    "message_text = f\"\"\"\n",
    "Slack Test Run at {datetime.now()}\n",
    "\n",
    ":large_green_circle: Task Success \n",
    "\n",
    ":red_circle: Task Fail!!\n",
    "\n",
    "\"\"\"\n",
    "try:\n",
    "    response = client.chat_postMessage(\n",
    "        channel=CHANNEL_ID,\n",
    "        text=message_text\n",
    "    )\n",
    "except SlackApiError as e:\n",
    "    print(e)\n",
    "    assert e.response[\"error\"]"
   ]
  },
  {
   "cell_type": "code",
   "execution_count": 19,
   "metadata": {},
   "outputs": [],
   "source": [
    "def send_slack_alert(owner: str = \"Jacob\", **kwargs):\n",
    "    \"\"\"\n",
    "    Function to send an Alert to Slack\n",
    "\n",
    "    Args:\n",
    "        owner (str) - The operator of the function (a Person, a Script, an ECS Task etc).\n",
    "\n",
    "        kwargs (str) - Custom Message to send in the Alert. ex. \"THIS TEST XYZ FAILED BECAUSE OF {e}\"\n",
    "    \"\"\"\n",
    "    client = WebClient(token=os.getenv(\"slack_token\"))\n",
    "    if len(kwargs) > 0:\n",
    "        message_text = f\"\"\"\n",
    "        Slack Test Run at {datetime.now()} by {owner}\n",
    "\n",
    "        Custom Message: {kwargs['kwargs']}\n",
    "        \n",
    "        :large_green_circle: Task Success \n",
    "\n",
    "        :red_circle: Task Fail!!\n",
    "\n",
    "        \"\"\"\n",
    "    else:\n",
    "        message_text = f\"\"\"\n",
    "        Slack Test Run at {datetime.now()} by {owner}\n",
    "        \n",
    "        :large_green_circle: Task Success \n",
    "\n",
    "        :red_circle: Task Fail!!\n",
    "\n",
    "        \"\"\"       \n",
    "    try:\n",
    "        response = client.chat_postMessage(\n",
    "            channel=CHANNEL_ID,\n",
    "            text=message_text\n",
    "        )\n",
    "    except SlackApiError as e:\n",
    "        print(f\"Error Occurred, {e}\")\n",
    "        raise e"
   ]
  },
  {
   "cell_type": "code",
   "execution_count": 20,
   "metadata": {},
   "outputs": [],
   "source": [
    "send_slack_alert(kwargs=\"Error Occurred, type list is out of range element\")"
   ]
  },
  {
   "cell_type": "code",
   "execution_count": 13,
   "metadata": {},
   "outputs": [],
   "source": [
    "send_slack_alert()"
   ]
  }
 ],
 "metadata": {
  "kernelspec": {
   "display_name": "base",
   "language": "python",
   "name": "python3"
  },
  "language_info": {
   "codemirror_mode": {
    "name": "ipython",
    "version": 3
   },
   "file_extension": ".py",
   "mimetype": "text/x-python",
   "name": "python",
   "nbconvert_exporter": "python",
   "pygments_lexer": "ipython3",
   "version": "3.8.8 (default, Apr 13 2021, 19:58:26) \n[GCC 7.3.0]"
  },
  "orig_nbformat": 4,
  "vscode": {
   "interpreter": {
    "hash": "51acfa6005ffec5e74e71d844e0daa05d24ac78244a0bb1b7874b497027552e7"
   }
  }
 },
 "nbformat": 4,
 "nbformat_minor": 2
}

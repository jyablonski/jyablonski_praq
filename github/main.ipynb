{
 "cells": [
  {
   "cell_type": "code",
   "execution_count": 11,
   "metadata": {},
   "outputs": [],
   "source": [
    "import requests\n",
    "import json\n",
    "import os\n",
    "\n",
    "\n",
    "data = {\"event_type\": \"build\"}\n",
    "repo_name = 'jyablonski.github.io'\n",
    "\n",
    "r = requests.post(f\"https://api.github.com/repos/jyablonski/{repo_name}/dispatches\",\n",
    "                   headers={\n",
    "                      'accept': 'application/json',\n",
    "                      'Content-Type': 'application/json',\n",
    "                      'Authorization': 'token ' + os.environ.get('github_token1')\n",
    "                  }, \n",
    "                  json=data\n",
    ")"
   ]
  },
  {
   "cell_type": "markdown",
   "metadata": {},
   "source": [
    "# Using GitHub Actions API to trigger Workflows\n",
    "\n",
    "Step 1: Create GitHub Personal Access token\n",
    "    1. Go to Settings -> Developer Settings -> Personal access tokens\n",
    "       1. Create a token with `repo` and `workflows` permissions\n",
    "    2. Add an `on` clause to the existing GitHub Actions workflow\n",
    "\n",
    "```\n",
    "on:\n",
    "  repository_dispatch:\n",
    "    types: [build]\n",
    "  push:\n",
    "    branches:\n",
    "    - master\n",
    "```\n",
    "\n",
    "    3. Run the code above using the correct `event_type` = build and with the PAT for authentication.\n",
    "    4. Can use this with Airflow to basically trigger any kind of GitHub Actions workflow."
   ]
  }
 ],
 "metadata": {
  "kernelspec": {
   "display_name": "Python 3.8.10 ('python_aws-McJt4gWW')",
   "language": "python",
   "name": "python3"
  },
  "language_info": {
   "codemirror_mode": {
    "name": "ipython",
    "version": 3
   },
   "file_extension": ".py",
   "mimetype": "text/x-python",
   "name": "python",
   "nbconvert_exporter": "python",
   "pygments_lexer": "ipython3",
   "version": "3.8.10"
  },
  "orig_nbformat": 4,
  "vscode": {
   "interpreter": {
    "hash": "81c6a89d9b91bda76c14e46d4b77530c453739b0f65fa8daf80e192463b63a97"
   }
  }
 },
 "nbformat": 4,
 "nbformat_minor": 2
}

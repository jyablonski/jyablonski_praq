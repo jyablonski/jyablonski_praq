{
 "cells": [
  {
   "cell_type": "code",
   "execution_count": 11,
   "source": [
    "# from __future__ import print_function\r\n",
    "# import os.path\r\n",
    "from googleapiclient.discovery import build\r\n",
    "# from google_auth_oauthlib.flow import InstalledAppFlow\r\n",
    "# from google.auth.transport.requests import Request\r\n",
    "# from google.oauth2.credentials import Credentials\r\n",
    "from google.oauth2 import service_account\r\n",
    "import pandas as pd\r\n",
    "import numpy as np"
   ],
   "outputs": [],
   "metadata": {}
  },
  {
   "cell_type": "code",
   "execution_count": 16,
   "source": [
    "SERVICE_ACCOUNT_FILE = 'key/jacobs-googledrive.json'\r\n",
    "SCOPES = ['https://www.googleapis.com/auth/spreadsheets']\r\n"
   ],
   "outputs": [],
   "metadata": {}
  },
  {
   "cell_type": "code",
   "execution_count": 19,
   "source": [
    "creds = None\r\n",
    "creds = service_account.Credentials.from_service_account_file(SERVICE_ACCOUNT_FILE, scopes = SCOPES)\r\n"
   ],
   "outputs": [],
   "metadata": {}
  },
  {
   "cell_type": "code",
   "execution_count": 21,
   "source": [
    "# https://docs.google.com/spreadsheets/d/1iVCGoVT6JsuRnNY7sR38e_yZxVOQZLZibmbeNGeyJgU/edit#gid=0\r\n",
    "SAMPLE_SPREADSHEET_ID = '1iVCGoVT6JsuRnNY7sR38e_yZxVOQZLZibmbeNGeyJgU'\r\n",
    "\r\n",
    "# we only take this part of the whole url\r\n"
   ],
   "outputs": [],
   "metadata": {}
  },
  {
   "cell_type": "code",
   "execution_count": 23,
   "source": [
    "service = build('sheets', 'v4', credentials = creds)\r\n",
    "sheet = service.spreadsheets()\r\n",
    "result = sheet.values().get(spreadsheetId = SAMPLE_SPREADSHEET_ID, range = 'df!A1:F151').execute()\r\n"
   ],
   "outputs": [],
   "metadata": {}
  },
  {
   "cell_type": "code",
   "execution_count": 24,
   "source": [
    "result1 = result.get('values', [])"
   ],
   "outputs": [],
   "metadata": {}
  }
 ],
 "metadata": {
  "orig_nbformat": 4,
  "language_info": {
   "name": "python"
  }
 },
 "nbformat": 4,
 "nbformat_minor": 2
}
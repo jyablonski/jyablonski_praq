{
 "cells": [
  {
   "cell_type": "code",
   "execution_count": 1,
   "metadata": {},
   "outputs": [],
   "source": [
    "from datetime import datetime\n",
    "import json\n",
    "import os\n",
    "\n",
    "import boto3 \n",
    "from botocore.exceptions import ClientError\n",
    "import pandas as pd\n",
    "import requests"
   ]
  },
  {
   "cell_type": "code",
   "execution_count": 2,
   "metadata": {},
   "outputs": [],
   "source": [
    "sqs_queue = 'jacobs-first-sqs'\n",
    "sqs = boto3.resource('sqs')\n",
    "\n",
    "# Get the queue\n",
    "queue = sqs.get_queue_by_name(QueueName=sqs_queue)"
   ]
  },
  {
   "cell_type": "code",
   "execution_count": 5,
   "metadata": {},
   "outputs": [
    {
     "name": "stdout",
     "output_type": "stream",
     "text": [
      "b96685d8-24c2-4359-9603-198dca0e07f4\n",
      "7d793037a0760186574b0282f2f435e7\n"
     ]
    }
   ],
   "source": [
    "# Sending a normal message w/ no attributes\n",
    "response = queue.send_message(MessageBody='world')\n",
    "\n",
    "# The response is NOT a resource, but gives you a message ID and MD5\n",
    "print(response.get('MessageId')) # will change everytime\n",
    "print(response.get('MD5OfMessageBody')) # will not change if given the same input body"
   ]
  },
  {
   "cell_type": "code",
   "execution_count": 64,
   "metadata": {},
   "outputs": [
    {
     "data": {
      "text/plain": [
       "{'MD5OfMessageBody': '6686853da3491a56c98917cc5c4ddea2',\n",
       " 'MD5OfMessageAttributes': '07d8782ce8e5d67de569b33dc2bb99c0',\n",
       " 'MessageId': 'a27d6ba1-0b37-44b9-b5c4-f210646592b1',\n",
       " 'ResponseMetadata': {'RequestId': '23225a46-691c-5eb0-be62-0115c5aca21d',\n",
       "  'HTTPStatusCode': 200,\n",
       "  'HTTPHeaders': {'x-amzn-requestid': '23225a46-691c-5eb0-be62-0115c5aca21d',\n",
       "   'date': 'Thu, 21 Jul 2022 19:35:12 GMT',\n",
       "   'content-type': 'text/xml',\n",
       "   'content-length': '459'},\n",
       "  'RetryAttempts': 0}}"
      ]
     },
     "execution_count": 64,
     "metadata": {},
     "output_type": "execute_result"
    }
   ],
   "source": [
    "# message with attributes\n",
    "queue.send_message(MessageBody='boto3', MessageAttributes={\n",
    "    'Author': {\n",
    "        'StringValue': 'jacob',\n",
    "        'DataType': 'String'\n",
    "    },\n",
    "    'Timestamp': {\n",
    "        'StringValue': str(datetime.now()),\n",
    "        'DataType': 'String'\n",
    "    },\n",
    "    'Payload': {\n",
    "        'StringValue': 'JSON',\n",
    "        'DataType': 'String'\n",
    "    }\n",
    "})"
   ]
  },
  {
   "cell_type": "code",
   "execution_count": 58,
   "metadata": {},
   "outputs": [],
   "source": [
    "# Send multiple messages in 1 call\n",
    "response = queue.send_messages(Entries=[\n",
    "    {\n",
    "        'Id': '1',\n",
    "        'MessageBody': 'type: world'\n",
    "    },\n",
    "    {\n",
    "        'Id': '2',\n",
    "        'MessageBody': 'boto3',\n",
    "        'MessageAttributes': {\n",
    "            'Owner': {\n",
    "                'StringValue': 'jaaacob',\n",
    "                'DataType': 'String'\n",
    "            },\n",
    "            'Timestamp': {\n",
    "                'StringValue': str(datetime.now()),\n",
    "                'DataType': 'String'\n",
    "            },\n",
    "        }\n",
    "    }\n",
    "])\n",
    "\n",
    "# # Print out any failures\n",
    "# print(response.get('Failed'))"
   ]
  },
  {
   "cell_type": "code",
   "execution_count": 63,
   "metadata": {},
   "outputs": [],
   "source": [
    "for message in queue.receive_messages():\n",
    "    print(message.message_attributes)"
   ]
  },
  {
   "cell_type": "code",
   "execution_count": 76,
   "metadata": {},
   "outputs": [],
   "source": [
    "# Processing Messages\n",
    "for message in queue.receive_messages(MessageAttributeNames=['Timestamp']):\n",
    "    # Get the custom author message attribute if it was set\n",
    "    author_text = ''\n",
    "    if message.message_attributes is not None:\n",
    "        author_name = message.message_attributes.get('Owner').get('StringValue')\n",
    "        timestamp = message.message_attributes.get('Timestamp').get('StringValue')\n",
    "        print(timestamp)\n",
    "        if author_name:\n",
    "            author_text = ' ({0})'.format(author_name)\n",
    "\n",
    "    # Print out the body and author (if set)\n",
    "    print('Hello, {0}!{1}'.format(message.body, author_text))\n",
    "    message.delete()"
   ]
  },
  {
   "cell_type": "code",
   "execution_count": null,
   "metadata": {},
   "outputs": [],
   "source": [
    "# A dead letter queue is a queue that one or more OTHER queues can use for messages that do not get successfully processed.\n",
    "# instead of losing the message when processing fails, the message gets sent to the dead letter queue.\n",
    "# if you're using a SOURCE FIFO queue, and you want a dead letter queue for it, then that dead letter queue must also be a FIFO queue.\n",
    "# queue-ception."
   ]
  },
  {
   "cell_type": "code",
   "execution_count": 34,
   "metadata": {},
   "outputs": [
    {
     "name": "stdout",
     "output_type": "stream",
     "text": [
      "2\n",
      "jaaacob\n",
      "jaaacob\n",
      "Message has Message Attributes\n"
     ]
    }
   ],
   "source": [
    "dict1 = {\n",
    "        'Id': '2',\n",
    "        'MessageBody': 'boto3',\n",
    "        'MessageAttributes': {\n",
    "            'Author': {\n",
    "                'StringValue': 'jaaacob',\n",
    "                'DataType': 'String'\n",
    "            }\n",
    "        }\n",
    "    }\n",
    "\n",
    "print(dict1.get('Id'))\n",
    "print(dict1.get('MessageAttributes').get('Author').get('StringValue'))\n",
    "print(dict1['MessageAttributes']['Author']['StringValue']) # I prefer this 1\n",
    "\n",
    "if 'MessageAttributes' in dict1:\n",
    "    print('Message has Message Attributes')\n",
    "else:\n",
    "    print('oops')"
   ]
  }
 ],
 "metadata": {
  "kernelspec": {
   "display_name": "Python 3.8.10 ('python_aws-McJt4gWW')",
   "language": "python",
   "name": "python3"
  },
  "language_info": {
   "codemirror_mode": {
    "name": "ipython",
    "version": 3
   },
   "file_extension": ".py",
   "mimetype": "text/x-python",
   "name": "python",
   "nbconvert_exporter": "python",
   "pygments_lexer": "ipython3",
   "version": "3.8.10"
  },
  "orig_nbformat": 4,
  "vscode": {
   "interpreter": {
    "hash": "81c6a89d9b91bda76c14e46d4b77530c453739b0f65fa8daf80e192463b63a97"
   }
  }
 },
 "nbformat": 4,
 "nbformat_minor": 2
}

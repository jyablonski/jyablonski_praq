{
 "cells": [
  {
   "cell_type": "code",
   "execution_count": 9,
   "metadata": {},
   "outputs": [],
   "source": [
    "from datetime import datetime\n",
    "import json\n",
    "import os\n",
    "\n",
    "import boto3 \n",
    "from botocore.exceptions import ClientError\n",
    "import pandas as pd\n",
    "import requests\n",
    "\n",
    "def send_queue_message(sqs_client: Any, queue_url, msg_attributes, msg_body):\n",
    "    \"\"\"\n",
    "    Sends a message to the specified queue.\n",
    "    \"\"\"\n",
    "    try:\n",
    "        response = sqs_client.send_message(QueueUrl=queue_url,\n",
    "                                           MessageAttributes=msg_attributes,\n",
    "                                           MessageBody=msg_body)\n",
    "    except ClientError:\n",
    "        print(f'Could not send meessage to the - {queue_url}.')\n",
    "        raise\n",
    "    else:\n",
    "        return response"
   ]
  },
  {
   "cell_type": "code",
   "execution_count": 2,
   "metadata": {},
   "outputs": [],
   "source": [
    "client = boto3.client('sqs')"
   ]
  },
  {
   "cell_type": "code",
   "execution_count": 8,
   "metadata": {},
   "outputs": [],
   "source": [
    "# have to define the queue endpoint\n",
    "# each message has an actual body payload and some optional message attributes\n",
    "#   https://docs.aws.amazon.com/AWSSimpleQueueService/latest/SQSDeveloperGuide/sqs-message-metadata.html\n",
    "# \n",
    "QUEUE_URL = os.environ.get('sqs_url')\n",
    "MSG_ATTRIBUTES = {\n",
    "    'Title': {\n",
    "        'DataType': 'String',\n",
    "        'StringValue': 'Working with SQS in Python using Boto3'\n",
    "    },\n",
    "    'Author': {\n",
    "        'DataType': 'String',\n",
    "        'StringValue': 'Jacob Y'\n",
    "    }\n",
    "}\n",
    "MSG_BODY = 'big test 123'"
   ]
  },
  {
   "cell_type": "code",
   "execution_count": 13,
   "metadata": {},
   "outputs": [
    {
     "name": "stdout",
     "output_type": "stream",
     "text": [
      "\n",
      "    Message sent to the queue https://sqs.us-east-1.amazonaws.com/324816727452/jacobs-first-sqs.\n",
      "    Message attributes: \n",
      "{\n",
      "    \"MD5OfMessageBody\": \"8abe500e59099003f7f2473c5e8a77ec\",\n",
      "    \"MD5OfMessageAttributes\": \"61b682eed751417698f61bb108f67a48\",\n",
      "    \"MessageId\": \"a3b06bef-9866-4ad0-997a-e41975c43ab2\",\n",
      "    \"ResponseMetadata\": {\n",
      "        \"RequestId\": \"ffc0b44a-e3f2-5a2e-abef-ef705f42d666\",\n",
      "        \"HTTPStatusCode\": 200,\n",
      "        \"HTTPHeaders\": {\n",
      "            \"x-amzn-requestid\": \"ffc0b44a-e3f2-5a2e-abef-ef705f42d666\",\n",
      "            \"date\": \"Sat, 02 Jul 2022 21:36:48 GMT\",\n",
      "            \"content-type\": \"text/xml\",\n",
      "            \"content-length\": \"459\"\n",
      "        },\n",
      "        \"RetryAttempts\": 0\n",
      "    }\n",
      "}\n"
     ]
    }
   ],
   "source": [
    "msg = send_queue_message(client, QUEUE_URL, MSG_ATTRIBUTES, MSG_BODY)\n",
    "\n",
    "json_msg = json.dumps(msg, indent=4)\n",
    "\n",
    "print(f'''\n",
    "    Message sent to the queue {QUEUE_URL}.\n",
    "    Message attributes: \\n{json_msg}''')"
   ]
  },
  {
   "cell_type": "code",
   "execution_count": 15,
   "metadata": {},
   "outputs": [
    {
     "name": "stdout",
     "output_type": "stream",
     "text": [
      "\n",
      "{\n",
      "    \"MD5OfMessageBody\": \"8abe500e59099003f7f2473c5e8a77ec\",\n",
      "    \"MD5OfMessageAttributes\": \"61b682eed751417698f61bb108f67a48\",\n",
      "    \"MessageId\": \"a3b06bef-9866-4ad0-997a-e41975c43ab2\",\n",
      "    \"ResponseMetadata\": {\n",
      "        \"RequestId\": \"ffc0b44a-e3f2-5a2e-abef-ef705f42d666\",\n",
      "        \"HTTPStatusCode\": 200,\n",
      "        \"HTTPHeaders\": {\n",
      "            \"x-amzn-requestid\": \"ffc0b44a-e3f2-5a2e-abef-ef705f42d666\",\n",
      "            \"date\": \"Sat, 02 Jul 2022 21:36:48 GMT\",\n",
      "            \"content-type\": \"text/xml\",\n",
      "            \"content-length\": \"459\"\n",
      "        },\n",
      "        \"RetryAttempts\": 0\n",
      "    }\n",
      "}\n"
     ]
    }
   ],
   "source": [
    "print(f'\\n{json_msg}')"
   ]
  }
 ],
 "metadata": {
  "kernelspec": {
   "display_name": "Python 3.8.8 ('base')",
   "language": "python",
   "name": "python3"
  },
  "language_info": {
   "codemirror_mode": {
    "name": "ipython",
    "version": 3
   },
   "file_extension": ".py",
   "mimetype": "text/x-python",
   "name": "python",
   "nbconvert_exporter": "python",
   "pygments_lexer": "ipython3",
   "version": "3.8.8"
  },
  "orig_nbformat": 4,
  "vscode": {
   "interpreter": {
    "hash": "51acfa6005ffec5e74e71d844e0daa05d24ac78244a0bb1b7874b497027552e7"
   }
  }
 },
 "nbformat": 4,
 "nbformat_minor": 2
}

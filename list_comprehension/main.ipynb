{
 "cells": [
  {
   "cell_type": "code",
   "execution_count": 1,
   "metadata": {},
   "outputs": [
    {
     "data": {
      "text/plain": [
       "[0, 1, 4, 9, 16, 25, 36, 49, 64, 81]"
      ]
     },
     "execution_count": 1,
     "metadata": {},
     "output_type": "execute_result"
    }
   ],
   "source": [
    "# old school method of creating an empty list and iterating through a list of values with a for loop to append to that list\n",
    "squares = []\n",
    "for i in range(10):\n",
    "    squares.append(i * i)\n",
    "squares"
   ]
  },
  {
   "cell_type": "code",
   "execution_count": 2,
   "metadata": {},
   "outputs": [
    {
     "data": {
      "text/plain": [
       "[0, 1, 4, 9, 16, 25, 36, 49, 64, 81]"
      ]
     },
     "execution_count": 2,
     "metadata": {},
     "output_type": "execute_result"
    }
   ],
   "source": [
    "# same thing done w/ list comprehension, in 1 line of code\n",
    "# squares = i * i for i in range(10) - this will fail.\n",
    "# define the list and its content both at the same time\n",
    "# new_list = [expression for member in iterable]new_list = [expression for member in iterable]\n",
    "squares = [i * i for i in range(10)]\n",
    "squares"
   ]
  },
  {
   "cell_type": "code",
   "execution_count": 5,
   "metadata": {},
   "outputs": [
    {
     "data": {
      "text/plain": [
       "[1.1772000000000002, 25.4448, 62.467200000000005, 4.9248, 7.322400000000001]"
      ]
     },
     "execution_count": 5,
     "metadata": {},
     "output_type": "execute_result"
    }
   ],
   "source": [
    "txns = [1.09, 23.56, 57.84, 4.56, 6.78]\n",
    "\n",
    "tax_rate = .08\n",
    "\n",
    "def get_price_with_tax(txn: list[int]):\n",
    "    return txn * (1 + tax_rate)\n",
    "\n",
    "final_prices = [get_price_with_tax(i) for i in txns]\n",
    "final_prices\n"
   ]
  },
  {
   "cell_type": "code",
   "execution_count": 6,
   "metadata": {},
   "outputs": [
    {
     "data": {
      "text/plain": [
       "['e', 'o', 'e', 'a', 'e', 'a', 'o', 'a']"
      ]
     },
     "execution_count": 6,
     "metadata": {},
     "output_type": "execute_result"
    }
   ],
   "source": [
    "sentence = 'the rocket came back from mars'\n",
    "vowels = [i for i in sentence if i in 'aeiou']\n",
    "vowels"
   ]
  },
  {
   "cell_type": "code",
   "execution_count": 7,
   "metadata": {},
   "outputs": [
    {
     "data": {
      "text/plain": [
       "[1.25, 0, 10.22, 3.78, 0, 1.16]"
      ]
     },
     "execution_count": 7,
     "metadata": {},
     "output_type": "execute_result"
    }
   ],
   "source": [
    "original_prices = [1.25, -9.45, 10.22, 3.78, -5.92, 1.16]\n",
    "prices = [i if i > 0 else 0 for i in original_prices]\n",
    "prices"
   ]
  },
  {
   "cell_type": "code",
   "execution_count": 8,
   "metadata": {},
   "outputs": [
    {
     "data": {
      "text/plain": [
       "{'a', 'e', 'i', 'u'}"
      ]
     },
     "execution_count": 8,
     "metadata": {},
     "output_type": "execute_result"
    }
   ],
   "source": [
    "quote = \"life, uh, finds a way\"\n",
    "unique_vowels = {i for i in quote if i in 'aeiou'}\n",
    "unique_vowels"
   ]
  },
  {
   "cell_type": "code",
   "execution_count": 1,
   "metadata": {},
   "outputs": [],
   "source": [
    "this = [1, 2, 4, 8]\n",
    "my_list = [i*i for i in this]"
   ]
  },
  {
   "cell_type": "code",
   "execution_count": 3,
   "metadata": {},
   "outputs": [
    {
     "name": "stdout",
     "output_type": "stream",
     "text": [
      "hi\n"
     ]
    }
   ],
   "source": [
    "if 'hello' in 'helloworld':\n",
    "    print('hi')\n",
    "else:\n",
    "    print('crap')"
   ]
  },
  {
   "cell_type": "code",
   "execution_count": 4,
   "metadata": {},
   "outputs": [],
   "source": [
    "my_dict = {\"key1\": \"value1\", \"key2\": \"value2\", \"key3\": \"value3\"}"
   ]
  },
  {
   "cell_type": "code",
   "execution_count": 9,
   "metadata": {},
   "outputs": [
    {
     "name": "stdout",
     "output_type": "stream",
     "text": [
      "hi\n"
     ]
    }
   ],
   "source": [
    "if \"key3\" in my_dict:\n",
    "    print('hi')\n",
    "else:\n",
    "    print('crap')"
   ]
  },
  {
   "cell_type": "code",
   "execution_count": 22,
   "metadata": {},
   "outputs": [
    {
     "name": "stdout",
     "output_type": "stream",
     "text": [
      "0 key1\n",
      "1 key2\n",
      "2 key3\n"
     ]
    }
   ],
   "source": [
    "# my_set = {}    # this is a dictionary\n",
    "# my_set = {\"a\"} # this is a set\n",
    "my_set = set()   # this is an empty set\n",
    "for key, value in enumerate(my_dict):\n",
    "    my_set.add(key)\n",
    "    print(key, value)"
   ]
  },
  {
   "cell_type": "code",
   "execution_count": 30,
   "metadata": {},
   "outputs": [],
   "source": [
    "my_list = [1, 2, 3]\n",
    "my_list[0] = 4\n",
    "my_list[-1] = 50"
   ]
  }
 ],
 "metadata": {
  "kernelspec": {
   "display_name": "python_aws-McJt4gWW",
   "language": "python",
   "name": "python3"
  },
  "language_info": {
   "codemirror_mode": {
    "name": "ipython",
    "version": 3
   },
   "file_extension": ".py",
   "mimetype": "text/x-python",
   "name": "python",
   "nbconvert_exporter": "python",
   "pygments_lexer": "ipython3",
   "version": "3.9.13"
  },
  "orig_nbformat": 4,
  "vscode": {
   "interpreter": {
    "hash": "81c6a89d9b91bda76c14e46d4b77530c453739b0f65fa8daf80e192463b63a97"
   }
  }
 },
 "nbformat": 4,
 "nbformat_minor": 2
}

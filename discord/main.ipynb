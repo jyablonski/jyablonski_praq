{
 "cells": [
  {
   "cell_type": "code",
   "execution_count": 6,
   "metadata": {},
   "outputs": [],
   "source": [
    "from datetime import datetime\n",
    "import os\n",
    "import requests\n",
    "\n",
    "from discord import Webhook, RequestsWebhookAdapter\n",
    "\n",
    "webhook = Webhook.from_url(os.environ.get('discord_url'),\n",
    "                         adapter=RequestsWebhookAdapter())\n",
    "\n",
    "message_text = f\"\"\"\n",
    "✅✅  Hello ! ✅✅ \n",
    "Event: Test Message\n",
    "Owner: Jacob\n",
    "Timestamp: {datetime.now()}\n",
    "Optional Link: [here](https://github.com/jyablonski)\n",
    "\"\"\"               \n",
    "\n",
    "# Simple script to send a webhook to a discord server.  Can put this into lambda or eventbridge triggered events.\n",
    "# can put links in like above, and emojis / other unicode text"
   ]
  },
  {
   "cell_type": "code",
   "execution_count": null,
   "metadata": {},
   "outputs": [],
   "source": [
    "webhook.send(message_text)"
   ]
  }
 ],
 "metadata": {
  "interpreter": {
   "hash": "81c6a89d9b91bda76c14e46d4b77530c453739b0f65fa8daf80e192463b63a97"
  },
  "kernelspec": {
   "display_name": "Python 3.8.10 ('python_aws-McJt4gWW')",
   "language": "python",
   "name": "python3"
  },
  "language_info": {
   "codemirror_mode": {
    "name": "ipython",
    "version": 3
   },
   "file_extension": ".py",
   "mimetype": "text/x-python",
   "name": "python",
   "nbconvert_exporter": "python",
   "pygments_lexer": "ipython3",
   "version": "3.8.10"
  },
  "orig_nbformat": 4
 },
 "nbformat": 4,
 "nbformat_minor": 2
}

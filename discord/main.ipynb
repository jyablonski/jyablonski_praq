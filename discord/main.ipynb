{
 "cells": [
  {
   "cell_type": "code",
   "execution_count": 6,
   "metadata": {},
   "outputs": [],
   "source": [
    "# option 1 : use the package\n",
    "from datetime import datetime\n",
    "import os\n",
    "import requests\n",
    "\n",
    "from discord import Webhook, RequestsWebhookAdapter\n",
    "\n",
    "webhook = Webhook.from_url(os.environ.get('discord_url'),\n",
    "                         adapter=RequestsWebhookAdapter())\n",
    "\n",
    "message_text = f\"\"\"\n",
    "✅✅  Hello ! ✅✅ \n",
    "Event: Test Message\n",
    "Owner: Jacob\n",
    "Timestamp: {datetime.now()}\n",
    "Optional Link: [here](https://github.com/jyablonski)\n",
    "\"\"\"               \n",
    "\n",
    "# Simple script to send a webhook to a discord server.  Can put this into lambda or eventbridge triggered events.\n",
    "# can put links in like above, and emojis / other unicode text"
   ]
  },
  {
   "cell_type": "code",
   "execution_count": null,
   "metadata": {},
   "outputs": [],
   "source": [
    "webhook.send(message_text)"
   ]
  },
  {
   "cell_type": "code",
   "execution_count": 28,
   "metadata": {},
   "outputs": [],
   "source": [
    "fields_message =         [\n",
    "        {\n",
    "            'name': 'Lambda',\n",
    "            'value': 'SNS MESSAGE'\n",
    "        },\n",
    "        {\n",
    "            'name': 'alarm',\n",
    "            'value': 'JACOBS_ALARM'\n",
    "        },\n",
    "        {\n",
    "            'name': 'description',\n",
    "            'value': 'JACOBS_DESCRIPTION'\n",
    "        },\n",
    "        {\n",
    "            'name': 'oldestState',\n",
    "            'value': 'JACOBS_STATE'\n",
    "        },\n",
    "        {\n",
    "            'name': 'trigger',\n",
    "            'value': 'JACOBS_METRIC_FAIL'\n",
    "        }\n",
    "        \n",
    "    ]"
   ]
  },
  {
   "cell_type": "code",
   "execution_count": 30,
   "metadata": {},
   "outputs": [],
   "source": [
    "# option 2 : use requests\n",
    "from datetime import datetime\n",
    "import json\n",
    "import os\n",
    "import requests\n",
    "# https://towardsdatascience.com/discord-notification-using-cloudwatch-alarms-sns-and-aws-lambda-71393861699f\n",
    "\n",
    "discord_data = {\n",
    "    'username': 'ALARM WEBHOOK',\n",
    "    'avatar_url': 'https://a0.awsstatic.com/libra-css/images/logos/aws_logo_smile_1200x630.png',\n",
    "    'embeds': [{\n",
    "        \"author\": {\n",
    "            \"name\": \"ALARM_TRIGGER♫\",\n",
    "            \"url\": \"https://www.reddit.com/r/cats/\",\n",
    "            \"icon_url\": \"https://i.imgur.com/R66g1Pe.jpg\"\n",
    "        },\n",
    "        'color': 16711680, # red value on left side of the discord message\n",
    "        'fields': fields_message,\n",
    "        \"footer\": {\n",
    "            \"text\": \"See a bug?  Pls message Jacob\",\n",
    "            \"icon_url\": \"https://i.imgur.com/fKL31aD.jpg\"\n",
    "        }\n",
    "    }],\n",
    "    \"content\": \"<@95723063835885568>\", # this pings MY USER - enable developer mode, then right click somebody and press copy id\n",
    "}\n",
    "\n",
    "headers = {'content-type': 'application/json'}\n",
    "response = requests.post(os.environ.get('discord_url'), data=json.dumps(discord_data),\n",
    "                        headers=headers)"
   ]
  }
 ],
 "metadata": {
  "interpreter": {
   "hash": "81c6a89d9b91bda76c14e46d4b77530c453739b0f65fa8daf80e192463b63a97"
  },
  "kernelspec": {
   "display_name": "Python 3.8.10 ('python_aws-McJt4gWW')",
   "language": "python",
   "name": "python3"
  },
  "language_info": {
   "codemirror_mode": {
    "name": "ipython",
    "version": 3
   },
   "file_extension": ".py",
   "mimetype": "text/x-python",
   "name": "python",
   "nbconvert_exporter": "python",
   "pygments_lexer": "ipython3",
   "version": "3.8.10"
  },
  "orig_nbformat": 4
 },
 "nbformat": 4,
 "nbformat_minor": 2
}

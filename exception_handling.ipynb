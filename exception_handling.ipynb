{
 "cells": [
  {
   "cell_type": "code",
   "execution_count": 1,
   "metadata": {},
   "outputs": [],
   "source": [
    "import os\n",
    "import sys\n",
    "from datetime import datetime, timezone, timedelta\n",
    "from urllib.request import urlopen\n",
    "from urllib.error import HTTPError\n",
    "import logging\n",
    "from bs4 import BeautifulSoup\n",
    "from sqlalchemy import exc, create_engine\n",
    "import pymysql\n",
    "import numpy as np\n",
    "import pandas as pd\n",
    "import boto3\n",
    "from botocore.exceptions import ClientError\n",
    "# import pyarrow\n",
    "import awswrangler as wr\n",
    "# from urllib.error import URLError, HTTPError\n",
    "\n",
    "\n",
    "logging.basicConfig(filename='example.log', level=logging.DEBUG, format='%(asctime)s %(message)s', datefmt='%m/%d/%Y %I:%M:%S %p')\n",
    "logging.info('Starting Logging Function')\n",
    "\n",
    "today = datetime.now().date()\n",
    "yesterday = today - timedelta(1)\n",
    "day = (datetime.now() - timedelta(1)).day\n",
    "month = (datetime.now() - timedelta(1)).month\n",
    "year = (datetime.now() - timedelta(1)).year\n",
    "season_type = 'Regular Season'"
   ]
  },
  {
   "cell_type": "code",
   "execution_count": 8,
   "metadata": {},
   "outputs": [],
   "source": [
    "def get_boxscores(month = month, day = day, year = year):\n",
    "    url = \"https://www.basketball-reference.com/friv/dailyleaders.fcgi?month={}&day={}&year={}&type=all\".format(month, day, year)\n",
    "    try: \n",
    "        html = urlopen(url)\n",
    "        soup = BeautifulSoup(html, \"html.parser\")\n",
    "        headers = [th.getText() for th in soup.findAll('tr', limit=2)[0].findAll('th')]\n",
    "        headers = headers[1:]\n",
    "        headers[1] = 'Team'\n",
    "        headers[2] = \"Location\"\n",
    "        headers[3] = 'Opponent'\n",
    "        headers[4] = \"Outcome\"\n",
    "        headers[6] = \"FGM\"\n",
    "        headers[8] = \"FGPercent\"\n",
    "        headers[9] = \"threePFGMade\"\n",
    "        headers[10] = \"threePAttempted\"\n",
    "        headers[11] = \"threePointPercent\"\n",
    "        headers[14] = \"FTPercent\"\n",
    "        headers[15] = \"OREB\"\n",
    "        headers[16] = \"DREB\"\n",
    "        headers[24] = 'PlusMinus'\n",
    "\n",
    "        rows = soup.findAll('tr')[1:]\n",
    "        player_stats = [[td.getText() for td in rows[i].findAll('td')]\n",
    "            for i in range(len(rows))]\n",
    "\n",
    "        df = pd.DataFrame(player_stats, columns = headers)\n",
    "        df[['FGM', 'FGA', 'FGPercent', 'threePFGMade', 'threePAttempted', 'threePointPercent', 'OREB', 'DREB', 'TRB', 'AST', 'STL', 'BLK', 'TOV', 'PF', 'PTS', 'PlusMinus', 'GmSc']] = df[['FGM', 'FGA', 'FGPercent', 'threePFGMade', 'threePAttempted', 'threePointPercent','OREB', 'DREB', 'TRB', 'AST', 'STL', 'BLK', 'TOV', 'PF', 'PTS', 'PlusMinus', 'GmSc']].apply(pd.to_numeric)\n",
    "        df['date'] = str(year) + '-' + str(month) + '-' + str(day)\n",
    "        df['date'] = pd.to_datetime(df['date'])\n",
    "        df['Type'] = season_type\n",
    "        df['Season'] = 2022\n",
    "        df['Location'] = df['Location'].apply(lambda x: 'A' if x == '@' else 'H')\n",
    "        df['Team'] = df['Team'].str.replace(\"PHO\", \"PHX\")\n",
    "        df['Team'] = df['Team'].str.replace(\"CHO\", \"CHA\")\n",
    "        df['Team'] = df['Team'].str.replace(\"BRK\", \"BKN\")\n",
    "        df['Opponent'] = df['Opponent'].str.replace(\"PHO\", \"PHX\")\n",
    "        df['Opponent'] = df['Opponent'].str.replace(\"CHO\", \"CHA\")\n",
    "        df['Opponent'] = df['Opponent'].strs.replace(\"BRK\", \"BKN\")\n",
    "        df = df.query('Player == Player').reset_index()\n",
    "        df['Player'] = df['Player'].str.normalize('NFKD').str.encode('ascii', errors = 'ignore').str.decode('utf-8')\n",
    "        df.columns = df.columns.str.lower()\n",
    "        df = df.drop('index', axis =1)\n",
    "        logging.info(f'Box Score Function Successful, retrieving {len(df)} rows for {year}-{month}-{day}')\n",
    "        print(f'Box Score Function Successful, retrieving {len(df)} rows for {year}-{month}-{day}')\n",
    "        return(df)\n",
    "    except BaseException as error:\n",
    "        logging.info(f\"Box Score Function Failed, {error}, no data available for {year}-{month}-{day}\")\n",
    "        print(f\"Box Score Function Failed, {error}, no data available for {year}-{month}-{day}\")\n",
    "        df = []\n",
    "        return(df)"
   ]
  },
  {
   "cell_type": "code",
   "execution_count": 10,
   "metadata": {},
   "outputs": [],
   "source": [
    "df= 5"
   ]
  },
  {
   "cell_type": "code",
   "execution_count": 11,
   "metadata": {},
   "outputs": [
    {
     "name": "stdout",
     "output_type": "stream",
     "text": [
      "Box Score Function Failed, 'Series' object has no attribute 'strs', no data available for 2021-10-30\n"
     ]
    }
   ],
   "source": [
    "df = get_boxscores()"
   ]
  }
 ],
 "metadata": {
  "interpreter": {
   "hash": "51acfa6005ffec5e74e71d844e0daa05d24ac78244a0bb1b7874b497027552e7"
  },
  "kernelspec": {
   "display_name": "Python 3.8.8 64-bit ('base': conda)",
   "name": "python3"
  },
  "language_info": {
   "codemirror_mode": {
    "name": "ipython",
    "version": 3
   },
   "file_extension": ".py",
   "mimetype": "text/x-python",
   "name": "python",
   "nbconvert_exporter": "python",
   "pygments_lexer": "ipython3",
   "version": "3.8.8"
  },
  "orig_nbformat": 4
 },
 "nbformat": 4,
 "nbformat_minor": 2
}

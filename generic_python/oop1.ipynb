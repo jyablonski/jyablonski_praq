{
 "cells": [
  {
   "cell_type": "code",
   "execution_count": 3,
   "metadata": {},
   "outputs": [
    {
     "name": "stdout",
     "output_type": "stream",
     "text": [
      "big otis is 24 years old\n"
     ]
    },
    {
     "data": {
      "text/plain": [
       "Person is big otis, with 1 trick(s)"
      ]
     },
     "execution_count": 3,
     "metadata": {},
     "output_type": "execute_result"
    }
   ],
   "source": [
    "class Person:\n",
    "    owner = 'jacob'\n",
    "    region = 'us-east-2'\n",
    "    def __init__(self, name):\n",
    "        self.name = name\n",
    "        self.tricks = []\n",
    "\n",
    "    def __iter__(self):\n",
    "        print('what')\n",
    "\n",
    "    # this is what's returned when u do print(d1) on your Person object\n",
    "    def __str__(self):\n",
    "        return f\"{self.name} is 24 years old\"\n",
    "\n",
    "    # This is what's returned when u call d1 on your person Object\n",
    "    def __repr__(self):\n",
    "        rep = f\"Person is {self.name}, with {len(self.tricks)} trick(s)\"\n",
    "        return rep\n",
    "\n",
    "    def add_trick(self, trick):\n",
    "        self.tricks.append(trick)\n",
    "\n",
    "    def f(self, name):\n",
    "        return f\"hello {name}, world\"\n",
    "\n",
    "d2 = Person('kickn')\n",
    "d2.add_trick('hello')"
   ]
  },
  {
   "cell_type": "code",
   "execution_count": 9,
   "metadata": {},
   "outputs": [
    {
     "name": "stdout",
     "output_type": "stream",
     "text": [
      "Queen\n",
      "Hearts\n"
     ]
    }
   ],
   "source": [
    "from dataclasses import dataclass\n",
    "\n",
    "# same shit except u dont have to do a fuckton of stupid oop boilerplate code \n",
    "@dataclass\n",
    "class DataClassCard:\n",
    "    rank: str\n",
    "    suit: str\n",
    "\n",
    "df = DataClassCard(\"Queen\", \"Hearts\")\n",
    "print(df.rank)\n",
    "print(df.suit)"
   ]
  },
  {
   "cell_type": "code",
   "execution_count": 5,
   "metadata": {},
   "outputs": [],
   "source": [
    "import pandas as pd\n",
    "import numpy as np\n",
    "class SubclassedDataFrame(pd.DataFrame):\n",
    "    _metadata = ['added_property']\n",
    "    added_property = 1  # This will be passed to copies\n",
    "\n",
    "    @property\n",
    "    def _constructor(self):\n",
    "        return SubclassedDataFrame"
   ]
  },
  {
   "cell_type": "code",
   "execution_count": 6,
   "metadata": {},
   "outputs": [],
   "source": [
    "df = SubclassedDataFrame(np.random.randn(3,4), columns=['A','B','C','D'])"
   ]
  },
  {
   "cell_type": "code",
   "execution_count": 9,
   "metadata": {},
   "outputs": [
    {
     "name": "stdout",
     "output_type": "stream",
     "text": [
      "1\n",
      "['added_property']\n"
     ]
    }
   ],
   "source": [
    "print(df.added_property)\n",
    "print(df._metadata)"
   ]
  },
  {
   "cell_type": "code",
   "execution_count": 11,
   "metadata": {},
   "outputs": [],
   "source": [
    "df2 = pd.DataFrame(df)"
   ]
  },
  {
   "cell_type": "code",
   "execution_count": 13,
   "metadata": {},
   "outputs": [
    {
     "name": "stdout",
     "output_type": "stream",
     "text": [
      "1\n",
      "2\n",
      "3\n"
     ]
    }
   ],
   "source": [
    "mylist = []\n",
    "if None in mylist:\n",
    "    print('nothing')\n",
    "else:\n",
    "    for i in mylist:\n",
    "        print(i)"
   ]
  },
  {
   "cell_type": "code",
   "execution_count": 19,
   "metadata": {},
   "outputs": [
    {
     "name": "stdout",
     "output_type": "stream",
     "text": [
      "ob1 area is 16\n",
      "ob2 area is 16\n"
     ]
    },
    {
     "data": {
      "text/plain": [
       "Square2(name='square1', object='parallelogram', length=4)"
      ]
     },
     "execution_count": 19,
     "metadata": {},
     "output_type": "execute_result"
    }
   ],
   "source": [
    "class Square:\n",
    "    def __init__(self, name, object, length):\n",
    "        self.name = name\n",
    "        self.object = object\n",
    "        self.length = length\n",
    "    \n",
    "    def area(self):\n",
    "        return self.length * self.length\n",
    "\n",
    "obj1 = Square('square1', 'parallelogram', 4)\n",
    "print(f\"ob1 area is {obj1.area()}\")\n",
    "\n",
    "@dataclass \n",
    "class Square2:\n",
    "    name: str\n",
    "    object: str = 'parallelogram'\n",
    "    length: int = 0 # you have to set a default HERE too if you set one above.  nice.  sick.  yeet.\n",
    "\n",
    "    def __str__(self):\n",
    "        return f'{self.name}-{self.object}'\n",
    "\n",
    "    def area(self):\n",
    "        return self.length * self.length\n",
    "\n",
    "obj2 = Square2('square1', 'parallelogram', 4)\n",
    "print(f\"ob2 area is {obj2.area()}\")\n",
    "obj2"
   ]
  },
  {
   "cell_type": "code",
   "execution_count": 25,
   "metadata": {},
   "outputs": [
    {
     "name": "stdout",
     "output_type": "stream",
     "text": [
      "hello\n",
      "updated b value to placeholder\n"
     ]
    }
   ],
   "source": [
    "b = 4\n",
    "\n",
    "if b is not None:\n",
    "    print('hello')\n",
    "    b='placeholder'\n",
    "    print(f\"updated b value to {b}\")\n",
    "else:\n",
    "    print('crap')"
   ]
  },
  {
   "cell_type": "code",
   "execution_count": 14,
   "metadata": {},
   "outputs": [],
   "source": [
    "def validate_config(**kwargs):\n",
    "    if not all(kwargs.values()):\n",
    "        missing_args = [arg_name for arg_name, arg in kwargs.values()]\n",
    "        print('fuq')\n",
    "\n",
    "validate_config(kwargs = {'hello1': 'value1', 'hello2': None})"
   ]
  },
  {
   "cell_type": "code",
   "execution_count": 28,
   "metadata": {},
   "outputs": [
    {
     "name": "stdout",
     "output_type": "stream",
     "text": [
      "kwargs is {'kwargs': {'hello1': 'value1', 'hello2': None}}\n",
      "dict_values([{'hello1': 'value1', 'hello2': None}])\n",
      "key is kwargs, value is {'hello1': 'value1', 'hello2': None}\n"
     ]
    }
   ],
   "source": [
    "def validate_config(**kwargs):\n",
    "    print(f\"kwargs is {kwargs}\")\n",
    "    print(kwargs.values())\n",
    "    for key, value in kwargs.items():\n",
    "        print(f\"key is {key}, value is {value}\")\n",
    "\n",
    "validate_config(kwargs = {'hello1': 'value1', 'hello2': None})"
   ]
  },
  {
   "cell_type": "code",
   "execution_count": 48,
   "metadata": {},
   "outputs": [
    {
     "name": "stdout",
     "output_type": "stream",
     "text": [
      "No Kwargs\n"
     ]
    }
   ],
   "source": [
    "def validate_input(**kwargs):\n",
    "    # print(f\"kwargs is {kwargs}\")\n",
    "    # print(kwargs.values())\n",
    "    if kwargs.__len__() != 0:\n",
    "        for i in kwargs.values():\n",
    "            for x in i:\n",
    "                print(f\"key is {x}, value is {i[x]}\")\n",
    "                if i[x] is None:\n",
    "                    print(f'Input Failed at key {x}')\n",
    "    else:\n",
    "        print('No Kwargs')\n",
    "\n",
    "validate_input()\n",
    "# validate_input(kwargs = {'hello1': 'value1', 'hello2': None})"
   ]
  }
 ],
 "metadata": {
  "interpreter": {
   "hash": "51acfa6005ffec5e74e71d844e0daa05d24ac78244a0bb1b7874b497027552e7"
  },
  "kernelspec": {
   "display_name": "Python 3.8.8 ('base')",
   "language": "python",
   "name": "python3"
  },
  "language_info": {
   "codemirror_mode": {
    "name": "ipython",
    "version": 3
   },
   "file_extension": ".py",
   "mimetype": "text/x-python",
   "name": "python",
   "nbconvert_exporter": "python",
   "pygments_lexer": "ipython3",
   "version": "3.8.10"
  },
  "orig_nbformat": 4
 },
 "nbformat": 4,
 "nbformat_minor": 2
}

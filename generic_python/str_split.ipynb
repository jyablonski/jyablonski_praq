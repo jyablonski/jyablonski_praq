{
 "cells": [
  {
   "cell_type": "code",
   "execution_count": 16,
   "metadata": {},
   "outputs": [],
   "source": [
    "import pandas as pd"
   ]
  },
  {
   "cell_type": "code",
   "execution_count": 17,
   "metadata": {},
   "outputs": [
    {
     "name": "stdout",
     "output_type": "stream",
     "text": [
      "['123 Address Way', ' London', ' 92342']\n"
     ]
    }
   ],
   "source": [
    "string = \"123 Address Way, London, 92342\"\n",
    "\n",
    "str_split = string.split(',')\n",
    "print(str_split)"
   ]
  },
  {
   "cell_type": "code",
   "execution_count": 22,
   "metadata": {},
   "outputs": [
    {
     "name": "stdout",
     "output_type": "stream",
     "text": [
      "[['123 Address Way', ' London', ' 92342'], ['456 Drive Way', ' Chicago', ' 12354'], ['789 Test Address', ' New York', ' 23414']]\n"
     ]
    }
   ],
   "source": [
    "addresses = []\n",
    "cities = []\n",
    "zip_codes = []\n",
    "\n",
    "string = [\"123 Address Way, London, 92342\",\n",
    "          \"456 Drive Way, Chicago, 12354\",\n",
    "          \"789 Test Address, New York, 23414\"]\n",
    "\n",
    "# option 1\n",
    "my_list = list(map(lambda x: x.split(','), string))\n",
    "print(my_list)\n",
    "\n",
    "# string_df = pd.DataFrame(string, columns = [\"address\", \"city\", \"zip_code\"]) # this doesnt work yet\n",
    "string_df = pd.DataFrame(my_list, columns = [\"address\", \"city\", \"zip_code\"])"
   ]
  }
 ],
 "metadata": {
  "interpreter": {
   "hash": "51acfa6005ffec5e74e71d844e0daa05d24ac78244a0bb1b7874b497027552e7"
  },
  "kernelspec": {
   "display_name": "Python 3.8.8 ('base')",
   "language": "python",
   "name": "python3"
  },
  "language_info": {
   "codemirror_mode": {
    "name": "ipython",
    "version": 3
   },
   "file_extension": ".py",
   "mimetype": "text/x-python",
   "name": "python",
   "nbconvert_exporter": "python",
   "pygments_lexer": "ipython3",
   "version": "3.8.8"
  },
  "orig_nbformat": 4
 },
 "nbformat": 4,
 "nbformat_minor": 2
}

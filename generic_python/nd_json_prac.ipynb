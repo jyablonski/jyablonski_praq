{
 "cells": [
  {
   "cell_type": "code",
   "execution_count": 38,
   "metadata": {},
   "outputs": [],
   "source": [
    "from datetime import datetime, date\n",
    "import json\n",
    "import os\n",
    "\n",
    "import pandas as pd\n",
    "\n",
    "os.chdir('..')"
   ]
  },
  {
   "cell_type": "code",
   "execution_count": 9,
   "metadata": {},
   "outputs": [
    {
     "data": {
      "text/plain": [
       "'/home/jacob/Documents/python_aws'"
      ]
     },
     "execution_count": 9,
     "metadata": {},
     "output_type": "execute_result"
    }
   ],
   "source": [
    "os.getcwd()"
   ]
  },
  {
   "cell_type": "code",
   "execution_count": 2,
   "metadata": {},
   "outputs": [],
   "source": [
    "df = pd.read_json('data/users.ndjson', lines = True) # can read ndjson but using the lines = true command"
   ]
  },
  {
   "cell_type": "code",
   "execution_count": 26,
   "metadata": {},
   "outputs": [
    {
     "name": "stdout",
     "output_type": "stream",
     "text": [
      "it's present\n",
      "{'name': 'jacob', 'id': 24, 'type': 'oof', 'new_val': 'hi'}\n"
     ]
    }
   ],
   "source": [
    "df = {'name': 'jacob', 'id': 24, 'type': 'oof'}\n",
    "\n",
    "df['new_val'] = 'hi'\n",
    "\n",
    "if 'new_val' not in df:\n",
    "    print(f\"it's missing\")\n",
    "else:\n",
    "    print(\"it's present\")\n",
    "\n",
    "print(df)"
   ]
  },
  {
   "cell_type": "code",
   "execution_count": 22,
   "metadata": {},
   "outputs": [],
   "source": [
    "my_json_list = []\n",
    "json1 = {\"name\": \"jacob1\", \"test_data\": True}\n",
    "json2 = {\"name\": \"jacob2\", \"test_data\": True}\n",
    "json3 = {\"name\": \"jacob3\", \"test_data\": True}\n",
    "\n",
    "my_json_list.append(json1)\n",
    "my_json_list.append(json2)\n",
    "my_json_list.append(json3)\n",
    "\n",
    "# you wrap json dicts up into a list and then store it as 1 massive list.\n",
    "# final = json.dumps(my_json_list, indent=1)\n",
    "\n",
    "with open('data/mytestjson.json', 'w') as fout:\n",
    "    json.dump(my_json_list, fout)\n",
    "# json.dump(my_json_list, 'mytestfile.json')\n",
    "\n",
    "df = pd.read_json('data/mytestjson.json')"
   ]
  },
  {
   "cell_type": "code",
   "execution_count": 41,
   "metadata": {},
   "outputs": [],
   "source": [
    "# SENDING JSON MESSAGES\n",
    "\n",
    "def json_serializer(obj):\n",
    "    if isinstance(obj, (datetime, date)):\n",
    "        return obj.isoformat()\n",
    "    raise \"Type %s not serializable\" % type(obj)"
   ]
  },
  {
   "cell_type": "code",
   "execution_count": 61,
   "metadata": {},
   "outputs": [
    {
     "name": "stdout",
     "output_type": "stream",
     "text": [
      "{'message': 'hello world', 'timestamp': datetime.datetime(2022, 7, 3, 11, 41, 40, 68619), 'owner': 'jacob', 'value_int': 4, 'value_float': 2.2}\n",
      "{\"message\": \"hello world\", \"timestamp\": \"2022-07-03T11:41:40.068619\", \"owner\": \"jacob\", \"value_int\": 4, \"value_float\": 2.2}\n",
      "{\"message\": \"hello world\", \"timestamp\": \"2022-07-03 11:41:40.068619\", \"owner\": \"jacob\", \"value_int\": 4, \"value_float\": 2.2}\n",
      "2022-07-03 11:41:40.068970\n",
      "2022-07-03T11:41:40.069015\n"
     ]
    }
   ],
   "source": [
    "my_json = {\n",
    "    \"message\": \"hello world\",\n",
    "    \"timestamp\": datetime.now(),\n",
    "    \"owner\": \"jacob\",\n",
    "    \"value_int\": 4,\n",
    "    \"value_float\": 4.4 / 2,\n",
    "}\n",
    "\n",
    "# cant just send a datetime.now() obj with datetime.datetime(2022, 7, 3, 11, 35, 35, 321700) which is only python readable\n",
    "# have to turn it into a string.\n",
    "print(my_json)\n",
    "\n",
    "# both of these work, json serializer uses a T in the middle of the date and timestamp to act as a delimiter.\n",
    "payload1 = json.dumps(my_json, default = json_serializer)\n",
    "payload2 = json.dumps(my_json, default = str)\n",
    "\n",
    "print(payload1)\n",
    "print(payload2)\n",
    "\n",
    "print(datetime.now())\n",
    "print(datetime.now().isoformat())"
   ]
  },
  {
   "cell_type": "code",
   "execution_count": 50,
   "metadata": {},
   "outputs": [
    {
     "name": "stdout",
     "output_type": "stream",
     "text": [
      "b'{\"message\": \"hello world\", \"timestamp\": \"2022-07-03T11:35:35.321700\", \"owner\": \"jacob\"}'\n"
     ]
    }
   ],
   "source": [
    "# encode utf-8 turns it into a bytes object that looks like b'{message: value etc}'\n",
    "payload1 = json.dumps(my_json, default = json_serializer, ensure_ascii=False).encode('utf-8') \n",
    "print(payload1)"
   ]
  },
  {
   "cell_type": "code",
   "execution_count": 56,
   "metadata": {},
   "outputs": [],
   "source": [
    "types1 = [type(k) for k in my_json.keys()]"
   ]
  }
 ],
 "metadata": {
  "kernelspec": {
   "display_name": "Python 3.8.8 ('base')",
   "language": "python",
   "name": "python3"
  },
  "language_info": {
   "codemirror_mode": {
    "name": "ipython",
    "version": 3
   },
   "file_extension": ".py",
   "mimetype": "text/x-python",
   "name": "python",
   "nbconvert_exporter": "python",
   "pygments_lexer": "ipython3",
   "version": "3.8.8"
  },
  "orig_nbformat": 4,
  "vscode": {
   "interpreter": {
    "hash": "51acfa6005ffec5e74e71d844e0daa05d24ac78244a0bb1b7874b497027552e7"
   }
  }
 },
 "nbformat": 4,
 "nbformat_minor": 2
}

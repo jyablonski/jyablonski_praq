{
 "cells": [
  {
   "cell_type": "code",
   "execution_count": 1,
   "metadata": {},
   "outputs": [],
   "source": [
    "class Circle:\n",
    "    def __init__(self, radius):\n",
    "        self._radius = radius\n",
    "\n",
    "    def _get_radius(self):\n",
    "        print(\"Get radius\")\n",
    "        return self._radius\n",
    "\n",
    "    def _set_radius(self, value):\n",
    "        print(\"Set radius\")\n",
    "        self._radius = value\n",
    "\n",
    "    def _del_radius(self):\n",
    "        print(\"Delete radius\")\n",
    "        del self._radius\n",
    "\n",
    "    radius = property(\n",
    "        fget=_get_radius,\n",
    "        fset=_set_radius,\n",
    "        fdel=_del_radius,\n",
    "        doc=\"The radius property.\"\n",
    "    )\n",
    "    \n",
    "c1 = Circle(5)\n",
    "c1.radius = 100"
   ]
  },
  {
   "cell_type": "code",
   "execution_count": 12,
   "metadata": {},
   "outputs": [
    {
     "name": "stdout",
     "output_type": "stream",
     "text": [
      "Get radius\n",
      "5\n",
      "Set radius\n",
      "Get radius\n",
      "100\n"
     ]
    }
   ],
   "source": [
    "class Circle:\n",
    "    def __init__(self, radius):\n",
    "        self._radius = radius\n",
    "\n",
    "    @property\n",
    "    def radius(self):\n",
    "        \"\"\"The radius property.\"\"\"\n",
    "        print(\"Get radius\")\n",
    "        return self._radius\n",
    "\n",
    "    @radius.setter\n",
    "    def radius(self, value):\n",
    "        print(\"Set radius\")\n",
    "        self._radius = value\n",
    "\n",
    "    @radius.deleter\n",
    "    def radius(self):\n",
    "        print(\"Delete radius\")\n",
    "        del self._radius\n",
    "\n",
    "c1 = Circle(5)\n",
    "print(c1.radius)\n",
    "c1.radius = 100\n",
    "print(c1.radius)"
   ]
  },
  {
   "cell_type": "code",
   "execution_count": 14,
   "metadata": {},
   "outputs": [
    {
     "data": {
      "text/plain": [
       "5"
      ]
     },
     "execution_count": 14,
     "metadata": {},
     "output_type": "execute_result"
    }
   ],
   "source": [
    "# Read only attributes - you can't change them\n",
    "class Point:\n",
    "    def __init__(self, x, y):\n",
    "        self._x = x\n",
    "        self._y = y\n",
    "\n",
    "    @property\n",
    "    def x(self):\n",
    "        return self._x\n",
    "\n",
    "    @property\n",
    "    def y(self):\n",
    "        return self._y\n",
    "\n",
    "point = Point(12, 5)\n",
    "\n",
    "# Read coordinates\n",
    "point.x\n",
    "\n",
    "point.y\n",
    "\n",
    "\n",
    "# Write coordinates\n",
    "# point.x = 42 - this cant run\n",
    "# you can have read only and write only attributes"
   ]
  },
  {
   "cell_type": "code",
   "execution_count": 32,
   "metadata": {},
   "outputs": [
    {
     "name": "stdout",
     "output_type": "stream",
     "text": [
      "Setting value... to 37\n",
      "Getting value... of 37\n",
      "human temperature is 37\n",
      "Getting value... of 37\n",
      "fahrenheit is 98.60000000000001\n",
      "Setting value... to -250\n",
      "Getting value... of -250\n",
      "-250\n",
      "Setting value... to 25\n",
      "Getting value... of 25\n",
      "25\n"
     ]
    }
   ],
   "source": [
    "# Using @property decorator\n",
    "class Celsius:\n",
    "    def __init__(self, temperature=0):\n",
    "        self.temperature = temperature\n",
    "\n",
    "    def to_fahrenheit(self):\n",
    "        return (self.temperature * 1.8) + 32\n",
    "\n",
    "    # this is the getter - hence the return statement.\n",
    "    # and i guess these have to begin with underscores\n",
    "    @property\n",
    "    def temperature(self):\n",
    "        print(f\"Getting value... of {self._temperature}\")\n",
    "        return self._temperature\n",
    "\n",
    "    # this is the setter - hence the _temperature = x and the if statement logic\n",
    "    @temperature.setter\n",
    "    def temperature(self, value):\n",
    "        print(f\"Setting value... to {value}\")\n",
    "        if value < -273.15:\n",
    "            raise ValueError(\"Temperature below -273 is not possible\")\n",
    "        self._temperature = value\n",
    "\n",
    "\n",
    "# create an object\n",
    "human = Celsius(37)\n",
    "\n",
    "print(f\"human temperature is {human.temperature}\")\n",
    "\n",
    "print(f\"fahrenheit is {human.to_fahrenheit()}\")\n",
    "\n",
    "coldest_thing = Celsius(-250)\n",
    "print(coldest_thing.temperature)\n",
    "human.temperature = 25\n",
    "print(human.temperature)"
   ]
  }
 ],
 "metadata": {
  "interpreter": {
   "hash": "51acfa6005ffec5e74e71d844e0daa05d24ac78244a0bb1b7874b497027552e7"
  },
  "kernelspec": {
   "display_name": "Python 3.8.8 ('base')",
   "language": "python",
   "name": "python3"
  },
  "language_info": {
   "codemirror_mode": {
    "name": "ipython",
    "version": 3
   },
   "file_extension": ".py",
   "mimetype": "text/x-python",
   "name": "python",
   "nbconvert_exporter": "python",
   "pygments_lexer": "ipython3",
   "version": "3.8.8"
  },
  "orig_nbformat": 4
 },
 "nbformat": 4,
 "nbformat_minor": 2
}

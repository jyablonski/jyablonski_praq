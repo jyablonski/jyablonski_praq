{
 "cells": [
  {
   "cell_type": "code",
   "execution_count": 1,
   "metadata": {},
   "outputs": [
    {
     "name": "stdout",
     "output_type": "stream",
     "text": [
      "[1, 4]\n",
      "[1, 4, 7]\n",
      "[4, 7, 8, 10]\n",
      "[7, 8, 10]\n",
      "[1, 4, 7, 8, 10]\n",
      "4\n"
     ]
    }
   ],
   "source": [
    "my_list = [1, 10, 4, 7, 8]\n",
    "# my_list2 = my_list.sort() # this doesn't work; sort() happens in place on the list.append\n",
    "\n",
    "my_list.sort()\n",
    "\n",
    "cars = ['Ford', 'BMW', 'Volvo']\n",
    "\n",
    "cars.sort()\n",
    "# works for both lists of int and strs\n",
    "\n",
    "print(my_list[0:2]) # return 1st and 2nd element - not the third\n",
    "\n",
    "print(my_list[:3]) # return first 3 elements\n",
    "\n",
    "print(my_list[1:]) # return everything BUT the first element, sorted\n",
    "\n",
    "print(my_list[2:]) # return everything BUT the first 2 elements, sorted\n",
    "\n",
    "print(my_list)     # return whole list\n",
    "\n",
    "print(my_list[1])   # return the value of the 2nd element)"
   ]
  },
  {
   "cell_type": "code",
   "execution_count": 13,
   "metadata": {},
   "outputs": [
    {
     "data": {
      "text/plain": [
       "1"
      ]
     },
     "execution_count": 13,
     "metadata": {},
     "output_type": "execute_result"
    }
   ],
   "source": [
    "iter_list = iter(my_list)\n",
    "\n",
    "next(iter_list)"
   ]
  },
  {
   "cell_type": "code",
   "execution_count": 1,
   "metadata": {},
   "outputs": [
    {
     "name": "stdout",
     "output_type": "stream",
     "text": [
      "['apple', 'banana', 'mango']\n"
     ]
    }
   ],
   "source": [
    "fruits = [\"apple\", \"banana\", \"cherry\", \"kiwi\", \"mango\"]\n",
    "newlist = []\n",
    "\n",
    "for x in fruits:\n",
    "  if \"a\" in x:\n",
    "    newlist.append(x)\n",
    "\n",
    "print(newlist)"
   ]
  },
  {
   "cell_type": "code",
   "execution_count": 3,
   "metadata": {},
   "outputs": [
    {
     "name": "stdout",
     "output_type": "stream",
     "text": [
      "['APPLE', 'BANANA', 'MANGO']\n"
     ]
    }
   ],
   "source": [
    "fruits = [\"apple\", \"banana\", \"cherry\", \"kiwi\", \"mango\"]\n",
    "\n",
    "# expression for item in iterable list if condition == true\n",
    "newlist = [x for x in fruits if \"a\" in x]\n",
    "newlist = [x.upper() for x in fruits if \"a\" in x]\n",
    "\n",
    "print(newlist)"
   ]
  },
  {
   "cell_type": "code",
   "execution_count": 1,
   "metadata": {},
   "outputs": [
    {
     "name": "stdout",
     "output_type": "stream",
     "text": [
      "[1, 2, 2, 3, 4, 5]\n",
      "[1, 2, 3, 4, 5]\n"
     ]
    }
   ],
   "source": [
    "# Removing a duplicate in a list\n",
    "my_list = [1, 2, 2, 3, 4, 5]\n",
    "print(my_list)\n",
    "\n",
    "my_list = list(set(my_list)) # set removes duplicates but it would be in a set, so wrap it in list again afterwards\n",
    "print(my_list)"
   ]
  },
  {
   "cell_type": "code",
   "execution_count": 16,
   "metadata": {},
   "outputs": [
    {
     "name": "stdout",
     "output_type": "stream",
     "text": [
      "0\n",
      "1\n",
      "2\n",
      "3\n",
      "4\n",
      "2\n",
      "4\n",
      "6\n",
      "8\n",
      "10\n"
     ]
    }
   ],
   "source": [
    "my_list = [2, 4, 6, 8, 10]\n",
    "\n",
    "# prints values\n",
    "# for i in my_list:\n",
    "#     print(i)\n",
    "\n",
    "# prints indexes\n",
    "for i in range(0, len(my_list)):\n",
    "    print(i)\n",
    "\n",
    "for i in range(0, len(my_list)):\n",
    "    print(my_list[i])\n",
    "\n",
    "# print(my_list[4])"
   ]
  }
 ],
 "metadata": {
  "interpreter": {
   "hash": "51acfa6005ffec5e74e71d844e0daa05d24ac78244a0bb1b7874b497027552e7"
  },
  "kernelspec": {
   "display_name": "Python 3.8.8 ('base')",
   "language": "python",
   "name": "python3"
  },
  "language_info": {
   "codemirror_mode": {
    "name": "ipython",
    "version": 3
   },
   "file_extension": ".py",
   "mimetype": "text/x-python",
   "name": "python",
   "nbconvert_exporter": "python",
   "pygments_lexer": "ipython3",
   "version": "3.8.8"
  },
  "orig_nbformat": 4
 },
 "nbformat": 4,
 "nbformat_minor": 2
}

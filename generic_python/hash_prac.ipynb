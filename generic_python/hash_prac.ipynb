{
 "cells": [
  {
   "cell_type": "code",
   "execution_count": 1,
   "metadata": {},
   "outputs": [],
   "source": [
    "import pandas as pd\n",
    "import hashlib"
   ]
  },
  {
   "cell_type": "code",
   "execution_count": 2,
   "metadata": {},
   "outputs": [
    {
     "name": "stdout",
     "output_type": "stream",
     "text": [
      "c0970ea1df4d1a25fc9f348f6d363f295152373adb42d2b27e9200cf87eeaf12\n",
      "eb208b23f0346076caf34cabd5e1022291e9753e81f7b06c8d4e6cb5f141465ac976fedaf1ba39e8c1c9df25e951a8c6786d1031da1cb66be269df7744df113e\n",
      "bdaedee1ebed8d9cc6670892fa01b415\n"
     ]
    }
   ],
   "source": [
    "# encode turns text into bytes (string into binary)\n",
    "# decode turns bytes into text (binary into string)\n",
    "\n",
    "df = 'teststring123'\n",
    "df = df.encode('utf-8') # have to encode before hashing\n",
    "df_md5_hash = hashlib.md5(df).hexdigest()       # 32 chars\n",
    "df_sha256_hash = hashlib.sha256(df).hexdigest() # 64 chars\n",
    "df_sha512_hash = hashlib.sha512(df).hexdigest() # 128 chars\n",
    "print(df_sha256_hash)\n",
    "print(df_sha512_hash)\n",
    "print(df_md5_hash)"
   ]
  },
  {
   "cell_type": "code",
   "execution_count": 2,
   "metadata": {},
   "outputs": [
    {
     "name": "stdout",
     "output_type": "stream",
     "text": [
      "  first_name last_name  salary                   hash_md5_onecol  \\\n",
      "0      jacob      yabo  100000  736b19f69aaca691fecd8400294cc383   \n",
      "1       otis     smith  250000  aeaea0ec16e3ee7c6df2d4eb88941aa3   \n",
      "2      otisb     smith  250000  32f79060679c68216c8d9da1963fdff1   \n",
      "3      jacob      yabo  275000  736b19f69aaca691fecd8400294cc383   \n",
      "\n",
      "                           hash_md5  \\\n",
      "0  2e6595e61893f047d1a840a33423aaa0   \n",
      "1  75a96075aca68d3f8f396e262bf90d0a   \n",
      "2  cd7c606e269b3eaabfc03a354b0c9587   \n",
      "3  2e6595e61893f047d1a840a33423aaa0   \n",
      "\n",
      "                                         hash_sha256  \\\n",
      "0  5d402f6119a1472cbecd125989a297dff5ae9d8c6e2d55...   \n",
      "1  c4054437b7e680a3b3e5ea21e53ce535702043559caa06...   \n",
      "2  b33c66ae3defe8782995384ac438b28ebb9c3d29143032...   \n",
      "3  5d402f6119a1472cbecd125989a297dff5ae9d8c6e2d55...   \n",
      "\n",
      "                                         hash_sha512  \n",
      "0  e3db34f5e3b8f1abcc37e71b5f3c7feb94fe1f0000100e...  \n",
      "1  0e3d4a018a5e19fe81d0a389c1ea4434d54f36488d8860...  \n",
      "2  5f26eb0e0f123d95bda35761fca742503c388fbc3cd5ba...  \n",
      "3  e3db34f5e3b8f1abcc37e71b5f3c7feb94fe1f0000100e...  \n"
     ]
    }
   ],
   "source": [
    "# sha256 is 32 characters\n",
    "# jacob yabo concatanetes together into the same hash every time.\n",
    "# otis and otisb properly comes out to different hashes.\n",
    "# axis = 1 needed bc we didn't specify any columns with df.\n",
    "df = pd.DataFrame(data = {\n",
    "    'first_name': ['jacob', 'otis', 'otisb', 'jacob'],\n",
    "    'last_name': ['yabo', 'smith', 'smith', 'yabo'],\n",
    "    'salary': [100000, 250000, 250000, 275000]\n",
    "    }\n",
    ")\n",
    "\n",
    "df['hash_md5_onecol'] = df.apply(lambda x: hashlib.md5((str(x['first_name'])).encode('utf8')).hexdigest(), axis=1)\n",
    "df['hash_md5'] = df.apply(lambda x: hashlib.md5((str(x['first_name']) + str(x['last_name'])).encode('utf8')).hexdigest(), axis=1)\n",
    "df['hash_sha256'] = df.apply(lambda x: hashlib.sha256((str(x['first_name']) + str(x['last_name'])).encode('utf8')).hexdigest(), axis=1)\n",
    "df['hash_sha512'] = df.apply(lambda x: hashlib.sha512((str(x['first_name']) + str(x['last_name'])).encode('utf8')).hexdigest(), axis=1)\n",
    "print(df)\n",
    "\n",
    "# df['hash'] = hashlib.sha256(str(df['first_name'] + df['last_name']).encode('utf-8')).hexdigest()\n",
    "# df['md5'] = [hashlib.md5(val.encode('utf-8')).hexdigest() for val in df[['first_name', 'last_name']]]\n",
    "# df['hash'] = (df['first_name'] + df['last_name']).apply(lambda x: x.encode('utf-8').hexdigest())\n"
   ]
  }
 ],
 "metadata": {
  "interpreter": {
   "hash": "51acfa6005ffec5e74e71d844e0daa05d24ac78244a0bb1b7874b497027552e7"
  },
  "kernelspec": {
   "display_name": "Python 3.8.8 ('base')",
   "language": "python",
   "name": "python3"
  },
  "language_info": {
   "codemirror_mode": {
    "name": "ipython",
    "version": 3
   },
   "file_extension": ".py",
   "mimetype": "text/x-python",
   "name": "python",
   "nbconvert_exporter": "python",
   "pygments_lexer": "ipython3",
   "version": "3.8.8"
  },
  "orig_nbformat": 4
 },
 "nbformat": 4,
 "nbformat_minor": 2
}

{
 "cells": [
  {
   "cell_type": "code",
   "execution_count": 3,
   "metadata": {},
   "outputs": [],
   "source": [
    "from dataclasses import dataclass\n",
    "from datetime import datetime\n",
    "from typing import Optional, List, Dict, Union\n",
    "\n",
    "@dataclass\n",
    "class Example_API():\n",
    "    api_key: str\n",
    "    secret_key: Optional[str] = None\n",
    "    iters = 0\n",
    "    last_conn = None\n",
    "\n",
    "    def __repr__(self):\n",
    "        return f\"Example_API connection obj for {self.api_key} for returns\"\n",
    "\n",
    "    def __str__(self):\n",
    "        return f\"Example_API connection obj for {self.api_key} for prints\"\n",
    "\n",
    "    def connect_to_api(self) -> int:\n",
    "        if self.secret_key is not None:\n",
    "            print('Connecting to API w/ secret credentials')\n",
    "            conn = 1\n",
    "            self.iters += 1\n",
    "            self.last_conn = datetime.now()\n",
    "            \n",
    "            return conn\n",
    "        else:\n",
    "            print('Connecting to API w/o secret credentials')\n",
    "            conn = 2\n",
    "            self.iters += 1\n",
    "            self.last_conn = datetime.now()\n",
    "\n",
    "            return conn\n",
    "\n",
    "    # leading underscore means this should only be used internally in this class\n",
    "    def _get_api_keys(self) -> Dict[str, str]:\n",
    "        dict_obj = {\"api_key\": self.api_key,\n",
    "                    \"secret_key\": self.secret_key,\n",
    "                    \"date_ts\": datetime.now()}\n",
    "        self.iters += 1\n",
    "        return dict_obj\n",
    "\n",
    "    def scrape_website1(self) -> str:\n",
    "        print('Scraping Website 1 ...')\n",
    "        return 'Website1_data'"
   ]
  },
  {
   "cell_type": "code",
   "execution_count": 4,
   "metadata": {},
   "outputs": [
    {
     "name": "stdout",
     "output_type": "stream",
     "text": [
      "secretkey123\n",
      "exkey123\n",
      "last conn was None\n",
      "Connecting to API w/ secret credentials\n",
      "1\n",
      "last conn was 2022-06-27 08:17:22.995321\n",
      "2\n",
      "Scraping Website 1 ...\n"
     ]
    }
   ],
   "source": [
    "conn = Example_API(api_key = 'exkey123', secret_key = 'secretkey123')\n",
    "# conn = Example_API(api_key = 'exkey123')\n",
    "\n",
    "print(conn.secret_key)\n",
    "print(conn.api_key)\n",
    "print(f\"last conn was {conn.last_conn}\")\n",
    "\n",
    "bb1 = conn.connect_to_api()\n",
    "print(conn.iters)\n",
    "print(f\"last conn was {conn.last_conn}\")\n",
    "\n",
    "keys = conn._get_api_keys()\n",
    "print(conn.iters)\n",
    "date1 = keys['date_ts']\n",
    "\n",
    "df = conn.scrape_website1()"
   ]
  },
  {
   "cell_type": "code",
   "execution_count": 54,
   "metadata": {},
   "outputs": [
    {
     "data": {
      "text/plain": [
       "Example_API connection obj for exkey123"
      ]
     },
     "execution_count": 54,
     "metadata": {},
     "output_type": "execute_result"
    }
   ],
   "source": [
    "conn"
   ]
  }
 ],
 "metadata": {
  "interpreter": {
   "hash": "51acfa6005ffec5e74e71d844e0daa05d24ac78244a0bb1b7874b497027552e7"
  },
  "kernelspec": {
   "display_name": "Python 3.8.8 ('base')",
   "language": "python",
   "name": "python3"
  },
  "language_info": {
   "codemirror_mode": {
    "name": "ipython",
    "version": 3
   },
   "file_extension": ".py",
   "mimetype": "text/x-python",
   "name": "python",
   "nbconvert_exporter": "python",
   "pygments_lexer": "ipython3",
   "version": "3.8.8"
  },
  "orig_nbformat": 4
 },
 "nbformat": 4,
 "nbformat_minor": 2
}

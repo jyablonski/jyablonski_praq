{
 "cells": [
  {
   "cell_type": "code",
   "execution_count": 40,
   "metadata": {},
   "outputs": [],
   "source": [
    "import re\n",
    "from datetime import datetime, timedelta\n",
    "from functools import reduce\n",
    "from typing import List\n",
    "\n",
    "class RegexFail(Exception):\n",
    "    pass\n",
    "\n",
    "class InvalidFileType(Exception):\n",
    "    pass"
   ]
  },
  {
   "cell_type": "code",
   "execution_count": 7,
   "metadata": {},
   "outputs": [],
   "source": [
    "def get_leading_zeroes(month: int) -> str:\n",
    "    if len(str(month)) > 1:\n",
    "        return(month)\n",
    "    else:  \n",
    "        return(f\"0{month}\")"
   ]
  },
  {
   "cell_type": "code",
   "execution_count": 9,
   "metadata": {},
   "outputs": [
    {
     "name": "stdout",
     "output_type": "stream",
     "text": [
      "2022-02\n"
     ]
    }
   ],
   "source": [
    "month = get_leading_zeroes(datetime.now().month)\n",
    "yyyy = datetime.now().year\n",
    "print(f\"{yyyy}-{month}\")"
   ]
  },
  {
   "cell_type": "code",
   "execution_count": 17,
   "metadata": {},
   "outputs": [
    {
     "name": "stdout",
     "output_type": "stream",
     "text": [
      "jacobsbucket97/sample_files/raw/2022-01/sample_files_2022-02-01.json passed regex test\n",
      "jacobsbucket97/sample_files/raw/2022-01/sample_files_2022-02-01.csv passed regex test\n",
      "jacobsbucket97/sample_files/raw/2022-01/sample_files_2022-02-01.parquet passed regex test\n",
      "jacobsbucket97/sample_files/raw/2022-01/sample_files_2022-02-01.gz failed regex test\n",
      "jacobsbucket97/sample_files/raw/2022-01/sample_files_2022-02-01.zip passed regex test\n"
     ]
    }
   ],
   "source": [
    "#                     text / text / text / 4digits-2digits / text_4digits-2digits-2digits.(csv|parquet|zip)$ END WORD\n",
    "#        bucket / table type / file type / year month      / table type _ year _ month _ day / file suffix END \n",
    "# https://regexr.com/\n",
    "pattern = re.compile(r\"\\w+\\/\\w+\\/\\w+\\/\\d{4}-\\d{2}\\/(\\w+)_\\d{4}-\\d{2}-\\d{2}.(csv|parquet|json|zip)$\")\n",
    "string1 = \"jacobsbucket97/sample_files/raw/2022-01/sample_files_2022-02-01.json\"\n",
    "string2 = \"jacobsbucket97/sample_files/raw/2022-01/sample_files_2022-02-01.csv\"\n",
    "string3 = \"jacobsbucket97/sample_files/raw/2022-01/sample_files_2022-02-01.parquet\"\n",
    "string4 = \"jacobsbucket97/sample_files/raw/2022-01/sample_files_2022-02-01.gz\"\n",
    "string5 = \"jacobsbucket97/sample_files/raw/2022-01/sample_files_2022-02-01.zip\"\n",
    "string6 = \"jacobsbucket97/sample_files/raw/2022-01/sample_files_2022-02.parquet\"\n",
    "\n",
    "string_list = [string1, string2, string3, string4, string5]\n",
    "\n",
    "for i in string_list:\n",
    "    if re.match(pattern, i):\n",
    "        print(f\"{i} passed regex test\")\n",
    "    else:\n",
    "        print(f\"{i} failed regex test\")"
   ]
  },
  {
   "cell_type": "code",
   "execution_count": null,
   "metadata": {},
   "outputs": [],
   "source": []
  },
  {
   "cell_type": "code",
   "execution_count": 11,
   "metadata": {},
   "outputs": [],
   "source": [
    "def check_filename(pattern: re.Pattern, filename: str):\n",
    "    if not filename.endswith((\"json\", \"csv\", \"parquet\")):\n",
    "        raise InvalidFileType(f\"{filename} has an invalid file type: Please write as json, csv, or parquet\")\n",
    "\n",
    "    if re.search(pattern, filename):\n",
    "        print(f\"{filename} passed regex check\")\n",
    "        pass\n",
    "    else:\n",
    "        print(f\"{filename} failed regex test\")\n",
    "        raise RegexFail(f\"{filename} failed regex test\")"
   ]
  },
  {
   "cell_type": "code",
   "execution_count": 26,
   "metadata": {},
   "outputs": [
    {
     "name": "stdout",
     "output_type": "stream",
     "text": [
      "jacobsbucket97/sample_files/raw/2022-01/sample_files_2022-02.parquet failed regex test\n"
     ]
    },
    {
     "ename": "RegexFail",
     "evalue": "jacobsbucket97/sample_files/raw/2022-01/sample_files_2022-02.parquet failed regex test",
     "output_type": "error",
     "traceback": [
      "\u001b[0;31m---------------------------------------------------------------------------\u001b[0m",
      "\u001b[0;31mRegexFail\u001b[0m                                 Traceback (most recent call last)",
      "Cell \u001b[0;32mIn [26], line 1\u001b[0m\n\u001b[0;32m----> 1\u001b[0m check_filename(pattern, string6)\n",
      "Cell \u001b[0;32mIn [11], line 10\u001b[0m, in \u001b[0;36mcheck_filename\u001b[0;34m(pattern, filename)\u001b[0m\n\u001b[1;32m      8\u001b[0m \u001b[39melse\u001b[39;00m:\n\u001b[1;32m      9\u001b[0m     \u001b[39mprint\u001b[39m(\u001b[39mf\u001b[39m\u001b[39m\"\u001b[39m\u001b[39m{\u001b[39;00mfilename\u001b[39m}\u001b[39;00m\u001b[39m failed regex test\u001b[39m\u001b[39m\"\u001b[39m)\n\u001b[0;32m---> 10\u001b[0m     \u001b[39mraise\u001b[39;00m RegexFail(\u001b[39mf\u001b[39m\u001b[39m\"\u001b[39m\u001b[39m{\u001b[39;00mfilename\u001b[39m}\u001b[39;00m\u001b[39m failed regex test\u001b[39m\u001b[39m\"\u001b[39m)\n",
      "\u001b[0;31mRegexFail\u001b[0m: jacobsbucket97/sample_files/raw/2022-01/sample_files_2022-02.parquet failed regex test"
     ]
    }
   ],
   "source": [
    "check_filename(pattern, string6)"
   ]
  },
  {
   "cell_type": "code",
   "execution_count": 43,
   "metadata": {},
   "outputs": [
    {
     "name": "stdout",
     "output_type": "stream",
     "text": [
      "sample_files_2022\n"
     ]
    },
    {
     "ename": "TypeError",
     "evalue": "object of type 'NoneType' has no len()",
     "output_type": "error",
     "traceback": [
      "\u001b[0;31m---------------------------------------------------------------------------\u001b[0m",
      "\u001b[0;31mTypeError\u001b[0m                                 Traceback (most recent call last)",
      "Cell \u001b[0;32mIn [43], line 5\u001b[0m\n\u001b[1;32m      3\u001b[0m pattern2 \u001b[39m=\u001b[39m pattern2\u001b[39m.\u001b[39mreplace(\u001b[39m'\u001b[39m\u001b[39m\\\u001b[39m\u001b[39m.\u001b[39m\u001b[39m'\u001b[39m,\u001b[39m'\u001b[39m\u001b[39m|\u001b[39m\u001b[39m\\\u001b[39m\u001b[39m.|\u001b[39m\u001b[39m'\u001b[39m)\u001b[39m.\u001b[39mreplace(\u001b[39m'\u001b[39m\u001b[39m_\u001b[39m\u001b[39m'\u001b[39m,\u001b[39m'\u001b[39m\u001b[39m|_|\u001b[39m\u001b[39m'\u001b[39m)\n\u001b[1;32m      4\u001b[0m \u001b[39mfor\u001b[39;00m i \u001b[39min\u001b[39;00m re\u001b[39m.\u001b[39msplit(pattern2, string4):\n\u001b[0;32m----> 5\u001b[0m     \u001b[39mif\u001b[39;00m \u001b[39mlen\u001b[39;49m(i)\u001b[39m>\u001b[39m\u001b[39m1\u001b[39m:\n\u001b[1;32m      6\u001b[0m         incorrectPart \u001b[39m=\u001b[39m i\n\u001b[1;32m      7\u001b[0m         \u001b[39mprint\u001b[39m(incorrectPart)\n",
      "\u001b[0;31mTypeError\u001b[0m: object of type 'NoneType' has no len()"
     ]
    }
   ],
   "source": [
    "incorrectPart = None\n",
    "pattern2 = \"\\w+\\/\\w+\\/\\w+\\/\\d{4}-\\d{2}\\/(\\w+)_\\d{4}-\\d{2}-\\d{2}.(csv|parquet|json|zip)$\"\n",
    "pattern2 = pattern2.replace('\\.','|\\.|').replace('_','|_|')\n",
    "for i in re.split(pattern2, string4):\n",
    "    if len(i)>1:\n",
    "        incorrectPart = i\n",
    "        print(incorrectPart)"
   ]
  },
  {
   "cell_type": "code",
   "execution_count": 37,
   "metadata": {},
   "outputs": [],
   "source": [
    "pattern = re.compile(r\"\\w+\\/\\w+\\/\\w+\\/\\d{4}-\\d{2}\\/(\\w+)_\\d{4}-\\d{2}-\\d{2}.(csv|parquet|json|zip)$\")\n",
    "pattern = re.compile(r\"(\\w+)_\\d{4}-\\d{2}-\\d{2}.(csv|parquet|json|zip)$\")\n",
    "\n",
    "pattern = [\n",
    "        re.compile(r\"\\w+\\/\"),\n",
    "        re.compile(r\"\\w+\\/\"),\n",
    "        re.compile(r\"\\w+\\/\"),\n",
    "        re.compile(r\"\\d{4}-\\d{2}\\/\"),\n",
    "        re.compile(r\"(\\w+)_\\d{4}-\\d{2}-\\d{2}\"),\n",
    "        re.compile(r\".(csv|parquet|json|zip)$\")\n",
    "        ]\n",
    "\n",
    "# 'fn' is the file name matched so far\n",
    "def reductor(fn, rx):\n",
    "    if fn is None:\n",
    "        return None\n",
    "    mo = rx.match(fn)\n",
    "    if mo is None:\n",
    "        print(f\"File name mismatch: got {fn}, expected {rx.pattern}\")\n",
    "        return None\n",
    "    # proceed with the remainder of the string\n",
    "    return fn[mo.end():]"
   ]
  },
  {
   "cell_type": "code",
   "execution_count": 87,
   "metadata": {},
   "outputs": [],
   "source": [
    "def validate_file(filename: str, pattern: List[re.Pattern]) -> bool:\n",
    "    def reductor(fn, rx):\n",
    "        if fn is None:\n",
    "            return None\n",
    "        mo = rx.match(fn)\n",
    "        if mo is None:\n",
    "            print(f\"File name mismatch: got {fn}, expected {rx.pattern}\")\n",
    "            raise RegexFail(f\"File name mismatch: got {fn}, expected {rx.pattern}\")\n",
    "        # proceed with the remainder of the string\n",
    "        return fn[mo.end():]\n",
    "\n",
    "    if not filename.endswith((\"json\", \"csv\", \"parquet\")):\n",
    "        raise InvalidFileType(f\"{filename} has an invalid file type: expecting json, csv, or parquet\")\n",
    "    \n",
    "    \n",
    "    validate_obj = lambda fn: reduce(reductor, pattern, fn) is not None\n",
    "    is_filename_correct = validate_obj(filename)\n",
    "\n",
    "    return is_filename_correct"
   ]
  },
  {
   "cell_type": "code",
   "execution_count": 89,
   "metadata": {},
   "outputs": [
    {
     "ename": "InvalidFileType",
     "evalue": "jacobsbucket97/sample_files/raw/2022-01/sample_files_2022-02-01.gz has an invalid file type: expecting json, csv, or parquet",
     "output_type": "error",
     "traceback": [
      "\u001b[0;31m---------------------------------------------------------------------------\u001b[0m",
      "\u001b[0;31mInvalidFileType\u001b[0m                           Traceback (most recent call last)",
      "Cell \u001b[0;32mIn [89], line 1\u001b[0m\n\u001b[0;32m----> 1\u001b[0m bb2 \u001b[39m=\u001b[39m validate_file(string4, pattern)\n",
      "Cell \u001b[0;32mIn [87], line 13\u001b[0m, in \u001b[0;36mvalidate_file\u001b[0;34m(filename, pattern)\u001b[0m\n\u001b[1;32m     10\u001b[0m     \u001b[39mreturn\u001b[39;00m fn[mo\u001b[39m.\u001b[39mend():]\n\u001b[1;32m     12\u001b[0m \u001b[39mif\u001b[39;00m \u001b[39mnot\u001b[39;00m filename\u001b[39m.\u001b[39mendswith((\u001b[39m\"\u001b[39m\u001b[39mjson\u001b[39m\u001b[39m\"\u001b[39m, \u001b[39m\"\u001b[39m\u001b[39mcsv\u001b[39m\u001b[39m\"\u001b[39m, \u001b[39m\"\u001b[39m\u001b[39mparquet\u001b[39m\u001b[39m\"\u001b[39m)):\n\u001b[0;32m---> 13\u001b[0m     \u001b[39mraise\u001b[39;00m InvalidFileType(\u001b[39mf\u001b[39m\u001b[39m\"\u001b[39m\u001b[39m{\u001b[39;00mfilename\u001b[39m}\u001b[39;00m\u001b[39m has an invalid file type: expecting json, csv, or parquet\u001b[39m\u001b[39m\"\u001b[39m)\n\u001b[1;32m     16\u001b[0m validate_obj \u001b[39m=\u001b[39m \u001b[39mlambda\u001b[39;00m fn: reduce(reductor, pattern, fn) \u001b[39mis\u001b[39;00m \u001b[39mnot\u001b[39;00m \u001b[39mNone\u001b[39;00m\n\u001b[1;32m     17\u001b[0m is_filename_correct \u001b[39m=\u001b[39m validate_obj(filename)\n",
      "\u001b[0;31mInvalidFileType\u001b[0m: jacobsbucket97/sample_files/raw/2022-01/sample_files_2022-02-01.gz has an invalid file type: expecting json, csv, or parquet"
     ]
    }
   ],
   "source": [
    "bb2 = validate_file(string4, pattern)"
   ]
  },
  {
   "cell_type": "code",
   "execution_count": 54,
   "metadata": {},
   "outputs": [
    {
     "name": "stdout",
     "output_type": "stream",
     "text": [
      "File name mismatch: got sample_files_2022-02.json, expected (\\w+)_\\d{4}-\\d{2}-\\d{2}\n",
      "False\n"
     ]
    }
   ],
   "source": [
    "validFile = lambda fn: reduce(reductor, pattern, fn) is not None\n",
    "print(validFile(\"jacobsbucket97/sample_files/raw/2022-01/sample_files_2022-02.json\"))"
   ]
  },
  {
   "cell_type": "code",
   "execution_count": 5,
   "metadata": {},
   "outputs": [
    {
     "name": "stdout",
     "output_type": "stream",
     "text": [
      "\n",
      "sample_files_2022\n",
      "None\n"
     ]
    },
    {
     "ename": "TypeError",
     "evalue": "object of type 'NoneType' has no len()",
     "output_type": "error",
     "traceback": [
      "\u001b[0;31m---------------------------------------------------------------------------\u001b[0m",
      "\u001b[0;31mTypeError\u001b[0m                                 Traceback (most recent call last)",
      "Cell \u001b[0;32mIn [5], line 17\u001b[0m\n\u001b[1;32m     14\u001b[0m     \u001b[39mreturn\u001b[39;00m incorrectPart\n\u001b[1;32m     16\u001b[0m pattern3 \u001b[39m=\u001b[39m \u001b[39m\"\u001b[39m\u001b[39m\\\u001b[39m\u001b[39mw+\u001b[39m\u001b[39m\\\u001b[39m\u001b[39m/\u001b[39m\u001b[39m\\\u001b[39m\u001b[39mw+\u001b[39m\u001b[39m\\\u001b[39m\u001b[39m/\u001b[39m\u001b[39m\\\u001b[39m\u001b[39mw+\u001b[39m\u001b[39m\\\u001b[39m\u001b[39m/\u001b[39m\u001b[39m\\\u001b[39m\u001b[39md\u001b[39m\u001b[39m{4}\u001b[39;00m\u001b[39m-\u001b[39m\u001b[39m\\\u001b[39m\u001b[39md\u001b[39m\u001b[39m{2}\u001b[39;00m\u001b[39m\\\u001b[39m\u001b[39m/(\u001b[39m\u001b[39m\\\u001b[39m\u001b[39mw+)_\u001b[39m\u001b[39m\\\u001b[39m\u001b[39md\u001b[39m\u001b[39m{4}\u001b[39;00m\u001b[39m-\u001b[39m\u001b[39m\\\u001b[39m\u001b[39md\u001b[39m\u001b[39m{2}\u001b[39;00m\u001b[39m-\u001b[39m\u001b[39m\\\u001b[39m\u001b[39md\u001b[39m\u001b[39m{2}\u001b[39;00m\u001b[39m.(csv|parquet|json|zip)$\u001b[39m\u001b[39m\"\u001b[39m\n\u001b[0;32m---> 17\u001b[0m verifyFileName(string2, pattern3)\n",
      "Cell \u001b[0;32mIn [5], line 12\u001b[0m, in \u001b[0;36mverifyFileName\u001b[0;34m(filename__, pattern__)\u001b[0m\n\u001b[1;32m     10\u001b[0m \u001b[39mfor\u001b[39;00m i \u001b[39min\u001b[39;00m re\u001b[39m.\u001b[39msplit(pattern, filename__):\n\u001b[1;32m     11\u001b[0m     \u001b[39mprint\u001b[39m(i)\n\u001b[0;32m---> 12\u001b[0m     \u001b[39mif\u001b[39;00m \u001b[39mlen\u001b[39;49m(i)\u001b[39m>\u001b[39m\u001b[39m1\u001b[39m:\n\u001b[1;32m     13\u001b[0m         incorrectPart \u001b[39m=\u001b[39m i\n\u001b[1;32m     14\u001b[0m \u001b[39mreturn\u001b[39;00m incorrectPart\n",
      "\u001b[0;31mTypeError\u001b[0m: object of type 'NoneType' has no len()"
     ]
    }
   ],
   "source": [
    "def verifyFileName(filename__, pattern__):\n",
    "    '''\n",
    "    Verifies if a file name is correct\n",
    "    :param filename__: file name \n",
    "    :param pattern__: pattern\n",
    "    :return: empty string if file name is correct, otherwise the incorrect part of file\n",
    "    '''\n",
    "    incorrectPart =\"\"\n",
    "    pattern = pattern__.replace('\\.','|\\.|').replace('_','|_|')\n",
    "    for i in re.split(pattern, filename__):\n",
    "        print(i)\n",
    "        if len(i)>1:\n",
    "            incorrectPart = i\n",
    "    return incorrectPart\n",
    "\n",
    "pattern3 = \"\\w+\\/\\w+\\/\\w+\\/\\d{4}-\\d{2}\\/(\\w+)_\\d{4}-\\d{2}-\\d{2}.(csv|parquet|json|zip)$\"\n",
    "verifyFileName(string2, pattern3)"
   ]
  },
  {
   "cell_type": "code",
   "execution_count": 10,
   "metadata": {},
   "outputs": [],
   "source": [
    "pattern3 = re.compile(r\"\\w+\\/\\w+\\/\\w+\\/\\d{4}-\\d{2}\\/(\\w+)_\\d{4}-\\d{2}-\\d{2}.(csv|parquet|json|zip)$\")\n",
    "pattern4 = re.split(pattern3, string1)"
   ]
  },
  {
   "cell_type": "code",
   "execution_count": 3,
   "metadata": {},
   "outputs": [
    {
     "name": "stdout",
     "output_type": "stream",
     "text": [
      "jacobsbucket97/sample_files/validated/2022-01/sample_files_2022-02-01.json passed regex test\n",
      "jacobsbucket97/sample_files/invalidated/2022-01/sample_files_2022-02-01.csv passed regex test\n",
      "jacobsbucket97/sample_files/validated/2022-01/sample_files_2022-02-01.parquet passed regex test\n",
      "jacobsbucket97/sample_files/invalidated/2022-01/sample_files_2022-02-01.gz failed regex test\n",
      "jacobsbucket97/sample_files/blahblahblah/2022-01/sample_files_2022-02-01.zip failed regex test\n"
     ]
    }
   ],
   "source": [
    "#                     text / text / (validated|invalidated) / 4digits-2digits / text_4digits-2digits-2digits.(csv|parquet|zip)$ END WORD\n",
    "pattern = re.compile(r\"\\w+\\/\\w+\\/(validated|invalidated)/\\d{4}-\\d{2}\\/(\\w+)_\\d{4}-\\d{2}-\\d{2}.(csv|parquet|json|zip)$\")\n",
    "string1 = \"jacobsbucket97/sample_files/validated/2022-01/sample_files_2022-02-01.json\"\n",
    "string2 = \"jacobsbucket97/sample_files/invalidated/2022-01/sample_files_2022-02-01.csv\"\n",
    "string3 = \"jacobsbucket97/sample_files/validated/2022-01/sample_files_2022-02-01.parquet\"\n",
    "string4 = \"jacobsbucket97/sample_files/invalidated/2022-01/sample_files_2022-02-01.gz\"\n",
    "string5 = \"jacobsbucket97/sample_files/blahblahblah/2022-01/sample_files_2022-02-01.zip\"\n",
    "\n",
    "string_list = [string1, string2, string3, string4, string5]\n",
    "\n",
    "for i in string_list:\n",
    "    if re.match(pattern, i):\n",
    "        print(f\"{i} passed regex test\")\n",
    "    else:\n",
    "        print(f\"{i} failed regex test\")"
   ]
  },
  {
   "cell_type": "code",
   "execution_count": 26,
   "metadata": {},
   "outputs": [
    {
     "name": "stdout",
     "output_type": "stream",
     "text": [
      "2\n",
      "3\n",
      "1\n",
      "4\n"
     ]
    }
   ],
   "source": [
    "# find how many times a pattern shows up in a string\n",
    "pattern1 = 'baby'\n",
    "pattern2 = '.csv'\n",
    "pattern3 = '.csv$'\n",
    "pattern4 = '\\w+'\n",
    "string1 = \"hi .csv this baby is a baby .csv file for .csv\"\n",
    "\n",
    "\n",
    "print(len(re.findall(pattern, string1)))  # 2 baby\n",
    "print(len(re.findall(pattern2, string1))) # 3 csv\n",
    "print(len(re.findall(pattern3, string1))) # 1 csv that ends the string\n",
    "print(len(re.findall(pattern4, string1))) # 11 unique string combinations"
   ]
  },
  {
   "cell_type": "code",
   "execution_count": null,
   "metadata": {},
   "outputs": [],
   "source": [
    "import re\n",
    "\n",
    "dict1 = {\"key1\": \"value1\", \"key2\": \"value2\", \"key3\": \"value3\"}\n",
    "\n",
    "for k, v in dict1.items():\n",
    "    if k.startswith('key'):\n",
    "        loop_key = re.split(r'(\\d+)', k) # split key1 into ['key', '1']\n",
    "        print(loop_key)\n",
    "        print(f\"{loop_key[0]} starts with key\")\n",
    "        print(f\"{loop_key[1]} is the first number\")"
   ]
  },
  {
   "cell_type": "code",
   "execution_count": 53,
   "metadata": {},
   "outputs": [],
   "source": [
    "import re\n",
    "str1 = \"testing 123 please remove all urls https://developer.twitter.com/ testing 123. https://google.com hahah\"\n",
    "str2 = \"searches for IPhone 5s search results\"\n",
    "\n",
    "str1_method1 = ' '.join(x for x in str1.split() if not x.startswith('https'))\n",
    "str1_method2 = re.sub(\"\\bhttps\\w+\", \"\", \"https://google.com haha\")"
   ]
  }
 ],
 "metadata": {
  "interpreter": {
   "hash": "51acfa6005ffec5e74e71d844e0daa05d24ac78244a0bb1b7874b497027552e7"
  },
  "kernelspec": {
   "display_name": "Python 3.8.8 ('base')",
   "language": "python",
   "name": "python3"
  },
  "language_info": {
   "codemirror_mode": {
    "name": "ipython",
    "version": 3
   },
   "file_extension": ".py",
   "mimetype": "text/x-python",
   "name": "python",
   "nbconvert_exporter": "python",
   "pygments_lexer": "ipython3",
   "version": "3.8.8"
  },
  "orig_nbformat": 4
 },
 "nbformat": 4,
 "nbformat_minor": 2
}

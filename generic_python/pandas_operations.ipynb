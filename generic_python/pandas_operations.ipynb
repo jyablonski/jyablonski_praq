{
 "cells": [
  {
   "cell_type": "code",
   "execution_count": 1,
   "metadata": {},
   "outputs": [],
   "source": [
    "from datetime import datetime\n",
    "\n",
    "import pandas as pd\n",
    "import numpy as np"
   ]
  },
  {
   "cell_type": "code",
   "execution_count": 18,
   "metadata": {},
   "outputs": [],
   "source": [
    "df = pd.read_csv('sales.csv').drop_duplicates()"
   ]
  },
  {
   "cell_type": "code",
   "execution_count": 10,
   "metadata": {},
   "outputs": [
    {
     "data": {
      "text/html": [
       "<div>\n",
       "<style scoped>\n",
       "    .dataframe tbody tr th:only-of-type {\n",
       "        vertical-align: middle;\n",
       "    }\n",
       "\n",
       "    .dataframe tbody tr th {\n",
       "        vertical-align: top;\n",
       "    }\n",
       "\n",
       "    .dataframe thead th {\n",
       "        text-align: right;\n",
       "    }\n",
       "</style>\n",
       "<table border=\"1\" class=\"dataframe\">\n",
       "  <thead>\n",
       "    <tr style=\"text-align: right;\">\n",
       "      <th></th>\n",
       "      <th>name</th>\n",
       "      <th>sales</th>\n",
       "    </tr>\n",
       "    <tr>\n",
       "      <th>team</th>\n",
       "      <th></th>\n",
       "      <th></th>\n",
       "    </tr>\n",
       "  </thead>\n",
       "  <tbody>\n",
       "    <tr>\n",
       "      <th>blue</th>\n",
       "      <td>4</td>\n",
       "      <td>4</td>\n",
       "    </tr>\n",
       "    <tr>\n",
       "      <th>green</th>\n",
       "      <td>2</td>\n",
       "      <td>2</td>\n",
       "    </tr>\n",
       "    <tr>\n",
       "      <th>red</th>\n",
       "      <td>3</td>\n",
       "      <td>3</td>\n",
       "    </tr>\n",
       "  </tbody>\n",
       "</table>\n",
       "</div>"
      ],
      "text/plain": [
       "       name  sales\n",
       "team              \n",
       "blue      4      4\n",
       "green     2      2\n",
       "red       3      3"
      ]
     },
     "execution_count": 10,
     "metadata": {},
     "output_type": "execute_result"
    }
   ],
   "source": [
    "df.groupby('team').count()"
   ]
  },
  {
   "cell_type": "code",
   "execution_count": 11,
   "metadata": {},
   "outputs": [
    {
     "data": {
      "text/plain": [
       "blue     4\n",
       "red      3\n",
       "green    2\n",
       "Name: team, dtype: int64"
      ]
     },
     "execution_count": 11,
     "metadata": {},
     "output_type": "execute_result"
    }
   ],
   "source": [
    "df['team'].value_counts()"
   ]
  },
  {
   "cell_type": "code",
   "execution_count": 12,
   "metadata": {},
   "outputs": [
    {
     "data": {
      "text/plain": [
       "team\n",
       "blue     4\n",
       "green    2\n",
       "red      3\n",
       "dtype: int64"
      ]
     },
     "execution_count": 12,
     "metadata": {},
     "output_type": "execute_result"
    }
   ],
   "source": [
    "df.groupby('team').size()"
   ]
  },
  {
   "cell_type": "code",
   "execution_count": 21,
   "metadata": {},
   "outputs": [
    {
     "data": {
      "text/html": [
       "<div>\n",
       "<style scoped>\n",
       "    .dataframe tbody tr th:only-of-type {\n",
       "        vertical-align: middle;\n",
       "    }\n",
       "\n",
       "    .dataframe tbody tr th {\n",
       "        vertical-align: top;\n",
       "    }\n",
       "\n",
       "    .dataframe thead th {\n",
       "        text-align: right;\n",
       "    }\n",
       "</style>\n",
       "<table border=\"1\" class=\"dataframe\">\n",
       "  <thead>\n",
       "    <tr style=\"text-align: right;\">\n",
       "      <th></th>\n",
       "      <th>name</th>\n",
       "      <th>team</th>\n",
       "      <th>sales</th>\n",
       "      <th>team_count_agg2</th>\n",
       "      <th>team_count_agg</th>\n",
       "      <th>team_sales_agg</th>\n",
       "      <th>total_sales_agg</th>\n",
       "      <th>total_sales_after_tax</th>\n",
       "      <th>scrape_date</th>\n",
       "      <th>scrape_ts</th>\n",
       "      <th>team_sales_agg_plus1</th>\n",
       "    </tr>\n",
       "  </thead>\n",
       "  <tbody>\n",
       "    <tr>\n",
       "      <th>0</th>\n",
       "      <td>john</td>\n",
       "      <td>red</td>\n",
       "      <td>100</td>\n",
       "      <td>3</td>\n",
       "      <td>3</td>\n",
       "      <td>475</td>\n",
       "      <td>1375</td>\n",
       "      <td>1100.0</td>\n",
       "      <td>2022-07-12</td>\n",
       "      <td>2022-07-12 11:25:27.234618</td>\n",
       "      <td>101</td>\n",
       "    </tr>\n",
       "    <tr>\n",
       "      <th>1</th>\n",
       "      <td>abby</td>\n",
       "      <td>blue</td>\n",
       "      <td>200</td>\n",
       "      <td>4</td>\n",
       "      <td>4</td>\n",
       "      <td>750</td>\n",
       "      <td>1375</td>\n",
       "      <td>1100.0</td>\n",
       "      <td>2022-07-12</td>\n",
       "      <td>2022-07-12 11:25:27.234618</td>\n",
       "      <td>201</td>\n",
       "    </tr>\n",
       "    <tr>\n",
       "      <th>2</th>\n",
       "      <td>becka</td>\n",
       "      <td>red</td>\n",
       "      <td>250</td>\n",
       "      <td>3</td>\n",
       "      <td>3</td>\n",
       "      <td>475</td>\n",
       "      <td>1375</td>\n",
       "      <td>1100.0</td>\n",
       "      <td>2022-07-12</td>\n",
       "      <td>2022-07-12 11:25:27.234618</td>\n",
       "      <td>251</td>\n",
       "    </tr>\n",
       "    <tr>\n",
       "      <th>3</th>\n",
       "      <td>larry</td>\n",
       "      <td>green</td>\n",
       "      <td>50</td>\n",
       "      <td>2</td>\n",
       "      <td>2</td>\n",
       "      <td>150</td>\n",
       "      <td>1375</td>\n",
       "      <td>1100.0</td>\n",
       "      <td>2022-07-12</td>\n",
       "      <td>2022-07-12 11:25:27.234618</td>\n",
       "      <td>51</td>\n",
       "    </tr>\n",
       "    <tr>\n",
       "      <th>4</th>\n",
       "      <td>tom</td>\n",
       "      <td>red</td>\n",
       "      <td>125</td>\n",
       "      <td>3</td>\n",
       "      <td>3</td>\n",
       "      <td>475</td>\n",
       "      <td>1375</td>\n",
       "      <td>1100.0</td>\n",
       "      <td>2022-07-12</td>\n",
       "      <td>2022-07-12 11:25:27.234618</td>\n",
       "      <td>126</td>\n",
       "    </tr>\n",
       "    <tr>\n",
       "      <th>5</th>\n",
       "      <td>sarah</td>\n",
       "      <td>blue</td>\n",
       "      <td>100</td>\n",
       "      <td>4</td>\n",
       "      <td>4</td>\n",
       "      <td>750</td>\n",
       "      <td>1375</td>\n",
       "      <td>1100.0</td>\n",
       "      <td>2022-07-12</td>\n",
       "      <td>2022-07-12 11:25:27.234618</td>\n",
       "      <td>101</td>\n",
       "    </tr>\n",
       "    <tr>\n",
       "      <th>6</th>\n",
       "      <td>wesley</td>\n",
       "      <td>blue</td>\n",
       "      <td>300</td>\n",
       "      <td>4</td>\n",
       "      <td>4</td>\n",
       "      <td>750</td>\n",
       "      <td>1375</td>\n",
       "      <td>1100.0</td>\n",
       "      <td>2022-07-12</td>\n",
       "      <td>2022-07-12 11:25:27.234618</td>\n",
       "      <td>301</td>\n",
       "    </tr>\n",
       "    <tr>\n",
       "      <th>7</th>\n",
       "      <td>charlie</td>\n",
       "      <td>green</td>\n",
       "      <td>100</td>\n",
       "      <td>2</td>\n",
       "      <td>2</td>\n",
       "      <td>150</td>\n",
       "      <td>1375</td>\n",
       "      <td>1100.0</td>\n",
       "      <td>2022-07-12</td>\n",
       "      <td>2022-07-12 11:25:27.234618</td>\n",
       "      <td>101</td>\n",
       "    </tr>\n",
       "    <tr>\n",
       "      <th>8</th>\n",
       "      <td>donny</td>\n",
       "      <td>blue</td>\n",
       "      <td>150</td>\n",
       "      <td>4</td>\n",
       "      <td>4</td>\n",
       "      <td>750</td>\n",
       "      <td>1375</td>\n",
       "      <td>1100.0</td>\n",
       "      <td>2022-07-12</td>\n",
       "      <td>2022-07-12 11:25:27.234618</td>\n",
       "      <td>151</td>\n",
       "    </tr>\n",
       "  </tbody>\n",
       "</table>\n",
       "</div>"
      ],
      "text/plain": [
       "      name   team  sales  team_count_agg2  team_count_agg  team_sales_agg  \\\n",
       "0     john    red    100                3               3             475   \n",
       "1     abby   blue    200                4               4             750   \n",
       "2    becka    red    250                3               3             475   \n",
       "3    larry  green     50                2               2             150   \n",
       "4      tom    red    125                3               3             475   \n",
       "5    sarah   blue    100                4               4             750   \n",
       "6   wesley   blue    300                4               4             750   \n",
       "7  charlie  green    100                2               2             150   \n",
       "8    donny   blue    150                4               4             750   \n",
       "\n",
       "   total_sales_agg  total_sales_after_tax scrape_date  \\\n",
       "0             1375                 1100.0  2022-07-12   \n",
       "1             1375                 1100.0  2022-07-12   \n",
       "2             1375                 1100.0  2022-07-12   \n",
       "3             1375                 1100.0  2022-07-12   \n",
       "4             1375                 1100.0  2022-07-12   \n",
       "5             1375                 1100.0  2022-07-12   \n",
       "6             1375                 1100.0  2022-07-12   \n",
       "7             1375                 1100.0  2022-07-12   \n",
       "8             1375                 1100.0  2022-07-12   \n",
       "\n",
       "                   scrape_ts  team_sales_agg_plus1  \n",
       "0 2022-07-12 11:25:27.234618                   101  \n",
       "1 2022-07-12 11:25:27.234618                   201  \n",
       "2 2022-07-12 11:25:27.234618                   251  \n",
       "3 2022-07-12 11:25:27.234618                    51  \n",
       "4 2022-07-12 11:25:27.234618                   126  \n",
       "5 2022-07-12 11:25:27.234618                   101  \n",
       "6 2022-07-12 11:25:27.234618                   301  \n",
       "7 2022-07-12 11:25:27.234618                   101  \n",
       "8 2022-07-12 11:25:27.234618                   151  "
      ]
     },
     "execution_count": 21,
     "metadata": {},
     "output_type": "execute_result"
    }
   ],
   "source": [
    "# to do a named aggregate for each row and partitioning by groups.\n",
    "# have to .groupby('col')['col] and select only that column after and then use .transform('agg_operation'))\n",
    "df['team_count_agg'] = df \\\n",
    "    .groupby('team')['team'] \\\n",
    "    .transform('count')\n",
    "\n",
    "# same operation as above\n",
    "df['team_count_agg2'] = df \\\n",
    "    .groupby('team')['team'] \\\n",
    "    .transform(len)\n",
    "\n",
    "df['team_sales_agg'] = df \\\n",
    "    .groupby('team')['sales'] \\\n",
    "    .transform('sum')\n",
    "\n",
    "df['team_sales_agg_plus1'] = df \\\n",
    "    .groupby('team')['sales'] \\\n",
    "    .transform(lambda x: x + 1)\n",
    "\n",
    "# to create a named aggregate for the whole dataset\n",
    "df['dummy'] = 1\n",
    "df['total_sales_agg'] = df \\\n",
    "    .groupby('dummy')['sales'] \\\n",
    "    .transform('sum')\n",
    "df = df.drop('dummy', axis = 1)\n",
    "\n",
    "df_sales = df.query('team_sales_agg > 200').sort_values('team_sales_agg', ascending = False) # query the team_sales col for values > 200 and sort descending\n",
    "\n",
    "certain_name = df[df['name'].str.contains('tom')] # return the row if name contains the string 'tom'\n",
    "certain_name2 = df.query('name == \"tom\"')\n",
    "\n",
    "df['total_sales_after_tax'] = df['total_sales_agg'] * .8\n",
    "df['scrape_date'] = datetime.now().date()\n",
    "df['scrape_ts'] = datetime.now()\n",
    "\n",
    "df"
   ]
  },
  {
   "cell_type": "code",
   "execution_count": 6,
   "metadata": {},
   "outputs": [
    {
     "name": "stdout",
     "output_type": "stream",
     "text": [
      "7\n"
     ]
    },
    {
     "ename": "KeyError",
     "evalue": "2",
     "output_type": "error",
     "traceback": [
      "\u001b[0;31m---------------------------------------------------------------------------\u001b[0m",
      "\u001b[0;31mKeyError\u001b[0m                                  Traceback (most recent call last)",
      "\u001b[0;32m<ipython-input-6-3221dc59105b>\u001b[0m in \u001b[0;36m<module>\u001b[0;34m\u001b[0m\n\u001b[1;32m     15\u001b[0m         \u001b[0mhash_map\u001b[0m\u001b[0;34m[\u001b[0m\u001b[0mv\u001b[0m\u001b[0;34m]\u001b[0m \u001b[0;34m=\u001b[0m \u001b[0mi\u001b[0m\u001b[0;34m\u001b[0m\u001b[0;34m\u001b[0m\u001b[0m\n\u001b[1;32m     16\u001b[0m \u001b[0;34m\u001b[0m\u001b[0m\n\u001b[0;32m---> 17\u001b[0;31m \u001b[0msolution\u001b[0m\u001b[0;34m(\u001b[0m\u001b[0mtarget_num\u001b[0m\u001b[0;34m,\u001b[0m \u001b[0mmy_list\u001b[0m\u001b[0;34m)\u001b[0m\u001b[0;34m\u001b[0m\u001b[0;34m\u001b[0m\u001b[0m\n\u001b[0m",
      "\u001b[0;32m<ipython-input-6-3221dc59105b>\u001b[0m in \u001b[0;36msolution\u001b[0;34m(target, nums)\u001b[0m\n\u001b[1;32m      8\u001b[0m         \u001b[0mdiff\u001b[0m \u001b[0;34m=\u001b[0m \u001b[0mtarget\u001b[0m \u001b[0;34m-\u001b[0m \u001b[0mv\u001b[0m\u001b[0;34m\u001b[0m\u001b[0;34m\u001b[0m\u001b[0m\n\u001b[1;32m      9\u001b[0m         \u001b[0mprint\u001b[0m\u001b[0;34m(\u001b[0m\u001b[0mdiff\u001b[0m\u001b[0;34m)\u001b[0m\u001b[0;34m\u001b[0m\u001b[0;34m\u001b[0m\u001b[0m\n\u001b[0;32m---> 10\u001b[0;31m         \u001b[0mprint\u001b[0m\u001b[0;34m(\u001b[0m\u001b[0mhash_map\u001b[0m\u001b[0;34m[\u001b[0m\u001b[0mv\u001b[0m\u001b[0;34m]\u001b[0m\u001b[0;34m)\u001b[0m\u001b[0;34m\u001b[0m\u001b[0;34m\u001b[0m\u001b[0m\n\u001b[0m\u001b[1;32m     11\u001b[0m \u001b[0;34m\u001b[0m\u001b[0m\n\u001b[1;32m     12\u001b[0m         \u001b[0;32mif\u001b[0m \u001b[0mdiff\u001b[0m \u001b[0;32min\u001b[0m \u001b[0mhash_map\u001b[0m\u001b[0;34m:\u001b[0m\u001b[0;34m\u001b[0m\u001b[0;34m\u001b[0m\u001b[0m\n",
      "\u001b[0;31mKeyError\u001b[0m: 2"
     ]
    }
   ],
   "source": [
    "target_num = 9\n",
    "my_list = [2, 5, 7, 11]\n",
    "\n",
    "def solution(target, nums):\n",
    "    hash_map = {}\n",
    "\n",
    "    for i, v in enumerate(nums):\n",
    "        diff = target - target\n",
    "        print(diff)\n",
    "\n",
    "        if diff in hash_map:\n",
    "            return [hash_map[v], diff]\n",
    "\n",
    "        hash_map[v] = i\n",
    "\n",
    "solution(target_num, my_list)"
   ]
  },
  {
   "cell_type": "code",
   "execution_count": 39,
   "metadata": {},
   "outputs": [
    {
     "name": "stdout",
     "output_type": "stream",
     "text": [
      "10\n",
      "Not enough Small Packages\n",
      "-1\n"
     ]
    }
   ],
   "source": [
    "def minimal_number_of_packages(items, available_large_packages, available_small_packages):\n",
    "    small_items_left = items - (5 * available_large_packages)\n",
    "    print(small_items_left)\n",
    "    if small_items_left > available_small_packages:\n",
    "        print('Not enough Small Packages')\n",
    "        return -1\n",
    "    else:\n",
    "        if small_items_left - int(small_items_left) == 0: # if it's a whole number\n",
    "            total_packages = small_items_left + available_large_packages\n",
    "            print(f'Total Packages Needed is {total_packages}')\n",
    "            return total_packages\n",
    "        \n",
    "        else:\n",
    "        \n",
    "            return -1\n",
    "        \n",
    "# print(minimal_number_of_packages(16, 2, 10))\n",
    "print(minimal_number_of_packages(15, 1, 4))"
   ]
  }
 ],
 "metadata": {
  "interpreter": {
   "hash": "51acfa6005ffec5e74e71d844e0daa05d24ac78244a0bb1b7874b497027552e7"
  },
  "kernelspec": {
   "display_name": "Python 3.8.8 ('base')",
   "language": "python",
   "name": "python3"
  },
  "language_info": {
   "codemirror_mode": {
    "name": "ipython",
    "version": 3
   },
   "file_extension": ".py",
   "mimetype": "text/x-python",
   "name": "python",
   "nbconvert_exporter": "python",
   "pygments_lexer": "ipython3",
   "version": "3.8.8"
  },
  "orig_nbformat": 4
 },
 "nbformat": 4,
 "nbformat_minor": 2
}

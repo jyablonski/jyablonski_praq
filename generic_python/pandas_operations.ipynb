{
 "cells": [
  {
   "cell_type": "code",
   "execution_count": 1,
   "metadata": {},
   "outputs": [],
   "source": [
    "from datetime import datetime\n",
    "\n",
    "import pandas as pd\n",
    "import numpy as np"
   ]
  },
  {
   "cell_type": "code",
   "execution_count": 5,
   "metadata": {},
   "outputs": [],
   "source": [
    "df = pd.read_csv('sales.csv').drop_duplicates()"
   ]
  },
  {
   "cell_type": "code",
   "execution_count": 10,
   "metadata": {},
   "outputs": [
    {
     "data": {
      "text/html": [
       "<div>\n",
       "<style scoped>\n",
       "    .dataframe tbody tr th:only-of-type {\n",
       "        vertical-align: middle;\n",
       "    }\n",
       "\n",
       "    .dataframe tbody tr th {\n",
       "        vertical-align: top;\n",
       "    }\n",
       "\n",
       "    .dataframe thead th {\n",
       "        text-align: right;\n",
       "    }\n",
       "</style>\n",
       "<table border=\"1\" class=\"dataframe\">\n",
       "  <thead>\n",
       "    <tr style=\"text-align: right;\">\n",
       "      <th></th>\n",
       "      <th>name</th>\n",
       "      <th>sales</th>\n",
       "    </tr>\n",
       "    <tr>\n",
       "      <th>team</th>\n",
       "      <th></th>\n",
       "      <th></th>\n",
       "    </tr>\n",
       "  </thead>\n",
       "  <tbody>\n",
       "    <tr>\n",
       "      <th>blue</th>\n",
       "      <td>4</td>\n",
       "      <td>4</td>\n",
       "    </tr>\n",
       "    <tr>\n",
       "      <th>green</th>\n",
       "      <td>2</td>\n",
       "      <td>2</td>\n",
       "    </tr>\n",
       "    <tr>\n",
       "      <th>red</th>\n",
       "      <td>3</td>\n",
       "      <td>3</td>\n",
       "    </tr>\n",
       "  </tbody>\n",
       "</table>\n",
       "</div>"
      ],
      "text/plain": [
       "       name  sales\n",
       "team              \n",
       "blue      4      4\n",
       "green     2      2\n",
       "red       3      3"
      ]
     },
     "execution_count": 10,
     "metadata": {},
     "output_type": "execute_result"
    }
   ],
   "source": [
    "df.groupby('team').count()"
   ]
  },
  {
   "cell_type": "code",
   "execution_count": 11,
   "metadata": {},
   "outputs": [
    {
     "data": {
      "text/plain": [
       "blue     4\n",
       "red      3\n",
       "green    2\n",
       "Name: team, dtype: int64"
      ]
     },
     "execution_count": 11,
     "metadata": {},
     "output_type": "execute_result"
    }
   ],
   "source": [
    "df['team'].value_counts()"
   ]
  },
  {
   "cell_type": "code",
   "execution_count": 12,
   "metadata": {},
   "outputs": [
    {
     "data": {
      "text/plain": [
       "team\n",
       "blue     4\n",
       "green    2\n",
       "red      3\n",
       "dtype: int64"
      ]
     },
     "execution_count": 12,
     "metadata": {},
     "output_type": "execute_result"
    }
   ],
   "source": [
    "df.groupby('team').size()"
   ]
  },
  {
   "cell_type": "code",
   "execution_count": 12,
   "metadata": {},
   "outputs": [
    {
     "data": {
      "text/html": [
       "<div>\n",
       "<style scoped>\n",
       "    .dataframe tbody tr th:only-of-type {\n",
       "        vertical-align: middle;\n",
       "    }\n",
       "\n",
       "    .dataframe tbody tr th {\n",
       "        vertical-align: top;\n",
       "    }\n",
       "\n",
       "    .dataframe thead th {\n",
       "        text-align: right;\n",
       "    }\n",
       "</style>\n",
       "<table border=\"1\" class=\"dataframe\">\n",
       "  <thead>\n",
       "    <tr style=\"text-align: right;\">\n",
       "      <th></th>\n",
       "      <th>name</th>\n",
       "      <th>team</th>\n",
       "      <th>sales</th>\n",
       "      <th>team_count_agg</th>\n",
       "      <th>team_count_agg2</th>\n",
       "      <th>team_sales_agg</th>\n",
       "      <th>team_sales_agg_plus1</th>\n",
       "      <th>total_sales_agg</th>\n",
       "      <th>total_sales_after_tax</th>\n",
       "      <th>scrape_date</th>\n",
       "      <th>scrape_ts</th>\n",
       "      <th>cumulative_sales</th>\n",
       "      <th>cumulative_team_sales</th>\n",
       "      <th>prev_sales</th>\n",
       "      <th>pct_sales</th>\n",
       "      <th>final_names</th>\n",
       "    </tr>\n",
       "  </thead>\n",
       "  <tbody>\n",
       "    <tr>\n",
       "      <th>1</th>\n",
       "      <td>abby</td>\n",
       "      <td>blue</td>\n",
       "      <td>200</td>\n",
       "      <td>2</td>\n",
       "      <td>2</td>\n",
       "      <td>350</td>\n",
       "      <td>201</td>\n",
       "      <td>350</td>\n",
       "      <td>280.0</td>\n",
       "      <td>2022-07-23</td>\n",
       "      <td>2022-07-23 14:27:37.602077</td>\n",
       "      <td>200</td>\n",
       "      <td>200</td>\n",
       "      <td>NaN</td>\n",
       "      <td>1.000</td>\n",
       "      <td>abby, donny</td>\n",
       "    </tr>\n",
       "    <tr>\n",
       "      <th>8</th>\n",
       "      <td>donny</td>\n",
       "      <td>blue</td>\n",
       "      <td>150</td>\n",
       "      <td>2</td>\n",
       "      <td>2</td>\n",
       "      <td>350</td>\n",
       "      <td>151</td>\n",
       "      <td>350</td>\n",
       "      <td>280.0</td>\n",
       "      <td>2022-07-23</td>\n",
       "      <td>2022-07-23 14:27:37.602077</td>\n",
       "      <td>350</td>\n",
       "      <td>350</td>\n",
       "      <td>200.0</td>\n",
       "      <td>0.429</td>\n",
       "      <td>abby, donny</td>\n",
       "    </tr>\n",
       "  </tbody>\n",
       "</table>\n",
       "</div>"
      ],
      "text/plain": [
       "    name  team  sales  team_count_agg  team_count_agg2  team_sales_agg  \\\n",
       "1   abby  blue    200               2                2             350   \n",
       "8  donny  blue    150               2                2             350   \n",
       "\n",
       "   team_sales_agg_plus1  total_sales_agg  total_sales_after_tax scrape_date  \\\n",
       "1                   201              350                  280.0  2022-07-23   \n",
       "8                   151              350                  280.0  2022-07-23   \n",
       "\n",
       "                   scrape_ts  cumulative_sales  cumulative_team_sales  \\\n",
       "1 2022-07-23 14:27:37.602077               200                    200   \n",
       "8 2022-07-23 14:27:37.602077               350                    350   \n",
       "\n",
       "   prev_sales  pct_sales  final_names  \n",
       "1         NaN      1.000  abby, donny  \n",
       "8       200.0      0.429  abby, donny  "
      ]
     },
     "execution_count": 12,
     "metadata": {},
     "output_type": "execute_result"
    }
   ],
   "source": [
    "# to do a named aggregate for each row and partitioning by groups.\n",
    "# have to .groupby('col')['col] and select only that column after and then use .transform('agg_operation'))\n",
    "df['team_count_agg'] = df \\\n",
    "    .groupby('team')['team'] \\\n",
    "    .transform('count')\n",
    "\n",
    "# same operation as above\n",
    "df['team_count_agg2'] = df \\\n",
    "    .groupby('team')['team'] \\\n",
    "    .transform(len)\n",
    "\n",
    "df['team_sales_agg'] = df \\\n",
    "    .groupby('team')['sales'] \\\n",
    "    .transform('sum')\n",
    "\n",
    "df['team_sales_agg_plus1'] = df \\\n",
    "    .groupby('team')['sales'] \\\n",
    "    .transform(lambda x: x + 1)\n",
    "\n",
    "# to create a named aggregate for the whole dataset\n",
    "df['dummy'] = 1\n",
    "df['total_sales_agg'] = df \\\n",
    "    .groupby('dummy')['sales'] \\\n",
    "    .transform('sum')\n",
    "df = df.drop('dummy', axis = 1)\n",
    "\n",
    "df_sales = df.query('team_sales_agg > 200').sort_values('team_sales_agg', ascending = False) # query the team_sales col for values > 200 and sort descending\n",
    "\n",
    "certain_name = df[df['name'].str.contains('tom')] # return the row if name contains the string 'tom'\n",
    "certain_name2 = df.query('name == \"tom\"')\n",
    "\n",
    "df['total_sales_after_tax'] = df['total_sales_agg'] * .8\n",
    "df['scrape_date'] = datetime.now().date()\n",
    "df['scrape_ts'] = datetime.now()\n",
    "\n",
    "df = df.sort_values(by = ['team', 'name'])\n",
    "df['cumulative_sales'] = df['sales'].cumsum()                       # Cumulative sum\n",
    "df['cumulative_team_sales'] = df.groupby('team')['sales'].cumsum()   # grouped cumulative sum\n",
    "df['prev_sales'] = df.groupby('team')['sales'].shift(1)             # SQL LAG\n",
    "df['pct_sales'] = round(df['sales'] / df['cumulative_team_sales'], 3)\n",
    "\n",
    "# use isin([\"name1\", \"name2\"]).values w/ query \n",
    "df = df.query('name.isin([\"abby\", \"donny\"]).values')\n",
    "df['final_names'] = ', '.join(df['name'].tolist()) # comma separated list of all strings in a column (pd.series)\n",
    "final_names = ', '.join(df['name'].tolist())\n",
    "df"
   ]
  }
 ],
 "metadata": {
  "interpreter": {
   "hash": "51acfa6005ffec5e74e71d844e0daa05d24ac78244a0bb1b7874b497027552e7"
  },
  "kernelspec": {
   "display_name": "Python 3.8.8 ('base')",
   "language": "python",
   "name": "python3"
  },
  "language_info": {
   "codemirror_mode": {
    "name": "ipython",
    "version": 3
   },
   "file_extension": ".py",
   "mimetype": "text/x-python",
   "name": "python",
   "nbconvert_exporter": "python",
   "pygments_lexer": "ipython3",
   "version": "3.8.8"
  },
  "orig_nbformat": 4
 },
 "nbformat": 4,
 "nbformat_minor": 2
}

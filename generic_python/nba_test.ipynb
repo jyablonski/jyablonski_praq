{
 "cells": [
  {
   "cell_type": "code",
   "execution_count": 4,
   "metadata": {},
   "outputs": [],
   "source": [
    "import nba_bbref_webscrape as nba"
   ]
  },
  {
   "cell_type": "code",
   "execution_count": 7,
   "metadata": {},
   "outputs": [
    {
     "name": "stdout",
     "output_type": "stream",
     "text": [
      "                   player team location opponent outcome     mp   fgm   fga  \\\n",
      "0           Stephen Curry  GSW        H      BOS       L  38:17  12.0  25.0   \n",
      "1              Al Horford  BOS        A      GSW       W  32:42   9.0  12.0   \n",
      "2            Marcus Smart  BOS        A      GSW       W  29:55   7.0  11.0   \n",
      "3            Jaylen Brown  BOS        A      GSW       W  38:00  10.0  23.0   \n",
      "4          Andrew Wiggins  GSW        H      BOS       L  34:55   8.0  15.0   \n",
      "5           Derrick White  BOS        A      GSW       W  31:49   6.0  11.0   \n",
      "6             Otto Porter  GSW        H      BOS       L  23:31   4.0   5.0   \n",
      "7         Robert Williams  BOS        A      GSW       W  24:11   4.0   4.0   \n",
      "8           Klay Thompson  GSW        H      BOS       L  38:57   6.0  14.0   \n",
      "9            Kevon Looney  GSW        H      BOS       L  25:16   1.0   4.0   \n",
      "10       Payton Pritchard  BOS        A      GSW       W  15:32   3.0   4.0   \n",
      "11           Jayson Tatum  BOS        A      GSW       W  41:35   3.0  17.0   \n",
      "12         Andre Iguodala  GSW        H      BOS       L  12:01   3.0   4.0   \n",
      "13        Nemanja Bjelica  GSW        H      BOS       L   0:48   1.0   1.0   \n",
      "14           Daniel Theis  BOS        A      GSW       W   5:59   1.0   1.0   \n",
      "15           Jordan Poole  GSW        H      BOS       L  25:01   2.0   7.0   \n",
      "16         Grant Williams  BOS        A      GSW       W  16:17   0.0   2.0   \n",
      "17  Juan Toscano-Anderson  GSW        H      BOS       L   0:48   0.0   0.0   \n",
      "18            Malik Fitts  BOS        A      GSW       W   0:48   0.0   0.0   \n",
      "19             Sam Hauser  BOS        A      GSW       W   0:48   0.0   0.0   \n",
      "20            Luke Kornet  BOS        A      GSW       W   0:48   0.0   0.0   \n",
      "21       Jonathan Kuminga  GSW        H      BOS       L   0:48   0.0   0.0   \n",
      "22            Moses Moody  GSW        H      BOS       L   0:48   0.0   0.0   \n",
      "23           Juwan Morgan  BOS        A      GSW       W   0:48   0.0   0.0   \n",
      "24           Nik Stauskas  BOS        A      GSW       W   0:48   0.0   0.0   \n",
      "25         Draymond Green  GSW        H      BOS       L  38:02   2.0  12.0   \n",
      "26             Damion Lee  GSW        H      BOS       L   0:48   0.0   1.0   \n",
      "\n",
      "    fgpercent  threepfgmade  ...  stl  blk  tov   pf   pts  plusminus  gmsc  \\\n",
      "0       0.480           7.0  ...  3.0  0.0  2.0  3.0  34.0       -9.0  25.7   \n",
      "1       0.750           6.0  ...  1.0  0.0  2.0  2.0  26.0        9.0  23.3   \n",
      "2       0.636           4.0  ...  2.0  0.0  0.0  1.0  18.0       -1.0  19.4   \n",
      "3       0.435           2.0  ...  2.0  1.0  4.0  1.0  24.0       22.0  16.6   \n",
      "4       0.533           2.0  ...  1.0  3.0  1.0  3.0  20.0      -11.0  15.5   \n",
      "5       0.545           5.0  ...  0.0  0.0  2.0  3.0  21.0       25.0  14.9   \n",
      "6       0.800           4.0  ...  2.0  0.0  1.0  0.0  12.0      -18.0  12.3   \n",
      "7       1.000           0.0  ...  1.0  4.0  2.0  1.0   8.0       -1.0  10.8   \n",
      "8       0.429           3.0  ...  0.0  0.0  0.0  0.0  15.0       -9.0  10.7   \n",
      "9       0.250           0.0  ...  0.0  3.0  2.0  0.0   4.0       -2.0  10.3   \n",
      "10      0.750           2.0  ...  0.0  0.0  0.0  1.0   8.0       14.0   9.6   \n",
      "11      0.176           1.0  ...  1.0  0.0  2.0  2.0  12.0       16.0   9.3   \n",
      "12      0.750           1.0  ...  0.0  0.0  1.0  3.0   7.0       -6.0   5.3   \n",
      "13      1.000           1.0  ...  0.0  0.0  0.0  0.0   3.0        3.0   3.4   \n",
      "14      1.000           1.0  ...  0.0  1.0  0.0  1.0   3.0       -3.0   3.0   \n",
      "15      0.286           1.0  ...  0.0  0.0  4.0  1.0   9.0      -19.0   2.5   \n",
      "16      0.000           0.0  ...  0.0  0.0  0.0  1.0   0.0       -6.0   1.2   \n",
      "17        NaN           0.0  ...  0.0  0.0  0.0  0.0   0.0        3.0   0.7   \n",
      "18        NaN           0.0  ...  0.0  0.0  0.0  0.0   0.0       -3.0   0.0   \n",
      "19        NaN           0.0  ...  0.0  0.0  0.0  0.0   0.0       -3.0   0.0   \n",
      "20        NaN           0.0  ...  0.0  0.0  0.0  0.0   0.0       -3.0   0.0   \n",
      "21        NaN           0.0  ...  0.0  0.0  0.0  0.0   0.0        3.0   0.0   \n",
      "22        NaN           0.0  ...  0.0  0.0  0.0  0.0   0.0        3.0   0.0   \n",
      "23        NaN           0.0  ...  0.0  0.0  0.0  0.0   0.0       -3.0   0.0   \n",
      "24        NaN           0.0  ...  0.0  0.0  0.0  0.0   0.0       -3.0   0.0   \n",
      "25      0.167           0.0  ...  2.0  0.0  3.0  6.0   4.0       -1.0  -0.2   \n",
      "26      0.000           0.0  ...  0.0  0.0  0.0  0.0   0.0        3.0  -0.7   \n",
      "\n",
      "         date      type  season  \n",
      "0  2022-06-02  Playoffs    2022  \n",
      "1  2022-06-02  Playoffs    2022  \n",
      "2  2022-06-02  Playoffs    2022  \n",
      "3  2022-06-02  Playoffs    2022  \n",
      "4  2022-06-02  Playoffs    2022  \n",
      "5  2022-06-02  Playoffs    2022  \n",
      "6  2022-06-02  Playoffs    2022  \n",
      "7  2022-06-02  Playoffs    2022  \n",
      "8  2022-06-02  Playoffs    2022  \n",
      "9  2022-06-02  Playoffs    2022  \n",
      "10 2022-06-02  Playoffs    2022  \n",
      "11 2022-06-02  Playoffs    2022  \n",
      "12 2022-06-02  Playoffs    2022  \n",
      "13 2022-06-02  Playoffs    2022  \n",
      "14 2022-06-02  Playoffs    2022  \n",
      "15 2022-06-02  Playoffs    2022  \n",
      "16 2022-06-02  Playoffs    2022  \n",
      "17 2022-06-02  Playoffs    2022  \n",
      "18 2022-06-02  Playoffs    2022  \n",
      "19 2022-06-02  Playoffs    2022  \n",
      "20 2022-06-02  Playoffs    2022  \n",
      "21 2022-06-02  Playoffs    2022  \n",
      "22 2022-06-02  Playoffs    2022  \n",
      "23 2022-06-02  Playoffs    2022  \n",
      "24 2022-06-02  Playoffs    2022  \n",
      "25 2022-06-02  Playoffs    2022  \n",
      "26 2022-06-02  Playoffs    2022  \n",
      "\n",
      "[27 rows x 29 columns]\n"
     ]
    }
   ],
   "source": [
    "df = nba.get_boxscores_data()\n",
    "df = nba.get_boxscores_transformed(df)\n",
    "print(df)"
   ]
  }
 ],
 "metadata": {
  "interpreter": {
   "hash": "81c6a89d9b91bda76c14e46d4b77530c453739b0f65fa8daf80e192463b63a97"
  },
  "kernelspec": {
   "display_name": "Python 3.8.10 ('python_aws-McJt4gWW')",
   "language": "python",
   "name": "python3"
  },
  "language_info": {
   "codemirror_mode": {
    "name": "ipython",
    "version": 3
   },
   "file_extension": ".py",
   "mimetype": "text/x-python",
   "name": "python",
   "nbconvert_exporter": "python",
   "pygments_lexer": "ipython3",
   "version": "3.8.10"
  },
  "orig_nbformat": 4
 },
 "nbformat": 4,
 "nbformat_minor": 2
}

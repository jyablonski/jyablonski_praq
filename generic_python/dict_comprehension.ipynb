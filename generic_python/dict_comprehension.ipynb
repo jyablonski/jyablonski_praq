{
 "cells": [
  {
   "cell_type": "code",
   "execution_count": 2,
   "metadata": {},
   "outputs": [],
   "source": [
    "from itertools import islice"
   ]
  },
  {
   "cell_type": "markdown",
   "metadata": {},
   "source": [
    "### DICTIONARIES"
   ]
  },
  {
   "cell_type": "code",
   "execution_count": 3,
   "metadata": {},
   "outputs": [
    {
     "name": "stdout",
     "output_type": "stream",
     "text": [
      "key value pair is key1 - value1\n",
      "key value pair is key2 - value2\n",
      "key value pair is key3 - value3\n",
      "the key is key1\n",
      "the key is key2\n",
      "the key is key3\n",
      "the value for key1 is value1\n",
      "the value for key2 is value2\n",
      "the value for key3 is value3\n",
      "the key is key1\n",
      "the key is key2\n",
      "the key is key3\n",
      "the value is value1\n",
      "the value is value2\n",
      "the value is value3\n",
      "len of dict is 3\n",
      "the key is key1 and the value is value1\n",
      "the key is key2 and the value is value2\n"
     ]
    },
    {
     "data": {
      "text/plain": [
       "'Doesnt exist'"
      ]
     },
     "execution_count": 3,
     "metadata": {},
     "output_type": "execute_result"
    }
   ],
   "source": [
    "dict1 = {\"key1\": \"value1\", \"key2\": \"value2\", \"key3\": \"value3\"}\n",
    "\n",
    "# this will iterate through the pairs\n",
    "for key, value in dict1.items():\n",
    "    print(f\"key value pair is {key} - {value}\")\n",
    "\n",
    "# this will iterate through the keys\n",
    "for i in dict1:\n",
    "    print(f\"the key is {i}\")\n",
    "\n",
    "# this will iterate through the values\n",
    "for i in dict1:\n",
    "    print(f\"the value for {i} is {dict1[i]}\")\n",
    "\n",
    "# just get keys\n",
    "for i in dict1.keys():\n",
    "    print(f\"the key is {i}\")\n",
    "\n",
    "# just get values\n",
    "for i in dict1.values():\n",
    "    print(f\"the value is {i}\")\n",
    "\n",
    "# len only counts the keeeeeys ?\n",
    "print(f\"len of dict is {len(dict1)}\")\n",
    "\n",
    "# use itertools - islice to only select the first 2 pairs\n",
    "for i in islice(dict1, 2):\n",
    "    print(f\"the key is {i} and the value is {dict1[i]}\")\n",
    "\n",
    "dict1.get('key14', 'Doesnt exist') # set a default for .get on a key if it doesnt exist"
   ]
  },
  {
   "cell_type": "code",
   "execution_count": 17,
   "metadata": {},
   "outputs": [
    {
     "name": "stdout",
     "output_type": "stream",
     "text": [
      "['key', '1', '']\n",
      "key starts with key\n",
      "1 is the first number\n",
      "['key', '2', '']\n",
      "key starts with key\n",
      "2 is the first number\n",
      "['key', '3', '']\n",
      "key starts with key\n",
      "3 is the first number\n"
     ]
    }
   ],
   "source": [
    "import re\n",
    "for k, v in dict1.items():\n",
    "    if k.startswith('key'):\n",
    "        loop_key = re.split(r'(\\d+)', k) # split key1 into ['key', '1']\n",
    "        print(loop_key)\n",
    "        print(f\"{loop_key[0]} starts with key\")\n",
    "        print(f\"{loop_key[1]} is the first number\")"
   ]
  },
  {
   "cell_type": "code",
   "execution_count": 3,
   "metadata": {},
   "outputs": [
    {
     "data": {
      "text/plain": [
       "'value1'"
      ]
     },
     "execution_count": 3,
     "metadata": {},
     "output_type": "execute_result"
    }
   ],
   "source": [
    "dict1.get('key1')"
   ]
  },
  {
   "cell_type": "markdown",
   "metadata": {},
   "source": [
    "### LISTS"
   ]
  },
  {
   "cell_type": "code",
   "execution_count": 33,
   "metadata": {},
   "outputs": [],
   "source": [
    "my_tuple = (1, 2, 3)\n",
    "# my_tuple.append(4) # tuples are immutable\n",
    "\n",
    "my_list = []\n",
    "my_list = [1, 2, 3]\n",
    "my_list.append(4)\n",
    "my_list.append(1.5) # appends it to the end of a list\n",
    "\n",
    "my_list.sort() # sort the list"
   ]
  },
  {
   "cell_type": "code",
   "execution_count": null,
   "metadata": {},
   "outputs": [],
   "source": []
  }
 ],
 "metadata": {
  "interpreter": {
   "hash": "51acfa6005ffec5e74e71d844e0daa05d24ac78244a0bb1b7874b497027552e7"
  },
  "kernelspec": {
   "display_name": "Python 3.8.8 ('base')",
   "language": "python",
   "name": "python3"
  },
  "language_info": {
   "codemirror_mode": {
    "name": "ipython",
    "version": 3
   },
   "file_extension": ".py",
   "mimetype": "text/x-python",
   "name": "python",
   "nbconvert_exporter": "python",
   "pygments_lexer": "ipython3",
   "version": "3.8.8"
  },
  "orig_nbformat": 4
 },
 "nbformat": 4,
 "nbformat_minor": 2
}

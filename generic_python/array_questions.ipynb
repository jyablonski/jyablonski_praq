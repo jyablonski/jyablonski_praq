{
 "cells": [
  {
   "cell_type": "code",
   "execution_count": 20,
   "metadata": {},
   "outputs": [
    {
     "name": "stdout",
     "output_type": "stream",
     "text": [
      "0\n",
      "6\n",
      "1\n",
      "5\n",
      "2\n",
      "4\n",
      "3\n",
      "2\n",
      "True\n",
      "0\n",
      "6\n",
      "1\n",
      "2\n",
      "2\n",
      "4\n",
      "3\n",
      "2\n",
      "False\n",
      "0\n",
      "4\n",
      "1\n",
      "3\n",
      "2\n",
      "2\n",
      "True\n",
      "True\n"
     ]
    }
   ],
   "source": [
    "#check if a list of values is continusly increasing or decreasing\n",
    "#function definition\n",
    "def ismonotone(a):\n",
    "    n = len(a) #size of array\n",
    "    if n == 1:\n",
    "        return True\n",
    "    else:\n",
    "        # print(range(0, n - 1))\n",
    "        for i in range(0, n): # this is printing the INDEX of the values of the list\n",
    "            print(i)    # index\n",
    "            print(a[i]) # value at that index\n",
    "\n",
    "        # for i in a:    # this would actually print the VALUES of the list.\n",
    "        #     print(i)\n",
    "\n",
    "        #check for monotone behaviour - you do n - 1 because we are comparing the current value with the right value so \n",
    "        # we have to account for the instance when we arrive to that final value, where there is nothing left to compare.\n",
    "        # so if you get TRUE TRUE TRUE for all 3 occurrences then return True, else if 1 of them fails then false.\n",
    "        if all(a[i] >= a[i + 1] for i in range(0, n - 1) or a[i] <= a[i + 1] for i in range(0, n - 1)):\n",
    "            return True\n",
    "        else:\n",
    "            return False\n",
    "\n",
    "a = [6, 5, 4, 2]\n",
    "print(ismonotone(a))\n",
    "b = [6, 2, 4, 2]\n",
    "print(ismonotone(b))\n",
    "c = [4, 3, 2]\n",
    "print(ismonotone(c))\n",
    "d = [1]\n",
    "print(ismonotone(d))\n"
   ]
  },
  {
   "cell_type": "code",
   "execution_count": 8,
   "metadata": {},
   "outputs": [
    {
     "name": "stdout",
     "output_type": "stream",
     "text": [
      "True\n",
      "False\n"
     ]
    }
   ],
   "source": [
    "# all returns True is everything is True in an iterable list.\n",
    "mylist = [True, True, True]\n",
    "x = all(mylist)\n",
    "print(x)\n",
    "\n",
    "mylist = [True, True, False]\n",
    "x = all(mylist)\n",
    "print(x)"
   ]
  },
  {
   "cell_type": "code",
   "execution_count": 26,
   "metadata": {},
   "outputs": [
    {
     "name": "stdout",
     "output_type": "stream",
     "text": [
      "6 is greater than 5\n",
      "5 is greater than 4\n",
      "4 is greater than 2\n",
      "True\n"
     ]
    }
   ],
   "source": [
    "#check if a list of values is continusly increasing or decreasing\n",
    "#function definition\n",
    "def ismonotone(a):\n",
    "    n = len(a) #size of array\n",
    "    if n == 1:\n",
    "        return True\n",
    "    else:\n",
    "        # print(range(0, n - 1))\n",
    "        for i in range(0, n - 1): # this is printing the INDEX of the values of the list\n",
    "            if a[i] >= a[i + 1]:\n",
    "                print(f\"{a[i]} is greater than {a[i + 1]}\")\n",
    "\n",
    "        # for i in a:    # this would actually print the VALUES of the list.\n",
    "        #     print(i)\n",
    "\n",
    "        #check for monotone behaviour - you do n - 1 because we are comparing the current value with the right value so \n",
    "        # we have to account for the instance when we arrive to that final value, where there is nothing left to compare.\n",
    "        # so if you get TRUE TRUE TRUE for all 3 occurrences then return True, else if 1 of them fails then false.\n",
    "        if all(a[i] >= a[i + 1] for i in range(0, n - 1) or a[i] <= a[i + 1] for i in range(0, n - 1)):\n",
    "            return True\n",
    "        else:\n",
    "            return False\n",
    "\n",
    "a = [6, 5, 4, 2]\n",
    "print(ismonotone(a))"
   ]
  }
 ],
 "metadata": {
  "interpreter": {
   "hash": "51acfa6005ffec5e74e71d844e0daa05d24ac78244a0bb1b7874b497027552e7"
  },
  "kernelspec": {
   "display_name": "Python 3.8.8 ('base')",
   "language": "python",
   "name": "python3"
  },
  "language_info": {
   "codemirror_mode": {
    "name": "ipython",
    "version": 3
   },
   "file_extension": ".py",
   "mimetype": "text/x-python",
   "name": "python",
   "nbconvert_exporter": "python",
   "pygments_lexer": "ipython3",
   "version": "3.8.8"
  },
  "orig_nbformat": 4
 },
 "nbformat": 4,
 "nbformat_minor": 2
}

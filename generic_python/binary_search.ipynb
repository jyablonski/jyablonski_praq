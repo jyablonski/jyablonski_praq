{
 "cells": [
  {
   "cell_type": "code",
   "execution_count": 35,
   "metadata": {},
   "outputs": [
    {
     "name": "stdout",
     "output_type": "stream",
     "text": [
      "low is 2\n",
      "high is 60\n",
      "mid is 4\n",
      "moving to the right by 1 position, new current value is 10\n",
      "mid is 40\n",
      "moving to the left by 1 position, new current value is 10\n",
      "mid is 10\n",
      "we found it dude, its at index 3\n",
      "3\n"
     ]
    }
   ],
   "source": [
    "def binary_search(arr, x):\n",
    "    low = 0\n",
    "    high = len(arr) - 1 # grabbing the index of the largest value\n",
    "    mid = 0\n",
    "    print(f\"low is {arr[low]}\")\n",
    "    print(f\"high is {arr[high]}\")\n",
    "    while low <= high:\n",
    " \n",
    "        mid = (high + low) // 2\n",
    "        print(f\"mid is {arr[mid]}\")\n",
    " \n",
    "        # If x is greater, ignore left half\n",
    "        if arr[mid] < x:\n",
    "            low = mid + 1\n",
    "            print(f\"moving to the right by 1 position, new current value is {arr[low]}\")\n",
    " \n",
    "        # If x is smaller, ignore right half\n",
    "        elif arr[mid] > x:\n",
    "            high = mid - 1\n",
    "            print(f\"moving to the left by 1 position, new current value is {arr[high]}\")\n",
    " \n",
    "        # means x is present at mid\n",
    "        else:\n",
    "            print(f\"we found it dude, its at index {mid}\")\n",
    "            return mid\n",
    " \n",
    "    # If we reach here, then the element was not present\n",
    "    return -1\n",
    " \n",
    " \n",
    "# Test array\n",
    "arr = [2, 3, 4, 10, 40, 60]\n",
    "x = 10\n",
    " \n",
    "# Function call\n",
    "result = binary_search(arr, x)\n",
    " \n",
    "print(result)"
   ]
  },
  {
   "cell_type": "code",
   "execution_count": 12,
   "metadata": {},
   "outputs": [],
   "source": [
    "x = 4\n",
    "y = 6\n",
    "\n",
    "res = (x + y) / 2   # float - dumb\n",
    "res1 = (x + y) // 2 # int"
   ]
  }
 ],
 "metadata": {
  "interpreter": {
   "hash": "51acfa6005ffec5e74e71d844e0daa05d24ac78244a0bb1b7874b497027552e7"
  },
  "kernelspec": {
   "display_name": "Python 3.8.8 ('base')",
   "language": "python",
   "name": "python3"
  },
  "language_info": {
   "codemirror_mode": {
    "name": "ipython",
    "version": 3
   },
   "file_extension": ".py",
   "mimetype": "text/x-python",
   "name": "python",
   "nbconvert_exporter": "python",
   "pygments_lexer": "ipython3",
   "version": "3.8.8"
  },
  "orig_nbformat": 4
 },
 "nbformat": 4,
 "nbformat_minor": 2
}

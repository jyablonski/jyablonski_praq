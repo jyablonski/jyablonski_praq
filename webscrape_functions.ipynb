{
 "cells": [
  {
   "cell_type": "code",
   "execution_count": 7,
   "source": [
    "from urllib.request import urlopen\r\n",
    "from bs4 import BeautifulSoup\r\n",
    "import pandas as pd\r\n",
    "from datetime import datetime, timezone, timedelta\r\n",
    "import boto3\r\n",
    "import pyarrow\r\n",
    "import awswrangler as wr\r\n",
    "import logging\r\n",
    "\r\n",
    "today = datetime.now().date()\r\n",
    "yesterday = today - timedelta(1)\r\n",
    "day = (datetime.now() - timedelta(1)).day\r\n",
    "month = (datetime.now() - timedelta(1)).month\r\n",
    "year = (datetime.now() - timedelta(1)).year"
   ],
   "outputs": [],
   "metadata": {}
  },
  {
   "cell_type": "code",
   "execution_count": 41,
   "source": [
    "def get_player_stats():\r\n",
    "    year = 2021\r\n",
    "    url = \"https://www.basketball-reference.com/leagues/NBA_{}_per_game.html\".format(year)\r\n",
    "    html = urlopen(url)\r\n",
    "    soup = BeautifulSoup(html)\r\n",
    "\r\n",
    "    headers = [th.getText() for th in soup.findAll('tr', limit=2)[0].findAll('th')]\r\n",
    "    headers = headers[1:]\r\n",
    "\r\n",
    "    rows = soup.findAll('tr')[1:]\r\n",
    "    player_stats = [[td.getText() for td in rows[i].findAll('td')]\r\n",
    "            for i in range(len(rows))]\r\n",
    "\r\n",
    "    stats = pd.DataFrame(player_stats, columns = headers)\r\n",
    "    stats['PTS'] = pd.to_numeric(stats['PTS'])\r\n",
    "    print('General Stats Function Successful, retrieving', len(stats), 'updated rows')\r\n",
    "    return(stats)\r\n"
   ],
   "outputs": [],
   "metadata": {}
  },
  {
   "cell_type": "code",
   "execution_count": 42,
   "source": [
    "df = get_player_stats()\r\n"
   ],
   "outputs": [
    {
     "output_type": "stream",
     "name": "stdout",
     "text": [
      "General Stats Function Successful, retrieving 731 updated rows\n"
     ]
    }
   ],
   "metadata": {}
  },
  {
   "cell_type": "code",
   "execution_count": 35,
   "source": [
    "def get_boxscores(month = month, day = day, year = year):\r\n",
    "    url = \"https://www.basketball-reference.com/friv/dailyleaders.fcgi?month={}&day={}&year={}&type=all\".format(month, day, year)\r\n",
    "    html = urlopen(url)\r\n",
    "    soup = BeautifulSoup(html)\r\n",
    "\r\n",
    "    try: \r\n",
    "        headers = [th.getText() for th in soup.findAll('tr', limit=2)[0].findAll('th')]\r\n",
    "        headers = headers[1:]\r\n",
    "        headers[2] = \"Location\"\r\n",
    "        headers[4] = \"Outcome\"\r\n",
    "\r\n",
    "        rows = soup.findAll('tr')[1:]\r\n",
    "        player_stats = [[td.getText() for td in rows[i].findAll('td')]\r\n",
    "            for i in range(len(rows))]\r\n",
    "\r\n",
    "        df = pd.DataFrame(player_stats, columns = headers)\r\n",
    "        df[['FG', 'FGA', 'FG%', '3P', '3PA', '3P%', 'DRB', 'TRB', 'AST', 'STL', 'BLK', 'TOV', 'PF', 'PTS', 'GmSc']] = df[['FG', 'FGA', 'FG%', '3P', '3PA', '3P%', 'DRB', 'TRB', 'AST', 'STL', 'BLK', 'TOV', 'PF', 'PTS', 'GmSc']].apply(pd.to_numeric)\r\n",
    "\r\n",
    "        df.sort_values('PTS', ascending = False)\r\n",
    "        print('Box Score Function Successful, retrieving', len(df), 'rows for', yesterday)\r\n",
    "        return(df)\r\n",
    "    except IndexError:\r\n",
    "        print(\"Box Score Function Failed, no data available for\", yesterday)\r\n",
    "        return pd.DataFrame()\r\n",
    "        # IndexError is what the Actual Error is called when this function failed before."
   ],
   "outputs": [],
   "metadata": {}
  },
  {
   "cell_type": "code",
   "execution_count": 36,
   "source": [
    "box_scores = get_boxscores(month = \"7\", day = \"20\", year = \"2021\")\r\n",
    "# can be string or numeric parameter inputs"
   ],
   "outputs": [
    {
     "output_type": "stream",
     "name": "stdout",
     "text": [
      "Box Scores Function Successful, retrieving 17 rows for 2021-08-14\n"
     ]
    }
   ],
   "metadata": {}
  },
  {
   "cell_type": "code",
   "execution_count": 37,
   "source": [
    "box_scores3 = get_boxscores()"
   ],
   "outputs": [
    {
     "output_type": "stream",
     "name": "stdout",
     "text": [
      "Box Score Function Failed, no data available for 2021-08-14\n"
     ]
    }
   ],
   "metadata": {}
  },
  {
   "cell_type": "code",
   "execution_count": 51,
   "source": [
    "def get_injuries():\r\n",
    "    url = \"https://www.basketball-reference.com/friv/injuries.fcgi\"\r\n",
    "    df = pd.read_html(url)[0]\r\n",
    "    df = df.rename(columns = {\"Update\": \"Date\"})\r\n",
    "    print('Injury Function Successful, retrieving', len(df), 'rows')\r\n",
    "    return(df)\r\n",
    "# not sure how this would fail, but if pandas read html stops working then go back to old script and do it manually"
   ],
   "outputs": [],
   "metadata": {}
  },
  {
   "cell_type": "code",
   "execution_count": 52,
   "source": [
    "injury_data = get_injuries()"
   ],
   "outputs": [
    {
     "output_type": "stream",
     "name": "stdout",
     "text": [
      "Injury Function Successful, retrieving 17 rows\n"
     ]
    }
   ],
   "metadata": {}
  },
  {
   "cell_type": "code",
   "execution_count": 54,
   "source": [
    "def get_transactions():\r\n",
    "    url = \"https://www.basketball-reference.com/leagues/NBA_2021_transactions.html\"\r\n",
    "    html = urlopen(url)\r\n",
    "    soup = BeautifulSoup(html)\r\n",
    "    trs = soup.findAll('li')[71:] # theres a bunch of garbage in the first 71 rows - no matter what \r\n",
    "    rows = []\r\n",
    "    mylist = []\r\n",
    "    for tr in trs:\r\n",
    "        date = tr.find('span')\r\n",
    "        if date is not None: # needed bc span can be null (multi <p> elements per span)\r\n",
    "            date = date.text\r\n",
    "        data = tr.findAll('p')\r\n",
    "        for p in data:\r\n",
    "            mylist.append(p.text)\r\n",
    "        data3 = [date] + [mylist]\r\n",
    "        rows.append(data3)\r\n",
    "        mylist = []\r\n",
    "\r\n",
    "    transactions = pd.DataFrame(rows)\r\n",
    "    transactions.columns = ['Date', 'Transaction']\r\n",
    "    transactions = transactions.explode('Transaction')\r\n",
    "    transactions['Date'] = pd.to_datetime(transactions['Date'])\r\n",
    "    transactions = transactions.query('Date != \"NaN\"')\r\n",
    "    transactions\r\n",
    "    print('Transactions Function Successful, retrieving', len(transactions), 'rows')\r\n",
    "    return(transactions)"
   ],
   "outputs": [],
   "metadata": {}
  },
  {
   "cell_type": "code",
   "execution_count": 55,
   "source": [
    "transactions = get_transactions()"
   ],
   "outputs": [
    {
     "output_type": "stream",
     "name": "stdout",
     "text": [
      "Transactions Function Successful, retrieving 823 rows\n"
     ]
    }
   ],
   "metadata": {}
  },
  {
   "cell_type": "code",
   "execution_count": 57,
   "source": [
    "schedule_df = pd.DataFrame()\r\n",
    "def schedule_scraper(month):\r\n",
    "    global schedule_df\r\n",
    "    url = \"https://www.basketball-reference.com/leagues/NBA_2021_games-{}.html\".format(month)\r\n",
    "    html = urlopen(url)\r\n",
    "    soup = BeautifulSoup(html)\r\n",
    "\r\n",
    "    headers = [th.getText() for th in soup.findAll('tr')[0].findAll('th')]\r\n",
    "\r\n",
    "    headers[6] = 'boxScoreLink'\r\n",
    "    headers[7] = 'isOT'\r\n",
    "    headers = headers[1:]\r\n",
    "\r\n",
    "    rows = soup.findAll('tr')[1:]\r\n",
    "    date_info = [[th.getText() for th in rows[i].findAll('th')]\r\n",
    "            for i in range(len(rows))]\r\n",
    "\r\n",
    "    game_info = [[td.getText() for td in rows[i].findAll('td')]\r\n",
    "            for i in range(len(rows))]\r\n",
    "    date_info = [i[0] for i in date_info]\r\n",
    "\r\n",
    "    schedule = pd.DataFrame(game_info, columns = headers)\r\n",
    "    schedule['Date'] = date_info\r\n",
    "    \r\n",
    "    # join_df = join_df.append(schedule)\r\n",
    "    schedule_df = schedule_df.append(schedule)\r\n",
    "    # return(join_df)\r\n",
    "    print('Schedule Function Completed, retrieving', len(schedule_df), 'rows')"
   ],
   "outputs": [],
   "metadata": {}
  },
  {
   "cell_type": "code",
   "execution_count": 63,
   "source": [
    "month_list = ['december', 'january', 'february', 'march', 'april', 'may', 'june', 'july']\r\n",
    "schedule_df = pd.DataFrame()\r\n",
    "for month in month_list:\r\n",
    "    schedule_scraper(month)"
   ],
   "outputs": [
    {
     "output_type": "stream",
     "name": "stdout",
     "text": [
      "Schedule Function Completed, retrieving 67 rows\n",
      "Schedule Function Completed, retrieving 289 rows\n",
      "Schedule Function Completed, retrieving 501 rows\n",
      "Schedule Function Completed, retrieving 705 rows\n",
      "Schedule Function Completed, retrieving 945 rows\n",
      "Schedule Function Completed, retrieving 1118 rows\n",
      "Schedule Function Completed, retrieving 1163 rows\n",
      "Schedule Function Completed, retrieving 1171 rows\n"
     ]
    }
   ],
   "metadata": {}
  },
  {
   "cell_type": "code",
   "execution_count": 74,
   "source": [
    "def get_advanced_stats():\r\n",
    "    url = \"https://www.basketball-reference.com/leagues/NBA_2021.html\"\r\n",
    "    df = pd.read_html(url)\r\n",
    "    df = pd.DataFrame(df[10])\r\n",
    "    df.drop(columns = df.columns[0], \r\n",
    "        axis=1, \r\n",
    "        inplace=True)\r\n",
    "\r\n",
    "    df.columns = ['Team', 'Age', 'W', 'L', 'PW', 'PL', 'MOV', 'SOS', 'SRS', 'ORTG', 'DRTG', 'NRTG', 'Pace', 'FTr', '3PAr', 'TS%', 'bby1', 'eFG%', 'TOV%', 'ORB%', 'FT/FGA', 'bby2', 'eFG%_opp', 'TOV%_opp', 'DRB%_opp', 'FT/FGA_opp', 'bby3', 'Arena', 'Attendance', 'Att/Game']\r\n",
    "    df.drop(['bby1', 'bby2', 'bby3'], axis = 1, inplace = True)\r\n",
    "    df = df.query('Team != \"League Average\"')\r\n",
    "    print('Advanced Stats Function Successful, retrieving updated data for 30 rows')\r\n",
    "    return(df)"
   ],
   "outputs": [],
   "metadata": {}
  },
  {
   "cell_type": "code",
   "execution_count": 72,
   "source": [
    "advanced_stats = get_advanced_stats()"
   ],
   "outputs": [],
   "metadata": {}
  },
  {
   "cell_type": "code",
   "execution_count": null,
   "source": [
    "## TO DO - odds scraping from 3rd party source"
   ],
   "outputs": [],
   "metadata": {}
  }
 ],
 "metadata": {
  "orig_nbformat": 4,
  "language_info": {
   "name": "python",
   "version": "3.8.11",
   "mimetype": "text/x-python",
   "codemirror_mode": {
    "name": "ipython",
    "version": 3
   },
   "pygments_lexer": "ipython3",
   "nbconvert_exporter": "python",
   "file_extension": ".py"
  },
  "kernelspec": {
   "name": "python3",
   "display_name": "Python 3.8.11 64-bit ('base': conda)"
  },
  "interpreter": {
   "hash": "23631fb84f7d007f44401ba04533f258904c229b790399b66b79eae0a9abec65"
  }
 },
 "nbformat": 4,
 "nbformat_minor": 2
}
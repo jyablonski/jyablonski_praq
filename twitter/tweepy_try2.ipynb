{
 "cells": [
  {
   "cell_type": "code",
   "execution_count": 2,
   "metadata": {},
   "outputs": [],
   "source": [
    "import os\n",
    "from datetime import datetime\n",
    "import time\n",
    "\n",
    "import tweepy\n",
    "from tweepy import OAuthHandler\n",
    "import pandas as pd\n",
    "\n",
    "auth = tweepy.OAuthHandler(os.environ.get('twitter_consumer_api_key'), os.environ.get('twitter_consumer_api_secret'))\n",
    "auth.set_access_token(os.environ.get('twitter_access_api_key'), os.environ.get('twitter_access_api_secret'))\n",
    "\n",
    "api = tweepy.API(auth, wait_on_rate_limit=True)"
   ]
  },
  {
   "cell_type": "code",
   "execution_count": 5,
   "metadata": {},
   "outputs": [],
   "source": [
    "username = 'nba'\n",
    "count = 50\n",
    "df_user_tweets = pd.DataFrame()"
   ]
  },
  {
   "cell_type": "code",
   "execution_count": 27,
   "metadata": {},
   "outputs": [],
   "source": [
    "df_test = []  \n",
    "for tweet in tweepy.Cursor(api.search_tweets, 'nba', count = 50).items(250):\n",
    "    df_test.append(tweet)"
   ]
  },
  {
   "cell_type": "code",
   "execution_count": 51,
   "metadata": {},
   "outputs": [],
   "source": [
    "# result_type = 'popular'\n",
    "df = pd.DataFrame()\n",
    "try:\n",
    "  for tweet in tweepy.Cursor(api.search_tweets, 'nba', count = 500, result_type = 'mixed').items(500):\n",
    "      # print(status)\n",
    "      df = df.append(\n",
    "                            {'created_at' : tweet._json['created_at'],\n",
    "                                        'tweet_id': tweet._json['id_str'],\n",
    "                                        'user': tweet._json['user']['screen_name'],\n",
    "                                        'user_id': tweet._json['user']['id'],\n",
    "                                          'tweet': tweet._json['text'],\n",
    "                      'likes': tweet._json['favorite_count'],\n",
    "                          'retweets': tweet._json['retweet_count'],\n",
    "                        'lang': tweet._json['lang'],\n",
    "                            'scrape_ts': datetime.now(),\n",
    "          'profile_img': tweet._json['user']['profile_image_url'],\n",
    "          'url': f\"https://twitter.com/twitter/statuses/{tweet._json['id']}\",\n",
    "                          }, ignore_index=True\n",
    "      )\n",
    "      \n",
    "except BaseException as e:\n",
    "    print('failed on_status,',str(e))\n",
    "    time.sleep(3)"
   ]
  },
  {
   "cell_type": "code",
   "execution_count": 38,
   "metadata": {},
   "outputs": [
    {
     "data": {
      "text/plain": [
       "{'created_at': 'Sat Jun 04 20:28:25 +0000 2022',\n",
       " 'id': 1533183917301325826,\n",
       " 'id_str': '1533183917301325826',\n",
       " 'text': 'RT @joeylinn_: One year ago today, Kawhi Leonard dropped 45 PTS on 72% shooting to avoid elimination in Dallas.\\n\\n“I did not want to go home…',\n",
       " 'truncated': False,\n",
       " 'entities': {'hashtags': [],\n",
       "  'symbols': [],\n",
       "  'user_mentions': [{'screen_name': 'joeylinn_',\n",
       "    'name': 'Joey Linn',\n",
       "    'id': 2632100432,\n",
       "    'id_str': '2632100432',\n",
       "    'indices': [3, 13]}],\n",
       "  'urls': []},\n",
       " 'metadata': {'iso_language_code': 'en', 'result_type': 'recent'},\n",
       " 'source': '<a href=\"http://twitter.com/download/iphone\" rel=\"nofollow\">Twitter for iPhone</a>',\n",
       " 'in_reply_to_status_id': None,\n",
       " 'in_reply_to_status_id_str': None,\n",
       " 'in_reply_to_user_id': None,\n",
       " 'in_reply_to_user_id_str': None,\n",
       " 'in_reply_to_screen_name': None,\n",
       " 'user': {'id': 1115693823017897984,\n",
       "  'id_str': '1115693823017897984',\n",
       "  'name': '💫',\n",
       "  'screen_name': '1629Ant',\n",
       "  'location': 'Idk',\n",
       "  'description': 'Sometimes you gotta close a door to open a window',\n",
       "  'url': 'https://t.co/ephG0for71',\n",
       "  'entities': {'url': {'urls': [{'url': 'https://t.co/ephG0for71',\n",
       "      'expanded_url': 'http://twitch.tv/jirachi874',\n",
       "      'display_url': 'twitch.tv/jirachi874',\n",
       "      'indices': [0, 23]}]},\n",
       "   'description': {'urls': []}},\n",
       "  'protected': False,\n",
       "  'followers_count': 133,\n",
       "  'friends_count': 439,\n",
       "  'listed_count': 1,\n",
       "  'created_at': 'Tue Apr 09 19:11:50 +0000 2019',\n",
       "  'favourites_count': 5938,\n",
       "  'utc_offset': None,\n",
       "  'time_zone': None,\n",
       "  'geo_enabled': False,\n",
       "  'verified': False,\n",
       "  'statuses_count': 2025,\n",
       "  'lang': None,\n",
       "  'contributors_enabled': False,\n",
       "  'is_translator': False,\n",
       "  'is_translation_enabled': False,\n",
       "  'profile_background_color': 'F5F8FA',\n",
       "  'profile_background_image_url': None,\n",
       "  'profile_background_image_url_https': None,\n",
       "  'profile_background_tile': False,\n",
       "  'profile_image_url': 'http://pbs.twimg.com/profile_images/1529600469324144643/t77dauNL_normal.jpg',\n",
       "  'profile_image_url_https': 'https://pbs.twimg.com/profile_images/1529600469324144643/t77dauNL_normal.jpg',\n",
       "  'profile_banner_url': 'https://pbs.twimg.com/profile_banners/1115693823017897984/1653519759',\n",
       "  'profile_link_color': '1DA1F2',\n",
       "  'profile_sidebar_border_color': 'C0DEED',\n",
       "  'profile_sidebar_fill_color': 'DDEEF6',\n",
       "  'profile_text_color': '333333',\n",
       "  'profile_use_background_image': True,\n",
       "  'has_extended_profile': True,\n",
       "  'default_profile': True,\n",
       "  'default_profile_image': False,\n",
       "  'following': False,\n",
       "  'follow_request_sent': False,\n",
       "  'notifications': False,\n",
       "  'translator_type': 'none',\n",
       "  'withheld_in_countries': []},\n",
       " 'geo': None,\n",
       " 'coordinates': None,\n",
       " 'place': None,\n",
       " 'contributors': None,\n",
       " 'retweeted_status': {'created_at': 'Sat Jun 04 07:00:02 +0000 2022',\n",
       "  'id': 1532980479149846529,\n",
       "  'id_str': '1532980479149846529',\n",
       "  'text': 'One year ago today, Kawhi Leonard dropped 45 PTS on 72% shooting to avoid elimination in Dallas.\\n\\n“I did not want t… https://t.co/EDxPnZv5KE',\n",
       "  'truncated': True,\n",
       "  'entities': {'hashtags': [],\n",
       "   'symbols': [],\n",
       "   'user_mentions': [],\n",
       "   'urls': [{'url': 'https://t.co/EDxPnZv5KE',\n",
       "     'expanded_url': 'https://twitter.com/i/web/status/1532980479149846529',\n",
       "     'display_url': 'twitter.com/i/web/status/1…',\n",
       "     'indices': [117, 140]}]},\n",
       "  'metadata': {'iso_language_code': 'en', 'result_type': 'recent'},\n",
       "  'source': '<a href=\"http://twitter.com/download/iphone\" rel=\"nofollow\">Twitter for iPhone</a>',\n",
       "  'in_reply_to_status_id': None,\n",
       "  'in_reply_to_status_id_str': None,\n",
       "  'in_reply_to_user_id': None,\n",
       "  'in_reply_to_user_id_str': None,\n",
       "  'in_reply_to_screen_name': None,\n",
       "  'user': {'id': 2632100432,\n",
       "   'id_str': '2632100432',\n",
       "   'name': 'Joey Linn',\n",
       "   'screen_name': 'joeylinn_',\n",
       "   'location': '',\n",
       "   'description': 'Credentialed writer covering the @LAClippers for @SInow. NCAA broadcaster for Biola University. Proverbs 16:3.',\n",
       "   'url': 'https://t.co/Okv3hJO8qz',\n",
       "   'entities': {'url': {'urls': [{'url': 'https://t.co/Okv3hJO8qz',\n",
       "       'expanded_url': 'https://www.si.com/nba/clippers/author/joey-linn',\n",
       "       'display_url': 'si.com/nba/clippers/a…',\n",
       "       'indices': [0, 23]}]},\n",
       "    'description': {'urls': []}},\n",
       "   'protected': False,\n",
       "   'followers_count': 14025,\n",
       "   'friends_count': 477,\n",
       "   'listed_count': 136,\n",
       "   'created_at': 'Sat Jul 12 22:18:45 +0000 2014',\n",
       "   'favourites_count': 158250,\n",
       "   'utc_offset': None,\n",
       "   'time_zone': None,\n",
       "   'geo_enabled': True,\n",
       "   'verified': False,\n",
       "   'statuses_count': 12988,\n",
       "   'lang': None,\n",
       "   'contributors_enabled': False,\n",
       "   'is_translator': False,\n",
       "   'is_translation_enabled': False,\n",
       "   'profile_background_color': 'C0DEED',\n",
       "   'profile_background_image_url': 'http://abs.twimg.com/images/themes/theme1/bg.png',\n",
       "   'profile_background_image_url_https': 'https://abs.twimg.com/images/themes/theme1/bg.png',\n",
       "   'profile_background_tile': False,\n",
       "   'profile_image_url': 'http://pbs.twimg.com/profile_images/1413085656180424707/lUUQJrcU_normal.jpg',\n",
       "   'profile_image_url_https': 'https://pbs.twimg.com/profile_images/1413085656180424707/lUUQJrcU_normal.jpg',\n",
       "   'profile_banner_url': 'https://pbs.twimg.com/profile_banners/2632100432/1646373095',\n",
       "   'profile_link_color': '1DA1F2',\n",
       "   'profile_sidebar_border_color': 'C0DEED',\n",
       "   'profile_sidebar_fill_color': 'DDEEF6',\n",
       "   'profile_text_color': '333333',\n",
       "   'profile_use_background_image': True,\n",
       "   'has_extended_profile': True,\n",
       "   'default_profile': True,\n",
       "   'default_profile_image': False,\n",
       "   'following': False,\n",
       "   'follow_request_sent': False,\n",
       "   'notifications': False,\n",
       "   'translator_type': 'none',\n",
       "   'withheld_in_countries': []},\n",
       "  'geo': None,\n",
       "  'coordinates': None,\n",
       "  'place': None,\n",
       "  'contributors': None,\n",
       "  'is_quote_status': False,\n",
       "  'retweet_count': 585,\n",
       "  'favorite_count': 5287,\n",
       "  'favorited': False,\n",
       "  'retweeted': False,\n",
       "  'possibly_sensitive': False,\n",
       "  'lang': 'en'},\n",
       " 'is_quote_status': False,\n",
       " 'retweet_count': 585,\n",
       " 'favorite_count': 0,\n",
       " 'favorited': False,\n",
       " 'retweeted': False,\n",
       " 'lang': 'en'}"
      ]
     },
     "execution_count": 38,
     "metadata": {},
     "output_type": "execute_result"
    }
   ],
   "source": [
    "df_test[0]._json"
   ]
  },
  {
   "cell_type": "code",
   "execution_count": 8,
   "metadata": {},
   "outputs": [
    {
     "name": "stderr",
     "output_type": "stream",
     "text": [
      "Unexpected parameter: id\n"
     ]
    },
    {
     "name": "stdout",
     "output_type": "stream",
     "text": [
      "failed on_status, 'favorite_count'\n"
     ]
    }
   ],
   "source": [
    "try:     \n",
    "    # Creation of query method using appropriate parameters\n",
    "    tweets =    tweepy.Cursor(api.user_timeline,id=username).items(count)\n",
    " \n",
    "    \n",
    "    # Pulling information from tweets iterable object and adding relevant tweet information in our data frame\n",
    "    for tweet in tweets:\n",
    "        df_user_tweets = df_user_tweets.append(\n",
    "                          {'Created at' : tweet._json['created_at'],\n",
    "                                       'User ID': tweet._json['id'],\n",
    "                              'User Name': tweet.user._json['name'],\n",
    "                                        'Text': tweet._json['text'],\n",
    "                     'Description': tweet.user._json['description'],\n",
    "                        'Likes': tweet.user._json['favorite_count'],\n",
    "                      'Retweets': tweet.user._json['retweet_count'],\n",
    "                           'Location': tweet.user._json['location'],\n",
    "             'Followers Count': tweet.user._json['followers_count'],\n",
    "                 'Friends Count': tweet.user._json['friends_count'],\n",
    "               'Statuses Count': tweet.user._json['statuses_count'],\n",
    "         'Profile Image Url': tweet.user._json['profile_image_url'],\n",
    "                         }, ignore_index=True)\n",
    "except BaseException as e:\n",
    "    print('failed on_status,',str(e))\n",
    "    time.sleep(3)"
   ]
  },
  {
   "cell_type": "code",
   "execution_count": 42,
   "metadata": {},
   "outputs": [],
   "source": [
    "client = tweepy.Client(bearer_token=os.environ.get('bearer_token'))"
   ]
  },
  {
   "cell_type": "code",
   "execution_count": 44,
   "metadata": {},
   "outputs": [],
   "source": [
    "df = client.search_recent_tweets('nba')"
   ]
  },
  {
   "cell_type": "code",
   "execution_count": 50,
   "metadata": {},
   "outputs": [
    {
     "data": {
      "text/plain": [
       "Response(data=[<Tweet id=1533186042714521600 text='@lorenzoggomes @carapanarana Assim ae Lorenzo https://t.co/03jxqzLx9Q'>, <Tweet id=1533186041279983616 text='RT @P_McCulloughMD: Tai et al, JAMA, NBA experience with mandated products a bust.  Staggering 608 confirmed infections in fully compliant.…'>, <Tweet id=1533186034657243136 text=\"RT @100ItsLevel: George Floyd wasn't real.  \\n\\nNobody died or went to jail. \\n\\nFloyd was played by crisis actor/NBA player Stephen Jackson. h…\">, <Tweet id=1533186034636316674 text='NBB é muito bom, mas realmente existe um vão enorme entre ela e a NBA'>, <Tweet id=1533186033289920513 text='@BleacherReport @GabrielFC000 não sei se é pior a NBA season com 82 ou a MLB com 162!!!'>, <Tweet id=1533186027774529538 text='RT @PGN33: NBA players discovering CV woman bout to change the world 🤣😭'>, <Tweet id=1533186024943276038 text='RT @royal_bobby24: Felt every word nba youngboy said on Better Man https://t.co/0eudBY4bn3'>, <Tweet id=1533186022418223104 text='RT @handsomeadult: Why the FUCK isn’t the NBA finals today?'>, <Tweet id=1533186022338711553 text='RT @ybdeyo: nba youngboy the realest for putting his pain in his music'>, <Tweet id=1533186014566666240 text='He looks drained https://t.co/3o8dmX0ZpM'>], includes={}, errors=[], meta={'newest_id': '1533186042714521600', 'oldest_id': '1533186014566666240', 'result_count': 10, 'next_token': 'b26v89c19zqg8o3fpyzlttd4qkf9q2f5z6kfvxfpz8e4d'})"
      ]
     },
     "execution_count": 50,
     "metadata": {},
     "output_type": "execute_result"
    }
   ],
   "source": [
    "df"
   ]
  }
 ],
 "metadata": {
  "interpreter": {
   "hash": "81c6a89d9b91bda76c14e46d4b77530c453739b0f65fa8daf80e192463b63a97"
  },
  "kernelspec": {
   "display_name": "Python 3.8.10 ('python_aws-McJt4gWW')",
   "language": "python",
   "name": "python3"
  },
  "language_info": {
   "codemirror_mode": {
    "name": "ipython",
    "version": 3
   },
   "file_extension": ".py",
   "mimetype": "text/x-python",
   "name": "python",
   "nbconvert_exporter": "python",
   "pygments_lexer": "ipython3",
   "version": "3.8.10"
  },
  "orig_nbformat": 4
 },
 "nbformat": 4,
 "nbformat_minor": 2
}

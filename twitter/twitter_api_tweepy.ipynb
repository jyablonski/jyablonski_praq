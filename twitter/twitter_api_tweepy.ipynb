{
 "cells": [
  {
   "cell_type": "code",
   "execution_count": 1,
   "metadata": {},
   "outputs": [],
   "source": [
    "import os\n",
    "import tweepy\n",
    "\n",
    "def credentials_dict() -> dict:\n",
    "    return {\n",
    "        \"consumer_key\": os.getenv(\"twitter_consumer_api_key\"),\n",
    "        \"consumer_secret\": os.getenv(\"twitter_consumer_api_secret\"),\n",
    "        \"access_token\": os.getenv(\"twitter_access_api_key\"),\n",
    "        \"access_token_secret\": os.getenv(\"twitter_access_api_secret\")\n",
    "    }\n",
    "credentials = credentials_dict()"
   ]
  },
  {
   "cell_type": "code",
   "execution_count": 2,
   "metadata": {},
   "outputs": [],
   "source": [
    "auth = tweepy.OAuthHandler(credentials[\"consumer_key\"], credentials[\"consumer_secret\"])\n",
    "auth.set_access_token(credentials[\"access_token\"], credentials[\"access_token_secret\"])\n",
    "api = tweepy.API(auth)\n",
    "available_loc = api.available_trends()"
   ]
  },
  {
   "cell_type": "code",
   "execution_count": 3,
   "metadata": {},
   "outputs": [],
   "source": [
    "available_loc = api.available_trends()"
   ]
  },
  {
   "cell_type": "code",
   "execution_count": 4,
   "metadata": {},
   "outputs": [],
   "source": [
    "streaming_client = tweepy.StreamingClient(os.environ.get(\"bearer_token\"))\n",
    "bb = streaming_client.sample()"
   ]
  },
  {
   "cell_type": "code",
   "execution_count": 5,
   "metadata": {},
   "outputs": [],
   "source": [
    "streaming_client.sample()\n"
   ]
  }
 ],
 "metadata": {
  "interpreter": {
   "hash": "81c6a89d9b91bda76c14e46d4b77530c453739b0f65fa8daf80e192463b63a97"
  },
  "kernelspec": {
   "display_name": "Python 3.8.10 ('python_aws-McJt4gWW')",
   "language": "python",
   "name": "python3"
  },
  "language_info": {
   "codemirror_mode": {
    "name": "ipython",
    "version": 3
   },
   "file_extension": ".py",
   "mimetype": "text/x-python",
   "name": "python",
   "nbconvert_exporter": "python",
   "pygments_lexer": "ipython3",
   "version": "3.8.10"
  },
  "orig_nbformat": 4
 },
 "nbformat": 4,
 "nbformat_minor": 2
}

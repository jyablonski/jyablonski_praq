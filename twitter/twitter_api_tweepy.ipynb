{
 "cells": [
  {
   "cell_type": "code",
   "execution_count": 1,
   "metadata": {},
   "outputs": [],
   "source": [
    "import os\n",
    "import tweepy\n",
    "\n",
    "def credentials_dict() -> dict:\n",
    "    return {\n",
    "        \"consumer_key\": os.getenv(\"twitter_consumer_api_key\"),\n",
    "        \"consumer_secret\": os.getenv(\"twitter_consumer_api_secret\"),\n",
    "        \"access_token\": os.getenv(\"twitter_access_api_key\"),\n",
    "        \"access_token_secret\": os.getenv(\"twitter_access_api_secret\")\n",
    "    }\n",
    "credentials = credentials_dict()"
   ]
  },
  {
   "cell_type": "code",
   "execution_count": 2,
   "metadata": {},
   "outputs": [],
   "source": [
    "auth = tweepy.OAuthHandler(credentials[\"consumer_key\"], credentials[\"consumer_secret\"])\n",
    "auth.set_access_token(credentials[\"access_token\"], credentials[\"access_token_secret\"])\n",
    "api = tweepy.API(auth)\n",
    "available_loc = api.available_trends()"
   ]
  },
  {
   "cell_type": "code",
   "execution_count": 3,
   "metadata": {},
   "outputs": [],
   "source": [
    "available_loc = api.available_trends()"
   ]
  },
  {
   "cell_type": "code",
   "execution_count": 4,
   "metadata": {},
   "outputs": [],
   "source": [
    "streaming_client = tweepy.StreamingClient(os.environ.get(\"bearer_token\"))\n",
    "bb = streaming_client.sample()"
   ]
  },
  {
   "cell_type": "code",
   "execution_count": 1,
   "metadata": {},
   "outputs": [],
   "source": [
    "### v2\n",
    "from datetime import datetime, timedelta\n",
    "import os\n",
    "\n",
    "import tweepy\n",
    "import pandas as pd\n",
    "import requests\n",
    "\n",
    "yesterday_ts = pd.to_datetime(datetime.now()).floor('H') - timedelta(days = 1)\n",
    "\n",
    "client = tweepy.Client( bearer_token = os.getenv(\"bearer_token\"), \n",
    "                        consumer_key = os.getenv(\"twitter_consumer_api_key\"), \n",
    "                        consumer_secret = os.getenv(\"twitter_consumer_api_secret\"), \n",
    "                        access_token = os.getenv(\"twitter_access_api_key\"), \n",
    "                        access_token_secret = os.getenv(\"twitter_access_api_secret\"), \n",
    "                        return_type = requests.Response,\n",
    "                        wait_on_rate_limit = True)"
   ]
  },
  {
   "cell_type": "code",
   "execution_count": 22,
   "metadata": {},
   "outputs": [
    {
     "ename": "BadRequest",
     "evalue": "400 Bad Request\nThere were errors processing your request: Reference to invalid field 'filter' (at position 6), Reference to invalid operator 'filter'. Operator is not available in current product or product packaging. Please refer to complete available operator list at http://t.co/operators. (at position 6)",
     "output_type": "error",
     "traceback": [
      "\u001b[0;31m---------------------------------------------------------------------------\u001b[0m",
      "\u001b[0;31mBadRequest\u001b[0m                                Traceback (most recent call last)",
      "\u001b[0;32m/tmp/ipykernel_107749/2482272679.py\u001b[0m in \u001b[0;36m<module>\u001b[0;34m\u001b[0m\n\u001b[1;32m      3\u001b[0m \u001b[0;34m\u001b[0m\u001b[0m\n\u001b[1;32m      4\u001b[0m \u001b[0;31m# get max. 100 tweets - , 'organic_metrics' errors out for me\u001b[0m\u001b[0;34m\u001b[0m\u001b[0;34m\u001b[0m\u001b[0;34m\u001b[0m\u001b[0m\n\u001b[0;32m----> 5\u001b[0;31m df = client.search_recent_tweets(query=query, \n\u001b[0m\u001b[1;32m      6\u001b[0m                                     \u001b[0mtweet_fields\u001b[0m\u001b[0;34m=\u001b[0m\u001b[0;34m[\u001b[0m\u001b[0;34m'id'\u001b[0m\u001b[0;34m,\u001b[0m \u001b[0;34m'created_at'\u001b[0m\u001b[0;34m,\u001b[0m \u001b[0;34m'author_id'\u001b[0m\u001b[0;34m,\u001b[0m \u001b[0;34m'geo'\u001b[0m\u001b[0;34m,\u001b[0m \u001b[0;34m'lang'\u001b[0m\u001b[0;34m,\u001b[0m \u001b[0;34m'source'\u001b[0m\u001b[0;34m,\u001b[0m \u001b[0;34m'public_metrics'\u001b[0m\u001b[0;34m]\u001b[0m\u001b[0;34m,\u001b[0m\u001b[0;34m\u001b[0m\u001b[0;34m\u001b[0m\u001b[0m\n\u001b[1;32m      7\u001b[0m                                      max_results=100)\n",
      "\u001b[0;32m~/.local/share/virtualenvs/python_aws-McJt4gWW/lib/python3.8/site-packages/tweepy/client.py\u001b[0m in \u001b[0;36msearch_recent_tweets\u001b[0;34m(self, query, user_auth, **params)\u001b[0m\n\u001b[1;32m   1246\u001b[0m         \"\"\"\n\u001b[1;32m   1247\u001b[0m         \u001b[0mparams\u001b[0m\u001b[0;34m[\u001b[0m\u001b[0;34m\"query\"\u001b[0m\u001b[0;34m]\u001b[0m \u001b[0;34m=\u001b[0m \u001b[0mquery\u001b[0m\u001b[0;34m\u001b[0m\u001b[0;34m\u001b[0m\u001b[0m\n\u001b[0;32m-> 1248\u001b[0;31m         return self._make_request(\n\u001b[0m\u001b[1;32m   1249\u001b[0m             \u001b[0;34m\"GET\"\u001b[0m\u001b[0;34m,\u001b[0m \u001b[0;34m\"/2/tweets/search/recent\"\u001b[0m\u001b[0;34m,\u001b[0m \u001b[0mparams\u001b[0m\u001b[0;34m=\u001b[0m\u001b[0mparams\u001b[0m\u001b[0;34m,\u001b[0m\u001b[0;34m\u001b[0m\u001b[0;34m\u001b[0m\u001b[0m\n\u001b[1;32m   1250\u001b[0m             endpoint_parameters=(\n",
      "\u001b[0;32m~/.local/share/virtualenvs/python_aws-McJt4gWW/lib/python3.8/site-packages/tweepy/client.py\u001b[0m in \u001b[0;36m_make_request\u001b[0;34m(self, method, route, params, endpoint_parameters, json, data_type, user_auth)\u001b[0m\n\u001b[1;32m    124\u001b[0m         \u001b[0mrequest_params\u001b[0m \u001b[0;34m=\u001b[0m \u001b[0mself\u001b[0m\u001b[0;34m.\u001b[0m\u001b[0m_process_params\u001b[0m\u001b[0;34m(\u001b[0m\u001b[0mparams\u001b[0m\u001b[0;34m,\u001b[0m \u001b[0mendpoint_parameters\u001b[0m\u001b[0;34m)\u001b[0m\u001b[0;34m\u001b[0m\u001b[0;34m\u001b[0m\u001b[0m\n\u001b[1;32m    125\u001b[0m \u001b[0;34m\u001b[0m\u001b[0m\n\u001b[0;32m--> 126\u001b[0;31m         response = self.request(method, route, params=request_params,\n\u001b[0m\u001b[1;32m    127\u001b[0m                                 json=json, user_auth=user_auth)\n\u001b[1;32m    128\u001b[0m \u001b[0;34m\u001b[0m\u001b[0m\n",
      "\u001b[0;32m~/.local/share/virtualenvs/python_aws-McJt4gWW/lib/python3.8/site-packages/tweepy/client.py\u001b[0m in \u001b[0;36mrequest\u001b[0;34m(self, method, route, params, json, user_auth)\u001b[0m\n\u001b[1;32m     93\u001b[0m \u001b[0;34m\u001b[0m\u001b[0m\n\u001b[1;32m     94\u001b[0m             \u001b[0;32mif\u001b[0m \u001b[0mresponse\u001b[0m\u001b[0;34m.\u001b[0m\u001b[0mstatus_code\u001b[0m \u001b[0;34m==\u001b[0m \u001b[0;36m400\u001b[0m\u001b[0;34m:\u001b[0m\u001b[0;34m\u001b[0m\u001b[0;34m\u001b[0m\u001b[0m\n\u001b[0;32m---> 95\u001b[0;31m                 \u001b[0;32mraise\u001b[0m \u001b[0mBadRequest\u001b[0m\u001b[0;34m(\u001b[0m\u001b[0mresponse\u001b[0m\u001b[0;34m)\u001b[0m\u001b[0;34m\u001b[0m\u001b[0;34m\u001b[0m\u001b[0m\n\u001b[0m\u001b[1;32m     96\u001b[0m             \u001b[0;32mif\u001b[0m \u001b[0mresponse\u001b[0m\u001b[0;34m.\u001b[0m\u001b[0mstatus_code\u001b[0m \u001b[0;34m==\u001b[0m \u001b[0;36m401\u001b[0m\u001b[0;34m:\u001b[0m\u001b[0;34m\u001b[0m\u001b[0;34m\u001b[0m\u001b[0m\n\u001b[1;32m     97\u001b[0m                 \u001b[0;32mraise\u001b[0m \u001b[0mUnauthorized\u001b[0m\u001b[0;34m(\u001b[0m\u001b[0mresponse\u001b[0m\u001b[0;34m)\u001b[0m\u001b[0;34m\u001b[0m\u001b[0;34m\u001b[0m\u001b[0m\n",
      "\u001b[0;31mBadRequest\u001b[0m: 400 Bad Request\nThere were errors processing your request: Reference to invalid field 'filter' (at position 6), Reference to invalid operator 'filter'. Operator is not available in current product or product packaging. Please refer to complete available operator list at http://t.co/operators. (at position 6)"
     ]
    }
   ],
   "source": [
    "# Define query\n",
    "query = 'nba'\n",
    "\n",
    "# get max. 100 tweets - , 'organic_metrics' errors out for me\n",
    "df = client.search_recent_tweets(query=query, \n",
    "                                    tweet_fields=['id', 'created_at', 'author_id', 'geo', 'lang', 'source', 'public_metrics'],\n",
    "                                     max_results=100)\n",
    "df = pd.json_normalize(df.json()['data']) "
   ]
  },
  {
   "cell_type": "code",
   "execution_count": 15,
   "metadata": {},
   "outputs": [],
   "source": [
    "# Save data as dictionary\n",
    "tweets_dict = df.json() \n",
    "\n",
    "# # Extract \"data\" value from dictionary\n",
    "# tweets_data = tweets_dict['data'] \n",
    "\n",
    "# Transform to pandas Dataframe\n",
    "# df = pd.json_normalize(tweets.json()['data']) "
   ]
  },
  {
   "cell_type": "code",
   "execution_count": 44,
   "metadata": {},
   "outputs": [],
   "source": [
    "query = \"nba\"\n",
    "\n",
    "# Granularity is what you want the timeseries count data to be grouped by\n",
    "# You can request minute, hour, or day granularity\n",
    "# The default granularity, if not specified is hour\n",
    "\n",
    "# it groups data by the hour, so yesterday_ts is the yesterday's timestamp rounded down to the nearest hour.\n",
    "response = client.get_recent_tweets_count(query, granularity=\"hour\", start_time = yesterday_ts)\n",
    "\n",
    "df = pd.DataFrame(response.json()['data'])"
   ]
  }
 ],
 "metadata": {
  "interpreter": {
   "hash": "81c6a89d9b91bda76c14e46d4b77530c453739b0f65fa8daf80e192463b63a97"
  },
  "kernelspec": {
   "display_name": "Python 3.8.10 ('python_aws-McJt4gWW')",
   "language": "python",
   "name": "python3"
  },
  "language_info": {
   "codemirror_mode": {
    "name": "ipython",
    "version": 3
   },
   "file_extension": ".py",
   "mimetype": "text/x-python",
   "name": "python",
   "nbconvert_exporter": "python",
   "pygments_lexer": "ipython3",
   "version": "3.8.10"
  },
  "orig_nbformat": 4
 },
 "nbformat": 4,
 "nbformat_minor": 2
}

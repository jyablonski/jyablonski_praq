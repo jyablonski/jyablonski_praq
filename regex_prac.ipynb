{
 "cells": [
  {
   "cell_type": "code",
   "execution_count": 1,
   "metadata": {},
   "outputs": [],
   "source": [
    "import re\n",
    "from datetime import datetime, timedelta"
   ]
  },
  {
   "cell_type": "code",
   "execution_count": 7,
   "metadata": {},
   "outputs": [],
   "source": [
    "def get_leading_zeroes(month: int) -> str:\n",
    "    if len(str(month)) > 1:\n",
    "        return(month)\n",
    "    else:  \n",
    "        return(f\"0{month}\")"
   ]
  },
  {
   "cell_type": "code",
   "execution_count": 9,
   "metadata": {},
   "outputs": [
    {
     "name": "stdout",
     "output_type": "stream",
     "text": [
      "2022-02\n"
     ]
    }
   ],
   "source": [
    "month = get_leading_zeroes(datetime.now().month)\n",
    "yyyy = datetime.now().year\n",
    "print(f\"{yyyy}-{month}\")"
   ]
  },
  {
   "cell_type": "code",
   "execution_count": 2,
   "metadata": {},
   "outputs": [
    {
     "name": "stdout",
     "output_type": "stream",
     "text": [
      "jacobsbucket97/sample_files/raw/2022-01/sample_files_2022-02-01.json passed regex test\n",
      "jacobsbucket97/sample_files/raw/2022-01/sample_files_2022-02-01.csv passed regex test\n",
      "jacobsbucket97/sample_files/raw/2022-01/sample_files_2022-02-01.parquet passed regex test\n",
      "jacobsbucket97/sample_files/raw/2022-01/sample_files_2022-02-01.gz failed regex test\n",
      "jacobsbucket97/sample_files/raw/2022-01/sample_files_2022-02-01.zip passed regex test\n"
     ]
    }
   ],
   "source": [
    "pattern = re.compile(r\"\\w+\\/\\w+\\/\\w+\\/\\d{4}-\\d{2}\\/(\\w+)_\\d{4}-\\d{2}-\\d{2}.(csv|parquet|json|zip)$\")\n",
    "string1 = \"jacobsbucket97/sample_files/raw/2022-01/sample_files_2022-02-01.json\"\n",
    "string2 = \"jacobsbucket97/sample_files/raw/2022-01/sample_files_2022-02-01.csv\"\n",
    "string3 = \"jacobsbucket97/sample_files/raw/2022-01/sample_files_2022-02-01.parquet\"\n",
    "string4 = \"jacobsbucket97/sample_files/raw/2022-01/sample_files_2022-02-01.gz\"\n",
    "string5 = \"jacobsbucket97/sample_files/raw/2022-01/sample_files_2022-02-01.zip\"\n",
    "\n",
    "string_list = [string1, string2, string3, string4, string5]\n",
    "\n",
    "for i in string_list:\n",
    "    if re.match(pattern, i):\n",
    "        print(f\"{i} passed regex test\")\n",
    "    else:\n",
    "        print(f\"{i} failed regex test\")"
   ]
  },
  {
   "cell_type": "code",
   "execution_count": 26,
   "metadata": {},
   "outputs": [
    {
     "name": "stdout",
     "output_type": "stream",
     "text": [
      "2\n",
      "3\n",
      "1\n",
      "4\n"
     ]
    }
   ],
   "source": [
    "# find how many times a pattern shows up in a string\n",
    "pattern1 = 'baby'\n",
    "pattern2 = '.csv'\n",
    "pattern3 = '.csv$'\n",
    "pattern4 = '\\w+'\n",
    "string1 = \"hi .csv this baby is a baby .csv file for .csv\"\n",
    "\n",
    "\n",
    "print(len(re.findall(pattern, string1)))  # 2 baby\n",
    "print(len(re.findall(pattern2, string1))) # 3 csv\n",
    "print(len(re.findall(pattern3, string1))) # 1 csv that ends the string\n",
    "print(len(re.findall(pattern4, string1))) # 11 unique string combinations"
   ]
  }
 ],
 "metadata": {
  "interpreter": {
   "hash": "51acfa6005ffec5e74e71d844e0daa05d24ac78244a0bb1b7874b497027552e7"
  },
  "kernelspec": {
   "display_name": "Python 3.8.8 ('base')",
   "language": "python",
   "name": "python3"
  },
  "language_info": {
   "codemirror_mode": {
    "name": "ipython",
    "version": 3
   },
   "file_extension": ".py",
   "mimetype": "text/x-python",
   "name": "python",
   "nbconvert_exporter": "python",
   "pygments_lexer": "ipython3",
   "version": "3.8.8"
  },
  "orig_nbformat": 4
 },
 "nbformat": 4,
 "nbformat_minor": 2
}

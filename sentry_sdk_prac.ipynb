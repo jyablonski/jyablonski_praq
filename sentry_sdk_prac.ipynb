{
 "cells": [
  {
   "cell_type": "code",
   "execution_count": 3,
   "metadata": {},
   "outputs": [],
   "source": [
    "import os\n",
    "import sys\n",
    "from datetime import datetime, timezone, timedelta\n",
    "from urllib.request import urlopen\n",
    "from urllib.error import HTTPError\n",
    "import logging\n",
    "from bs4 import BeautifulSoup\n",
    "from sqlalchemy import exc, create_engine\n",
    "import pymysql\n",
    "import numpy as np\n",
    "import pandas as pd\n",
    "import boto3\n",
    "from botocore.exceptions import ClientError\n",
    "\n",
    "import sentry_sdk\n",
    "sentry_sdk.init(\n",
    "    os.environ.get('SENTRY_TOKEN'),\n",
    "    traces_sample_rate=1.0\n",
    ")\n",
    "sentry_sdk.set_user({\"email\": \"jyablonski9@gmail.com\"})\n",
    "sentry_sdk.capture_exception(error)"
   ]
  },
  {
   "cell_type": "code",
   "execution_count": 7,
   "metadata": {},
   "outputs": [],
   "source": [
    "def get_odds_data():\n",
    "    \"\"\"\n",
    "    Web Scrape function w/ pandas read_html that grabs current day's nba odds in raw format.\n",
    "    There are 2 objects [0], [1] if the days are split into 2.\n",
    "    AWS ECS operates in UTC time so the game start times are actually 6+ hours ahead of what they actually are\n",
    "\n",
    "    Args:\n",
    "        None\n",
    "    Returns:\n",
    "        Pandas DataFrame of NBA moneyline + spread odds for upcoming games for that day\n",
    "    \"\"\"\n",
    "    try:\n",
    "        # url = \"https://sportsbook.draftkings.com/leagues/basketball/88670846?category=game-lines&subcategory=game\"\n",
    "        url = \"https://sporzxczxczxczxcaszddastsbook.draftkings.com/leagues/basketball/88670846?category=game-lines&subcategory=game\"\n",
    "        df = pd.read_html(url)\n",
    "        print(\n",
    "            f\"Odds Web Scrape Function Successful for {len(df)} day, retrieving {len(df)} day objects\"\n",
    "        )\n",
    "        logging.info(\n",
    "            f\"Odds Web Scrape Function Successful {len(df)} day, retrieving {len(df)} day objects\"\n",
    "        )\n",
    "        return df\n",
    "    except (\n",
    "        BaseException,\n",
    "        ValueError,\n",
    "    ) as error:  # valueerror fucked shit up apparently idfk\n",
    "        print(f\"Odds Function Failed, {error}\")\n",
    "        logging.info(f\"Odds Function Failed, {error}\")\n",
    "        sentry_sdk.capture_exception(error)\n",
    "        df = []\n",
    "        return df"
   ]
  },
  {
   "cell_type": "code",
   "execution_count": 8,
   "metadata": {},
   "outputs": [
    {
     "name": "stdout",
     "output_type": "stream",
     "text": [
      "Odds Function Failed, <urlopen error [Errno -2] Name or service not known>\n"
     ]
    }
   ],
   "source": [
    "df = get_odds_data()"
   ]
  }
 ],
 "metadata": {
  "interpreter": {
   "hash": "81c6a89d9b91bda76c14e46d4b77530c453739b0f65fa8daf80e192463b63a97"
  },
  "kernelspec": {
   "display_name": "Python 3.8.10 ('python_aws-McJt4gWW')",
   "language": "python",
   "name": "python3"
  },
  "language_info": {
   "codemirror_mode": {
    "name": "ipython",
    "version": 3
   },
   "file_extension": ".py",
   "mimetype": "text/x-python",
   "name": "python",
   "nbconvert_exporter": "python",
   "pygments_lexer": "ipython3",
   "version": "3.8.10"
  },
  "orig_nbformat": 4
 },
 "nbformat": 4,
 "nbformat_minor": 2
}
